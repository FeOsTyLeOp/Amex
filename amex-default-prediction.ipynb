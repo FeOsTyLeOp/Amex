{
 "cells": [
  {
   "cell_type": "code",
   "execution_count": 1,
   "id": "39ac71e7",
   "metadata": {
    "_cell_guid": "b1076dfc-b9ad-4769-8c92-a6c4dae69d19",
    "_uuid": "8f2839f25d086af736a60e9eeb907d3b93b6e0e5",
    "execution": {
     "iopub.execute_input": "2023-01-07T17:01:56.591548Z",
     "iopub.status.busy": "2023-01-07T17:01:56.591081Z",
     "iopub.status.idle": "2023-01-07T17:01:56.608300Z",
     "shell.execute_reply": "2023-01-07T17:01:56.607103Z"
    },
    "papermill": {
     "duration": 0.036177,
     "end_time": "2023-01-07T17:01:56.612821",
     "exception": false,
     "start_time": "2023-01-07T17:01:56.576644",
     "status": "completed"
    },
    "tags": []
   },
   "outputs": [
    {
     "name": "stdout",
     "output_type": "stream",
     "text": [
      "/kaggle/src/script.ipynb\n",
      "/kaggle/lib/kaggle/gcp.py\n",
      "/kaggle/input/jiegouhua714/train.parquet\n",
      "/kaggle/input/jiegouhua714/test.parquet\n",
      "/kaggle/input/amex-default-prediction/sample_submission.csv\n",
      "/kaggle/input/amex-default-prediction/train_data.csv\n",
      "/kaggle/input/amex-default-prediction/test_data.csv\n",
      "/kaggle/input/amex-default-prediction/train_labels.csv\n",
      "/kaggle/working/__notebook__.ipynb\n"
     ]
    }
   ],
   "source": [
    "# This Python 3 environment comes with many helpful analytics libraries installed\n",
    "# It is defined by the kaggle/python Docker image: https://github.com/kaggle/docker-python\n",
    "# For example, here's several helpful packages to load\n",
    "\n",
    "import numpy as np # linear algebra\n",
    "import pandas as pd # data processing, CSV file I/O (e.g. pd.read_csv)\n",
    "\n",
    "# Input data files are available in the read-only \"../input/\" directory\n",
    "# For example, running this (by clicking run or pressing Shift+Enter) will list all files under the input directory\n",
    "\n",
    "import os\n",
    "for dirname, _, filenames in os.walk('/kaggle'):\n",
    "    for filename in filenames:\n",
    "        print(os.path.join(dirname, filename))\n",
    "\n",
    "# You can write up to 20GB to the current directory (/kaggle/working/) that gets preserved as output when you create a version using \"Save & Run All\" \n",
    "# You can also write temporary files to /kaggle/temp/, but they won't be saved outside of the current session"
   ]
  },
  {
   "cell_type": "code",
   "execution_count": 2,
   "id": "3ea2f0c1",
   "metadata": {
    "execution": {
     "iopub.execute_input": "2023-01-07T17:01:56.641286Z",
     "iopub.status.busy": "2023-01-07T17:01:56.640872Z",
     "iopub.status.idle": "2023-01-07T17:01:59.344763Z",
     "shell.execute_reply": "2023-01-07T17:01:59.343763Z"
    },
    "papermill": {
     "duration": 2.72236,
     "end_time": "2023-01-07T17:01:59.347552",
     "exception": false,
     "start_time": "2023-01-07T17:01:56.625192",
     "status": "completed"
    },
    "tags": []
   },
   "outputs": [
    {
     "data": {
      "text/html": [
       "<style type='text/css'>\n",
       ".datatable table.frame { margin-bottom: 0; }\n",
       ".datatable table.frame thead { border-bottom: none; }\n",
       ".datatable table.frame tr.coltypes td {  color: #FFFFFF;  line-height: 6px;  padding: 0 0.5em;}\n",
       ".datatable .bool    { background: #DDDD99; }\n",
       ".datatable .object  { background: #565656; }\n",
       ".datatable .int     { background: #5D9E5D; }\n",
       ".datatable .float   { background: #4040CC; }\n",
       ".datatable .str     { background: #CC4040; }\n",
       ".datatable .time    { background: #40CC40; }\n",
       ".datatable .row_index {  background: var(--jp-border-color3);  border-right: 1px solid var(--jp-border-color0);  color: var(--jp-ui-font-color3);  font-size: 9px;}\n",
       ".datatable .frame tbody td { text-align: left; }\n",
       ".datatable .frame tr.coltypes .row_index {  background: var(--jp-border-color0);}\n",
       ".datatable th:nth-child(2) { padding-left: 12px; }\n",
       ".datatable .hellipsis {  color: var(--jp-cell-editor-border-color);}\n",
       ".datatable .vellipsis {  background: var(--jp-layout-color0);  color: var(--jp-cell-editor-border-color);}\n",
       ".datatable .na {  color: var(--jp-cell-editor-border-color);  font-size: 80%;}\n",
       ".datatable .sp {  opacity: 0.25;}\n",
       ".datatable .footer { font-size: 9px; }\n",
       ".datatable .frame_dimensions {  background: var(--jp-border-color3);  border-top: 1px solid var(--jp-border-color0);  color: var(--jp-ui-font-color3);  display: inline-block;  opacity: 0.6;  padding: 1px 10px 1px 5px;}\n",
       "</style>\n"
      ],
      "text/plain": [
       "<IPython.core.display.HTML object>"
      ]
     },
     "metadata": {},
     "output_type": "display_data"
    }
   ],
   "source": [
    "import numpy as np  # linear algebra\n",
    "import pandas as pd  # data processing, CSV file I/O (e.g. pd.read_csv)\n",
    "import os\n",
    "import gc\n",
    "import sys\n",
    "import pickle\n",
    "import glob\n",
    "from sklearn.preprocessing import LabelEncoder\n",
    "\n",
    "pd.set_option('display.max_columns', None)\n",
    "import random\n",
    "\n",
    "random.seed(75)\n",
    "from tqdm.notebook import tqdm_notebook\n",
    "from functools import partial, reduce\n",
    "\n",
    "### warnings setting\n",
    "import sys\n",
    "import warnings\n",
    "\n",
    "if not sys.warnoptions:\n",
    "    warnings.simplefilter(\"ignore\")\n",
    "warnings.filterwarnings(\"ignore\", category=DeprecationWarning)\n",
    "\n",
    "#### model\n",
    "from sklearn.model_selection import StratifiedKFold\n",
    "from sklearn.metrics import roc_auc_score, roc_curve, auc\n",
    "import catboost\n",
    "from catboost import Pool, CatBoostClassifier\n",
    "import lightgbm as lgb\n",
    "import joblib\n",
    "import pickle\n",
    "from tqdm.notebook import tqdm_notebook\n",
    "import uuid\n",
    "\n",
    "##### LOGGING Stettings #####\n",
    "import logging\n",
    "\n",
    "# Create logger\n",
    "logger = logging.getLogger()\n",
    "logger.setLevel(logging.INFO)\n",
    "# Create STDERR handler\n",
    "handler = logging.StreamHandler(sys.stderr)\n",
    "# Create formatter and add it to the handler\n",
    "formatter = logging.Formatter('%(asctime)s [%(levelname)s] %(name)s - %(message)s', datefmt='%Y-%m-%d %H:%M:%S', )\n",
    "handler.setFormatter(formatter)\n",
    "# Set STDERR handler as the only handler\n",
    "logger.handlers = [handler]\n",
    "\n",
    "#### plots\n",
    "import seaborn as sns\n",
    "import matplotlib.pyplot as plt\n",
    "import matplotlib.colors\n",
    "\n",
    "sns.set(rc={'axes.facecolor': '#f9ecec', 'figure.facecolor': '#f9ecec'})\n",
    "\n",
    "import plotly.express as px\n",
    "import plotly.graph_objects as go\n",
    "from plotly.subplots import make_subplots\n",
    "from plotly.offline import init_notebook_mode\n",
    "\n",
    "### Plotly settings\n",
    "theme_palette = {\n",
    "    'base': '#a3d3eb',\n",
    "    'complementary': '#ebbba3',\n",
    "    'triadic': '#eba3d3',\n",
    "    'backgound': '#f6fbfd'\n",
    "}\n",
    "\n",
    "temp = dict(layout=go.Layout(font=dict(family=\"Ubuntu\", size=14),\n",
    "                             height=600,\n",
    "                             legend=dict(  #traceorder='reversed',\n",
    "                                 orientation=\"v\",\n",
    "                                 y=1.15,\n",
    "                                 x=0.9),\n",
    "                             plot_bgcolor=theme_palette['backgound'],\n",
    "                             paper_bgcolor=theme_palette['backgound']))"
   ]
  },
  {
   "cell_type": "code",
   "execution_count": 3,
   "id": "27df405b",
   "metadata": {
    "execution": {
     "iopub.execute_input": "2023-01-07T17:01:59.372932Z",
     "iopub.status.busy": "2023-01-07T17:01:59.371803Z",
     "iopub.status.idle": "2023-01-07T17:02:16.879852Z",
     "shell.execute_reply": "2023-01-07T17:02:16.878937Z"
    },
    "papermill": {
     "duration": 17.523435,
     "end_time": "2023-01-07T17:02:16.882612",
     "exception": false,
     "start_time": "2023-01-07T17:01:59.359177",
     "status": "completed"
    },
    "tags": []
   },
   "outputs": [],
   "source": [
    "train = pd.read_parquet('/kaggle/input/jiegouhua714/train.parquet')\n"
   ]
  },
  {
   "cell_type": "code",
   "execution_count": 4,
   "id": "9db446a9",
   "metadata": {
    "execution": {
     "iopub.execute_input": "2023-01-07T17:02:16.907979Z",
     "iopub.status.busy": "2023-01-07T17:02:16.907197Z",
     "iopub.status.idle": "2023-01-07T17:02:18.406993Z",
     "shell.execute_reply": "2023-01-07T17:02:18.405857Z"
    },
    "papermill": {
     "duration": 1.515641,
     "end_time": "2023-01-07T17:02:18.409964",
     "exception": false,
     "start_time": "2023-01-07T17:02:16.894323",
     "status": "completed"
    },
    "tags": []
   },
   "outputs": [],
   "source": [
    "## Define some features by category\n",
    "features = train.drop(['customer_ID', 'S_2'], axis=1).columns.to_list()\n",
    "cat_vars = ['B_30', 'B_38', 'D_114', 'D_116', 'D_117', 'D_120', 'D_126', 'D_63', 'D_64', 'D_66', 'D_68', 'month',\n",
    "            'day_of_week']\n",
    "num_vars = list(filter(lambda x: x not in cat_vars, features))\n",
    "\n",
    "# devide nums vars by AmEx Categories\n",
    "delequincy_vars = filter(lambda x: x.startswith('D') and x not in cat_vars, features)\n",
    "spend_vars = filter(lambda x: (x.startswith('S')) and (x not in cat_vars), features)\n",
    "payment_vars = filter(lambda x: x.startswith('P') and x not in cat_vars, features)\n",
    "balance_vars = filter(lambda x: x.startswith('B') and x not in cat_vars, features)\n",
    "risk_vars = filter(lambda x: x.startswith('R') and x not in cat_vars, features)\n",
    "\n",
    "with open('features.pkl', 'wb') as f:\n",
    "    pickle.dump(features, f)\n",
    "\n",
    "with open('cat_vars.pkl', 'wb') as f:\n",
    "    pickle.dump(cat_vars, f)\n",
    "\n",
    "with open('num_vars.pkl', 'wb') as f:\n",
    "    pickle.dump(num_vars, f)"
   ]
  },
  {
   "cell_type": "code",
   "execution_count": 5,
   "id": "73b2ffe6",
   "metadata": {
    "execution": {
     "iopub.execute_input": "2023-01-07T17:02:18.435548Z",
     "iopub.status.busy": "2023-01-07T17:02:18.434287Z",
     "iopub.status.idle": "2023-01-07T17:02:18.447968Z",
     "shell.execute_reply": "2023-01-07T17:02:18.446748Z"
    },
    "papermill": {
     "duration": 0.029297,
     "end_time": "2023-01-07T17:02:18.450892",
     "exception": false,
     "start_time": "2023-01-07T17:02:18.421595",
     "status": "completed"
    },
    "tags": []
   },
   "outputs": [],
   "source": [
    "class BatchGenerator:\n",
    "    def __init__(self, df, batch_feature='customer_ID', keep_features=features, n_batchs=750):\n",
    "        self.df = df\n",
    "        self.batch_feature = batch_feature\n",
    "        self.keep_feature = list(set([batch_feature] + keep_features))\n",
    "        self.n_batchs = n_batchs\n",
    "\n",
    "    def __iter__(self):\n",
    "        unique_vals = self.df[self.batch_feature].unique()\n",
    "        batch_size = int(np.ceil(len(unique_vals) / self.n_batchs))\n",
    "        groups = self.df.groupby(self.batch_feature).groups\n",
    "        n_batchs = min(self.n_batchs, int(np.ceil(len(unique_vals) / batch_size)))\n",
    "        for i in range(n_batchs):\n",
    "            keys = unique_vals[i * batch_size:(i + 1) * batch_size]\n",
    "            idx = [i for s in keys for i in groups[s]]\n",
    "            if i == n_batchs - 1:\n",
    "                keys = unique_vals[(i + 1) * batch_size:]\n",
    "                idx = idx + [i for s in keys for i in groups[s]]\n",
    "            yield self.df.loc[idx, self.keep_feature]\n",
    "\n",
    "\n",
    "week_days = {1: 'Mon', 2: 'Tue', 3: 'Wen', 4: 'Thu', 5: 'Fri', 6: 'Sat', 7: 'Sun'}"
   ]
  },
  {
   "cell_type": "code",
   "execution_count": 6,
   "id": "d9bce951",
   "metadata": {
    "execution": {
     "iopub.execute_input": "2023-01-07T17:02:18.476112Z",
     "iopub.status.busy": "2023-01-07T17:02:18.475121Z",
     "iopub.status.idle": "2023-01-07T17:02:18.482498Z",
     "shell.execute_reply": "2023-01-07T17:02:18.481722Z"
    },
    "papermill": {
     "duration": 0.022595,
     "end_time": "2023-01-07T17:02:18.484909",
     "exception": false,
     "start_time": "2023-01-07T17:02:18.462314",
     "status": "completed"
    },
    "tags": []
   },
   "outputs": [],
   "source": [
    "def extract_date_vars(df, date_var='S_2', sort_by=['customer_ID', 'S_2'], week_days=week_days):\n",
    "    # change to datetime\n",
    "    df[date_var] = pd.to_datetime(df[date_var])\n",
    "    # sort by custoner ther by date\n",
    "    df = df.sort_values(by=sort_by)\n",
    "    # extract some date characteristics\n",
    "    # year has not a very\n",
    "    # month\n",
    "    df['month'] = df[date_var].dt.month\n",
    "    # day of week\n",
    "    df['day_of_week'] = df[date_var].apply(lambda x: x.isocalendar()[-1])\n",
    "    return df\n",
    "\n",
    "\n",
    "group_names = [\"delequincy_vars\", \"spend_vars\", \"payment_vars\", \"balance_vars\", \"risk_vars\"]\n"
   ]
  },
  {
   "cell_type": "code",
   "execution_count": 7,
   "id": "54848707",
   "metadata": {
    "execution": {
     "iopub.execute_input": "2023-01-07T17:02:18.509629Z",
     "iopub.status.busy": "2023-01-07T17:02:18.509038Z",
     "iopub.status.idle": "2023-01-07T17:02:18.516230Z",
     "shell.execute_reply": "2023-01-07T17:02:18.515392Z"
    },
    "papermill": {
     "duration": 0.022225,
     "end_time": "2023-01-07T17:02:18.518411",
     "exception": false,
     "start_time": "2023-01-07T17:02:18.496186",
     "status": "completed"
    },
    "tags": []
   },
   "outputs": [],
   "source": [
    "def row_rise_aggregation(df,\n",
    "                         group_vars=[delequincy_vars, spend_vars, payment_vars, balance_vars, risk_vars],\n",
    "                         group_names=group_names,\n",
    "                         save=True):\n",
    "    print('shape before row_rise_aggregation', df.shape)\n",
    "    for group_name, group_var in zip(group_names, group_vars):\n",
    "        df[group_name + '_sum'] = df[group_var].sum(axis=1)\n",
    "        df[group_name + '_mean'] = df[group_var].mean(axis=1)\n",
    "        df[group_name + '_missing'] = df.isnull().sum(axis=1)\n",
    "    print('shape after row_rise_aggregation', df.shape)\n",
    "    if save:\n",
    "        df.reset_index(drop=False).to_feather(f\"row_agg_{str(uuid.uuid4())}.ftr\")\n",
    "        return df['customer_ID'].nunique()\n",
    "    return df"
   ]
  },
  {
   "cell_type": "code",
   "execution_count": 8,
   "id": "beb7cad4",
   "metadata": {
    "execution": {
     "iopub.execute_input": "2023-01-07T17:02:18.543809Z",
     "iopub.status.busy": "2023-01-07T17:02:18.543181Z",
     "iopub.status.idle": "2023-01-07T17:02:18.552894Z",
     "shell.execute_reply": "2023-01-07T17:02:18.552090Z"
    },
    "papermill": {
     "duration": 0.024943,
     "end_time": "2023-01-07T17:02:18.555096",
     "exception": false,
     "start_time": "2023-01-07T17:02:18.530153",
     "status": "completed"
    },
    "tags": []
   },
   "outputs": [],
   "source": [
    "def column_rise_aggregation(df, num_vars=num_vars, cat_vars=cat_vars, save=True):\n",
    "    print('shape before column_rise_aggregation', df.shape)\n",
    "    group_names = filter(lambda x: '_vars' in x, df.columns)\n",
    "    num_agg = df.groupby(\"customer_ID\")[list(set(list(num_vars) + list(group_names)))].agg(\n",
    "        ['mean', 'std', 'min', 'max', 'last'])\n",
    "    num_agg.columns = ['_'.join(x) for x in num_agg.columns]\n",
    "\n",
    "    cat_agg = df.groupby(\"customer_ID\")[list(set(list(cat_vars) + ['month', 'day_of_week']))].agg(\n",
    "        ['count', 'last', 'nunique', pd.Series.mode])\n",
    "    cat_agg.columns = ['_'.join(x) for x in cat_agg.columns]\n",
    "\n",
    "    mode_cols = filter(lambda x: x.endswith('_mode'), cat_agg.columns)\n",
    "    for col in mode_cols:\n",
    "        cat_agg[col] = cat_agg[col].apply(lambda x: random.choice(str(x).strip('[]').split()))\n",
    "    #concat the two dataframes\n",
    "    df = pd.concat([num_agg, cat_agg], axis=1)\n",
    "    del num_agg, cat_agg\n",
    "\n",
    "    gc.collect()\n",
    "    print('shape after column_rise_aggregation', df.shape)\n",
    "    if save:\n",
    "        df.reset_index(drop=False).to_feather(f\"col_agg_{str(uuid.uuid4())}.ftr\")\n",
    "        return len(df)  #df['customer_ID'].nunique()\n",
    "    return df"
   ]
  },
  {
   "cell_type": "code",
   "execution_count": 9,
   "id": "65d634f2",
   "metadata": {
    "execution": {
     "iopub.execute_input": "2023-01-07T17:02:18.579975Z",
     "iopub.status.busy": "2023-01-07T17:02:18.579547Z",
     "iopub.status.idle": "2023-01-07T17:02:18.589523Z",
     "shell.execute_reply": "2023-01-07T17:02:18.588755Z"
    },
    "papermill": {
     "duration": 0.025059,
     "end_time": "2023-01-07T17:02:18.591655",
     "exception": false,
     "start_time": "2023-01-07T17:02:18.566596",
     "status": "completed"
    },
    "tags": []
   },
   "outputs": [],
   "source": [
    "# from https://www.kaggle.com/code/ragnar123/amex-lgbm-dart-cv-0-7977\n",
    "def get_difference(df, num_features):\n",
    "    res = []\n",
    "    customer_ids = []\n",
    "    for customer_id, df in tqdm_notebook(df.groupby(['customer_ID'])):\n",
    "        # Get the differences\n",
    "        diff_df = df[num_features].diff(1).iloc[[-1]].values.astype(np.float32)\n",
    "        # Append to lists\n",
    "        res.append(diff_df)\n",
    "        customer_ids.append(customer_id)\n",
    "    # Concatenate\n",
    "    res = np.concatenate(res, axis=0)\n",
    "    # Transform to dataframe\n",
    "    res = pd.DataFrame(res, columns=[col + '_diff1' for col in df[num_features].columns])\n",
    "    # Add customer id\n",
    "    res['customer_ID'] = customer_ids\n",
    "    print('final shape', res.shape)\n",
    "    #       df = df.merge(res, on='customer_ID', how='inner')\n",
    "    #       df.reset_index(drop=False).to_feather(f\"diff_{str(uuid.uuid4())}.ftr\")\n",
    "    return res  #df['customer_ID'].nunique()"
   ]
  },
  {
   "cell_type": "code",
   "execution_count": 10,
   "id": "2798bc1c",
   "metadata": {
    "execution": {
     "iopub.execute_input": "2023-01-07T17:02:18.617790Z",
     "iopub.status.busy": "2023-01-07T17:02:18.617148Z",
     "iopub.status.idle": "2023-01-07T17:02:18.622412Z",
     "shell.execute_reply": "2023-01-07T17:02:18.621311Z"
    },
    "papermill": {
     "duration": 0.021088,
     "end_time": "2023-01-07T17:02:18.624454",
     "exception": false,
     "start_time": "2023-01-07T17:02:18.603366",
     "status": "completed"
    },
    "tags": []
   },
   "outputs": [],
   "source": [
    "def save_partition(df, prefix='train'):\n",
    "    global c\n",
    "    df.reset_index(drop=True).to_feather(f'{prefix}_{c}.ftr')\n",
    "    c = c + 1\n",
    "    return df['customer_ID'].nunique()"
   ]
  },
  {
   "cell_type": "code",
   "execution_count": 11,
   "id": "2efb407c",
   "metadata": {
    "execution": {
     "iopub.execute_input": "2023-01-07T17:02:18.649269Z",
     "iopub.status.busy": "2023-01-07T17:02:18.648410Z",
     "iopub.status.idle": "2023-01-07T17:05:07.126920Z",
     "shell.execute_reply": "2023-01-07T17:05:07.125627Z"
    },
    "papermill": {
     "duration": 168.49446,
     "end_time": "2023-01-07T17:05:07.130404",
     "exception": false,
     "start_time": "2023-01-07T17:02:18.635944",
     "status": "completed"
    },
    "tags": []
   },
   "outputs": [
    {
     "data": {
      "application/vnd.jupyter.widget-view+json": {
       "model_id": "37dbdc3bc8e5441e8e98816a32d84efd",
       "version_major": 2,
       "version_minor": 0
      },
      "text/plain": [
       "  0%|          | 0/100 [00:00<?, ?it/s]"
      ]
     },
     "metadata": {},
     "output_type": "display_data"
    },
    {
     "data": {
      "text/plain": [
       "18"
      ]
     },
     "execution_count": 11,
     "metadata": {},
     "output_type": "execute_result"
    }
   ],
   "source": [
    "N_BATCHS = 100\n",
    "c = 0\n",
    "\n",
    "samples_df = BatchGenerator(train, batch_feature='customer_ID', keep_features=features + ['S_2'], n_batchs=N_BATCHS)\n",
    "processed_elements = sum(map(partial(save_partition, prefix='train'), tqdm_notebook(samples_df, total=N_BATCHS)))\n",
    "\n",
    "del train\n",
    "gc.collect()"
   ]
  },
  {
   "cell_type": "code",
   "execution_count": 12,
   "id": "1334754b",
   "metadata": {
    "execution": {
     "iopub.execute_input": "2023-01-07T17:05:07.155503Z",
     "iopub.status.busy": "2023-01-07T17:05:07.155090Z",
     "iopub.status.idle": "2023-01-07T17:36:56.507512Z",
     "shell.execute_reply": "2023-01-07T17:36:56.506509Z"
    },
    "papermill": {
     "duration": 1909.368126,
     "end_time": "2023-01-07T17:36:56.510318",
     "exception": false,
     "start_time": "2023-01-07T17:05:07.142192",
     "status": "completed"
    },
    "tags": []
   },
   "outputs": [
    {
     "data": {
      "application/vnd.jupyter.widget-view+json": {
       "model_id": "fb4bbee5124141828f4487d125151153",
       "version_major": 2,
       "version_minor": 0
      },
      "text/plain": [
       "  0%|          | 0/100 [00:00<?, ?it/s]"
      ]
     },
     "metadata": {},
     "output_type": "display_data"
    },
    {
     "data": {
      "application/vnd.jupyter.widget-view+json": {
       "model_id": "e70b08014b1941e48cb6b41830fdf79a",
       "version_major": 2,
       "version_minor": 0
      },
      "text/plain": [
       "  0%|          | 0/4590 [00:00<?, ?it/s]"
      ]
     },
     "metadata": {},
     "output_type": "display_data"
    },
    {
     "name": "stdout",
     "output_type": "stream",
     "text": [
      "final shape (4590, 178)\n",
      "shape before row_rise_aggregation (55372, 369)\n",
      "shape after row_rise_aggregation (55372, 384)\n",
      "shape before column_rise_aggregation (55372, 384)\n",
      "shape after column_rise_aggregation (4590, 1893)\n"
     ]
    },
    {
     "data": {
      "application/vnd.jupyter.widget-view+json": {
       "model_id": "0e0d9b4360a04ed0b25b74a1630864ca",
       "version_major": 2,
       "version_minor": 0
      },
      "text/plain": [
       "  0%|          | 0/177 [00:00<?, ?it/s]"
      ]
     },
     "metadata": {},
     "output_type": "display_data"
    },
    {
     "data": {
      "application/vnd.jupyter.widget-view+json": {
       "model_id": "f667196092a1460799549b02872bd867",
       "version_major": 2,
       "version_minor": 0
      },
      "text/plain": [
       "  0%|          | 0/4590 [00:00<?, ?it/s]"
      ]
     },
     "metadata": {},
     "output_type": "display_data"
    },
    {
     "name": "stdout",
     "output_type": "stream",
     "text": [
      "final shape (4590, 178)\n",
      "shape before row_rise_aggregation (55244, 369)\n",
      "shape after row_rise_aggregation (55244, 384)\n",
      "shape before column_rise_aggregation (55244, 384)\n",
      "shape after column_rise_aggregation (4590, 1893)\n"
     ]
    },
    {
     "data": {
      "application/vnd.jupyter.widget-view+json": {
       "model_id": "96182860486142989b9f58b8343ef7e7",
       "version_major": 2,
       "version_minor": 0
      },
      "text/plain": [
       "  0%|          | 0/177 [00:00<?, ?it/s]"
      ]
     },
     "metadata": {},
     "output_type": "display_data"
    },
    {
     "data": {
      "application/vnd.jupyter.widget-view+json": {
       "model_id": "78cbc56fb9df4bb89d336265adc2c39c",
       "version_major": 2,
       "version_minor": 0
      },
      "text/plain": [
       "  0%|          | 0/4590 [00:00<?, ?it/s]"
      ]
     },
     "metadata": {},
     "output_type": "display_data"
    },
    {
     "name": "stdout",
     "output_type": "stream",
     "text": [
      "final shape (4590, 178)\n",
      "shape before row_rise_aggregation (55182, 369)\n",
      "shape after row_rise_aggregation (55182, 384)\n",
      "shape before column_rise_aggregation (55182, 384)\n",
      "shape after column_rise_aggregation (4590, 1897)\n"
     ]
    },
    {
     "data": {
      "application/vnd.jupyter.widget-view+json": {
       "model_id": "8dce9b6c63464f329f28853a6cef2cca",
       "version_major": 2,
       "version_minor": 0
      },
      "text/plain": [
       "  0%|          | 0/177 [00:00<?, ?it/s]"
      ]
     },
     "metadata": {},
     "output_type": "display_data"
    },
    {
     "data": {
      "application/vnd.jupyter.widget-view+json": {
       "model_id": "dce43b19809b43c983fca3eaf5ded374",
       "version_major": 2,
       "version_minor": 0
      },
      "text/plain": [
       "  0%|          | 0/4590 [00:00<?, ?it/s]"
      ]
     },
     "metadata": {},
     "output_type": "display_data"
    },
    {
     "name": "stdout",
     "output_type": "stream",
     "text": [
      "final shape (4590, 178)\n",
      "shape before row_rise_aggregation (55295, 369)\n",
      "shape after row_rise_aggregation (55295, 384)\n",
      "shape before column_rise_aggregation (55295, 384)\n",
      "shape after column_rise_aggregation (4590, 1897)\n"
     ]
    },
    {
     "data": {
      "application/vnd.jupyter.widget-view+json": {
       "model_id": "8848a691efba45fc9007c42cf836ac58",
       "version_major": 2,
       "version_minor": 0
      },
      "text/plain": [
       "  0%|          | 0/177 [00:00<?, ?it/s]"
      ]
     },
     "metadata": {},
     "output_type": "display_data"
    },
    {
     "data": {
      "application/vnd.jupyter.widget-view+json": {
       "model_id": "d8a93b734cd94d06a5678679de20db0c",
       "version_major": 2,
       "version_minor": 0
      },
      "text/plain": [
       "  0%|          | 0/4590 [00:00<?, ?it/s]"
      ]
     },
     "metadata": {},
     "output_type": "display_data"
    },
    {
     "name": "stdout",
     "output_type": "stream",
     "text": [
      "final shape (4590, 178)\n",
      "shape before row_rise_aggregation (55807, 369)\n",
      "shape after row_rise_aggregation (55807, 384)\n",
      "shape before column_rise_aggregation (55807, 384)\n",
      "shape after column_rise_aggregation (4590, 1893)\n"
     ]
    },
    {
     "data": {
      "application/vnd.jupyter.widget-view+json": {
       "model_id": "3eff17523cef42e2ab2858d2e30e8c41",
       "version_major": 2,
       "version_minor": 0
      },
      "text/plain": [
       "  0%|          | 0/177 [00:00<?, ?it/s]"
      ]
     },
     "metadata": {},
     "output_type": "display_data"
    },
    {
     "data": {
      "application/vnd.jupyter.widget-view+json": {
       "model_id": "ed9c35306c9d4a6d81ae2a50fddc5958",
       "version_major": 2,
       "version_minor": 0
      },
      "text/plain": [
       "  0%|          | 0/4590 [00:00<?, ?it/s]"
      ]
     },
     "metadata": {},
     "output_type": "display_data"
    },
    {
     "name": "stdout",
     "output_type": "stream",
     "text": [
      "final shape (4590, 178)\n",
      "shape before row_rise_aggregation (55157, 369)\n",
      "shape after row_rise_aggregation (55157, 384)\n",
      "shape before column_rise_aggregation (55157, 384)\n",
      "shape after column_rise_aggregation (4590, 1897)\n"
     ]
    },
    {
     "data": {
      "application/vnd.jupyter.widget-view+json": {
       "model_id": "73e96e1f3c494da592f3380591ce117a",
       "version_major": 2,
       "version_minor": 0
      },
      "text/plain": [
       "  0%|          | 0/177 [00:00<?, ?it/s]"
      ]
     },
     "metadata": {},
     "output_type": "display_data"
    },
    {
     "data": {
      "application/vnd.jupyter.widget-view+json": {
       "model_id": "a0a9a7d70f4046d489ae2e641c8578af",
       "version_major": 2,
       "version_minor": 0
      },
      "text/plain": [
       "  0%|          | 0/4590 [00:00<?, ?it/s]"
      ]
     },
     "metadata": {},
     "output_type": "display_data"
    },
    {
     "name": "stdout",
     "output_type": "stream",
     "text": [
      "final shape (4590, 178)\n",
      "shape before row_rise_aggregation (55150, 369)\n",
      "shape after row_rise_aggregation (55150, 384)\n",
      "shape before column_rise_aggregation (55150, 384)\n",
      "shape after column_rise_aggregation (4590, 1865)\n"
     ]
    },
    {
     "data": {
      "application/vnd.jupyter.widget-view+json": {
       "model_id": "a7cf638cc05146a19262be33ad55ff95",
       "version_major": 2,
       "version_minor": 0
      },
      "text/plain": [
       "  0%|          | 0/177 [00:00<?, ?it/s]"
      ]
     },
     "metadata": {},
     "output_type": "display_data"
    },
    {
     "data": {
      "application/vnd.jupyter.widget-view+json": {
       "model_id": "6c84ea6058854ed7882c6e3f4ac5076b",
       "version_major": 2,
       "version_minor": 0
      },
      "text/plain": [
       "  0%|          | 0/4590 [00:00<?, ?it/s]"
      ]
     },
     "metadata": {},
     "output_type": "display_data"
    },
    {
     "name": "stdout",
     "output_type": "stream",
     "text": [
      "final shape (4590, 178)\n",
      "shape before row_rise_aggregation (55155, 369)\n",
      "shape after row_rise_aggregation (55155, 384)\n",
      "shape before column_rise_aggregation (55155, 384)\n",
      "shape after column_rise_aggregation (4590, 1897)\n"
     ]
    },
    {
     "data": {
      "application/vnd.jupyter.widget-view+json": {
       "model_id": "d67f57d1784440faadd65f3dd3d377a9",
       "version_major": 2,
       "version_minor": 0
      },
      "text/plain": [
       "  0%|          | 0/177 [00:00<?, ?it/s]"
      ]
     },
     "metadata": {},
     "output_type": "display_data"
    },
    {
     "data": {
      "application/vnd.jupyter.widget-view+json": {
       "model_id": "dd54824f093d482e957dde6bcf968812",
       "version_major": 2,
       "version_minor": 0
      },
      "text/plain": [
       "  0%|          | 0/4590 [00:00<?, ?it/s]"
      ]
     },
     "metadata": {},
     "output_type": "display_data"
    },
    {
     "name": "stdout",
     "output_type": "stream",
     "text": [
      "final shape (4590, 178)\n",
      "shape before row_rise_aggregation (55203, 369)\n",
      "shape after row_rise_aggregation (55203, 384)\n",
      "shape before column_rise_aggregation (55203, 384)\n",
      "shape after column_rise_aggregation (4590, 1893)\n"
     ]
    },
    {
     "data": {
      "application/vnd.jupyter.widget-view+json": {
       "model_id": "5ca16d5d97bc46d78741e837b84fb29a",
       "version_major": 2,
       "version_minor": 0
      },
      "text/plain": [
       "  0%|          | 0/177 [00:00<?, ?it/s]"
      ]
     },
     "metadata": {},
     "output_type": "display_data"
    },
    {
     "data": {
      "application/vnd.jupyter.widget-view+json": {
       "model_id": "a74d1b86898545c1ad967d4dd3f8dfda",
       "version_major": 2,
       "version_minor": 0
      },
      "text/plain": [
       "  0%|          | 0/4590 [00:00<?, ?it/s]"
      ]
     },
     "metadata": {},
     "output_type": "display_data"
    },
    {
     "name": "stdout",
     "output_type": "stream",
     "text": [
      "final shape (4590, 178)\n",
      "shape before row_rise_aggregation (55111, 369)\n",
      "shape after row_rise_aggregation (55111, 384)\n",
      "shape before column_rise_aggregation (55111, 384)\n",
      "shape after column_rise_aggregation (4590, 1889)\n"
     ]
    },
    {
     "data": {
      "application/vnd.jupyter.widget-view+json": {
       "model_id": "f759db22ec954feda0c7a6ada2125137",
       "version_major": 2,
       "version_minor": 0
      },
      "text/plain": [
       "  0%|          | 0/177 [00:00<?, ?it/s]"
      ]
     },
     "metadata": {},
     "output_type": "display_data"
    },
    {
     "data": {
      "application/vnd.jupyter.widget-view+json": {
       "model_id": "ffad8be9934c4a528155f1acfd0e2937",
       "version_major": 2,
       "version_minor": 0
      },
      "text/plain": [
       "  0%|          | 0/4590 [00:00<?, ?it/s]"
      ]
     },
     "metadata": {},
     "output_type": "display_data"
    },
    {
     "name": "stdout",
     "output_type": "stream",
     "text": [
      "final shape (4590, 178)\n",
      "shape before row_rise_aggregation (55069, 369)\n",
      "shape after row_rise_aggregation (55069, 384)\n",
      "shape before column_rise_aggregation (55069, 384)\n",
      "shape after column_rise_aggregation (4590, 1897)\n"
     ]
    },
    {
     "data": {
      "application/vnd.jupyter.widget-view+json": {
       "model_id": "76945bce2fa34decbcaeca76770fbc4c",
       "version_major": 2,
       "version_minor": 0
      },
      "text/plain": [
       "  0%|          | 0/177 [00:00<?, ?it/s]"
      ]
     },
     "metadata": {},
     "output_type": "display_data"
    },
    {
     "data": {
      "application/vnd.jupyter.widget-view+json": {
       "model_id": "e1f77dd6394f4698a159300ba8fe39a7",
       "version_major": 2,
       "version_minor": 0
      },
      "text/plain": [
       "  0%|          | 0/4590 [00:00<?, ?it/s]"
      ]
     },
     "metadata": {},
     "output_type": "display_data"
    },
    {
     "name": "stdout",
     "output_type": "stream",
     "text": [
      "final shape (4590, 178)\n",
      "shape before row_rise_aggregation (55435, 369)\n",
      "shape after row_rise_aggregation (55435, 384)\n",
      "shape before column_rise_aggregation (55435, 384)\n",
      "shape after column_rise_aggregation (4590, 1897)\n"
     ]
    },
    {
     "data": {
      "application/vnd.jupyter.widget-view+json": {
       "model_id": "68df4808cbcf4b0485bd0168f75a2cbe",
       "version_major": 2,
       "version_minor": 0
      },
      "text/plain": [
       "  0%|          | 0/177 [00:00<?, ?it/s]"
      ]
     },
     "metadata": {},
     "output_type": "display_data"
    },
    {
     "data": {
      "application/vnd.jupyter.widget-view+json": {
       "model_id": "41b6d572d506482c8361e20251980b32",
       "version_major": 2,
       "version_minor": 0
      },
      "text/plain": [
       "  0%|          | 0/4590 [00:00<?, ?it/s]"
      ]
     },
     "metadata": {},
     "output_type": "display_data"
    },
    {
     "name": "stdout",
     "output_type": "stream",
     "text": [
      "final shape (4590, 178)\n",
      "shape before row_rise_aggregation (55118, 369)\n",
      "shape after row_rise_aggregation (55118, 384)\n",
      "shape before column_rise_aggregation (55118, 384)\n",
      "shape after column_rise_aggregation (4590, 1893)\n"
     ]
    },
    {
     "data": {
      "application/vnd.jupyter.widget-view+json": {
       "model_id": "b2ceb8790603441d85b4ab8b30820fa5",
       "version_major": 2,
       "version_minor": 0
      },
      "text/plain": [
       "  0%|          | 0/177 [00:00<?, ?it/s]"
      ]
     },
     "metadata": {},
     "output_type": "display_data"
    },
    {
     "data": {
      "application/vnd.jupyter.widget-view+json": {
       "model_id": "a7d028abfcd74b5ba7eeacef5be21c4f",
       "version_major": 2,
       "version_minor": 0
      },
      "text/plain": [
       "  0%|          | 0/4590 [00:00<?, ?it/s]"
      ]
     },
     "metadata": {},
     "output_type": "display_data"
    },
    {
     "name": "stdout",
     "output_type": "stream",
     "text": [
      "final shape (4590, 178)\n",
      "shape before row_rise_aggregation (55386, 369)\n",
      "shape after row_rise_aggregation (55386, 384)\n",
      "shape before column_rise_aggregation (55386, 384)\n",
      "shape after column_rise_aggregation (4590, 1897)\n"
     ]
    },
    {
     "data": {
      "application/vnd.jupyter.widget-view+json": {
       "model_id": "2f225b8eacd242bd84b97ff1de3b5b42",
       "version_major": 2,
       "version_minor": 0
      },
      "text/plain": [
       "  0%|          | 0/177 [00:00<?, ?it/s]"
      ]
     },
     "metadata": {},
     "output_type": "display_data"
    },
    {
     "data": {
      "application/vnd.jupyter.widget-view+json": {
       "model_id": "846e1897824347e6afc64f2be8d5bb4b",
       "version_major": 2,
       "version_minor": 0
      },
      "text/plain": [
       "  0%|          | 0/4590 [00:00<?, ?it/s]"
      ]
     },
     "metadata": {},
     "output_type": "display_data"
    },
    {
     "name": "stdout",
     "output_type": "stream",
     "text": [
      "final shape (4590, 178)\n",
      "shape before row_rise_aggregation (55442, 369)\n",
      "shape after row_rise_aggregation (55442, 384)\n",
      "shape before column_rise_aggregation (55442, 384)\n",
      "shape after column_rise_aggregation (4590, 1897)\n"
     ]
    },
    {
     "data": {
      "application/vnd.jupyter.widget-view+json": {
       "model_id": "2c9601fc19bb4eab9c0f962151e11895",
       "version_major": 2,
       "version_minor": 0
      },
      "text/plain": [
       "  0%|          | 0/177 [00:00<?, ?it/s]"
      ]
     },
     "metadata": {},
     "output_type": "display_data"
    },
    {
     "data": {
      "application/vnd.jupyter.widget-view+json": {
       "model_id": "ee946a3e45f743a48fa2cbe6f6da132a",
       "version_major": 2,
       "version_minor": 0
      },
      "text/plain": [
       "  0%|          | 0/4590 [00:00<?, ?it/s]"
      ]
     },
     "metadata": {},
     "output_type": "display_data"
    },
    {
     "name": "stdout",
     "output_type": "stream",
     "text": [
      "final shape (4590, 178)\n",
      "shape before row_rise_aggregation (55455, 369)\n",
      "shape after row_rise_aggregation (55455, 384)\n",
      "shape before column_rise_aggregation (55455, 384)\n",
      "shape after column_rise_aggregation (4590, 1889)\n"
     ]
    },
    {
     "data": {
      "application/vnd.jupyter.widget-view+json": {
       "model_id": "939dea00f2e14a94b4305bb449b56061",
       "version_major": 2,
       "version_minor": 0
      },
      "text/plain": [
       "  0%|          | 0/177 [00:00<?, ?it/s]"
      ]
     },
     "metadata": {},
     "output_type": "display_data"
    },
    {
     "data": {
      "application/vnd.jupyter.widget-view+json": {
       "model_id": "72a9384b6d554c729c7f0412a44483b1",
       "version_major": 2,
       "version_minor": 0
      },
      "text/plain": [
       "  0%|          | 0/4590 [00:00<?, ?it/s]"
      ]
     },
     "metadata": {},
     "output_type": "display_data"
    },
    {
     "name": "stdout",
     "output_type": "stream",
     "text": [
      "final shape (4590, 178)\n",
      "shape before row_rise_aggregation (55576, 369)\n",
      "shape after row_rise_aggregation (55576, 384)\n",
      "shape before column_rise_aggregation (55576, 384)\n",
      "shape after column_rise_aggregation (4590, 1897)\n"
     ]
    },
    {
     "data": {
      "application/vnd.jupyter.widget-view+json": {
       "model_id": "9379459bb58b46f9a906ac3e57d574dd",
       "version_major": 2,
       "version_minor": 0
      },
      "text/plain": [
       "  0%|          | 0/177 [00:00<?, ?it/s]"
      ]
     },
     "metadata": {},
     "output_type": "display_data"
    },
    {
     "data": {
      "application/vnd.jupyter.widget-view+json": {
       "model_id": "252582dc57d645559f14aef4fba2b01f",
       "version_major": 2,
       "version_minor": 0
      },
      "text/plain": [
       "  0%|          | 0/4503 [00:00<?, ?it/s]"
      ]
     },
     "metadata": {},
     "output_type": "display_data"
    },
    {
     "name": "stdout",
     "output_type": "stream",
     "text": [
      "final shape (4503, 178)\n",
      "shape before row_rise_aggregation (54161, 369)\n",
      "shape after row_rise_aggregation (54161, 384)\n",
      "shape before column_rise_aggregation (54161, 384)\n",
      "shape after column_rise_aggregation (4503, 1897)\n"
     ]
    },
    {
     "data": {
      "application/vnd.jupyter.widget-view+json": {
       "model_id": "973b9289e7314b79ba5ad6f28aa4d02c",
       "version_major": 2,
       "version_minor": 0
      },
      "text/plain": [
       "  0%|          | 0/177 [00:00<?, ?it/s]"
      ]
     },
     "metadata": {},
     "output_type": "display_data"
    },
    {
     "data": {
      "application/vnd.jupyter.widget-view+json": {
       "model_id": "7aecf095bfa44dc9bc961e0e3016c3be",
       "version_major": 2,
       "version_minor": 0
      },
      "text/plain": [
       "  0%|          | 0/4590 [00:00<?, ?it/s]"
      ]
     },
     "metadata": {},
     "output_type": "display_data"
    },
    {
     "name": "stdout",
     "output_type": "stream",
     "text": [
      "final shape (4590, 178)\n",
      "shape before row_rise_aggregation (55555, 369)\n",
      "shape after row_rise_aggregation (55555, 384)\n",
      "shape before column_rise_aggregation (55555, 384)\n",
      "shape after column_rise_aggregation (4590, 1897)\n"
     ]
    },
    {
     "data": {
      "application/vnd.jupyter.widget-view+json": {
       "model_id": "e1d9d9f5b0da4e7fa145d86c15c6144b",
       "version_major": 2,
       "version_minor": 0
      },
      "text/plain": [
       "  0%|          | 0/177 [00:00<?, ?it/s]"
      ]
     },
     "metadata": {},
     "output_type": "display_data"
    },
    {
     "data": {
      "application/vnd.jupyter.widget-view+json": {
       "model_id": "47e3186f2f544073a1f735157fe0188c",
       "version_major": 2,
       "version_minor": 0
      },
      "text/plain": [
       "  0%|          | 0/4590 [00:00<?, ?it/s]"
      ]
     },
     "metadata": {},
     "output_type": "display_data"
    },
    {
     "name": "stdout",
     "output_type": "stream",
     "text": [
      "final shape (4590, 178)\n",
      "shape before row_rise_aggregation (55060, 369)\n",
      "shape after row_rise_aggregation (55060, 384)\n",
      "shape before column_rise_aggregation (55060, 384)\n",
      "shape after column_rise_aggregation (4590, 1893)\n"
     ]
    },
    {
     "data": {
      "application/vnd.jupyter.widget-view+json": {
       "model_id": "6588b340814644f8ba677a12542c61a6",
       "version_major": 2,
       "version_minor": 0
      },
      "text/plain": [
       "  0%|          | 0/177 [00:00<?, ?it/s]"
      ]
     },
     "metadata": {},
     "output_type": "display_data"
    },
    {
     "data": {
      "application/vnd.jupyter.widget-view+json": {
       "model_id": "c28ceaa71d384cc78d06f6c0d17e28e9",
       "version_major": 2,
       "version_minor": 0
      },
      "text/plain": [
       "  0%|          | 0/4590 [00:00<?, ?it/s]"
      ]
     },
     "metadata": {},
     "output_type": "display_data"
    },
    {
     "name": "stdout",
     "output_type": "stream",
     "text": [
      "final shape (4590, 178)\n",
      "shape before row_rise_aggregation (55427, 369)\n",
      "shape after row_rise_aggregation (55427, 384)\n",
      "shape before column_rise_aggregation (55427, 384)\n",
      "shape after column_rise_aggregation (4590, 1897)\n"
     ]
    },
    {
     "data": {
      "application/vnd.jupyter.widget-view+json": {
       "model_id": "fff2c65a515f40b783c88360598ba3a5",
       "version_major": 2,
       "version_minor": 0
      },
      "text/plain": [
       "  0%|          | 0/177 [00:00<?, ?it/s]"
      ]
     },
     "metadata": {},
     "output_type": "display_data"
    },
    {
     "data": {
      "application/vnd.jupyter.widget-view+json": {
       "model_id": "b485a3ba1e0148fcb76281b69bcc3694",
       "version_major": 2,
       "version_minor": 0
      },
      "text/plain": [
       "  0%|          | 0/4590 [00:00<?, ?it/s]"
      ]
     },
     "metadata": {},
     "output_type": "display_data"
    },
    {
     "name": "stdout",
     "output_type": "stream",
     "text": [
      "final shape (4590, 178)\n",
      "shape before row_rise_aggregation (55460, 369)\n",
      "shape after row_rise_aggregation (55460, 384)\n",
      "shape before column_rise_aggregation (55460, 384)\n",
      "shape after column_rise_aggregation (4590, 1893)\n"
     ]
    },
    {
     "data": {
      "application/vnd.jupyter.widget-view+json": {
       "model_id": "5846858eb6f94a43b6ba5d7ce4b5926e",
       "version_major": 2,
       "version_minor": 0
      },
      "text/plain": [
       "  0%|          | 0/177 [00:00<?, ?it/s]"
      ]
     },
     "metadata": {},
     "output_type": "display_data"
    },
    {
     "data": {
      "application/vnd.jupyter.widget-view+json": {
       "model_id": "b7d9fa032a26477b8bd78e5939db0fce",
       "version_major": 2,
       "version_minor": 0
      },
      "text/plain": [
       "  0%|          | 0/4590 [00:00<?, ?it/s]"
      ]
     },
     "metadata": {},
     "output_type": "display_data"
    },
    {
     "name": "stdout",
     "output_type": "stream",
     "text": [
      "final shape (4590, 178)\n",
      "shape before row_rise_aggregation (55693, 369)\n",
      "shape after row_rise_aggregation (55693, 384)\n",
      "shape before column_rise_aggregation (55693, 384)\n",
      "shape after column_rise_aggregation (4590, 1893)\n"
     ]
    },
    {
     "data": {
      "application/vnd.jupyter.widget-view+json": {
       "model_id": "3616c37000fb4ba8a67abdbff54fcc9e",
       "version_major": 2,
       "version_minor": 0
      },
      "text/plain": [
       "  0%|          | 0/177 [00:00<?, ?it/s]"
      ]
     },
     "metadata": {},
     "output_type": "display_data"
    },
    {
     "data": {
      "application/vnd.jupyter.widget-view+json": {
       "model_id": "136b780049d445218706dc04823f710a",
       "version_major": 2,
       "version_minor": 0
      },
      "text/plain": [
       "  0%|          | 0/4590 [00:00<?, ?it/s]"
      ]
     },
     "metadata": {},
     "output_type": "display_data"
    },
    {
     "name": "stdout",
     "output_type": "stream",
     "text": [
      "final shape (4590, 178)\n",
      "shape before row_rise_aggregation (55429, 369)\n",
      "shape after row_rise_aggregation (55429, 384)\n",
      "shape before column_rise_aggregation (55429, 384)\n",
      "shape after column_rise_aggregation (4590, 1889)\n"
     ]
    },
    {
     "data": {
      "application/vnd.jupyter.widget-view+json": {
       "model_id": "fab1baedee444276b3ff9d5cd9cf4433",
       "version_major": 2,
       "version_minor": 0
      },
      "text/plain": [
       "  0%|          | 0/177 [00:00<?, ?it/s]"
      ]
     },
     "metadata": {},
     "output_type": "display_data"
    },
    {
     "data": {
      "application/vnd.jupyter.widget-view+json": {
       "model_id": "5c20dd6d03114d79a7a224cb93a268b9",
       "version_major": 2,
       "version_minor": 0
      },
      "text/plain": [
       "  0%|          | 0/4590 [00:00<?, ?it/s]"
      ]
     },
     "metadata": {},
     "output_type": "display_data"
    },
    {
     "name": "stdout",
     "output_type": "stream",
     "text": [
      "final shape (4590, 178)\n",
      "shape before row_rise_aggregation (55260, 369)\n",
      "shape after row_rise_aggregation (55260, 384)\n",
      "shape before column_rise_aggregation (55260, 384)\n",
      "shape after column_rise_aggregation (4590, 1893)\n"
     ]
    },
    {
     "data": {
      "application/vnd.jupyter.widget-view+json": {
       "model_id": "9d63a8f088c9457790dc48d92d0b1535",
       "version_major": 2,
       "version_minor": 0
      },
      "text/plain": [
       "  0%|          | 0/177 [00:00<?, ?it/s]"
      ]
     },
     "metadata": {},
     "output_type": "display_data"
    },
    {
     "data": {
      "application/vnd.jupyter.widget-view+json": {
       "model_id": "6a17fa6f7f624264903868ece3a78fac",
       "version_major": 2,
       "version_minor": 0
      },
      "text/plain": [
       "  0%|          | 0/4590 [00:00<?, ?it/s]"
      ]
     },
     "metadata": {},
     "output_type": "display_data"
    },
    {
     "name": "stdout",
     "output_type": "stream",
     "text": [
      "final shape (4590, 178)\n",
      "shape before row_rise_aggregation (55404, 369)\n",
      "shape after row_rise_aggregation (55404, 384)\n",
      "shape before column_rise_aggregation (55404, 384)\n",
      "shape after column_rise_aggregation (4590, 1897)\n"
     ]
    },
    {
     "data": {
      "application/vnd.jupyter.widget-view+json": {
       "model_id": "ac485687aad846dc9c54988fc46ebbf3",
       "version_major": 2,
       "version_minor": 0
      },
      "text/plain": [
       "  0%|          | 0/177 [00:00<?, ?it/s]"
      ]
     },
     "metadata": {},
     "output_type": "display_data"
    },
    {
     "data": {
      "application/vnd.jupyter.widget-view+json": {
       "model_id": "83e0de0adbcb46d289536f9bc78cd297",
       "version_major": 2,
       "version_minor": 0
      },
      "text/plain": [
       "  0%|          | 0/4590 [00:00<?, ?it/s]"
      ]
     },
     "metadata": {},
     "output_type": "display_data"
    },
    {
     "name": "stdout",
     "output_type": "stream",
     "text": [
      "final shape (4590, 178)\n",
      "shape before row_rise_aggregation (55685, 369)\n",
      "shape after row_rise_aggregation (55685, 384)\n",
      "shape before column_rise_aggregation (55685, 384)\n",
      "shape after column_rise_aggregation (4590, 1893)\n"
     ]
    },
    {
     "data": {
      "application/vnd.jupyter.widget-view+json": {
       "model_id": "0c7807a3063441ecaea0b2bc3eaa212f",
       "version_major": 2,
       "version_minor": 0
      },
      "text/plain": [
       "  0%|          | 0/177 [00:00<?, ?it/s]"
      ]
     },
     "metadata": {},
     "output_type": "display_data"
    },
    {
     "data": {
      "application/vnd.jupyter.widget-view+json": {
       "model_id": "da234e480d2446378e66b15e7c1a60e6",
       "version_major": 2,
       "version_minor": 0
      },
      "text/plain": [
       "  0%|          | 0/4590 [00:00<?, ?it/s]"
      ]
     },
     "metadata": {},
     "output_type": "display_data"
    },
    {
     "name": "stdout",
     "output_type": "stream",
     "text": [
      "final shape (4590, 178)\n",
      "shape before row_rise_aggregation (55082, 369)\n",
      "shape after row_rise_aggregation (55082, 384)\n",
      "shape before column_rise_aggregation (55082, 384)\n",
      "shape after column_rise_aggregation (4590, 1889)\n"
     ]
    },
    {
     "data": {
      "application/vnd.jupyter.widget-view+json": {
       "model_id": "77896da08c314466b17894fce7a3003a",
       "version_major": 2,
       "version_minor": 0
      },
      "text/plain": [
       "  0%|          | 0/177 [00:00<?, ?it/s]"
      ]
     },
     "metadata": {},
     "output_type": "display_data"
    },
    {
     "data": {
      "application/vnd.jupyter.widget-view+json": {
       "model_id": "ddc1edc1ece142198fa4bee7adaed1e3",
       "version_major": 2,
       "version_minor": 0
      },
      "text/plain": [
       "  0%|          | 0/4590 [00:00<?, ?it/s]"
      ]
     },
     "metadata": {},
     "output_type": "display_data"
    },
    {
     "name": "stdout",
     "output_type": "stream",
     "text": [
      "final shape (4590, 178)\n",
      "shape before row_rise_aggregation (55320, 369)\n",
      "shape after row_rise_aggregation (55320, 384)\n",
      "shape before column_rise_aggregation (55320, 384)\n",
      "shape after column_rise_aggregation (4590, 1897)\n"
     ]
    },
    {
     "data": {
      "application/vnd.jupyter.widget-view+json": {
       "model_id": "92eb09a35a7b4d359614fe463ef6bd75",
       "version_major": 2,
       "version_minor": 0
      },
      "text/plain": [
       "  0%|          | 0/177 [00:00<?, ?it/s]"
      ]
     },
     "metadata": {},
     "output_type": "display_data"
    },
    {
     "data": {
      "application/vnd.jupyter.widget-view+json": {
       "model_id": "1af30bd706b145b7b55b18f45dfc6c8f",
       "version_major": 2,
       "version_minor": 0
      },
      "text/plain": [
       "  0%|          | 0/4590 [00:00<?, ?it/s]"
      ]
     },
     "metadata": {},
     "output_type": "display_data"
    },
    {
     "name": "stdout",
     "output_type": "stream",
     "text": [
      "final shape (4590, 178)\n",
      "shape before row_rise_aggregation (55683, 369)\n",
      "shape after row_rise_aggregation (55683, 384)\n",
      "shape before column_rise_aggregation (55683, 384)\n",
      "shape after column_rise_aggregation (4590, 1893)\n"
     ]
    },
    {
     "data": {
      "application/vnd.jupyter.widget-view+json": {
       "model_id": "7ba5c9c963c94289bee1a5340e78cbf6",
       "version_major": 2,
       "version_minor": 0
      },
      "text/plain": [
       "  0%|          | 0/177 [00:00<?, ?it/s]"
      ]
     },
     "metadata": {},
     "output_type": "display_data"
    },
    {
     "data": {
      "application/vnd.jupyter.widget-view+json": {
       "model_id": "6359be8af9bd4ba7afe78b318b8ebf27",
       "version_major": 2,
       "version_minor": 0
      },
      "text/plain": [
       "  0%|          | 0/4590 [00:00<?, ?it/s]"
      ]
     },
     "metadata": {},
     "output_type": "display_data"
    },
    {
     "name": "stdout",
     "output_type": "stream",
     "text": [
      "final shape (4590, 178)\n",
      "shape before row_rise_aggregation (55463, 369)\n",
      "shape after row_rise_aggregation (55463, 384)\n",
      "shape before column_rise_aggregation (55463, 384)\n",
      "shape after column_rise_aggregation (4590, 1897)\n"
     ]
    },
    {
     "data": {
      "application/vnd.jupyter.widget-view+json": {
       "model_id": "7a72dfc7d9aa40dc8596d01b0991f9cf",
       "version_major": 2,
       "version_minor": 0
      },
      "text/plain": [
       "  0%|          | 0/177 [00:00<?, ?it/s]"
      ]
     },
     "metadata": {},
     "output_type": "display_data"
    },
    {
     "data": {
      "application/vnd.jupyter.widget-view+json": {
       "model_id": "773a99771a7e4f73bdeca15d97b9bde1",
       "version_major": 2,
       "version_minor": 0
      },
      "text/plain": [
       "  0%|          | 0/4590 [00:00<?, ?it/s]"
      ]
     },
     "metadata": {},
     "output_type": "display_data"
    },
    {
     "name": "stdout",
     "output_type": "stream",
     "text": [
      "final shape (4590, 178)\n",
      "shape before row_rise_aggregation (55256, 369)\n",
      "shape after row_rise_aggregation (55256, 384)\n",
      "shape before column_rise_aggregation (55256, 384)\n",
      "shape after column_rise_aggregation (4590, 1897)\n"
     ]
    },
    {
     "data": {
      "application/vnd.jupyter.widget-view+json": {
       "model_id": "c957486b213740178e627ea63939bbb9",
       "version_major": 2,
       "version_minor": 0
      },
      "text/plain": [
       "  0%|          | 0/177 [00:00<?, ?it/s]"
      ]
     },
     "metadata": {},
     "output_type": "display_data"
    },
    {
     "data": {
      "application/vnd.jupyter.widget-view+json": {
       "model_id": "2bdaa50a45cd467a891c04c94c984751",
       "version_major": 2,
       "version_minor": 0
      },
      "text/plain": [
       "  0%|          | 0/4590 [00:00<?, ?it/s]"
      ]
     },
     "metadata": {},
     "output_type": "display_data"
    },
    {
     "name": "stdout",
     "output_type": "stream",
     "text": [
      "final shape (4590, 178)\n",
      "shape before row_rise_aggregation (55180, 369)\n",
      "shape after row_rise_aggregation (55180, 384)\n",
      "shape before column_rise_aggregation (55180, 384)\n",
      "shape after column_rise_aggregation (4590, 1897)\n"
     ]
    },
    {
     "data": {
      "application/vnd.jupyter.widget-view+json": {
       "model_id": "49dffe874f534487a72d9474a045205e",
       "version_major": 2,
       "version_minor": 0
      },
      "text/plain": [
       "  0%|          | 0/177 [00:00<?, ?it/s]"
      ]
     },
     "metadata": {},
     "output_type": "display_data"
    },
    {
     "data": {
      "application/vnd.jupyter.widget-view+json": {
       "model_id": "dfa44eaa50f843918919745ecacc2422",
       "version_major": 2,
       "version_minor": 0
      },
      "text/plain": [
       "  0%|          | 0/4590 [00:00<?, ?it/s]"
      ]
     },
     "metadata": {},
     "output_type": "display_data"
    },
    {
     "name": "stdout",
     "output_type": "stream",
     "text": [
      "final shape (4590, 178)\n",
      "shape before row_rise_aggregation (55287, 369)\n",
      "shape after row_rise_aggregation (55287, 384)\n",
      "shape before column_rise_aggregation (55287, 384)\n",
      "shape after column_rise_aggregation (4590, 1885)\n"
     ]
    },
    {
     "data": {
      "application/vnd.jupyter.widget-view+json": {
       "model_id": "1e0b52d5a14340ee8688351b0fabbc4a",
       "version_major": 2,
       "version_minor": 0
      },
      "text/plain": [
       "  0%|          | 0/177 [00:00<?, ?it/s]"
      ]
     },
     "metadata": {},
     "output_type": "display_data"
    },
    {
     "data": {
      "application/vnd.jupyter.widget-view+json": {
       "model_id": "4c15f32f7f394747943c93f457f9681d",
       "version_major": 2,
       "version_minor": 0
      },
      "text/plain": [
       "  0%|          | 0/4590 [00:00<?, ?it/s]"
      ]
     },
     "metadata": {},
     "output_type": "display_data"
    },
    {
     "name": "stdout",
     "output_type": "stream",
     "text": [
      "final shape (4590, 178)\n",
      "shape before row_rise_aggregation (55462, 369)\n",
      "shape after row_rise_aggregation (55462, 384)\n",
      "shape before column_rise_aggregation (55462, 384)\n",
      "shape after column_rise_aggregation (4590, 1893)\n"
     ]
    },
    {
     "data": {
      "application/vnd.jupyter.widget-view+json": {
       "model_id": "65ccc69bc51c4ee89732061ec9cc2bd5",
       "version_major": 2,
       "version_minor": 0
      },
      "text/plain": [
       "  0%|          | 0/177 [00:00<?, ?it/s]"
      ]
     },
     "metadata": {},
     "output_type": "display_data"
    },
    {
     "data": {
      "application/vnd.jupyter.widget-view+json": {
       "model_id": "13e22f5ab171404b82c176c6095fe4a7",
       "version_major": 2,
       "version_minor": 0
      },
      "text/plain": [
       "  0%|          | 0/4590 [00:00<?, ?it/s]"
      ]
     },
     "metadata": {},
     "output_type": "display_data"
    },
    {
     "name": "stdout",
     "output_type": "stream",
     "text": [
      "final shape (4590, 178)\n",
      "shape before row_rise_aggregation (55174, 369)\n",
      "shape after row_rise_aggregation (55174, 384)\n",
      "shape before column_rise_aggregation (55174, 384)\n",
      "shape after column_rise_aggregation (4590, 1897)\n"
     ]
    },
    {
     "data": {
      "application/vnd.jupyter.widget-view+json": {
       "model_id": "2bdd5e12c9104eb2b57bd8ecbb5b6103",
       "version_major": 2,
       "version_minor": 0
      },
      "text/plain": [
       "  0%|          | 0/177 [00:00<?, ?it/s]"
      ]
     },
     "metadata": {},
     "output_type": "display_data"
    },
    {
     "data": {
      "application/vnd.jupyter.widget-view+json": {
       "model_id": "8e525a0947694493ae81551777c20c0f",
       "version_major": 2,
       "version_minor": 0
      },
      "text/plain": [
       "  0%|          | 0/4590 [00:00<?, ?it/s]"
      ]
     },
     "metadata": {},
     "output_type": "display_data"
    },
    {
     "name": "stdout",
     "output_type": "stream",
     "text": [
      "final shape (4590, 178)\n",
      "shape before row_rise_aggregation (55158, 369)\n",
      "shape after row_rise_aggregation (55158, 384)\n",
      "shape before column_rise_aggregation (55158, 384)\n",
      "shape after column_rise_aggregation (4590, 1893)\n"
     ]
    },
    {
     "data": {
      "application/vnd.jupyter.widget-view+json": {
       "model_id": "cc7a203f702245a487d11f1cfafc963e",
       "version_major": 2,
       "version_minor": 0
      },
      "text/plain": [
       "  0%|          | 0/177 [00:00<?, ?it/s]"
      ]
     },
     "metadata": {},
     "output_type": "display_data"
    },
    {
     "data": {
      "application/vnd.jupyter.widget-view+json": {
       "model_id": "65793f5d86724418b6be422b77322651",
       "version_major": 2,
       "version_minor": 0
      },
      "text/plain": [
       "  0%|          | 0/4590 [00:00<?, ?it/s]"
      ]
     },
     "metadata": {},
     "output_type": "display_data"
    },
    {
     "name": "stdout",
     "output_type": "stream",
     "text": [
      "final shape (4590, 178)\n",
      "shape before row_rise_aggregation (54990, 369)\n",
      "shape after row_rise_aggregation (54990, 384)\n",
      "shape before column_rise_aggregation (54990, 384)\n",
      "shape after column_rise_aggregation (4590, 1897)\n"
     ]
    },
    {
     "data": {
      "application/vnd.jupyter.widget-view+json": {
       "model_id": "e4250800525d4ece81aa4ff359237b06",
       "version_major": 2,
       "version_minor": 0
      },
      "text/plain": [
       "  0%|          | 0/177 [00:00<?, ?it/s]"
      ]
     },
     "metadata": {},
     "output_type": "display_data"
    },
    {
     "data": {
      "application/vnd.jupyter.widget-view+json": {
       "model_id": "ddc86cc1b08841fc8b6db8e31550e34c",
       "version_major": 2,
       "version_minor": 0
      },
      "text/plain": [
       "  0%|          | 0/4590 [00:00<?, ?it/s]"
      ]
     },
     "metadata": {},
     "output_type": "display_data"
    },
    {
     "name": "stdout",
     "output_type": "stream",
     "text": [
      "final shape (4590, 178)\n",
      "shape before row_rise_aggregation (55341, 369)\n",
      "shape after row_rise_aggregation (55341, 384)\n",
      "shape before column_rise_aggregation (55341, 384)\n",
      "shape after column_rise_aggregation (4590, 1893)\n"
     ]
    },
    {
     "data": {
      "application/vnd.jupyter.widget-view+json": {
       "model_id": "1502b40b022e46a9b3e054a8e5ffc8c6",
       "version_major": 2,
       "version_minor": 0
      },
      "text/plain": [
       "  0%|          | 0/177 [00:00<?, ?it/s]"
      ]
     },
     "metadata": {},
     "output_type": "display_data"
    },
    {
     "data": {
      "application/vnd.jupyter.widget-view+json": {
       "model_id": "2058261a6ec74b9bb145d5b92533e0c7",
       "version_major": 2,
       "version_minor": 0
      },
      "text/plain": [
       "  0%|          | 0/4590 [00:00<?, ?it/s]"
      ]
     },
     "metadata": {},
     "output_type": "display_data"
    },
    {
     "name": "stdout",
     "output_type": "stream",
     "text": [
      "final shape (4590, 178)\n",
      "shape before row_rise_aggregation (55365, 369)\n",
      "shape after row_rise_aggregation (55365, 384)\n",
      "shape before column_rise_aggregation (55365, 384)\n",
      "shape after column_rise_aggregation (4590, 1897)\n"
     ]
    },
    {
     "data": {
      "application/vnd.jupyter.widget-view+json": {
       "model_id": "aa8f23b8beb849bfbc620570296d40ee",
       "version_major": 2,
       "version_minor": 0
      },
      "text/plain": [
       "  0%|          | 0/177 [00:00<?, ?it/s]"
      ]
     },
     "metadata": {},
     "output_type": "display_data"
    },
    {
     "data": {
      "application/vnd.jupyter.widget-view+json": {
       "model_id": "dc44c9b8e7f842f2b3a0c146fce83b36",
       "version_major": 2,
       "version_minor": 0
      },
      "text/plain": [
       "  0%|          | 0/4590 [00:00<?, ?it/s]"
      ]
     },
     "metadata": {},
     "output_type": "display_data"
    },
    {
     "name": "stdout",
     "output_type": "stream",
     "text": [
      "final shape (4590, 178)\n",
      "shape before row_rise_aggregation (55180, 369)\n",
      "shape after row_rise_aggregation (55180, 384)\n",
      "shape before column_rise_aggregation (55180, 384)\n",
      "shape after column_rise_aggregation (4590, 1897)\n"
     ]
    },
    {
     "data": {
      "application/vnd.jupyter.widget-view+json": {
       "model_id": "658c5926c7724dcfb175c85ed4d58dd8",
       "version_major": 2,
       "version_minor": 0
      },
      "text/plain": [
       "  0%|          | 0/177 [00:00<?, ?it/s]"
      ]
     },
     "metadata": {},
     "output_type": "display_data"
    },
    {
     "data": {
      "application/vnd.jupyter.widget-view+json": {
       "model_id": "b9efe3968bd745869f74b8ea7218a13c",
       "version_major": 2,
       "version_minor": 0
      },
      "text/plain": [
       "  0%|          | 0/4590 [00:00<?, ?it/s]"
      ]
     },
     "metadata": {},
     "output_type": "display_data"
    },
    {
     "name": "stdout",
     "output_type": "stream",
     "text": [
      "final shape (4590, 178)\n",
      "shape before row_rise_aggregation (55372, 369)\n",
      "shape after row_rise_aggregation (55372, 384)\n",
      "shape before column_rise_aggregation (55372, 384)\n",
      "shape after column_rise_aggregation (4590, 1897)\n"
     ]
    },
    {
     "data": {
      "application/vnd.jupyter.widget-view+json": {
       "model_id": "954b7d4e79364dafab7e7b1b97c71e7c",
       "version_major": 2,
       "version_minor": 0
      },
      "text/plain": [
       "  0%|          | 0/177 [00:00<?, ?it/s]"
      ]
     },
     "metadata": {},
     "output_type": "display_data"
    },
    {
     "data": {
      "application/vnd.jupyter.widget-view+json": {
       "model_id": "6d9cb8526c3249b8a5f5240d1d2f9e45",
       "version_major": 2,
       "version_minor": 0
      },
      "text/plain": [
       "  0%|          | 0/4590 [00:00<?, ?it/s]"
      ]
     },
     "metadata": {},
     "output_type": "display_data"
    },
    {
     "name": "stdout",
     "output_type": "stream",
     "text": [
      "final shape (4590, 178)\n",
      "shape before row_rise_aggregation (55388, 369)\n",
      "shape after row_rise_aggregation (55388, 384)\n",
      "shape before column_rise_aggregation (55388, 384)\n",
      "shape after column_rise_aggregation (4590, 1893)\n"
     ]
    },
    {
     "data": {
      "application/vnd.jupyter.widget-view+json": {
       "model_id": "f3281f46d134461096f05e0d260bcbb9",
       "version_major": 2,
       "version_minor": 0
      },
      "text/plain": [
       "  0%|          | 0/177 [00:00<?, ?it/s]"
      ]
     },
     "metadata": {},
     "output_type": "display_data"
    },
    {
     "data": {
      "application/vnd.jupyter.widget-view+json": {
       "model_id": "c0c68cdacd04465a93a83c74954925d2",
       "version_major": 2,
       "version_minor": 0
      },
      "text/plain": [
       "  0%|          | 0/4590 [00:00<?, ?it/s]"
      ]
     },
     "metadata": {},
     "output_type": "display_data"
    },
    {
     "name": "stdout",
     "output_type": "stream",
     "text": [
      "final shape (4590, 178)\n",
      "shape before row_rise_aggregation (55187, 369)\n",
      "shape after row_rise_aggregation (55187, 384)\n",
      "shape before column_rise_aggregation (55187, 384)\n",
      "shape after column_rise_aggregation (4590, 1893)\n"
     ]
    },
    {
     "data": {
      "application/vnd.jupyter.widget-view+json": {
       "model_id": "4d6cbae76af54f269c18e88b992aec21",
       "version_major": 2,
       "version_minor": 0
      },
      "text/plain": [
       "  0%|          | 0/177 [00:00<?, ?it/s]"
      ]
     },
     "metadata": {},
     "output_type": "display_data"
    },
    {
     "data": {
      "application/vnd.jupyter.widget-view+json": {
       "model_id": "5409b9f83eeb4f398fdda22880513505",
       "version_major": 2,
       "version_minor": 0
      },
      "text/plain": [
       "  0%|          | 0/4590 [00:00<?, ?it/s]"
      ]
     },
     "metadata": {},
     "output_type": "display_data"
    },
    {
     "name": "stdout",
     "output_type": "stream",
     "text": [
      "final shape (4590, 178)\n",
      "shape before row_rise_aggregation (55198, 369)\n",
      "shape after row_rise_aggregation (55198, 384)\n",
      "shape before column_rise_aggregation (55198, 384)\n",
      "shape after column_rise_aggregation (4590, 1897)\n"
     ]
    },
    {
     "data": {
      "application/vnd.jupyter.widget-view+json": {
       "model_id": "69117d16925d411eaddb3e3458af8153",
       "version_major": 2,
       "version_minor": 0
      },
      "text/plain": [
       "  0%|          | 0/177 [00:00<?, ?it/s]"
      ]
     },
     "metadata": {},
     "output_type": "display_data"
    },
    {
     "data": {
      "application/vnd.jupyter.widget-view+json": {
       "model_id": "c3270635274e497ba590d4153b3ddf21",
       "version_major": 2,
       "version_minor": 0
      },
      "text/plain": [
       "  0%|          | 0/4590 [00:00<?, ?it/s]"
      ]
     },
     "metadata": {},
     "output_type": "display_data"
    },
    {
     "name": "stdout",
     "output_type": "stream",
     "text": [
      "final shape (4590, 178)\n",
      "shape before row_rise_aggregation (55232, 369)\n",
      "shape after row_rise_aggregation (55232, 384)\n",
      "shape before column_rise_aggregation (55232, 384)\n",
      "shape after column_rise_aggregation (4590, 1897)\n"
     ]
    },
    {
     "data": {
      "application/vnd.jupyter.widget-view+json": {
       "model_id": "2adf9270caba458c95ebd6c23959b8f4",
       "version_major": 2,
       "version_minor": 0
      },
      "text/plain": [
       "  0%|          | 0/177 [00:00<?, ?it/s]"
      ]
     },
     "metadata": {},
     "output_type": "display_data"
    },
    {
     "data": {
      "application/vnd.jupyter.widget-view+json": {
       "model_id": "81161b069bbe4682b32d6a0f013f3cc9",
       "version_major": 2,
       "version_minor": 0
      },
      "text/plain": [
       "  0%|          | 0/4590 [00:00<?, ?it/s]"
      ]
     },
     "metadata": {},
     "output_type": "display_data"
    },
    {
     "name": "stdout",
     "output_type": "stream",
     "text": [
      "final shape (4590, 178)\n",
      "shape before row_rise_aggregation (55213, 369)\n",
      "shape after row_rise_aggregation (55213, 384)\n",
      "shape before column_rise_aggregation (55213, 384)\n",
      "shape after column_rise_aggregation (4590, 1897)\n"
     ]
    },
    {
     "data": {
      "application/vnd.jupyter.widget-view+json": {
       "model_id": "0bbe39e5b8b8414da9330470971de4e0",
       "version_major": 2,
       "version_minor": 0
      },
      "text/plain": [
       "  0%|          | 0/177 [00:00<?, ?it/s]"
      ]
     },
     "metadata": {},
     "output_type": "display_data"
    },
    {
     "data": {
      "application/vnd.jupyter.widget-view+json": {
       "model_id": "a078b087fd334210ad6b578d65e56cfd",
       "version_major": 2,
       "version_minor": 0
      },
      "text/plain": [
       "  0%|          | 0/4590 [00:00<?, ?it/s]"
      ]
     },
     "metadata": {},
     "output_type": "display_data"
    },
    {
     "name": "stdout",
     "output_type": "stream",
     "text": [
      "final shape (4590, 178)\n",
      "shape before row_rise_aggregation (55253, 369)\n",
      "shape after row_rise_aggregation (55253, 384)\n",
      "shape before column_rise_aggregation (55253, 384)\n",
      "shape after column_rise_aggregation (4590, 1897)\n"
     ]
    },
    {
     "data": {
      "application/vnd.jupyter.widget-view+json": {
       "model_id": "12ccb6de64bd46db9e0a809b1c7abce3",
       "version_major": 2,
       "version_minor": 0
      },
      "text/plain": [
       "  0%|          | 0/177 [00:00<?, ?it/s]"
      ]
     },
     "metadata": {},
     "output_type": "display_data"
    },
    {
     "data": {
      "application/vnd.jupyter.widget-view+json": {
       "model_id": "4cf3d67f69dc4df3aa16b1a87d6343cf",
       "version_major": 2,
       "version_minor": 0
      },
      "text/plain": [
       "  0%|          | 0/4590 [00:00<?, ?it/s]"
      ]
     },
     "metadata": {},
     "output_type": "display_data"
    },
    {
     "name": "stdout",
     "output_type": "stream",
     "text": [
      "final shape (4590, 178)\n",
      "shape before row_rise_aggregation (55264, 369)\n",
      "shape after row_rise_aggregation (55264, 384)\n",
      "shape before column_rise_aggregation (55264, 384)\n",
      "shape after column_rise_aggregation (4590, 1865)\n"
     ]
    },
    {
     "data": {
      "application/vnd.jupyter.widget-view+json": {
       "model_id": "22ff4ebc95f746e89d77db8b1a9a5875",
       "version_major": 2,
       "version_minor": 0
      },
      "text/plain": [
       "  0%|          | 0/177 [00:00<?, ?it/s]"
      ]
     },
     "metadata": {},
     "output_type": "display_data"
    },
    {
     "data": {
      "application/vnd.jupyter.widget-view+json": {
       "model_id": "0939f301ebb44d5f9c2fb27d6522899f",
       "version_major": 2,
       "version_minor": 0
      },
      "text/plain": [
       "  0%|          | 0/4590 [00:00<?, ?it/s]"
      ]
     },
     "metadata": {},
     "output_type": "display_data"
    },
    {
     "name": "stdout",
     "output_type": "stream",
     "text": [
      "final shape (4590, 178)\n",
      "shape before row_rise_aggregation (55350, 369)\n",
      "shape after row_rise_aggregation (55350, 384)\n",
      "shape before column_rise_aggregation (55350, 384)\n",
      "shape after column_rise_aggregation (4590, 1889)\n"
     ]
    },
    {
     "data": {
      "application/vnd.jupyter.widget-view+json": {
       "model_id": "7250d48186a84a50a9a1694b345e45c8",
       "version_major": 2,
       "version_minor": 0
      },
      "text/plain": [
       "  0%|          | 0/177 [00:00<?, ?it/s]"
      ]
     },
     "metadata": {},
     "output_type": "display_data"
    },
    {
     "data": {
      "application/vnd.jupyter.widget-view+json": {
       "model_id": "c4183788cb3d4c208cfa8a7fd3a959f2",
       "version_major": 2,
       "version_minor": 0
      },
      "text/plain": [
       "  0%|          | 0/4590 [00:00<?, ?it/s]"
      ]
     },
     "metadata": {},
     "output_type": "display_data"
    },
    {
     "name": "stdout",
     "output_type": "stream",
     "text": [
      "final shape (4590, 178)\n",
      "shape before row_rise_aggregation (55307, 369)\n",
      "shape after row_rise_aggregation (55307, 384)\n",
      "shape before column_rise_aggregation (55307, 384)\n",
      "shape after column_rise_aggregation (4590, 1893)\n"
     ]
    },
    {
     "data": {
      "application/vnd.jupyter.widget-view+json": {
       "model_id": "fd0bd80b593e4e67b5dc1a7437e94ce9",
       "version_major": 2,
       "version_minor": 0
      },
      "text/plain": [
       "  0%|          | 0/177 [00:00<?, ?it/s]"
      ]
     },
     "metadata": {},
     "output_type": "display_data"
    },
    {
     "data": {
      "application/vnd.jupyter.widget-view+json": {
       "model_id": "38d9e0ef574946d8b1f61c8f0c5631c1",
       "version_major": 2,
       "version_minor": 0
      },
      "text/plain": [
       "  0%|          | 0/4590 [00:00<?, ?it/s]"
      ]
     },
     "metadata": {},
     "output_type": "display_data"
    },
    {
     "name": "stdout",
     "output_type": "stream",
     "text": [
      "final shape (4590, 178)\n",
      "shape before row_rise_aggregation (55273, 369)\n",
      "shape after row_rise_aggregation (55273, 384)\n",
      "shape before column_rise_aggregation (55273, 384)\n",
      "shape after column_rise_aggregation (4590, 1893)\n"
     ]
    },
    {
     "data": {
      "application/vnd.jupyter.widget-view+json": {
       "model_id": "724342402e674264b2e23fe1a5bd8355",
       "version_major": 2,
       "version_minor": 0
      },
      "text/plain": [
       "  0%|          | 0/177 [00:00<?, ?it/s]"
      ]
     },
     "metadata": {},
     "output_type": "display_data"
    },
    {
     "data": {
      "application/vnd.jupyter.widget-view+json": {
       "model_id": "1babcb0124db41f2be67d90de334ffec",
       "version_major": 2,
       "version_minor": 0
      },
      "text/plain": [
       "  0%|          | 0/4590 [00:00<?, ?it/s]"
      ]
     },
     "metadata": {},
     "output_type": "display_data"
    },
    {
     "name": "stdout",
     "output_type": "stream",
     "text": [
      "final shape (4590, 178)\n",
      "shape before row_rise_aggregation (55728, 369)\n",
      "shape after row_rise_aggregation (55728, 384)\n",
      "shape before column_rise_aggregation (55728, 384)\n",
      "shape after column_rise_aggregation (4590, 1897)\n"
     ]
    },
    {
     "data": {
      "application/vnd.jupyter.widget-view+json": {
       "model_id": "27093e80f1b144f182672baf4a004f74",
       "version_major": 2,
       "version_minor": 0
      },
      "text/plain": [
       "  0%|          | 0/177 [00:00<?, ?it/s]"
      ]
     },
     "metadata": {},
     "output_type": "display_data"
    },
    {
     "data": {
      "application/vnd.jupyter.widget-view+json": {
       "model_id": "0e77f6ca569547ed8a5273c4105edaae",
       "version_major": 2,
       "version_minor": 0
      },
      "text/plain": [
       "  0%|          | 0/4590 [00:00<?, ?it/s]"
      ]
     },
     "metadata": {},
     "output_type": "display_data"
    },
    {
     "name": "stdout",
     "output_type": "stream",
     "text": [
      "final shape (4590, 178)\n",
      "shape before row_rise_aggregation (55303, 369)\n",
      "shape after row_rise_aggregation (55303, 384)\n",
      "shape before column_rise_aggregation (55303, 384)\n",
      "shape after column_rise_aggregation (4590, 1897)\n"
     ]
    },
    {
     "data": {
      "application/vnd.jupyter.widget-view+json": {
       "model_id": "f55ae74445844a9eb14434c0ae8f04c7",
       "version_major": 2,
       "version_minor": 0
      },
      "text/plain": [
       "  0%|          | 0/177 [00:00<?, ?it/s]"
      ]
     },
     "metadata": {},
     "output_type": "display_data"
    },
    {
     "data": {
      "application/vnd.jupyter.widget-view+json": {
       "model_id": "bf09b5a75a4f4537aa4e4973211584d7",
       "version_major": 2,
       "version_minor": 0
      },
      "text/plain": [
       "  0%|          | 0/4590 [00:00<?, ?it/s]"
      ]
     },
     "metadata": {},
     "output_type": "display_data"
    },
    {
     "name": "stdout",
     "output_type": "stream",
     "text": [
      "final shape (4590, 178)\n",
      "shape before row_rise_aggregation (55705, 369)\n",
      "shape after row_rise_aggregation (55705, 384)\n",
      "shape before column_rise_aggregation (55705, 384)\n",
      "shape after column_rise_aggregation (4590, 1897)\n"
     ]
    },
    {
     "data": {
      "application/vnd.jupyter.widget-view+json": {
       "model_id": "525f653193844fe39b5b23f2b9fe70c9",
       "version_major": 2,
       "version_minor": 0
      },
      "text/plain": [
       "  0%|          | 0/177 [00:00<?, ?it/s]"
      ]
     },
     "metadata": {},
     "output_type": "display_data"
    },
    {
     "data": {
      "application/vnd.jupyter.widget-view+json": {
       "model_id": "e211ab08bbe64d9abe7ad7cf9b4e7eeb",
       "version_major": 2,
       "version_minor": 0
      },
      "text/plain": [
       "  0%|          | 0/4590 [00:00<?, ?it/s]"
      ]
     },
     "metadata": {},
     "output_type": "display_data"
    },
    {
     "name": "stdout",
     "output_type": "stream",
     "text": [
      "final shape (4590, 178)\n",
      "shape before row_rise_aggregation (55260, 369)\n",
      "shape after row_rise_aggregation (55260, 384)\n",
      "shape before column_rise_aggregation (55260, 384)\n",
      "shape after column_rise_aggregation (4590, 1893)\n"
     ]
    },
    {
     "data": {
      "application/vnd.jupyter.widget-view+json": {
       "model_id": "524482de39884c6a856d2276f8c5c901",
       "version_major": 2,
       "version_minor": 0
      },
      "text/plain": [
       "  0%|          | 0/177 [00:00<?, ?it/s]"
      ]
     },
     "metadata": {},
     "output_type": "display_data"
    },
    {
     "data": {
      "application/vnd.jupyter.widget-view+json": {
       "model_id": "5b63f163bdf843c59b19457e7c79701f",
       "version_major": 2,
       "version_minor": 0
      },
      "text/plain": [
       "  0%|          | 0/4590 [00:00<?, ?it/s]"
      ]
     },
     "metadata": {},
     "output_type": "display_data"
    },
    {
     "name": "stdout",
     "output_type": "stream",
     "text": [
      "final shape (4590, 178)\n",
      "shape before row_rise_aggregation (55342, 369)\n",
      "shape after row_rise_aggregation (55342, 384)\n",
      "shape before column_rise_aggregation (55342, 384)\n",
      "shape after column_rise_aggregation (4590, 1881)\n"
     ]
    },
    {
     "data": {
      "application/vnd.jupyter.widget-view+json": {
       "model_id": "b30f294cc0a449dfbe1f032092ce24db",
       "version_major": 2,
       "version_minor": 0
      },
      "text/plain": [
       "  0%|          | 0/177 [00:00<?, ?it/s]"
      ]
     },
     "metadata": {},
     "output_type": "display_data"
    },
    {
     "data": {
      "application/vnd.jupyter.widget-view+json": {
       "model_id": "8567004457cf4e468bd9c0c11e071d86",
       "version_major": 2,
       "version_minor": 0
      },
      "text/plain": [
       "  0%|          | 0/4590 [00:00<?, ?it/s]"
      ]
     },
     "metadata": {},
     "output_type": "display_data"
    },
    {
     "name": "stdout",
     "output_type": "stream",
     "text": [
      "final shape (4590, 178)\n",
      "shape before row_rise_aggregation (55331, 369)\n",
      "shape after row_rise_aggregation (55331, 384)\n",
      "shape before column_rise_aggregation (55331, 384)\n",
      "shape after column_rise_aggregation (4590, 1893)\n"
     ]
    },
    {
     "data": {
      "application/vnd.jupyter.widget-view+json": {
       "model_id": "c9caa3c2e78e48f6b9bc84f0f21ad850",
       "version_major": 2,
       "version_minor": 0
      },
      "text/plain": [
       "  0%|          | 0/177 [00:00<?, ?it/s]"
      ]
     },
     "metadata": {},
     "output_type": "display_data"
    },
    {
     "data": {
      "application/vnd.jupyter.widget-view+json": {
       "model_id": "f12eaec23b9c4e089aaf519991756f6f",
       "version_major": 2,
       "version_minor": 0
      },
      "text/plain": [
       "  0%|          | 0/4590 [00:00<?, ?it/s]"
      ]
     },
     "metadata": {},
     "output_type": "display_data"
    },
    {
     "name": "stdout",
     "output_type": "stream",
     "text": [
      "final shape (4590, 178)\n",
      "shape before row_rise_aggregation (55253, 369)\n",
      "shape after row_rise_aggregation (55253, 384)\n",
      "shape before column_rise_aggregation (55253, 384)\n",
      "shape after column_rise_aggregation (4590, 1897)\n"
     ]
    },
    {
     "data": {
      "application/vnd.jupyter.widget-view+json": {
       "model_id": "b37e92be6e344552b060d055a007f12d",
       "version_major": 2,
       "version_minor": 0
      },
      "text/plain": [
       "  0%|          | 0/177 [00:00<?, ?it/s]"
      ]
     },
     "metadata": {},
     "output_type": "display_data"
    },
    {
     "data": {
      "application/vnd.jupyter.widget-view+json": {
       "model_id": "eff78fb899d14bf4bf556315e0e3ee84",
       "version_major": 2,
       "version_minor": 0
      },
      "text/plain": [
       "  0%|          | 0/4590 [00:00<?, ?it/s]"
      ]
     },
     "metadata": {},
     "output_type": "display_data"
    },
    {
     "name": "stdout",
     "output_type": "stream",
     "text": [
      "final shape (4590, 178)\n",
      "shape before row_rise_aggregation (54987, 369)\n",
      "shape after row_rise_aggregation (54987, 384)\n",
      "shape before column_rise_aggregation (54987, 384)\n",
      "shape after column_rise_aggregation (4590, 1893)\n"
     ]
    },
    {
     "data": {
      "application/vnd.jupyter.widget-view+json": {
       "model_id": "25519b87ee134eaaa0950310c1040989",
       "version_major": 2,
       "version_minor": 0
      },
      "text/plain": [
       "  0%|          | 0/177 [00:00<?, ?it/s]"
      ]
     },
     "metadata": {},
     "output_type": "display_data"
    },
    {
     "data": {
      "application/vnd.jupyter.widget-view+json": {
       "model_id": "5ee4fa878dac4f488ae2a7622eaa58eb",
       "version_major": 2,
       "version_minor": 0
      },
      "text/plain": [
       "  0%|          | 0/4590 [00:00<?, ?it/s]"
      ]
     },
     "metadata": {},
     "output_type": "display_data"
    },
    {
     "name": "stdout",
     "output_type": "stream",
     "text": [
      "final shape (4590, 178)\n",
      "shape before row_rise_aggregation (55375, 369)\n",
      "shape after row_rise_aggregation (55375, 384)\n",
      "shape before column_rise_aggregation (55375, 384)\n",
      "shape after column_rise_aggregation (4590, 1893)\n"
     ]
    },
    {
     "data": {
      "application/vnd.jupyter.widget-view+json": {
       "model_id": "c62449112cb24cd69d24c32d98086be5",
       "version_major": 2,
       "version_minor": 0
      },
      "text/plain": [
       "  0%|          | 0/177 [00:00<?, ?it/s]"
      ]
     },
     "metadata": {},
     "output_type": "display_data"
    },
    {
     "data": {
      "application/vnd.jupyter.widget-view+json": {
       "model_id": "b644c33401ba454bbf81e459352694eb",
       "version_major": 2,
       "version_minor": 0
      },
      "text/plain": [
       "  0%|          | 0/4590 [00:00<?, ?it/s]"
      ]
     },
     "metadata": {},
     "output_type": "display_data"
    },
    {
     "name": "stdout",
     "output_type": "stream",
     "text": [
      "final shape (4590, 178)\n",
      "shape before row_rise_aggregation (55306, 369)\n",
      "shape after row_rise_aggregation (55306, 384)\n",
      "shape before column_rise_aggregation (55306, 384)\n",
      "shape after column_rise_aggregation (4590, 1897)\n"
     ]
    },
    {
     "data": {
      "application/vnd.jupyter.widget-view+json": {
       "model_id": "766e420a23f843db9fbc0a6400dd642d",
       "version_major": 2,
       "version_minor": 0
      },
      "text/plain": [
       "  0%|          | 0/177 [00:00<?, ?it/s]"
      ]
     },
     "metadata": {},
     "output_type": "display_data"
    },
    {
     "data": {
      "application/vnd.jupyter.widget-view+json": {
       "model_id": "a587fdcd09104cc1b198d0d0af35b305",
       "version_major": 2,
       "version_minor": 0
      },
      "text/plain": [
       "  0%|          | 0/4590 [00:00<?, ?it/s]"
      ]
     },
     "metadata": {},
     "output_type": "display_data"
    },
    {
     "name": "stdout",
     "output_type": "stream",
     "text": [
      "final shape (4590, 178)\n",
      "shape before row_rise_aggregation (55224, 369)\n",
      "shape after row_rise_aggregation (55224, 384)\n",
      "shape before column_rise_aggregation (55224, 384)\n",
      "shape after column_rise_aggregation (4590, 1893)\n"
     ]
    },
    {
     "data": {
      "application/vnd.jupyter.widget-view+json": {
       "model_id": "345b79c23c5347398f3164d1afb194ac",
       "version_major": 2,
       "version_minor": 0
      },
      "text/plain": [
       "  0%|          | 0/177 [00:00<?, ?it/s]"
      ]
     },
     "metadata": {},
     "output_type": "display_data"
    },
    {
     "data": {
      "application/vnd.jupyter.widget-view+json": {
       "model_id": "152e617c81ae4cbdaa5bc08fd47eaaf4",
       "version_major": 2,
       "version_minor": 0
      },
      "text/plain": [
       "  0%|          | 0/4590 [00:00<?, ?it/s]"
      ]
     },
     "metadata": {},
     "output_type": "display_data"
    },
    {
     "name": "stdout",
     "output_type": "stream",
     "text": [
      "final shape (4590, 178)\n",
      "shape before row_rise_aggregation (55294, 369)\n",
      "shape after row_rise_aggregation (55294, 384)\n",
      "shape before column_rise_aggregation (55294, 384)\n",
      "shape after column_rise_aggregation (4590, 1893)\n"
     ]
    },
    {
     "data": {
      "application/vnd.jupyter.widget-view+json": {
       "model_id": "cd150a0d79764729975f7063821d1249",
       "version_major": 2,
       "version_minor": 0
      },
      "text/plain": [
       "  0%|          | 0/177 [00:00<?, ?it/s]"
      ]
     },
     "metadata": {},
     "output_type": "display_data"
    },
    {
     "data": {
      "application/vnd.jupyter.widget-view+json": {
       "model_id": "94861d28b2a143c4b4a70f355a97b2b2",
       "version_major": 2,
       "version_minor": 0
      },
      "text/plain": [
       "  0%|          | 0/4590 [00:00<?, ?it/s]"
      ]
     },
     "metadata": {},
     "output_type": "display_data"
    },
    {
     "name": "stdout",
     "output_type": "stream",
     "text": [
      "final shape (4590, 178)\n",
      "shape before row_rise_aggregation (55539, 369)\n",
      "shape after row_rise_aggregation (55539, 384)\n",
      "shape before column_rise_aggregation (55539, 384)\n",
      "shape after column_rise_aggregation (4590, 1897)\n"
     ]
    },
    {
     "data": {
      "application/vnd.jupyter.widget-view+json": {
       "model_id": "1bc868c39f3942dcb523ee8b504d4525",
       "version_major": 2,
       "version_minor": 0
      },
      "text/plain": [
       "  0%|          | 0/177 [00:00<?, ?it/s]"
      ]
     },
     "metadata": {},
     "output_type": "display_data"
    },
    {
     "data": {
      "application/vnd.jupyter.widget-view+json": {
       "model_id": "7e33e41151a94a72a97588e7a17008c7",
       "version_major": 2,
       "version_minor": 0
      },
      "text/plain": [
       "  0%|          | 0/4590 [00:00<?, ?it/s]"
      ]
     },
     "metadata": {},
     "output_type": "display_data"
    },
    {
     "name": "stdout",
     "output_type": "stream",
     "text": [
      "final shape (4590, 178)\n",
      "shape before row_rise_aggregation (55473, 369)\n",
      "shape after row_rise_aggregation (55473, 384)\n",
      "shape before column_rise_aggregation (55473, 384)\n",
      "shape after column_rise_aggregation (4590, 1861)\n"
     ]
    },
    {
     "data": {
      "application/vnd.jupyter.widget-view+json": {
       "model_id": "30e0c86d669b4622981a29e96e0f6eb5",
       "version_major": 2,
       "version_minor": 0
      },
      "text/plain": [
       "  0%|          | 0/177 [00:00<?, ?it/s]"
      ]
     },
     "metadata": {},
     "output_type": "display_data"
    },
    {
     "data": {
      "application/vnd.jupyter.widget-view+json": {
       "model_id": "c6ce05059bb74503bdbe1d285af40f51",
       "version_major": 2,
       "version_minor": 0
      },
      "text/plain": [
       "  0%|          | 0/4590 [00:00<?, ?it/s]"
      ]
     },
     "metadata": {},
     "output_type": "display_data"
    },
    {
     "name": "stdout",
     "output_type": "stream",
     "text": [
      "final shape (4590, 178)\n",
      "shape before row_rise_aggregation (55204, 369)\n",
      "shape after row_rise_aggregation (55204, 384)\n",
      "shape before column_rise_aggregation (55204, 384)\n",
      "shape after column_rise_aggregation (4590, 1897)\n"
     ]
    },
    {
     "data": {
      "application/vnd.jupyter.widget-view+json": {
       "model_id": "26c2b75ec7624ca88df70aa4a7547b03",
       "version_major": 2,
       "version_minor": 0
      },
      "text/plain": [
       "  0%|          | 0/177 [00:00<?, ?it/s]"
      ]
     },
     "metadata": {},
     "output_type": "display_data"
    },
    {
     "data": {
      "application/vnd.jupyter.widget-view+json": {
       "model_id": "16825863673e4852a947beee5f76095c",
       "version_major": 2,
       "version_minor": 0
      },
      "text/plain": [
       "  0%|          | 0/4590 [00:00<?, ?it/s]"
      ]
     },
     "metadata": {},
     "output_type": "display_data"
    },
    {
     "name": "stdout",
     "output_type": "stream",
     "text": [
      "final shape (4590, 178)\n",
      "shape before row_rise_aggregation (55029, 369)\n",
      "shape after row_rise_aggregation (55029, 384)\n",
      "shape before column_rise_aggregation (55029, 384)\n",
      "shape after column_rise_aggregation (4590, 1893)\n"
     ]
    },
    {
     "data": {
      "application/vnd.jupyter.widget-view+json": {
       "model_id": "cf18265e78d74306bf832c59ca06ea1b",
       "version_major": 2,
       "version_minor": 0
      },
      "text/plain": [
       "  0%|          | 0/177 [00:00<?, ?it/s]"
      ]
     },
     "metadata": {},
     "output_type": "display_data"
    },
    {
     "data": {
      "application/vnd.jupyter.widget-view+json": {
       "model_id": "f9190f06016c4de4b88b81de6b56c4c3",
       "version_major": 2,
       "version_minor": 0
      },
      "text/plain": [
       "  0%|          | 0/4590 [00:00<?, ?it/s]"
      ]
     },
     "metadata": {},
     "output_type": "display_data"
    },
    {
     "name": "stdout",
     "output_type": "stream",
     "text": [
      "final shape (4590, 178)\n",
      "shape before row_rise_aggregation (55534, 369)\n",
      "shape after row_rise_aggregation (55534, 384)\n",
      "shape before column_rise_aggregation (55534, 384)\n",
      "shape after column_rise_aggregation (4590, 1897)\n"
     ]
    },
    {
     "data": {
      "application/vnd.jupyter.widget-view+json": {
       "model_id": "975003f08948450f86dc834dd431afe0",
       "version_major": 2,
       "version_minor": 0
      },
      "text/plain": [
       "  0%|          | 0/177 [00:00<?, ?it/s]"
      ]
     },
     "metadata": {},
     "output_type": "display_data"
    },
    {
     "data": {
      "application/vnd.jupyter.widget-view+json": {
       "model_id": "267522f505d649e8933906929aeb63e5",
       "version_major": 2,
       "version_minor": 0
      },
      "text/plain": [
       "  0%|          | 0/4590 [00:00<?, ?it/s]"
      ]
     },
     "metadata": {},
     "output_type": "display_data"
    },
    {
     "name": "stdout",
     "output_type": "stream",
     "text": [
      "final shape (4590, 178)\n",
      "shape before row_rise_aggregation (55191, 369)\n",
      "shape after row_rise_aggregation (55191, 384)\n",
      "shape before column_rise_aggregation (55191, 384)\n",
      "shape after column_rise_aggregation (4590, 1893)\n"
     ]
    },
    {
     "data": {
      "application/vnd.jupyter.widget-view+json": {
       "model_id": "8e3974e2ce244a0db35c134edfe7b7aa",
       "version_major": 2,
       "version_minor": 0
      },
      "text/plain": [
       "  0%|          | 0/177 [00:00<?, ?it/s]"
      ]
     },
     "metadata": {},
     "output_type": "display_data"
    },
    {
     "data": {
      "application/vnd.jupyter.widget-view+json": {
       "model_id": "6139b27de6a94f35ad45c67b9d4d6a64",
       "version_major": 2,
       "version_minor": 0
      },
      "text/plain": [
       "  0%|          | 0/4590 [00:00<?, ?it/s]"
      ]
     },
     "metadata": {},
     "output_type": "display_data"
    },
    {
     "name": "stdout",
     "output_type": "stream",
     "text": [
      "final shape (4590, 178)\n",
      "shape before row_rise_aggregation (55370, 369)\n",
      "shape after row_rise_aggregation (55370, 384)\n",
      "shape before column_rise_aggregation (55370, 384)\n",
      "shape after column_rise_aggregation (4590, 1893)\n"
     ]
    },
    {
     "data": {
      "application/vnd.jupyter.widget-view+json": {
       "model_id": "671339d0f4fa480aab9501dc168708f3",
       "version_major": 2,
       "version_minor": 0
      },
      "text/plain": [
       "  0%|          | 0/177 [00:00<?, ?it/s]"
      ]
     },
     "metadata": {},
     "output_type": "display_data"
    },
    {
     "data": {
      "application/vnd.jupyter.widget-view+json": {
       "model_id": "445d6dfd5c414e5ebd077914fc869b4f",
       "version_major": 2,
       "version_minor": 0
      },
      "text/plain": [
       "  0%|          | 0/4590 [00:00<?, ?it/s]"
      ]
     },
     "metadata": {},
     "output_type": "display_data"
    },
    {
     "name": "stdout",
     "output_type": "stream",
     "text": [
      "final shape (4590, 178)\n",
      "shape before row_rise_aggregation (55514, 369)\n",
      "shape after row_rise_aggregation (55514, 384)\n",
      "shape before column_rise_aggregation (55514, 384)\n",
      "shape after column_rise_aggregation (4590, 1897)\n"
     ]
    },
    {
     "data": {
      "application/vnd.jupyter.widget-view+json": {
       "model_id": "83eebe3dd05f4cfb9b523df833b69f82",
       "version_major": 2,
       "version_minor": 0
      },
      "text/plain": [
       "  0%|          | 0/177 [00:00<?, ?it/s]"
      ]
     },
     "metadata": {},
     "output_type": "display_data"
    },
    {
     "data": {
      "application/vnd.jupyter.widget-view+json": {
       "model_id": "f7602ca8dfaa47ecbc7e3ceeb2c95d66",
       "version_major": 2,
       "version_minor": 0
      },
      "text/plain": [
       "  0%|          | 0/4590 [00:00<?, ?it/s]"
      ]
     },
     "metadata": {},
     "output_type": "display_data"
    },
    {
     "name": "stdout",
     "output_type": "stream",
     "text": [
      "final shape (4590, 178)\n",
      "shape before row_rise_aggregation (55130, 369)\n",
      "shape after row_rise_aggregation (55130, 384)\n",
      "shape before column_rise_aggregation (55130, 384)\n",
      "shape after column_rise_aggregation (4590, 1897)\n"
     ]
    },
    {
     "data": {
      "application/vnd.jupyter.widget-view+json": {
       "model_id": "56d1360a68df4ae091cdc0155a769f3a",
       "version_major": 2,
       "version_minor": 0
      },
      "text/plain": [
       "  0%|          | 0/177 [00:00<?, ?it/s]"
      ]
     },
     "metadata": {},
     "output_type": "display_data"
    },
    {
     "data": {
      "application/vnd.jupyter.widget-view+json": {
       "model_id": "bcbad1c8e1014131b6219ceff50fb967",
       "version_major": 2,
       "version_minor": 0
      },
      "text/plain": [
       "  0%|          | 0/4590 [00:00<?, ?it/s]"
      ]
     },
     "metadata": {},
     "output_type": "display_data"
    },
    {
     "name": "stdout",
     "output_type": "stream",
     "text": [
      "final shape (4590, 178)\n",
      "shape before row_rise_aggregation (55223, 369)\n",
      "shape after row_rise_aggregation (55223, 384)\n",
      "shape before column_rise_aggregation (55223, 384)\n",
      "shape after column_rise_aggregation (4590, 1897)\n"
     ]
    },
    {
     "data": {
      "application/vnd.jupyter.widget-view+json": {
       "model_id": "ddd6b860f03d40779acc17c34a2f9e27",
       "version_major": 2,
       "version_minor": 0
      },
      "text/plain": [
       "  0%|          | 0/177 [00:00<?, ?it/s]"
      ]
     },
     "metadata": {},
     "output_type": "display_data"
    },
    {
     "data": {
      "application/vnd.jupyter.widget-view+json": {
       "model_id": "1b5676c41c4f450bb2baee96f0ae0552",
       "version_major": 2,
       "version_minor": 0
      },
      "text/plain": [
       "  0%|          | 0/4590 [00:00<?, ?it/s]"
      ]
     },
     "metadata": {},
     "output_type": "display_data"
    },
    {
     "name": "stdout",
     "output_type": "stream",
     "text": [
      "final shape (4590, 178)\n",
      "shape before row_rise_aggregation (55423, 369)\n",
      "shape after row_rise_aggregation (55423, 384)\n",
      "shape before column_rise_aggregation (55423, 384)\n",
      "shape after column_rise_aggregation (4590, 1893)\n"
     ]
    },
    {
     "data": {
      "application/vnd.jupyter.widget-view+json": {
       "model_id": "b0168075d5624fa5ab7b274e5c24eb67",
       "version_major": 2,
       "version_minor": 0
      },
      "text/plain": [
       "  0%|          | 0/177 [00:00<?, ?it/s]"
      ]
     },
     "metadata": {},
     "output_type": "display_data"
    },
    {
     "data": {
      "application/vnd.jupyter.widget-view+json": {
       "model_id": "4214da4138b84557a80cd8b32dc84102",
       "version_major": 2,
       "version_minor": 0
      },
      "text/plain": [
       "  0%|          | 0/4590 [00:00<?, ?it/s]"
      ]
     },
     "metadata": {},
     "output_type": "display_data"
    },
    {
     "name": "stdout",
     "output_type": "stream",
     "text": [
      "final shape (4590, 178)\n",
      "shape before row_rise_aggregation (55304, 369)\n",
      "shape after row_rise_aggregation (55304, 384)\n",
      "shape before column_rise_aggregation (55304, 384)\n",
      "shape after column_rise_aggregation (4590, 1897)\n"
     ]
    },
    {
     "data": {
      "application/vnd.jupyter.widget-view+json": {
       "model_id": "fa0ff59c557c4f63ba5ae9b1551de4e9",
       "version_major": 2,
       "version_minor": 0
      },
      "text/plain": [
       "  0%|          | 0/177 [00:00<?, ?it/s]"
      ]
     },
     "metadata": {},
     "output_type": "display_data"
    },
    {
     "data": {
      "application/vnd.jupyter.widget-view+json": {
       "model_id": "431de9401fce445287d11e8802b2fb89",
       "version_major": 2,
       "version_minor": 0
      },
      "text/plain": [
       "  0%|          | 0/4590 [00:00<?, ?it/s]"
      ]
     },
     "metadata": {},
     "output_type": "display_data"
    },
    {
     "name": "stdout",
     "output_type": "stream",
     "text": [
      "final shape (4590, 178)\n",
      "shape before row_rise_aggregation (55164, 369)\n",
      "shape after row_rise_aggregation (55164, 384)\n",
      "shape before column_rise_aggregation (55164, 384)\n",
      "shape after column_rise_aggregation (4590, 1893)\n"
     ]
    },
    {
     "data": {
      "application/vnd.jupyter.widget-view+json": {
       "model_id": "31d03132f06543f089da673ab882d9ea",
       "version_major": 2,
       "version_minor": 0
      },
      "text/plain": [
       "  0%|          | 0/177 [00:00<?, ?it/s]"
      ]
     },
     "metadata": {},
     "output_type": "display_data"
    },
    {
     "data": {
      "application/vnd.jupyter.widget-view+json": {
       "model_id": "87fb5850128745a5b0787375a3e85571",
       "version_major": 2,
       "version_minor": 0
      },
      "text/plain": [
       "  0%|          | 0/4590 [00:00<?, ?it/s]"
      ]
     },
     "metadata": {},
     "output_type": "display_data"
    },
    {
     "name": "stdout",
     "output_type": "stream",
     "text": [
      "final shape (4590, 178)\n",
      "shape before row_rise_aggregation (55314, 369)\n",
      "shape after row_rise_aggregation (55314, 384)\n",
      "shape before column_rise_aggregation (55314, 384)\n",
      "shape after column_rise_aggregation (4590, 1897)\n"
     ]
    },
    {
     "data": {
      "application/vnd.jupyter.widget-view+json": {
       "model_id": "5f1938c7c6694efda0199439fc27e3ac",
       "version_major": 2,
       "version_minor": 0
      },
      "text/plain": [
       "  0%|          | 0/177 [00:00<?, ?it/s]"
      ]
     },
     "metadata": {},
     "output_type": "display_data"
    },
    {
     "data": {
      "application/vnd.jupyter.widget-view+json": {
       "model_id": "9bd3146e9716471e8f69629b9a117109",
       "version_major": 2,
       "version_minor": 0
      },
      "text/plain": [
       "  0%|          | 0/4590 [00:00<?, ?it/s]"
      ]
     },
     "metadata": {},
     "output_type": "display_data"
    },
    {
     "name": "stdout",
     "output_type": "stream",
     "text": [
      "final shape (4590, 178)\n",
      "shape before row_rise_aggregation (55260, 369)\n",
      "shape after row_rise_aggregation (55260, 384)\n",
      "shape before column_rise_aggregation (55260, 384)\n",
      "shape after column_rise_aggregation (4590, 1893)\n"
     ]
    },
    {
     "data": {
      "application/vnd.jupyter.widget-view+json": {
       "model_id": "c68be171f16e40a59c61679ae99d0f7c",
       "version_major": 2,
       "version_minor": 0
      },
      "text/plain": [
       "  0%|          | 0/177 [00:00<?, ?it/s]"
      ]
     },
     "metadata": {},
     "output_type": "display_data"
    },
    {
     "data": {
      "application/vnd.jupyter.widget-view+json": {
       "model_id": "81573120889b416c89aae6774efc4532",
       "version_major": 2,
       "version_minor": 0
      },
      "text/plain": [
       "  0%|          | 0/4590 [00:00<?, ?it/s]"
      ]
     },
     "metadata": {},
     "output_type": "display_data"
    },
    {
     "name": "stdout",
     "output_type": "stream",
     "text": [
      "final shape (4590, 178)\n",
      "shape before row_rise_aggregation (55417, 369)\n",
      "shape after row_rise_aggregation (55417, 384)\n",
      "shape before column_rise_aggregation (55417, 384)\n",
      "shape after column_rise_aggregation (4590, 1889)\n"
     ]
    },
    {
     "data": {
      "application/vnd.jupyter.widget-view+json": {
       "model_id": "6aee4a59f7be469c9f3da9253ea58d16",
       "version_major": 2,
       "version_minor": 0
      },
      "text/plain": [
       "  0%|          | 0/177 [00:00<?, ?it/s]"
      ]
     },
     "metadata": {},
     "output_type": "display_data"
    },
    {
     "data": {
      "application/vnd.jupyter.widget-view+json": {
       "model_id": "be9310ad6fc643eb8f9b8721d660a733",
       "version_major": 2,
       "version_minor": 0
      },
      "text/plain": [
       "  0%|          | 0/4590 [00:00<?, ?it/s]"
      ]
     },
     "metadata": {},
     "output_type": "display_data"
    },
    {
     "name": "stdout",
     "output_type": "stream",
     "text": [
      "final shape (4590, 178)\n",
      "shape before row_rise_aggregation (55593, 369)\n",
      "shape after row_rise_aggregation (55593, 384)\n",
      "shape before column_rise_aggregation (55593, 384)\n",
      "shape after column_rise_aggregation (4590, 1893)\n"
     ]
    },
    {
     "data": {
      "application/vnd.jupyter.widget-view+json": {
       "model_id": "1bea985d96904ee687f04f906b98f5ef",
       "version_major": 2,
       "version_minor": 0
      },
      "text/plain": [
       "  0%|          | 0/177 [00:00<?, ?it/s]"
      ]
     },
     "metadata": {},
     "output_type": "display_data"
    },
    {
     "data": {
      "application/vnd.jupyter.widget-view+json": {
       "model_id": "ad9690a990b54773bbe020735904e9f5",
       "version_major": 2,
       "version_minor": 0
      },
      "text/plain": [
       "  0%|          | 0/4590 [00:00<?, ?it/s]"
      ]
     },
     "metadata": {},
     "output_type": "display_data"
    },
    {
     "name": "stdout",
     "output_type": "stream",
     "text": [
      "final shape (4590, 178)\n",
      "shape before row_rise_aggregation (55246, 369)\n",
      "shape after row_rise_aggregation (55246, 384)\n",
      "shape before column_rise_aggregation (55246, 384)\n",
      "shape after column_rise_aggregation (4590, 1897)\n"
     ]
    },
    {
     "data": {
      "application/vnd.jupyter.widget-view+json": {
       "model_id": "d0eb034e3d064dacab726ca1c2e8379b",
       "version_major": 2,
       "version_minor": 0
      },
      "text/plain": [
       "  0%|          | 0/177 [00:00<?, ?it/s]"
      ]
     },
     "metadata": {},
     "output_type": "display_data"
    },
    {
     "data": {
      "application/vnd.jupyter.widget-view+json": {
       "model_id": "3daa4473ba3b47a1bc6e30969b51f0e9",
       "version_major": 2,
       "version_minor": 0
      },
      "text/plain": [
       "  0%|          | 0/4590 [00:00<?, ?it/s]"
      ]
     },
     "metadata": {},
     "output_type": "display_data"
    },
    {
     "name": "stdout",
     "output_type": "stream",
     "text": [
      "final shape (4590, 178)\n",
      "shape before row_rise_aggregation (55249, 369)\n",
      "shape after row_rise_aggregation (55249, 384)\n",
      "shape before column_rise_aggregation (55249, 384)\n",
      "shape after column_rise_aggregation (4590, 1897)\n"
     ]
    },
    {
     "data": {
      "application/vnd.jupyter.widget-view+json": {
       "model_id": "936d81dbc134414d8ce2352faa833630",
       "version_major": 2,
       "version_minor": 0
      },
      "text/plain": [
       "  0%|          | 0/177 [00:00<?, ?it/s]"
      ]
     },
     "metadata": {},
     "output_type": "display_data"
    },
    {
     "data": {
      "application/vnd.jupyter.widget-view+json": {
       "model_id": "7c4cd17d2a194a49aae0eea7d24cae58",
       "version_major": 2,
       "version_minor": 0
      },
      "text/plain": [
       "  0%|          | 0/4590 [00:00<?, ?it/s]"
      ]
     },
     "metadata": {},
     "output_type": "display_data"
    },
    {
     "name": "stdout",
     "output_type": "stream",
     "text": [
      "final shape (4590, 178)\n",
      "shape before row_rise_aggregation (55459, 369)\n",
      "shape after row_rise_aggregation (55459, 384)\n",
      "shape before column_rise_aggregation (55459, 384)\n",
      "shape after column_rise_aggregation (4590, 1893)\n"
     ]
    },
    {
     "data": {
      "application/vnd.jupyter.widget-view+json": {
       "model_id": "d0fde7e699c54582bcf323c9498c2d58",
       "version_major": 2,
       "version_minor": 0
      },
      "text/plain": [
       "  0%|          | 0/177 [00:00<?, ?it/s]"
      ]
     },
     "metadata": {},
     "output_type": "display_data"
    },
    {
     "data": {
      "application/vnd.jupyter.widget-view+json": {
       "model_id": "e49bf9119fab470c819476586f063797",
       "version_major": 2,
       "version_minor": 0
      },
      "text/plain": [
       "  0%|          | 0/4590 [00:00<?, ?it/s]"
      ]
     },
     "metadata": {},
     "output_type": "display_data"
    },
    {
     "name": "stdout",
     "output_type": "stream",
     "text": [
      "final shape (4590, 178)\n",
      "shape before row_rise_aggregation (55455, 369)\n",
      "shape after row_rise_aggregation (55455, 384)\n",
      "shape before column_rise_aggregation (55455, 384)\n",
      "shape after column_rise_aggregation (4590, 1893)\n"
     ]
    },
    {
     "data": {
      "application/vnd.jupyter.widget-view+json": {
       "model_id": "6f19df3b9cf8440c96f7c16800314d16",
       "version_major": 2,
       "version_minor": 0
      },
      "text/plain": [
       "  0%|          | 0/177 [00:00<?, ?it/s]"
      ]
     },
     "metadata": {},
     "output_type": "display_data"
    },
    {
     "data": {
      "application/vnd.jupyter.widget-view+json": {
       "model_id": "dfdaf7da88eb469fafc13eeb7d732212",
       "version_major": 2,
       "version_minor": 0
      },
      "text/plain": [
       "  0%|          | 0/4590 [00:00<?, ?it/s]"
      ]
     },
     "metadata": {},
     "output_type": "display_data"
    },
    {
     "name": "stdout",
     "output_type": "stream",
     "text": [
      "final shape (4590, 178)\n",
      "shape before row_rise_aggregation (55275, 369)\n",
      "shape after row_rise_aggregation (55275, 384)\n",
      "shape before column_rise_aggregation (55275, 384)\n",
      "shape after column_rise_aggregation (4590, 1893)\n"
     ]
    },
    {
     "data": {
      "application/vnd.jupyter.widget-view+json": {
       "model_id": "816cc276ad634d2db476812bf20a0d10",
       "version_major": 2,
       "version_minor": 0
      },
      "text/plain": [
       "  0%|          | 0/177 [00:00<?, ?it/s]"
      ]
     },
     "metadata": {},
     "output_type": "display_data"
    },
    {
     "data": {
      "application/vnd.jupyter.widget-view+json": {
       "model_id": "fe089324feb74f06807fe99e91df4856",
       "version_major": 2,
       "version_minor": 0
      },
      "text/plain": [
       "  0%|          | 0/4590 [00:00<?, ?it/s]"
      ]
     },
     "metadata": {},
     "output_type": "display_data"
    },
    {
     "name": "stdout",
     "output_type": "stream",
     "text": [
      "final shape (4590, 178)\n",
      "shape before row_rise_aggregation (55629, 369)\n",
      "shape after row_rise_aggregation (55629, 384)\n",
      "shape before column_rise_aggregation (55629, 384)\n",
      "shape after column_rise_aggregation (4590, 1893)\n"
     ]
    },
    {
     "data": {
      "application/vnd.jupyter.widget-view+json": {
       "model_id": "8acef7996208401cb578713250a138f1",
       "version_major": 2,
       "version_minor": 0
      },
      "text/plain": [
       "  0%|          | 0/177 [00:00<?, ?it/s]"
      ]
     },
     "metadata": {},
     "output_type": "display_data"
    },
    {
     "data": {
      "application/vnd.jupyter.widget-view+json": {
       "model_id": "679c78dc115e45fe8b9486296df6a064",
       "version_major": 2,
       "version_minor": 0
      },
      "text/plain": [
       "  0%|          | 0/4590 [00:00<?, ?it/s]"
      ]
     },
     "metadata": {},
     "output_type": "display_data"
    },
    {
     "name": "stdout",
     "output_type": "stream",
     "text": [
      "final shape (4590, 178)\n",
      "shape before row_rise_aggregation (55250, 369)\n",
      "shape after row_rise_aggregation (55250, 384)\n",
      "shape before column_rise_aggregation (55250, 384)\n",
      "shape after column_rise_aggregation (4590, 1897)\n"
     ]
    },
    {
     "data": {
      "application/vnd.jupyter.widget-view+json": {
       "model_id": "d8156f049f8a43b69c3bc55ece337150",
       "version_major": 2,
       "version_minor": 0
      },
      "text/plain": [
       "  0%|          | 0/177 [00:00<?, ?it/s]"
      ]
     },
     "metadata": {},
     "output_type": "display_data"
    },
    {
     "data": {
      "application/vnd.jupyter.widget-view+json": {
       "model_id": "23718fd2badf430da0a916c138539cf9",
       "version_major": 2,
       "version_minor": 0
      },
      "text/plain": [
       "  0%|          | 0/4590 [00:00<?, ?it/s]"
      ]
     },
     "metadata": {},
     "output_type": "display_data"
    },
    {
     "name": "stdout",
     "output_type": "stream",
     "text": [
      "final shape (4590, 178)\n",
      "shape before row_rise_aggregation (55423, 369)\n",
      "shape after row_rise_aggregation (55423, 384)\n",
      "shape before column_rise_aggregation (55423, 384)\n",
      "shape after column_rise_aggregation (4590, 1893)\n"
     ]
    },
    {
     "data": {
      "application/vnd.jupyter.widget-view+json": {
       "model_id": "8b8f388f13d549588aa3fbc251ecc26c",
       "version_major": 2,
       "version_minor": 0
      },
      "text/plain": [
       "  0%|          | 0/177 [00:00<?, ?it/s]"
      ]
     },
     "metadata": {},
     "output_type": "display_data"
    },
    {
     "data": {
      "application/vnd.jupyter.widget-view+json": {
       "model_id": "6c2a98812a3d4965ac262d8a151ac6b3",
       "version_major": 2,
       "version_minor": 0
      },
      "text/plain": [
       "  0%|          | 0/4590 [00:00<?, ?it/s]"
      ]
     },
     "metadata": {},
     "output_type": "display_data"
    },
    {
     "name": "stdout",
     "output_type": "stream",
     "text": [
      "final shape (4590, 178)\n",
      "shape before row_rise_aggregation (55021, 369)\n",
      "shape after row_rise_aggregation (55021, 384)\n",
      "shape before column_rise_aggregation (55021, 384)\n",
      "shape after column_rise_aggregation (4590, 1893)\n"
     ]
    },
    {
     "data": {
      "application/vnd.jupyter.widget-view+json": {
       "model_id": "16034d45d1aa4a6da5a4d03e11f880fc",
       "version_major": 2,
       "version_minor": 0
      },
      "text/plain": [
       "  0%|          | 0/177 [00:00<?, ?it/s]"
      ]
     },
     "metadata": {},
     "output_type": "display_data"
    },
    {
     "data": {
      "application/vnd.jupyter.widget-view+json": {
       "model_id": "ef08b890abc64616a33c959264766e72",
       "version_major": 2,
       "version_minor": 0
      },
      "text/plain": [
       "  0%|          | 0/4590 [00:00<?, ?it/s]"
      ]
     },
     "metadata": {},
     "output_type": "display_data"
    },
    {
     "name": "stdout",
     "output_type": "stream",
     "text": [
      "final shape (4590, 178)\n",
      "shape before row_rise_aggregation (55346, 369)\n",
      "shape after row_rise_aggregation (55346, 384)\n",
      "shape before column_rise_aggregation (55346, 384)\n",
      "shape after column_rise_aggregation (4590, 1893)\n"
     ]
    },
    {
     "data": {
      "application/vnd.jupyter.widget-view+json": {
       "model_id": "def1888254cc4e2c86f8f4b17667c785",
       "version_major": 2,
       "version_minor": 0
      },
      "text/plain": [
       "  0%|          | 0/177 [00:00<?, ?it/s]"
      ]
     },
     "metadata": {},
     "output_type": "display_data"
    },
    {
     "data": {
      "application/vnd.jupyter.widget-view+json": {
       "model_id": "2550ad7fd5b740199bae723fe02e4aec",
       "version_major": 2,
       "version_minor": 0
      },
      "text/plain": [
       "  0%|          | 0/4590 [00:00<?, ?it/s]"
      ]
     },
     "metadata": {},
     "output_type": "display_data"
    },
    {
     "name": "stdout",
     "output_type": "stream",
     "text": [
      "final shape (4590, 178)\n",
      "shape before row_rise_aggregation (55513, 369)\n",
      "shape after row_rise_aggregation (55513, 384)\n",
      "shape before column_rise_aggregation (55513, 384)\n",
      "shape after column_rise_aggregation (4590, 1897)\n"
     ]
    },
    {
     "data": {
      "application/vnd.jupyter.widget-view+json": {
       "model_id": "2009d94ea4d44e88954ca4d158bf8c7c",
       "version_major": 2,
       "version_minor": 0
      },
      "text/plain": [
       "  0%|          | 0/177 [00:00<?, ?it/s]"
      ]
     },
     "metadata": {},
     "output_type": "display_data"
    },
    {
     "data": {
      "application/vnd.jupyter.widget-view+json": {
       "model_id": "5b3374e2f8914966b9008ba4ff3b5005",
       "version_major": 2,
       "version_minor": 0
      },
      "text/plain": [
       "  0%|          | 0/4590 [00:00<?, ?it/s]"
      ]
     },
     "metadata": {},
     "output_type": "display_data"
    },
    {
     "name": "stdout",
     "output_type": "stream",
     "text": [
      "final shape (4590, 178)\n",
      "shape before row_rise_aggregation (55776, 369)\n",
      "shape after row_rise_aggregation (55776, 384)\n",
      "shape before column_rise_aggregation (55776, 384)\n",
      "shape after column_rise_aggregation (4590, 1897)\n"
     ]
    },
    {
     "data": {
      "application/vnd.jupyter.widget-view+json": {
       "model_id": "8f38410f35194f3ea99f095fd6406ef9",
       "version_major": 2,
       "version_minor": 0
      },
      "text/plain": [
       "  0%|          | 0/177 [00:00<?, ?it/s]"
      ]
     },
     "metadata": {},
     "output_type": "display_data"
    },
    {
     "data": {
      "application/vnd.jupyter.widget-view+json": {
       "model_id": "7b4ff047106d42b9ad71d3c624afd8b8",
       "version_major": 2,
       "version_minor": 0
      },
      "text/plain": [
       "  0%|          | 0/4590 [00:00<?, ?it/s]"
      ]
     },
     "metadata": {},
     "output_type": "display_data"
    },
    {
     "name": "stdout",
     "output_type": "stream",
     "text": [
      "final shape (4590, 178)\n",
      "shape before row_rise_aggregation (55475, 369)\n",
      "shape after row_rise_aggregation (55475, 384)\n",
      "shape before column_rise_aggregation (55475, 384)\n",
      "shape after column_rise_aggregation (4590, 1889)\n"
     ]
    },
    {
     "data": {
      "application/vnd.jupyter.widget-view+json": {
       "model_id": "aeb3a0ffa8bc47cbbc5f2c71b77953ca",
       "version_major": 2,
       "version_minor": 0
      },
      "text/plain": [
       "  0%|          | 0/177 [00:00<?, ?it/s]"
      ]
     },
     "metadata": {},
     "output_type": "display_data"
    },
    {
     "data": {
      "application/vnd.jupyter.widget-view+json": {
       "model_id": "020cd55c88d04ea0b97ad2ecc8fc8f00",
       "version_major": 2,
       "version_minor": 0
      },
      "text/plain": [
       "  0%|          | 0/4590 [00:00<?, ?it/s]"
      ]
     },
     "metadata": {},
     "output_type": "display_data"
    },
    {
     "name": "stdout",
     "output_type": "stream",
     "text": [
      "final shape (4590, 178)\n",
      "shape before row_rise_aggregation (55236, 369)\n",
      "shape after row_rise_aggregation (55236, 384)\n",
      "shape before column_rise_aggregation (55236, 384)\n",
      "shape after column_rise_aggregation (4590, 1897)\n"
     ]
    },
    {
     "data": {
      "application/vnd.jupyter.widget-view+json": {
       "model_id": "554c7bae5a124672a8f0f4bca11de101",
       "version_major": 2,
       "version_minor": 0
      },
      "text/plain": [
       "  0%|          | 0/177 [00:00<?, ?it/s]"
      ]
     },
     "metadata": {},
     "output_type": "display_data"
    },
    {
     "data": {
      "application/vnd.jupyter.widget-view+json": {
       "model_id": "2705b11807524634bea8653909b2e437",
       "version_major": 2,
       "version_minor": 0
      },
      "text/plain": [
       "  0%|          | 0/4590 [00:00<?, ?it/s]"
      ]
     },
     "metadata": {},
     "output_type": "display_data"
    },
    {
     "name": "stdout",
     "output_type": "stream",
     "text": [
      "final shape (4590, 178)\n",
      "shape before row_rise_aggregation (54949, 369)\n",
      "shape after row_rise_aggregation (54949, 384)\n",
      "shape before column_rise_aggregation (54949, 384)\n",
      "shape after column_rise_aggregation (4590, 1893)\n"
     ]
    },
    {
     "data": {
      "application/vnd.jupyter.widget-view+json": {
       "model_id": "c7bfa444232c43f9b53a5f12c838b30c",
       "version_major": 2,
       "version_minor": 0
      },
      "text/plain": [
       "  0%|          | 0/177 [00:00<?, ?it/s]"
      ]
     },
     "metadata": {},
     "output_type": "display_data"
    },
    {
     "data": {
      "application/vnd.jupyter.widget-view+json": {
       "model_id": "e1b1b2d167a644afa9f8bd1da7e9ac3f",
       "version_major": 2,
       "version_minor": 0
      },
      "text/plain": [
       "  0%|          | 0/4590 [00:00<?, ?it/s]"
      ]
     },
     "metadata": {},
     "output_type": "display_data"
    },
    {
     "name": "stdout",
     "output_type": "stream",
     "text": [
      "final shape (4590, 178)\n",
      "shape before row_rise_aggregation (55249, 369)\n",
      "shape after row_rise_aggregation (55249, 384)\n",
      "shape before column_rise_aggregation (55249, 384)\n",
      "shape after column_rise_aggregation (4590, 1893)\n"
     ]
    },
    {
     "data": {
      "application/vnd.jupyter.widget-view+json": {
       "model_id": "86b74d7d659b4ad68a10794a7dab5419",
       "version_major": 2,
       "version_minor": 0
      },
      "text/plain": [
       "  0%|          | 0/177 [00:00<?, ?it/s]"
      ]
     },
     "metadata": {},
     "output_type": "display_data"
    },
    {
     "data": {
      "application/vnd.jupyter.widget-view+json": {
       "model_id": "c02fb4bdfadb4df8b5d5406dabb3f8f7",
       "version_major": 2,
       "version_minor": 0
      },
      "text/plain": [
       "  0%|          | 0/4590 [00:00<?, ?it/s]"
      ]
     },
     "metadata": {},
     "output_type": "display_data"
    },
    {
     "name": "stdout",
     "output_type": "stream",
     "text": [
      "final shape (4590, 178)\n",
      "shape before row_rise_aggregation (55208, 369)\n",
      "shape after row_rise_aggregation (55208, 384)\n",
      "shape before column_rise_aggregation (55208, 384)\n",
      "shape after column_rise_aggregation (4590, 1889)\n"
     ]
    },
    {
     "data": {
      "application/vnd.jupyter.widget-view+json": {
       "model_id": "27126fafeba74fa59aceef11a4eeea20",
       "version_major": 2,
       "version_minor": 0
      },
      "text/plain": [
       "  0%|          | 0/177 [00:00<?, ?it/s]"
      ]
     },
     "metadata": {},
     "output_type": "display_data"
    },
    {
     "data": {
      "application/vnd.jupyter.widget-view+json": {
       "model_id": "0ec9e01696644d30a23e4d8845b7bd95",
       "version_major": 2,
       "version_minor": 0
      },
      "text/plain": [
       "  0%|          | 0/4590 [00:00<?, ?it/s]"
      ]
     },
     "metadata": {},
     "output_type": "display_data"
    },
    {
     "name": "stdout",
     "output_type": "stream",
     "text": [
      "final shape (4590, 178)\n",
      "shape before row_rise_aggregation (55529, 369)\n",
      "shape after row_rise_aggregation (55529, 384)\n",
      "shape before column_rise_aggregation (55529, 384)\n",
      "shape after column_rise_aggregation (4590, 1893)\n"
     ]
    },
    {
     "data": {
      "application/vnd.jupyter.widget-view+json": {
       "model_id": "f692d70ea5a5412885f19b64dcf4e719",
       "version_major": 2,
       "version_minor": 0
      },
      "text/plain": [
       "  0%|          | 0/177 [00:00<?, ?it/s]"
      ]
     },
     "metadata": {},
     "output_type": "display_data"
    },
    {
     "data": {
      "application/vnd.jupyter.widget-view+json": {
       "model_id": "5d08a801c9e345a69840c165a2e5427c",
       "version_major": 2,
       "version_minor": 0
      },
      "text/plain": [
       "  0%|          | 0/4590 [00:00<?, ?it/s]"
      ]
     },
     "metadata": {},
     "output_type": "display_data"
    },
    {
     "name": "stdout",
     "output_type": "stream",
     "text": [
      "final shape (4590, 178)\n",
      "shape before row_rise_aggregation (55104, 369)\n",
      "shape after row_rise_aggregation (55104, 384)\n",
      "shape before column_rise_aggregation (55104, 384)\n",
      "shape after column_rise_aggregation (4590, 1893)\n"
     ]
    },
    {
     "data": {
      "application/vnd.jupyter.widget-view+json": {
       "model_id": "75a32ba3444d41e1a990eb59d1630d5e",
       "version_major": 2,
       "version_minor": 0
      },
      "text/plain": [
       "  0%|          | 0/177 [00:00<?, ?it/s]"
      ]
     },
     "metadata": {},
     "output_type": "display_data"
    },
    {
     "data": {
      "application/vnd.jupyter.widget-view+json": {
       "model_id": "d261be680b444c62b9f4df2685548ce7",
       "version_major": 2,
       "version_minor": 0
      },
      "text/plain": [
       "  0%|          | 0/100 [00:00<?, ?it/s]"
      ]
     },
     "metadata": {},
     "output_type": "display_data"
    }
   ],
   "source": [
    "processed = []\n",
    "n_paths = 0\n",
    "for path in tqdm_notebook(glob.glob('train_*.ftr')):\n",
    "    # apply on train\n",
    "    sample_df = pd.read_feather(path)\n",
    "    diff_df = get_difference(sample_df, num_features=num_vars)\n",
    "    sample_df = sample_df.merge(diff_df, on='customer_ID', how='inner')\n",
    "\n",
    "    #   if sample_df.shape[1]<300:\n",
    "    sample_df = extract_date_vars(sample_df)\n",
    "    all_num_vars = num_vars + list(map(lambda x: x + '_diff1', num_vars))\n",
    "    sample_df = row_rise_aggregation(sample_df, save=False)\n",
    "    sample_df = column_rise_aggregation(sample_df, num_vars=all_num_vars, save=False)\n",
    "\n",
    "    \n",
    "    for col in tqdm_notebook(num_vars):\n",
    "        try:\n",
    "            sample_df[f'{col}_last_mean_diff'] = sample_df[f'{col}_last'] - sample_df[f'{col}_mean']\n",
    "        except:\n",
    "            pass\n",
    "\n",
    "    sample_df = sample_df.reset_index()\n",
    "\n",
    "    sample_df.reset_index(drop=True).to_feather(path)\n",
    "    \n",
    "\n",
    "train = pd.concat(map(lambda sample_df: pd.read_feather(sample_df), tqdm_notebook(glob.glob('train_*.ftr'))))"
   ]
  },
  {
   "cell_type": "code",
   "execution_count": 13,
   "id": "babd1708",
   "metadata": {
    "execution": {
     "iopub.execute_input": "2023-01-07T17:36:56.643447Z",
     "iopub.status.busy": "2023-01-07T17:36:56.642624Z",
     "iopub.status.idle": "2023-01-07T17:37:28.326568Z",
     "shell.execute_reply": "2023-01-07T17:37:28.325419Z"
    },
    "papermill": {
     "duration": 31.754037,
     "end_time": "2023-01-07T17:37:28.329786",
     "exception": false,
     "start_time": "2023-01-07T17:36:56.575749",
     "status": "completed"
    },
    "tags": []
   },
   "outputs": [
    {
     "name": "stdout",
     "output_type": "stream",
     "text": [
      "(458913, 2) 458913\n"
     ]
    }
   ],
   "source": [
    "## Left join with labels:\n",
    "labels = pd.read_csv('/kaggle/input/amex-default-prediction/train_labels.csv')\n",
    "print(labels.shape, labels['customer_ID'].nunique())\n",
    "labels = labels.set_index('customer_ID')\n",
    "train = train.set_index('customer_ID')\n",
    "train['target'] = labels['target']\n",
    "# del labels\n",
    "gc.collect()\n",
    "# save result\n",
    "train.reset_index().to_feather('train_fin_df.ftr')"
   ]
  },
  {
   "cell_type": "code",
   "execution_count": 14,
   "id": "1f242387",
   "metadata": {
    "execution": {
     "iopub.execute_input": "2023-01-07T17:37:28.542981Z",
     "iopub.status.busy": "2023-01-07T17:37:28.541245Z",
     "iopub.status.idle": "2023-01-07T17:49:01.948380Z",
     "shell.execute_reply": "2023-01-07T17:49:01.947007Z"
    },
    "papermill": {
     "duration": 693.502235,
     "end_time": "2023-01-07T17:49:01.951101",
     "exception": false,
     "start_time": "2023-01-07T17:37:28.448866",
     "status": "completed"
    },
    "tags": []
   },
   "outputs": [
    {
     "name": "stdout",
     "output_type": "stream",
     "text": [
      "(11363762, 190) 924621\n"
     ]
    },
    {
     "data": {
      "application/vnd.jupyter.widget-view+json": {
       "model_id": "632a7afa67de42e2ae961df57622b28f",
       "version_major": 2,
       "version_minor": 0
      },
      "text/plain": [
       "  0%|          | 0/300 [00:00<?, ?it/s]"
      ]
     },
     "metadata": {},
     "output_type": "display_data"
    },
    {
     "data": {
      "text/plain": [
       "18"
      ]
     },
     "execution_count": 14,
     "metadata": {},
     "output_type": "execute_result"
    }
   ],
   "source": [
    "N_BATCHS = 300\n",
    "c=0\n",
    "\n",
    "test = pd.read_parquet('/kaggle/input/jiegouhua714/test.parquet')\n",
    "n_cid = test.customer_ID.nunique()\n",
    "print(test.shape, n_cid )\n",
    "samples_df = BatchGenerator(test, batch_feature='customer_ID', keep_features=features+['S_2'], n_batchs=N_BATCHS)\n",
    "processed_elements = sum(map(partial(save_partition, prefix='test'), tqdm_notebook(samples_df, total=N_BATCHS)))\n",
    "    \n",
    "del test\n",
    "gc.collect()"
   ]
  },
  {
   "cell_type": "code",
   "execution_count": 15,
   "id": "e98b0e9c",
   "metadata": {
    "execution": {
     "iopub.execute_input": "2023-01-07T17:49:02.085256Z",
     "iopub.status.busy": "2023-01-07T17:49:02.084860Z"
    },
    "papermill": {
     "duration": 4091.862056,
     "end_time": "2023-01-07T18:57:13.879113",
     "exception": false,
     "start_time": "2023-01-07T17:49:02.017057",
     "status": "completed"
    },
    "tags": []
   },
   "outputs": [
    {
     "data": {
      "application/vnd.jupyter.widget-view+json": {
       "model_id": "c032639a0ce64b7195d6434873e52757",
       "version_major": 2,
       "version_minor": 0
      },
      "text/plain": [
       "  0%|          | 0/300 [00:00<?, ?it/s]"
      ]
     },
     "metadata": {},
     "output_type": "display_data"
    },
    {
     "data": {
      "application/vnd.jupyter.widget-view+json": {
       "model_id": "3a93a48397374108a551db40c4452be2",
       "version_major": 2,
       "version_minor": 0
      },
      "text/plain": [
       "  0%|          | 0/2804 [00:00<?, ?it/s]"
      ]
     },
     "metadata": {},
     "output_type": "display_data"
    },
    {
     "name": "stdout",
     "output_type": "stream",
     "text": [
      "final shape (2804, 178)\n",
      "shape before row_rise_aggregation (34462, 369)\n",
      "shape after row_rise_aggregation (34462, 384)\n",
      "shape before column_rise_aggregation (34462, 384)\n",
      "shape after column_rise_aggregation (2804, 1893)\n",
      "diff between last and mean transaction\n"
     ]
    },
    {
     "data": {
      "application/vnd.jupyter.widget-view+json": {
       "model_id": "31608a4eee534c5f84aaba8e21b04af1",
       "version_major": 2,
       "version_minor": 0
      },
      "text/plain": [
       "  0%|          | 0/177 [00:00<?, ?it/s]"
      ]
     },
     "metadata": {},
     "output_type": "display_data"
    },
    {
     "name": "stdout",
     "output_type": "stream",
     "text": [
      "save processed test_299.ftr\n"
     ]
    },
    {
     "data": {
      "application/vnd.jupyter.widget-view+json": {
       "model_id": "6276cf0b4fda4d07b7637d87fdd42033",
       "version_major": 2,
       "version_minor": 0
      },
      "text/plain": [
       "  0%|          | 0/3083 [00:00<?, ?it/s]"
      ]
     },
     "metadata": {},
     "output_type": "display_data"
    },
    {
     "name": "stdout",
     "output_type": "stream",
     "text": [
      "final shape (3083, 178)\n",
      "shape before row_rise_aggregation (37716, 369)\n",
      "shape after row_rise_aggregation (37716, 384)\n",
      "shape before column_rise_aggregation (37716, 384)\n",
      "shape after column_rise_aggregation (3083, 1897)\n",
      "diff between last and mean transaction\n"
     ]
    },
    {
     "data": {
      "application/vnd.jupyter.widget-view+json": {
       "model_id": "1086dc05a58447c8a99f226ff9f49ca6",
       "version_major": 2,
       "version_minor": 0
      },
      "text/plain": [
       "  0%|          | 0/177 [00:00<?, ?it/s]"
      ]
     },
     "metadata": {},
     "output_type": "display_data"
    },
    {
     "name": "stdout",
     "output_type": "stream",
     "text": [
      "save processed test_57.ftr\n"
     ]
    },
    {
     "data": {
      "application/vnd.jupyter.widget-view+json": {
       "model_id": "d404c85490fa493b9a413a6362dc1a8b",
       "version_major": 2,
       "version_minor": 0
      },
      "text/plain": [
       "  0%|          | 0/3083 [00:00<?, ?it/s]"
      ]
     },
     "metadata": {},
     "output_type": "display_data"
    },
    {
     "name": "stdout",
     "output_type": "stream",
     "text": [
      "final shape (3083, 178)\n",
      "shape before row_rise_aggregation (37803, 369)\n",
      "shape after row_rise_aggregation (37803, 384)\n",
      "shape before column_rise_aggregation (37803, 384)\n",
      "shape after column_rise_aggregation (3083, 1885)\n",
      "diff between last and mean transaction\n"
     ]
    },
    {
     "data": {
      "application/vnd.jupyter.widget-view+json": {
       "model_id": "8c7d1b85d1d34db880f551f91c095a08",
       "version_major": 2,
       "version_minor": 0
      },
      "text/plain": [
       "  0%|          | 0/177 [00:00<?, ?it/s]"
      ]
     },
     "metadata": {},
     "output_type": "display_data"
    },
    {
     "name": "stdout",
     "output_type": "stream",
     "text": [
      "save processed test_112.ftr\n"
     ]
    },
    {
     "data": {
      "application/vnd.jupyter.widget-view+json": {
       "model_id": "b1d48813cb5d47b2a5adffdc5dfcfe63",
       "version_major": 2,
       "version_minor": 0
      },
      "text/plain": [
       "  0%|          | 0/3083 [00:00<?, ?it/s]"
      ]
     },
     "metadata": {},
     "output_type": "display_data"
    },
    {
     "name": "stdout",
     "output_type": "stream",
     "text": [
      "final shape (3083, 178)\n",
      "shape before row_rise_aggregation (37984, 369)\n",
      "shape after row_rise_aggregation (37984, 384)\n",
      "shape before column_rise_aggregation (37984, 384)\n",
      "shape after column_rise_aggregation (3083, 1893)\n",
      "diff between last and mean transaction\n"
     ]
    },
    {
     "data": {
      "application/vnd.jupyter.widget-view+json": {
       "model_id": "82a46843ca8747db8f72b3c5776c0b83",
       "version_major": 2,
       "version_minor": 0
      },
      "text/plain": [
       "  0%|          | 0/177 [00:00<?, ?it/s]"
      ]
     },
     "metadata": {},
     "output_type": "display_data"
    },
    {
     "name": "stdout",
     "output_type": "stream",
     "text": [
      "save processed test_241.ftr\n"
     ]
    },
    {
     "data": {
      "application/vnd.jupyter.widget-view+json": {
       "model_id": "67f9320354364c51a46f6af22ac4b41f",
       "version_major": 2,
       "version_minor": 0
      },
      "text/plain": [
       "  0%|          | 0/3083 [00:00<?, ?it/s]"
      ]
     },
     "metadata": {},
     "output_type": "display_data"
    },
    {
     "name": "stdout",
     "output_type": "stream",
     "text": [
      "final shape (3083, 178)\n",
      "shape before row_rise_aggregation (37919, 369)\n",
      "shape after row_rise_aggregation (37919, 384)\n",
      "shape before column_rise_aggregation (37919, 384)\n",
      "shape after column_rise_aggregation (3083, 1893)\n",
      "diff between last and mean transaction\n"
     ]
    },
    {
     "data": {
      "application/vnd.jupyter.widget-view+json": {
       "model_id": "b6552baa917e48728a82516e2267283c",
       "version_major": 2,
       "version_minor": 0
      },
      "text/plain": [
       "  0%|          | 0/177 [00:00<?, ?it/s]"
      ]
     },
     "metadata": {},
     "output_type": "display_data"
    },
    {
     "name": "stdout",
     "output_type": "stream",
     "text": [
      "save processed test_226.ftr\n"
     ]
    },
    {
     "data": {
      "application/vnd.jupyter.widget-view+json": {
       "model_id": "eea4ce2784f548fdb70291a80d52c0d5",
       "version_major": 2,
       "version_minor": 0
      },
      "text/plain": [
       "  0%|          | 0/3083 [00:00<?, ?it/s]"
      ]
     },
     "metadata": {},
     "output_type": "display_data"
    },
    {
     "name": "stdout",
     "output_type": "stream",
     "text": [
      "final shape (3083, 178)\n",
      "shape before row_rise_aggregation (38004, 369)\n",
      "shape after row_rise_aggregation (38004, 384)\n",
      "shape before column_rise_aggregation (38004, 384)\n",
      "shape after column_rise_aggregation (3083, 1897)\n",
      "diff between last and mean transaction\n"
     ]
    },
    {
     "data": {
      "application/vnd.jupyter.widget-view+json": {
       "model_id": "93e001aa69534e178e989e9badd93516",
       "version_major": 2,
       "version_minor": 0
      },
      "text/plain": [
       "  0%|          | 0/177 [00:00<?, ?it/s]"
      ]
     },
     "metadata": {},
     "output_type": "display_data"
    },
    {
     "name": "stdout",
     "output_type": "stream",
     "text": [
      "save processed test_270.ftr\n"
     ]
    },
    {
     "data": {
      "application/vnd.jupyter.widget-view+json": {
       "model_id": "bae8b1878bf84f5ba66eab4fb53166c9",
       "version_major": 2,
       "version_minor": 0
      },
      "text/plain": [
       "  0%|          | 0/3083 [00:00<?, ?it/s]"
      ]
     },
     "metadata": {},
     "output_type": "display_data"
    },
    {
     "name": "stdout",
     "output_type": "stream",
     "text": [
      "final shape (3083, 178)\n",
      "shape before row_rise_aggregation (37747, 369)\n",
      "shape after row_rise_aggregation (37747, 384)\n",
      "shape before column_rise_aggregation (37747, 384)\n",
      "shape after column_rise_aggregation (3083, 1897)\n",
      "diff between last and mean transaction\n"
     ]
    },
    {
     "data": {
      "application/vnd.jupyter.widget-view+json": {
       "model_id": "9dfb7f7ad67e45d0b59107143429e515",
       "version_major": 2,
       "version_minor": 0
      },
      "text/plain": [
       "  0%|          | 0/177 [00:00<?, ?it/s]"
      ]
     },
     "metadata": {},
     "output_type": "display_data"
    },
    {
     "name": "stdout",
     "output_type": "stream",
     "text": [
      "save processed test_191.ftr\n"
     ]
    },
    {
     "data": {
      "application/vnd.jupyter.widget-view+json": {
       "model_id": "1fd0d3e0333142e9b7d33fd8ee7861d7",
       "version_major": 2,
       "version_minor": 0
      },
      "text/plain": [
       "  0%|          | 0/3083 [00:00<?, ?it/s]"
      ]
     },
     "metadata": {},
     "output_type": "display_data"
    },
    {
     "name": "stdout",
     "output_type": "stream",
     "text": [
      "final shape (3083, 178)\n",
      "shape before row_rise_aggregation (38042, 369)\n",
      "shape after row_rise_aggregation (38042, 384)\n",
      "shape before column_rise_aggregation (38042, 384)\n",
      "shape after column_rise_aggregation (3083, 1897)\n",
      "diff between last and mean transaction\n"
     ]
    },
    {
     "data": {
      "application/vnd.jupyter.widget-view+json": {
       "model_id": "62c066ac036a40d6a6da544841dde0ea",
       "version_major": 2,
       "version_minor": 0
      },
      "text/plain": [
       "  0%|          | 0/177 [00:00<?, ?it/s]"
      ]
     },
     "metadata": {},
     "output_type": "display_data"
    },
    {
     "name": "stdout",
     "output_type": "stream",
     "text": [
      "save processed test_40.ftr\n"
     ]
    },
    {
     "data": {
      "application/vnd.jupyter.widget-view+json": {
       "model_id": "133492d411a842708a4109d89e39e6bf",
       "version_major": 2,
       "version_minor": 0
      },
      "text/plain": [
       "  0%|          | 0/3083 [00:00<?, ?it/s]"
      ]
     },
     "metadata": {},
     "output_type": "display_data"
    },
    {
     "name": "stdout",
     "output_type": "stream",
     "text": [
      "final shape (3083, 178)\n",
      "shape before row_rise_aggregation (37922, 369)\n",
      "shape after row_rise_aggregation (37922, 384)\n",
      "shape before column_rise_aggregation (37922, 384)\n",
      "shape after column_rise_aggregation (3083, 1897)\n",
      "diff between last and mean transaction\n"
     ]
    },
    {
     "data": {
      "application/vnd.jupyter.widget-view+json": {
       "model_id": "8252197e94e649f98adb5db8c6e0725a",
       "version_major": 2,
       "version_minor": 0
      },
      "text/plain": [
       "  0%|          | 0/177 [00:00<?, ?it/s]"
      ]
     },
     "metadata": {},
     "output_type": "display_data"
    },
    {
     "name": "stdout",
     "output_type": "stream",
     "text": [
      "save processed test_263.ftr\n"
     ]
    },
    {
     "data": {
      "application/vnd.jupyter.widget-view+json": {
       "model_id": "3a38b0cd957949cf8cf21b46f6919a85",
       "version_major": 2,
       "version_minor": 0
      },
      "text/plain": [
       "  0%|          | 0/3083 [00:00<?, ?it/s]"
      ]
     },
     "metadata": {},
     "output_type": "display_data"
    },
    {
     "name": "stdout",
     "output_type": "stream",
     "text": [
      "final shape (3083, 178)\n",
      "shape before row_rise_aggregation (37810, 369)\n",
      "shape after row_rise_aggregation (37810, 384)\n",
      "shape before column_rise_aggregation (37810, 384)\n",
      "shape after column_rise_aggregation (3083, 1897)\n",
      "diff between last and mean transaction\n"
     ]
    },
    {
     "data": {
      "application/vnd.jupyter.widget-view+json": {
       "model_id": "f6849e93a64d4cada89ecd67720c0619",
       "version_major": 2,
       "version_minor": 0
      },
      "text/plain": [
       "  0%|          | 0/177 [00:00<?, ?it/s]"
      ]
     },
     "metadata": {},
     "output_type": "display_data"
    },
    {
     "name": "stdout",
     "output_type": "stream",
     "text": [
      "save processed test_29.ftr\n"
     ]
    },
    {
     "data": {
      "application/vnd.jupyter.widget-view+json": {
       "model_id": "45448488087a44278fd2741cbf8b92c2",
       "version_major": 2,
       "version_minor": 0
      },
      "text/plain": [
       "  0%|          | 0/3083 [00:00<?, ?it/s]"
      ]
     },
     "metadata": {},
     "output_type": "display_data"
    },
    {
     "name": "stdout",
     "output_type": "stream",
     "text": [
      "final shape (3083, 178)\n",
      "shape before row_rise_aggregation (37810, 369)\n",
      "shape after row_rise_aggregation (37810, 384)\n",
      "shape before column_rise_aggregation (37810, 384)\n",
      "shape after column_rise_aggregation (3083, 1897)\n",
      "diff between last and mean transaction\n"
     ]
    },
    {
     "data": {
      "application/vnd.jupyter.widget-view+json": {
       "model_id": "1ce7ddbd406e478e91e0eed6c7741235",
       "version_major": 2,
       "version_minor": 0
      },
      "text/plain": [
       "  0%|          | 0/177 [00:00<?, ?it/s]"
      ]
     },
     "metadata": {},
     "output_type": "display_data"
    },
    {
     "name": "stdout",
     "output_type": "stream",
     "text": [
      "save processed test_21.ftr\n"
     ]
    },
    {
     "data": {
      "application/vnd.jupyter.widget-view+json": {
       "model_id": "2301a7974b36465f8734515b38827011",
       "version_major": 2,
       "version_minor": 0
      },
      "text/plain": [
       "  0%|          | 0/3083 [00:00<?, ?it/s]"
      ]
     },
     "metadata": {},
     "output_type": "display_data"
    },
    {
     "name": "stdout",
     "output_type": "stream",
     "text": [
      "final shape (3083, 178)\n",
      "shape before row_rise_aggregation (38057, 369)\n",
      "shape after row_rise_aggregation (38057, 384)\n",
      "shape before column_rise_aggregation (38057, 384)\n",
      "shape after column_rise_aggregation (3083, 1889)\n",
      "diff between last and mean transaction\n"
     ]
    },
    {
     "data": {
      "application/vnd.jupyter.widget-view+json": {
       "model_id": "6df938886a624e9cba9cbe6b388f222d",
       "version_major": 2,
       "version_minor": 0
      },
      "text/plain": [
       "  0%|          | 0/177 [00:00<?, ?it/s]"
      ]
     },
     "metadata": {},
     "output_type": "display_data"
    },
    {
     "name": "stdout",
     "output_type": "stream",
     "text": [
      "save processed test_195.ftr\n"
     ]
    },
    {
     "data": {
      "application/vnd.jupyter.widget-view+json": {
       "model_id": "ba937044a3114bda942907bd951e3170",
       "version_major": 2,
       "version_minor": 0
      },
      "text/plain": [
       "  0%|          | 0/3083 [00:00<?, ?it/s]"
      ]
     },
     "metadata": {},
     "output_type": "display_data"
    },
    {
     "name": "stdout",
     "output_type": "stream",
     "text": [
      "final shape (3083, 178)\n",
      "shape before row_rise_aggregation (37920, 369)\n",
      "shape after row_rise_aggregation (37920, 384)\n",
      "shape before column_rise_aggregation (37920, 384)\n",
      "shape after column_rise_aggregation (3083, 1885)\n",
      "diff between last and mean transaction\n"
     ]
    },
    {
     "data": {
      "application/vnd.jupyter.widget-view+json": {
       "model_id": "75ad1806129c4ddea5337b3580ea3ffc",
       "version_major": 2,
       "version_minor": 0
      },
      "text/plain": [
       "  0%|          | 0/177 [00:00<?, ?it/s]"
      ]
     },
     "metadata": {},
     "output_type": "display_data"
    },
    {
     "name": "stdout",
     "output_type": "stream",
     "text": [
      "save processed test_275.ftr\n"
     ]
    },
    {
     "data": {
      "application/vnd.jupyter.widget-view+json": {
       "model_id": "15de8b8d1379499985d7672fc1fcfedd",
       "version_major": 2,
       "version_minor": 0
      },
      "text/plain": [
       "  0%|          | 0/3083 [00:00<?, ?it/s]"
      ]
     },
     "metadata": {},
     "output_type": "display_data"
    },
    {
     "name": "stdout",
     "output_type": "stream",
     "text": [
      "final shape (3083, 178)\n",
      "shape before row_rise_aggregation (37930, 369)\n",
      "shape after row_rise_aggregation (37930, 384)\n",
      "shape before column_rise_aggregation (37930, 384)\n",
      "shape after column_rise_aggregation (3083, 1897)\n",
      "diff between last and mean transaction\n"
     ]
    },
    {
     "data": {
      "application/vnd.jupyter.widget-view+json": {
       "model_id": "e095d1304f2f4e89b4ff5ec555768349",
       "version_major": 2,
       "version_minor": 0
      },
      "text/plain": [
       "  0%|          | 0/177 [00:00<?, ?it/s]"
      ]
     },
     "metadata": {},
     "output_type": "display_data"
    },
    {
     "name": "stdout",
     "output_type": "stream",
     "text": [
      "save processed test_239.ftr\n"
     ]
    },
    {
     "data": {
      "application/vnd.jupyter.widget-view+json": {
       "model_id": "e7837e9f32e943769d865771d0d266ed",
       "version_major": 2,
       "version_minor": 0
      },
      "text/plain": [
       "  0%|          | 0/3083 [00:00<?, ?it/s]"
      ]
     },
     "metadata": {},
     "output_type": "display_data"
    },
    {
     "name": "stdout",
     "output_type": "stream",
     "text": [
      "final shape (3083, 178)\n",
      "shape before row_rise_aggregation (37704, 369)\n",
      "shape after row_rise_aggregation (37704, 384)\n",
      "shape before column_rise_aggregation (37704, 384)\n",
      "shape after column_rise_aggregation (3083, 1897)\n",
      "diff between last and mean transaction\n"
     ]
    },
    {
     "data": {
      "application/vnd.jupyter.widget-view+json": {
       "model_id": "29114deb481d42e5b7e8b0da478fdbdf",
       "version_major": 2,
       "version_minor": 0
      },
      "text/plain": [
       "  0%|          | 0/177 [00:00<?, ?it/s]"
      ]
     },
     "metadata": {},
     "output_type": "display_data"
    },
    {
     "name": "stdout",
     "output_type": "stream",
     "text": [
      "save processed test_118.ftr\n"
     ]
    },
    {
     "data": {
      "application/vnd.jupyter.widget-view+json": {
       "model_id": "520396a469104e6a805722e24fc55153",
       "version_major": 2,
       "version_minor": 0
      },
      "text/plain": [
       "  0%|          | 0/3083 [00:00<?, ?it/s]"
      ]
     },
     "metadata": {},
     "output_type": "display_data"
    },
    {
     "name": "stdout",
     "output_type": "stream",
     "text": [
      "final shape (3083, 178)\n",
      "shape before row_rise_aggregation (37724, 369)\n",
      "shape after row_rise_aggregation (37724, 384)\n",
      "shape before column_rise_aggregation (37724, 384)\n",
      "shape after column_rise_aggregation (3083, 1893)\n",
      "diff between last and mean transaction\n"
     ]
    },
    {
     "data": {
      "application/vnd.jupyter.widget-view+json": {
       "model_id": "af52e9b7ac3b49a38f63c5953b0b3906",
       "version_major": 2,
       "version_minor": 0
      },
      "text/plain": [
       "  0%|          | 0/177 [00:00<?, ?it/s]"
      ]
     },
     "metadata": {},
     "output_type": "display_data"
    },
    {
     "name": "stdout",
     "output_type": "stream",
     "text": [
      "save processed test_240.ftr\n"
     ]
    },
    {
     "data": {
      "application/vnd.jupyter.widget-view+json": {
       "model_id": "af79debc962f48a8a09bd0e35f8818fa",
       "version_major": 2,
       "version_minor": 0
      },
      "text/plain": [
       "  0%|          | 0/3083 [00:00<?, ?it/s]"
      ]
     },
     "metadata": {},
     "output_type": "display_data"
    },
    {
     "name": "stdout",
     "output_type": "stream",
     "text": [
      "final shape (3083, 178)\n",
      "shape before row_rise_aggregation (37686, 369)\n",
      "shape after row_rise_aggregation (37686, 384)\n",
      "shape before column_rise_aggregation (37686, 384)\n",
      "shape after column_rise_aggregation (3083, 1897)\n",
      "diff between last and mean transaction\n"
     ]
    },
    {
     "data": {
      "application/vnd.jupyter.widget-view+json": {
       "model_id": "726ff6a61c484d838ac8b016015bceca",
       "version_major": 2,
       "version_minor": 0
      },
      "text/plain": [
       "  0%|          | 0/177 [00:00<?, ?it/s]"
      ]
     },
     "metadata": {},
     "output_type": "display_data"
    },
    {
     "name": "stdout",
     "output_type": "stream",
     "text": [
      "save processed test_74.ftr\n"
     ]
    },
    {
     "data": {
      "application/vnd.jupyter.widget-view+json": {
       "model_id": "a3218874c86d489e845c847cb78d4dcf",
       "version_major": 2,
       "version_minor": 0
      },
      "text/plain": [
       "  0%|          | 0/3083 [00:00<?, ?it/s]"
      ]
     },
     "metadata": {},
     "output_type": "display_data"
    },
    {
     "name": "stdout",
     "output_type": "stream",
     "text": [
      "final shape (3083, 178)\n",
      "shape before row_rise_aggregation (38000, 369)\n",
      "shape after row_rise_aggregation (38000, 384)\n",
      "shape before column_rise_aggregation (38000, 384)\n",
      "shape after column_rise_aggregation (3083, 1893)\n",
      "diff between last and mean transaction\n"
     ]
    },
    {
     "data": {
      "application/vnd.jupyter.widget-view+json": {
       "model_id": "0bf3371f67844f6da69be4acd1938c7a",
       "version_major": 2,
       "version_minor": 0
      },
      "text/plain": [
       "  0%|          | 0/177 [00:00<?, ?it/s]"
      ]
     },
     "metadata": {},
     "output_type": "display_data"
    },
    {
     "name": "stdout",
     "output_type": "stream",
     "text": [
      "save processed test_293.ftr\n"
     ]
    },
    {
     "data": {
      "application/vnd.jupyter.widget-view+json": {
       "model_id": "2618c0ef78c1465dbde867d39291a1e6",
       "version_major": 2,
       "version_minor": 0
      },
      "text/plain": [
       "  0%|          | 0/3083 [00:00<?, ?it/s]"
      ]
     },
     "metadata": {},
     "output_type": "display_data"
    },
    {
     "name": "stdout",
     "output_type": "stream",
     "text": [
      "final shape (3083, 178)\n",
      "shape before row_rise_aggregation (38027, 369)\n",
      "shape after row_rise_aggregation (38027, 384)\n",
      "shape before column_rise_aggregation (38027, 384)\n",
      "shape after column_rise_aggregation (3083, 1897)\n",
      "diff between last and mean transaction\n"
     ]
    },
    {
     "data": {
      "application/vnd.jupyter.widget-view+json": {
       "model_id": "719d39a457b94261bed72b341e650eda",
       "version_major": 2,
       "version_minor": 0
      },
      "text/plain": [
       "  0%|          | 0/177 [00:00<?, ?it/s]"
      ]
     },
     "metadata": {},
     "output_type": "display_data"
    },
    {
     "name": "stdout",
     "output_type": "stream",
     "text": [
      "save processed test_242.ftr\n"
     ]
    },
    {
     "data": {
      "application/vnd.jupyter.widget-view+json": {
       "model_id": "f6fb70f273374a459624ef77f5005d1d",
       "version_major": 2,
       "version_minor": 0
      },
      "text/plain": [
       "  0%|          | 0/3083 [00:00<?, ?it/s]"
      ]
     },
     "metadata": {},
     "output_type": "display_data"
    },
    {
     "name": "stdout",
     "output_type": "stream",
     "text": [
      "final shape (3083, 178)\n",
      "shape before row_rise_aggregation (37917, 369)\n",
      "shape after row_rise_aggregation (37917, 384)\n",
      "shape before column_rise_aggregation (37917, 384)\n",
      "shape after column_rise_aggregation (3083, 1893)\n",
      "diff between last and mean transaction\n"
     ]
    },
    {
     "data": {
      "application/vnd.jupyter.widget-view+json": {
       "model_id": "6228f5124b234eb3a0edc2eefef084fc",
       "version_major": 2,
       "version_minor": 0
      },
      "text/plain": [
       "  0%|          | 0/177 [00:00<?, ?it/s]"
      ]
     },
     "metadata": {},
     "output_type": "display_data"
    },
    {
     "name": "stdout",
     "output_type": "stream",
     "text": [
      "save processed test_234.ftr\n"
     ]
    },
    {
     "data": {
      "application/vnd.jupyter.widget-view+json": {
       "model_id": "c169128e2063493e82785f91e151d1ee",
       "version_major": 2,
       "version_minor": 0
      },
      "text/plain": [
       "  0%|          | 0/3083 [00:00<?, ?it/s]"
      ]
     },
     "metadata": {},
     "output_type": "display_data"
    },
    {
     "name": "stdout",
     "output_type": "stream",
     "text": [
      "final shape (3083, 178)\n",
      "shape before row_rise_aggregation (37913, 369)\n",
      "shape after row_rise_aggregation (37913, 384)\n",
      "shape before column_rise_aggregation (37913, 384)\n",
      "shape after column_rise_aggregation (3083, 1897)\n",
      "diff between last and mean transaction\n"
     ]
    },
    {
     "data": {
      "application/vnd.jupyter.widget-view+json": {
       "model_id": "4b9ce59d404a430ab6c28df874a5d99a",
       "version_major": 2,
       "version_minor": 0
      },
      "text/plain": [
       "  0%|          | 0/177 [00:00<?, ?it/s]"
      ]
     },
     "metadata": {},
     "output_type": "display_data"
    },
    {
     "name": "stdout",
     "output_type": "stream",
     "text": [
      "save processed test_250.ftr\n"
     ]
    },
    {
     "data": {
      "application/vnd.jupyter.widget-view+json": {
       "model_id": "5aabf0c5483b46d5a22d144339dee542",
       "version_major": 2,
       "version_minor": 0
      },
      "text/plain": [
       "  0%|          | 0/3083 [00:00<?, ?it/s]"
      ]
     },
     "metadata": {},
     "output_type": "display_data"
    },
    {
     "name": "stdout",
     "output_type": "stream",
     "text": [
      "final shape (3083, 178)\n",
      "shape before row_rise_aggregation (37910, 369)\n",
      "shape after row_rise_aggregation (37910, 384)\n",
      "shape before column_rise_aggregation (37910, 384)\n",
      "shape after column_rise_aggregation (3083, 1897)\n",
      "diff between last and mean transaction\n"
     ]
    },
    {
     "data": {
      "application/vnd.jupyter.widget-view+json": {
       "model_id": "bdfe3e848a8a4c3cb4cd17401d562c44",
       "version_major": 2,
       "version_minor": 0
      },
      "text/plain": [
       "  0%|          | 0/177 [00:00<?, ?it/s]"
      ]
     },
     "metadata": {},
     "output_type": "display_data"
    },
    {
     "name": "stdout",
     "output_type": "stream",
     "text": [
      "save processed test_228.ftr\n"
     ]
    },
    {
     "data": {
      "application/vnd.jupyter.widget-view+json": {
       "model_id": "6447f37f29d5459f957732b28895d888",
       "version_major": 2,
       "version_minor": 0
      },
      "text/plain": [
       "  0%|          | 0/3083 [00:00<?, ?it/s]"
      ]
     },
     "metadata": {},
     "output_type": "display_data"
    },
    {
     "name": "stdout",
     "output_type": "stream",
     "text": [
      "final shape (3083, 178)\n",
      "shape before row_rise_aggregation (37987, 369)\n",
      "shape after row_rise_aggregation (37987, 384)\n",
      "shape before column_rise_aggregation (37987, 384)\n",
      "shape after column_rise_aggregation (3083, 1897)\n",
      "diff between last and mean transaction\n"
     ]
    },
    {
     "data": {
      "application/vnd.jupyter.widget-view+json": {
       "model_id": "a353b93a17d34507bb5b0cbfb431f7f9",
       "version_major": 2,
       "version_minor": 0
      },
      "text/plain": [
       "  0%|          | 0/177 [00:00<?, ?it/s]"
      ]
     },
     "metadata": {},
     "output_type": "display_data"
    },
    {
     "name": "stdout",
     "output_type": "stream",
     "text": [
      "save processed test_216.ftr\n"
     ]
    },
    {
     "data": {
      "application/vnd.jupyter.widget-view+json": {
       "model_id": "173ed1a7bc1148ba9e2fc59facf56704",
       "version_major": 2,
       "version_minor": 0
      },
      "text/plain": [
       "  0%|          | 0/3083 [00:00<?, ?it/s]"
      ]
     },
     "metadata": {},
     "output_type": "display_data"
    },
    {
     "name": "stdout",
     "output_type": "stream",
     "text": [
      "final shape (3083, 178)\n",
      "shape before row_rise_aggregation (37894, 369)\n",
      "shape after row_rise_aggregation (37894, 384)\n",
      "shape before column_rise_aggregation (37894, 384)\n",
      "shape after column_rise_aggregation (3083, 1897)\n",
      "diff between last and mean transaction\n"
     ]
    },
    {
     "data": {
      "application/vnd.jupyter.widget-view+json": {
       "model_id": "ddbb3c0b502b4b79b4ada8a4f0ef7a1a",
       "version_major": 2,
       "version_minor": 0
      },
      "text/plain": [
       "  0%|          | 0/177 [00:00<?, ?it/s]"
      ]
     },
     "metadata": {},
     "output_type": "display_data"
    },
    {
     "name": "stdout",
     "output_type": "stream",
     "text": [
      "save processed test_189.ftr\n"
     ]
    },
    {
     "data": {
      "application/vnd.jupyter.widget-view+json": {
       "model_id": "225e9ab2b1ee41f4a423ff9c9ed2e1a4",
       "version_major": 2,
       "version_minor": 0
      },
      "text/plain": [
       "  0%|          | 0/3083 [00:00<?, ?it/s]"
      ]
     },
     "metadata": {},
     "output_type": "display_data"
    },
    {
     "name": "stdout",
     "output_type": "stream",
     "text": [
      "final shape (3083, 178)\n",
      "shape before row_rise_aggregation (37968, 369)\n",
      "shape after row_rise_aggregation (37968, 384)\n",
      "shape before column_rise_aggregation (37968, 384)\n",
      "shape after column_rise_aggregation (3083, 1893)\n",
      "diff between last and mean transaction\n"
     ]
    },
    {
     "data": {
      "application/vnd.jupyter.widget-view+json": {
       "model_id": "0444ea46b7ca49f9abb5bd199d3594ed",
       "version_major": 2,
       "version_minor": 0
      },
      "text/plain": [
       "  0%|          | 0/177 [00:00<?, ?it/s]"
      ]
     },
     "metadata": {},
     "output_type": "display_data"
    },
    {
     "name": "stdout",
     "output_type": "stream",
     "text": [
      "save processed test_171.ftr\n"
     ]
    },
    {
     "data": {
      "application/vnd.jupyter.widget-view+json": {
       "model_id": "5d115a7d69b54a9f8b6c0f318bb308a9",
       "version_major": 2,
       "version_minor": 0
      },
      "text/plain": [
       "  0%|          | 0/3083 [00:00<?, ?it/s]"
      ]
     },
     "metadata": {},
     "output_type": "display_data"
    },
    {
     "name": "stdout",
     "output_type": "stream",
     "text": [
      "final shape (3083, 178)\n",
      "shape before row_rise_aggregation (37651, 369)\n",
      "shape after row_rise_aggregation (37651, 384)\n",
      "shape before column_rise_aggregation (37651, 384)\n",
      "shape after column_rise_aggregation (3083, 1897)\n",
      "diff between last and mean transaction\n"
     ]
    },
    {
     "data": {
      "application/vnd.jupyter.widget-view+json": {
       "model_id": "863c53673e7346fdbb093e9bf6ccee62",
       "version_major": 2,
       "version_minor": 0
      },
      "text/plain": [
       "  0%|          | 0/177 [00:00<?, ?it/s]"
      ]
     },
     "metadata": {},
     "output_type": "display_data"
    },
    {
     "name": "stdout",
     "output_type": "stream",
     "text": [
      "save processed test_253.ftr\n"
     ]
    },
    {
     "data": {
      "application/vnd.jupyter.widget-view+json": {
       "model_id": "be354344e15341bb9cd3493719e600b9",
       "version_major": 2,
       "version_minor": 0
      },
      "text/plain": [
       "  0%|          | 0/3083 [00:00<?, ?it/s]"
      ]
     },
     "metadata": {},
     "output_type": "display_data"
    },
    {
     "name": "stdout",
     "output_type": "stream",
     "text": [
      "final shape (3083, 178)\n",
      "shape before row_rise_aggregation (37929, 369)\n",
      "shape after row_rise_aggregation (37929, 384)\n",
      "shape before column_rise_aggregation (37929, 384)\n",
      "shape after column_rise_aggregation (3083, 1897)\n",
      "diff between last and mean transaction\n"
     ]
    },
    {
     "data": {
      "application/vnd.jupyter.widget-view+json": {
       "model_id": "d14119ff0d0f4f6e96f8d736e499fce9",
       "version_major": 2,
       "version_minor": 0
      },
      "text/plain": [
       "  0%|          | 0/177 [00:00<?, ?it/s]"
      ]
     },
     "metadata": {},
     "output_type": "display_data"
    },
    {
     "name": "stdout",
     "output_type": "stream",
     "text": [
      "save processed test_223.ftr\n"
     ]
    },
    {
     "data": {
      "application/vnd.jupyter.widget-view+json": {
       "model_id": "a49f4642d0c44dababf3b90078d964dd",
       "version_major": 2,
       "version_minor": 0
      },
      "text/plain": [
       "  0%|          | 0/3083 [00:00<?, ?it/s]"
      ]
     },
     "metadata": {},
     "output_type": "display_data"
    },
    {
     "name": "stdout",
     "output_type": "stream",
     "text": [
      "final shape (3083, 178)\n",
      "shape before row_rise_aggregation (37969, 369)\n",
      "shape after row_rise_aggregation (37969, 384)\n",
      "shape before column_rise_aggregation (37969, 384)\n",
      "shape after column_rise_aggregation (3083, 1897)\n",
      "diff between last and mean transaction\n"
     ]
    },
    {
     "data": {
      "application/vnd.jupyter.widget-view+json": {
       "model_id": "4f1041e2351d4825b5684a64600619b8",
       "version_major": 2,
       "version_minor": 0
      },
      "text/plain": [
       "  0%|          | 0/177 [00:00<?, ?it/s]"
      ]
     },
     "metadata": {},
     "output_type": "display_data"
    },
    {
     "name": "stdout",
     "output_type": "stream",
     "text": [
      "save processed test_38.ftr\n"
     ]
    },
    {
     "data": {
      "application/vnd.jupyter.widget-view+json": {
       "model_id": "09a7c13d0b9a45a58a1321da311a710f",
       "version_major": 2,
       "version_minor": 0
      },
      "text/plain": [
       "  0%|          | 0/3083 [00:00<?, ?it/s]"
      ]
     },
     "metadata": {},
     "output_type": "display_data"
    },
    {
     "name": "stdout",
     "output_type": "stream",
     "text": [
      "final shape (3083, 178)\n",
      "shape before row_rise_aggregation (37981, 369)\n",
      "shape after row_rise_aggregation (37981, 384)\n",
      "shape before column_rise_aggregation (37981, 384)\n",
      "shape after column_rise_aggregation (3083, 1897)\n",
      "diff between last and mean transaction\n"
     ]
    },
    {
     "data": {
      "application/vnd.jupyter.widget-view+json": {
       "model_id": "245f4e4d22ca45d4a7eb26ebabf35efb",
       "version_major": 2,
       "version_minor": 0
      },
      "text/plain": [
       "  0%|          | 0/177 [00:00<?, ?it/s]"
      ]
     },
     "metadata": {},
     "output_type": "display_data"
    },
    {
     "name": "stdout",
     "output_type": "stream",
     "text": [
      "save processed test_210.ftr\n"
     ]
    },
    {
     "data": {
      "application/vnd.jupyter.widget-view+json": {
       "model_id": "eb44d44e24cf4a81b047e94e88d162c7",
       "version_major": 2,
       "version_minor": 0
      },
      "text/plain": [
       "  0%|          | 0/3083 [00:00<?, ?it/s]"
      ]
     },
     "metadata": {},
     "output_type": "display_data"
    },
    {
     "name": "stdout",
     "output_type": "stream",
     "text": [
      "final shape (3083, 178)\n",
      "shape before row_rise_aggregation (37910, 369)\n",
      "shape after row_rise_aggregation (37910, 384)\n",
      "shape before column_rise_aggregation (37910, 384)\n",
      "shape after column_rise_aggregation (3083, 1893)\n",
      "diff between last and mean transaction\n"
     ]
    },
    {
     "data": {
      "application/vnd.jupyter.widget-view+json": {
       "model_id": "0c62485bd66b42ad9895ce446332881a",
       "version_major": 2,
       "version_minor": 0
      },
      "text/plain": [
       "  0%|          | 0/177 [00:00<?, ?it/s]"
      ]
     },
     "metadata": {},
     "output_type": "display_data"
    },
    {
     "name": "stdout",
     "output_type": "stream",
     "text": [
      "save processed test_231.ftr\n"
     ]
    },
    {
     "data": {
      "application/vnd.jupyter.widget-view+json": {
       "model_id": "d0f6757f7042481abe93bf4165f8ad1a",
       "version_major": 2,
       "version_minor": 0
      },
      "text/plain": [
       "  0%|          | 0/3083 [00:00<?, ?it/s]"
      ]
     },
     "metadata": {},
     "output_type": "display_data"
    },
    {
     "name": "stdout",
     "output_type": "stream",
     "text": [
      "final shape (3083, 178)\n",
      "shape before row_rise_aggregation (37997, 369)\n",
      "shape after row_rise_aggregation (37997, 384)\n",
      "shape before column_rise_aggregation (37997, 384)\n",
      "shape after column_rise_aggregation (3083, 1893)\n",
      "diff between last and mean transaction\n"
     ]
    },
    {
     "data": {
      "application/vnd.jupyter.widget-view+json": {
       "model_id": "0d7b053dfa0f4df989a81e1f131803d1",
       "version_major": 2,
       "version_minor": 0
      },
      "text/plain": [
       "  0%|          | 0/177 [00:00<?, ?it/s]"
      ]
     },
     "metadata": {},
     "output_type": "display_data"
    },
    {
     "name": "stdout",
     "output_type": "stream",
     "text": [
      "save processed test_163.ftr\n"
     ]
    },
    {
     "data": {
      "application/vnd.jupyter.widget-view+json": {
       "model_id": "00f12f7763214dfc9400933a20c4e73c",
       "version_major": 2,
       "version_minor": 0
      },
      "text/plain": [
       "  0%|          | 0/3083 [00:00<?, ?it/s]"
      ]
     },
     "metadata": {},
     "output_type": "display_data"
    },
    {
     "name": "stdout",
     "output_type": "stream",
     "text": [
      "final shape (3083, 178)\n",
      "shape before row_rise_aggregation (37935, 369)\n",
      "shape after row_rise_aggregation (37935, 384)\n",
      "shape before column_rise_aggregation (37935, 384)\n",
      "shape after column_rise_aggregation (3083, 1897)\n",
      "diff between last and mean transaction\n"
     ]
    },
    {
     "data": {
      "application/vnd.jupyter.widget-view+json": {
       "model_id": "9967b533cd5e455fa66cc9119891fa7f",
       "version_major": 2,
       "version_minor": 0
      },
      "text/plain": [
       "  0%|          | 0/177 [00:00<?, ?it/s]"
      ]
     },
     "metadata": {},
     "output_type": "display_data"
    },
    {
     "name": "stdout",
     "output_type": "stream",
     "text": [
      "save processed test_140.ftr\n"
     ]
    },
    {
     "data": {
      "application/vnd.jupyter.widget-view+json": {
       "model_id": "e5225a05581741bc89e8a74d768e7c7a",
       "version_major": 2,
       "version_minor": 0
      },
      "text/plain": [
       "  0%|          | 0/3083 [00:00<?, ?it/s]"
      ]
     },
     "metadata": {},
     "output_type": "display_data"
    },
    {
     "name": "stdout",
     "output_type": "stream",
     "text": [
      "final shape (3083, 178)\n",
      "shape before row_rise_aggregation (37893, 369)\n",
      "shape after row_rise_aggregation (37893, 384)\n",
      "shape before column_rise_aggregation (37893, 384)\n",
      "shape after column_rise_aggregation (3083, 1897)\n",
      "diff between last and mean transaction\n"
     ]
    },
    {
     "data": {
      "application/vnd.jupyter.widget-view+json": {
       "model_id": "2adf9ee417ba415a8c3e6002337dceed",
       "version_major": 2,
       "version_minor": 0
      },
      "text/plain": [
       "  0%|          | 0/177 [00:00<?, ?it/s]"
      ]
     },
     "metadata": {},
     "output_type": "display_data"
    },
    {
     "name": "stdout",
     "output_type": "stream",
     "text": [
      "save processed test_111.ftr\n"
     ]
    },
    {
     "data": {
      "application/vnd.jupyter.widget-view+json": {
       "model_id": "2e98794ada16453997f7a752fa256d00",
       "version_major": 2,
       "version_minor": 0
      },
      "text/plain": [
       "  0%|          | 0/3083 [00:00<?, ?it/s]"
      ]
     },
     "metadata": {},
     "output_type": "display_data"
    },
    {
     "name": "stdout",
     "output_type": "stream",
     "text": [
      "final shape (3083, 178)\n",
      "shape before row_rise_aggregation (37866, 369)\n",
      "shape after row_rise_aggregation (37866, 384)\n",
      "shape before column_rise_aggregation (37866, 384)\n",
      "shape after column_rise_aggregation (3083, 1893)\n",
      "diff between last and mean transaction\n"
     ]
    },
    {
     "data": {
      "application/vnd.jupyter.widget-view+json": {
       "model_id": "99d67946fd3d44beb8f04cdbf768f65c",
       "version_major": 2,
       "version_minor": 0
      },
      "text/plain": [
       "  0%|          | 0/177 [00:00<?, ?it/s]"
      ]
     },
     "metadata": {},
     "output_type": "display_data"
    },
    {
     "name": "stdout",
     "output_type": "stream",
     "text": [
      "save processed test_117.ftr\n"
     ]
    },
    {
     "data": {
      "application/vnd.jupyter.widget-view+json": {
       "model_id": "f5c85d346b674ed0bfddb6cbde8e028e",
       "version_major": 2,
       "version_minor": 0
      },
      "text/plain": [
       "  0%|          | 0/3083 [00:00<?, ?it/s]"
      ]
     },
     "metadata": {},
     "output_type": "display_data"
    },
    {
     "name": "stdout",
     "output_type": "stream",
     "text": [
      "final shape (3083, 178)\n",
      "shape before row_rise_aggregation (37853, 369)\n",
      "shape after row_rise_aggregation (37853, 384)\n",
      "shape before column_rise_aggregation (37853, 384)\n",
      "shape after column_rise_aggregation (3083, 1893)\n",
      "diff between last and mean transaction\n"
     ]
    },
    {
     "data": {
      "application/vnd.jupyter.widget-view+json": {
       "model_id": "1e7e158c8483420a9954d8dd2521a7fe",
       "version_major": 2,
       "version_minor": 0
      },
      "text/plain": [
       "  0%|          | 0/177 [00:00<?, ?it/s]"
      ]
     },
     "metadata": {},
     "output_type": "display_data"
    },
    {
     "name": "stdout",
     "output_type": "stream",
     "text": [
      "save processed test_254.ftr\n"
     ]
    },
    {
     "data": {
      "application/vnd.jupyter.widget-view+json": {
       "model_id": "a4224020e20a48cf80dd8c8830aad2e8",
       "version_major": 2,
       "version_minor": 0
      },
      "text/plain": [
       "  0%|          | 0/3083 [00:00<?, ?it/s]"
      ]
     },
     "metadata": {},
     "output_type": "display_data"
    },
    {
     "name": "stdout",
     "output_type": "stream",
     "text": [
      "final shape (3083, 178)\n",
      "shape before row_rise_aggregation (37793, 369)\n",
      "shape after row_rise_aggregation (37793, 384)\n",
      "shape before column_rise_aggregation (37793, 384)\n",
      "shape after column_rise_aggregation (3083, 1897)\n",
      "diff between last and mean transaction\n"
     ]
    },
    {
     "data": {
      "application/vnd.jupyter.widget-view+json": {
       "model_id": "68fae95cc932407da89a833b610d74bd",
       "version_major": 2,
       "version_minor": 0
      },
      "text/plain": [
       "  0%|          | 0/177 [00:00<?, ?it/s]"
      ]
     },
     "metadata": {},
     "output_type": "display_data"
    },
    {
     "name": "stdout",
     "output_type": "stream",
     "text": [
      "save processed test_204.ftr\n"
     ]
    },
    {
     "data": {
      "application/vnd.jupyter.widget-view+json": {
       "model_id": "0d9ccda6cc4d48f586bcf1acb41fe2fb",
       "version_major": 2,
       "version_minor": 0
      },
      "text/plain": [
       "  0%|          | 0/3083 [00:00<?, ?it/s]"
      ]
     },
     "metadata": {},
     "output_type": "display_data"
    },
    {
     "name": "stdout",
     "output_type": "stream",
     "text": [
      "final shape (3083, 178)\n",
      "shape before row_rise_aggregation (38063, 369)\n",
      "shape after row_rise_aggregation (38063, 384)\n",
      "shape before column_rise_aggregation (38063, 384)\n",
      "shape after column_rise_aggregation (3083, 1893)\n",
      "diff between last and mean transaction\n"
     ]
    },
    {
     "data": {
      "application/vnd.jupyter.widget-view+json": {
       "model_id": "980317b4d7fc4fafbf7f8edb4477aa0e",
       "version_major": 2,
       "version_minor": 0
      },
      "text/plain": [
       "  0%|          | 0/177 [00:00<?, ?it/s]"
      ]
     },
     "metadata": {},
     "output_type": "display_data"
    },
    {
     "name": "stdout",
     "output_type": "stream",
     "text": [
      "save processed test_230.ftr\n"
     ]
    },
    {
     "data": {
      "application/vnd.jupyter.widget-view+json": {
       "model_id": "b03f54c8c7b24242858434c11d8a9892",
       "version_major": 2,
       "version_minor": 0
      },
      "text/plain": [
       "  0%|          | 0/3083 [00:00<?, ?it/s]"
      ]
     },
     "metadata": {},
     "output_type": "display_data"
    },
    {
     "name": "stdout",
     "output_type": "stream",
     "text": [
      "final shape (3083, 178)\n",
      "shape before row_rise_aggregation (37785, 369)\n",
      "shape after row_rise_aggregation (37785, 384)\n",
      "shape before column_rise_aggregation (37785, 384)\n",
      "shape after column_rise_aggregation (3083, 1893)\n",
      "diff between last and mean transaction\n"
     ]
    },
    {
     "data": {
      "application/vnd.jupyter.widget-view+json": {
       "model_id": "53b0f4bff1134d3b9bba2f661d2ae9f6",
       "version_major": 2,
       "version_minor": 0
      },
      "text/plain": [
       "  0%|          | 0/177 [00:00<?, ?it/s]"
      ]
     },
     "metadata": {},
     "output_type": "display_data"
    },
    {
     "name": "stdout",
     "output_type": "stream",
     "text": [
      "save processed test_285.ftr\n"
     ]
    },
    {
     "data": {
      "application/vnd.jupyter.widget-view+json": {
       "model_id": "0f54e16d442d4ede80dbd82a7b57dd95",
       "version_major": 2,
       "version_minor": 0
      },
      "text/plain": [
       "  0%|          | 0/3083 [00:00<?, ?it/s]"
      ]
     },
     "metadata": {},
     "output_type": "display_data"
    },
    {
     "name": "stdout",
     "output_type": "stream",
     "text": [
      "final shape (3083, 178)\n",
      "shape before row_rise_aggregation (37775, 369)\n",
      "shape after row_rise_aggregation (37775, 384)\n",
      "shape before column_rise_aggregation (37775, 384)\n",
      "shape after column_rise_aggregation (3083, 1897)\n",
      "diff between last and mean transaction\n"
     ]
    },
    {
     "data": {
      "application/vnd.jupyter.widget-view+json": {
       "model_id": "001ad89000e1457eb508303d92d843f0",
       "version_major": 2,
       "version_minor": 0
      },
      "text/plain": [
       "  0%|          | 0/177 [00:00<?, ?it/s]"
      ]
     },
     "metadata": {},
     "output_type": "display_data"
    },
    {
     "name": "stdout",
     "output_type": "stream",
     "text": [
      "save processed test_201.ftr\n"
     ]
    },
    {
     "data": {
      "application/vnd.jupyter.widget-view+json": {
       "model_id": "24581a53e9f9461ca1f4ee39cffd168d",
       "version_major": 2,
       "version_minor": 0
      },
      "text/plain": [
       "  0%|          | 0/3083 [00:00<?, ?it/s]"
      ]
     },
     "metadata": {},
     "output_type": "display_data"
    },
    {
     "name": "stdout",
     "output_type": "stream",
     "text": [
      "final shape (3083, 178)\n",
      "shape before row_rise_aggregation (37866, 369)\n",
      "shape after row_rise_aggregation (37866, 384)\n",
      "shape before column_rise_aggregation (37866, 384)\n",
      "shape after column_rise_aggregation (3083, 1897)\n",
      "diff between last and mean transaction\n"
     ]
    },
    {
     "data": {
      "application/vnd.jupyter.widget-view+json": {
       "model_id": "25812b8148ea4a8ead0aab554818c2f1",
       "version_major": 2,
       "version_minor": 0
      },
      "text/plain": [
       "  0%|          | 0/177 [00:00<?, ?it/s]"
      ]
     },
     "metadata": {},
     "output_type": "display_data"
    },
    {
     "name": "stdout",
     "output_type": "stream",
     "text": [
      "save processed test_244.ftr\n"
     ]
    },
    {
     "data": {
      "application/vnd.jupyter.widget-view+json": {
       "model_id": "21eb272cea5d485fa667de8b87bc84be",
       "version_major": 2,
       "version_minor": 0
      },
      "text/plain": [
       "  0%|          | 0/3083 [00:00<?, ?it/s]"
      ]
     },
     "metadata": {},
     "output_type": "display_data"
    },
    {
     "name": "stdout",
     "output_type": "stream",
     "text": [
      "final shape (3083, 178)\n",
      "shape before row_rise_aggregation (37939, 369)\n",
      "shape after row_rise_aggregation (37939, 384)\n",
      "shape before column_rise_aggregation (37939, 384)\n",
      "shape after column_rise_aggregation (3083, 1893)\n",
      "diff between last and mean transaction\n"
     ]
    },
    {
     "data": {
      "application/vnd.jupyter.widget-view+json": {
       "model_id": "39fb413c0298490aaf45bef8d090c236",
       "version_major": 2,
       "version_minor": 0
      },
      "text/plain": [
       "  0%|          | 0/177 [00:00<?, ?it/s]"
      ]
     },
     "metadata": {},
     "output_type": "display_data"
    },
    {
     "name": "stdout",
     "output_type": "stream",
     "text": [
      "save processed test_262.ftr\n"
     ]
    },
    {
     "data": {
      "application/vnd.jupyter.widget-view+json": {
       "model_id": "f24282a03f9b41d0a8c9c9c77ded305d",
       "version_major": 2,
       "version_minor": 0
      },
      "text/plain": [
       "  0%|          | 0/3083 [00:00<?, ?it/s]"
      ]
     },
     "metadata": {},
     "output_type": "display_data"
    },
    {
     "name": "stdout",
     "output_type": "stream",
     "text": [
      "final shape (3083, 178)\n",
      "shape before row_rise_aggregation (37841, 369)\n",
      "shape after row_rise_aggregation (37841, 384)\n",
      "shape before column_rise_aggregation (37841, 384)\n",
      "shape after column_rise_aggregation (3083, 1897)\n",
      "diff between last and mean transaction\n"
     ]
    },
    {
     "data": {
      "application/vnd.jupyter.widget-view+json": {
       "model_id": "21aeb17fa9584330af8561dc5fbdd618",
       "version_major": 2,
       "version_minor": 0
      },
      "text/plain": [
       "  0%|          | 0/177 [00:00<?, ?it/s]"
      ]
     },
     "metadata": {},
     "output_type": "display_data"
    },
    {
     "name": "stdout",
     "output_type": "stream",
     "text": [
      "save processed test_290.ftr\n"
     ]
    },
    {
     "data": {
      "application/vnd.jupyter.widget-view+json": {
       "model_id": "3e4d9dd8388442038945657d56177784",
       "version_major": 2,
       "version_minor": 0
      },
      "text/plain": [
       "  0%|          | 0/3083 [00:00<?, ?it/s]"
      ]
     },
     "metadata": {},
     "output_type": "display_data"
    },
    {
     "name": "stdout",
     "output_type": "stream",
     "text": [
      "final shape (3083, 178)\n",
      "shape before row_rise_aggregation (38076, 369)\n",
      "shape after row_rise_aggregation (38076, 384)\n",
      "shape before column_rise_aggregation (38076, 384)\n",
      "shape after column_rise_aggregation (3083, 1897)\n",
      "diff between last and mean transaction\n"
     ]
    },
    {
     "data": {
      "application/vnd.jupyter.widget-view+json": {
       "model_id": "151fa157ea5942c798f03350e2e25867",
       "version_major": 2,
       "version_minor": 0
      },
      "text/plain": [
       "  0%|          | 0/177 [00:00<?, ?it/s]"
      ]
     },
     "metadata": {},
     "output_type": "display_data"
    },
    {
     "name": "stdout",
     "output_type": "stream",
     "text": [
      "save processed test_143.ftr\n"
     ]
    },
    {
     "data": {
      "application/vnd.jupyter.widget-view+json": {
       "model_id": "cd4d637e959546778f9a8cb75ea49814",
       "version_major": 2,
       "version_minor": 0
      },
      "text/plain": [
       "  0%|          | 0/3083 [00:00<?, ?it/s]"
      ]
     },
     "metadata": {},
     "output_type": "display_data"
    },
    {
     "name": "stdout",
     "output_type": "stream",
     "text": [
      "final shape (3083, 178)\n",
      "shape before row_rise_aggregation (37816, 369)\n",
      "shape after row_rise_aggregation (37816, 384)\n",
      "shape before column_rise_aggregation (37816, 384)\n",
      "shape after column_rise_aggregation (3083, 1893)\n",
      "diff between last and mean transaction\n"
     ]
    },
    {
     "data": {
      "application/vnd.jupyter.widget-view+json": {
       "model_id": "c6a9b48e74844384893745d43b661456",
       "version_major": 2,
       "version_minor": 0
      },
      "text/plain": [
       "  0%|          | 0/177 [00:00<?, ?it/s]"
      ]
     },
     "metadata": {},
     "output_type": "display_data"
    },
    {
     "name": "stdout",
     "output_type": "stream",
     "text": [
      "save processed test_179.ftr\n"
     ]
    },
    {
     "data": {
      "application/vnd.jupyter.widget-view+json": {
       "model_id": "6d751a87d01a44dc8f54d28cc43c6cbf",
       "version_major": 2,
       "version_minor": 0
      },
      "text/plain": [
       "  0%|          | 0/3083 [00:00<?, ?it/s]"
      ]
     },
     "metadata": {},
     "output_type": "display_data"
    },
    {
     "name": "stdout",
     "output_type": "stream",
     "text": [
      "final shape (3083, 178)\n",
      "shape before row_rise_aggregation (37960, 369)\n",
      "shape after row_rise_aggregation (37960, 384)\n",
      "shape before column_rise_aggregation (37960, 384)\n",
      "shape after column_rise_aggregation (3083, 1897)\n",
      "diff between last and mean transaction\n"
     ]
    },
    {
     "data": {
      "application/vnd.jupyter.widget-view+json": {
       "model_id": "cfd80f2fedc2456584cafe55b43a52ce",
       "version_major": 2,
       "version_minor": 0
      },
      "text/plain": [
       "  0%|          | 0/177 [00:00<?, ?it/s]"
      ]
     },
     "metadata": {},
     "output_type": "display_data"
    },
    {
     "name": "stdout",
     "output_type": "stream",
     "text": [
      "save processed test_235.ftr\n"
     ]
    },
    {
     "data": {
      "application/vnd.jupyter.widget-view+json": {
       "model_id": "d4afd8c57d4f4d27a30dfc967197f114",
       "version_major": 2,
       "version_minor": 0
      },
      "text/plain": [
       "  0%|          | 0/3083 [00:00<?, ?it/s]"
      ]
     },
     "metadata": {},
     "output_type": "display_data"
    },
    {
     "name": "stdout",
     "output_type": "stream",
     "text": [
      "final shape (3083, 178)\n",
      "shape before row_rise_aggregation (37982, 369)\n",
      "shape after row_rise_aggregation (37982, 384)\n",
      "shape before column_rise_aggregation (37982, 384)\n",
      "shape after column_rise_aggregation (3083, 1897)\n",
      "diff between last and mean transaction\n"
     ]
    },
    {
     "data": {
      "application/vnd.jupyter.widget-view+json": {
       "model_id": "cab77b361fa44ff4b8426bc81e42baf4",
       "version_major": 2,
       "version_minor": 0
      },
      "text/plain": [
       "  0%|          | 0/177 [00:00<?, ?it/s]"
      ]
     },
     "metadata": {},
     "output_type": "display_data"
    },
    {
     "name": "stdout",
     "output_type": "stream",
     "text": [
      "save processed test_49.ftr\n"
     ]
    },
    {
     "data": {
      "application/vnd.jupyter.widget-view+json": {
       "model_id": "a5208a9f5f474b66b5d5a08e83886e67",
       "version_major": 2,
       "version_minor": 0
      },
      "text/plain": [
       "  0%|          | 0/3083 [00:00<?, ?it/s]"
      ]
     },
     "metadata": {},
     "output_type": "display_data"
    },
    {
     "name": "stdout",
     "output_type": "stream",
     "text": [
      "final shape (3083, 178)\n",
      "shape before row_rise_aggregation (37922, 369)\n",
      "shape after row_rise_aggregation (37922, 384)\n",
      "shape before column_rise_aggregation (37922, 384)\n",
      "shape after column_rise_aggregation (3083, 1897)\n",
      "diff between last and mean transaction\n"
     ]
    },
    {
     "data": {
      "application/vnd.jupyter.widget-view+json": {
       "model_id": "575aca86e92245cbb8935c716ee62c85",
       "version_major": 2,
       "version_minor": 0
      },
      "text/plain": [
       "  0%|          | 0/177 [00:00<?, ?it/s]"
      ]
     },
     "metadata": {},
     "output_type": "display_data"
    },
    {
     "name": "stdout",
     "output_type": "stream",
     "text": [
      "save processed test_122.ftr\n"
     ]
    },
    {
     "data": {
      "application/vnd.jupyter.widget-view+json": {
       "model_id": "b5906a8576d04526948d44f7a6720f9f",
       "version_major": 2,
       "version_minor": 0
      },
      "text/plain": [
       "  0%|          | 0/3083 [00:00<?, ?it/s]"
      ]
     },
     "metadata": {},
     "output_type": "display_data"
    },
    {
     "name": "stdout",
     "output_type": "stream",
     "text": [
      "final shape (3083, 178)\n",
      "shape before row_rise_aggregation (37865, 369)\n",
      "shape after row_rise_aggregation (37865, 384)\n",
      "shape before column_rise_aggregation (37865, 384)\n",
      "shape after column_rise_aggregation (3083, 1897)\n",
      "diff between last and mean transaction\n"
     ]
    },
    {
     "data": {
      "application/vnd.jupyter.widget-view+json": {
       "model_id": "84145e1c1424476b8a28b5d4c39dd0cb",
       "version_major": 2,
       "version_minor": 0
      },
      "text/plain": [
       "  0%|          | 0/177 [00:00<?, ?it/s]"
      ]
     },
     "metadata": {},
     "output_type": "display_data"
    },
    {
     "name": "stdout",
     "output_type": "stream",
     "text": [
      "save processed test_247.ftr\n"
     ]
    },
    {
     "data": {
      "application/vnd.jupyter.widget-view+json": {
       "model_id": "e5176b79051442cb8cc64210edb2655f",
       "version_major": 2,
       "version_minor": 0
      },
      "text/plain": [
       "  0%|          | 0/3083 [00:00<?, ?it/s]"
      ]
     },
     "metadata": {},
     "output_type": "display_data"
    },
    {
     "name": "stdout",
     "output_type": "stream",
     "text": [
      "final shape (3083, 178)\n",
      "shape before row_rise_aggregation (37890, 369)\n",
      "shape after row_rise_aggregation (37890, 384)\n",
      "shape before column_rise_aggregation (37890, 384)\n",
      "shape after column_rise_aggregation (3083, 1897)\n",
      "diff between last and mean transaction\n"
     ]
    },
    {
     "data": {
      "application/vnd.jupyter.widget-view+json": {
       "model_id": "c905e20bbcf54ea59fd0b806e71d4f41",
       "version_major": 2,
       "version_minor": 0
      },
      "text/plain": [
       "  0%|          | 0/177 [00:00<?, ?it/s]"
      ]
     },
     "metadata": {},
     "output_type": "display_data"
    },
    {
     "name": "stdout",
     "output_type": "stream",
     "text": [
      "save processed test_184.ftr\n"
     ]
    },
    {
     "data": {
      "application/vnd.jupyter.widget-view+json": {
       "model_id": "b16e59cb61a142cdb645ce57323c4aa3",
       "version_major": 2,
       "version_minor": 0
      },
      "text/plain": [
       "  0%|          | 0/3083 [00:00<?, ?it/s]"
      ]
     },
     "metadata": {},
     "output_type": "display_data"
    },
    {
     "name": "stdout",
     "output_type": "stream",
     "text": [
      "final shape (3083, 178)\n",
      "shape before row_rise_aggregation (38009, 369)\n",
      "shape after row_rise_aggregation (38009, 384)\n",
      "shape before column_rise_aggregation (38009, 384)\n",
      "shape after column_rise_aggregation (3083, 1889)\n",
      "diff between last and mean transaction\n"
     ]
    },
    {
     "data": {
      "application/vnd.jupyter.widget-view+json": {
       "model_id": "9e93d7641b7f4fab8861eaf6e833cdeb",
       "version_major": 2,
       "version_minor": 0
      },
      "text/plain": [
       "  0%|          | 0/177 [00:00<?, ?it/s]"
      ]
     },
     "metadata": {},
     "output_type": "display_data"
    },
    {
     "name": "stdout",
     "output_type": "stream",
     "text": [
      "save processed test_77.ftr\n"
     ]
    },
    {
     "data": {
      "application/vnd.jupyter.widget-view+json": {
       "model_id": "17d3f305b9be42188fea7047efc1e103",
       "version_major": 2,
       "version_minor": 0
      },
      "text/plain": [
       "  0%|          | 0/3083 [00:00<?, ?it/s]"
      ]
     },
     "metadata": {},
     "output_type": "display_data"
    },
    {
     "name": "stdout",
     "output_type": "stream",
     "text": [
      "final shape (3083, 178)\n",
      "shape before row_rise_aggregation (37796, 369)\n",
      "shape after row_rise_aggregation (37796, 384)\n",
      "shape before column_rise_aggregation (37796, 384)\n",
      "shape after column_rise_aggregation (3083, 1897)\n",
      "diff between last and mean transaction\n"
     ]
    },
    {
     "data": {
      "application/vnd.jupyter.widget-view+json": {
       "model_id": "1839b641edae402ea6c20664b0aca52d",
       "version_major": 2,
       "version_minor": 0
      },
      "text/plain": [
       "  0%|          | 0/177 [00:00<?, ?it/s]"
      ]
     },
     "metadata": {},
     "output_type": "display_data"
    },
    {
     "name": "stdout",
     "output_type": "stream",
     "text": [
      "save processed test_59.ftr\n"
     ]
    },
    {
     "data": {
      "application/vnd.jupyter.widget-view+json": {
       "model_id": "04df092e932f4b269994b2b57371eb2f",
       "version_major": 2,
       "version_minor": 0
      },
      "text/plain": [
       "  0%|          | 0/3083 [00:00<?, ?it/s]"
      ]
     },
     "metadata": {},
     "output_type": "display_data"
    },
    {
     "name": "stdout",
     "output_type": "stream",
     "text": [
      "final shape (3083, 178)\n",
      "shape before row_rise_aggregation (37841, 369)\n",
      "shape after row_rise_aggregation (37841, 384)\n",
      "shape before column_rise_aggregation (37841, 384)\n",
      "shape after column_rise_aggregation (3083, 1897)\n",
      "diff between last and mean transaction\n"
     ]
    },
    {
     "data": {
      "application/vnd.jupyter.widget-view+json": {
       "model_id": "65ae5b5459104f90b072f19b11ae02e3",
       "version_major": 2,
       "version_minor": 0
      },
      "text/plain": [
       "  0%|          | 0/177 [00:00<?, ?it/s]"
      ]
     },
     "metadata": {},
     "output_type": "display_data"
    },
    {
     "name": "stdout",
     "output_type": "stream",
     "text": [
      "save processed test_214.ftr\n"
     ]
    },
    {
     "data": {
      "application/vnd.jupyter.widget-view+json": {
       "model_id": "00401e8349134f379380fd7222fe99e5",
       "version_major": 2,
       "version_minor": 0
      },
      "text/plain": [
       "  0%|          | 0/3083 [00:00<?, ?it/s]"
      ]
     },
     "metadata": {},
     "output_type": "display_data"
    },
    {
     "name": "stdout",
     "output_type": "stream",
     "text": [
      "final shape (3083, 178)\n",
      "shape before row_rise_aggregation (38031, 369)\n",
      "shape after row_rise_aggregation (38031, 384)\n",
      "shape before column_rise_aggregation (38031, 384)\n",
      "shape after column_rise_aggregation (3083, 1897)\n",
      "diff between last and mean transaction\n"
     ]
    },
    {
     "data": {
      "application/vnd.jupyter.widget-view+json": {
       "model_id": "98efabfff66f4135aa9dac8f35ed2c9c",
       "version_major": 2,
       "version_minor": 0
      },
      "text/plain": [
       "  0%|          | 0/177 [00:00<?, ?it/s]"
      ]
     },
     "metadata": {},
     "output_type": "display_data"
    },
    {
     "name": "stdout",
     "output_type": "stream",
     "text": [
      "save processed test_170.ftr\n"
     ]
    },
    {
     "data": {
      "application/vnd.jupyter.widget-view+json": {
       "model_id": "8e4e8e8347b14dee975cd8dad4ca79c5",
       "version_major": 2,
       "version_minor": 0
      },
      "text/plain": [
       "  0%|          | 0/3083 [00:00<?, ?it/s]"
      ]
     },
     "metadata": {},
     "output_type": "display_data"
    },
    {
     "name": "stdout",
     "output_type": "stream",
     "text": [
      "final shape (3083, 178)\n",
      "shape before row_rise_aggregation (37904, 369)\n",
      "shape after row_rise_aggregation (37904, 384)\n",
      "shape before column_rise_aggregation (37904, 384)\n",
      "shape after column_rise_aggregation (3083, 1897)\n",
      "diff between last and mean transaction\n"
     ]
    },
    {
     "data": {
      "application/vnd.jupyter.widget-view+json": {
       "model_id": "ca4562ac724847de95414ff49834ccb1",
       "version_major": 2,
       "version_minor": 0
      },
      "text/plain": [
       "  0%|          | 0/177 [00:00<?, ?it/s]"
      ]
     },
     "metadata": {},
     "output_type": "display_data"
    },
    {
     "name": "stdout",
     "output_type": "stream",
     "text": [
      "save processed test_261.ftr\n"
     ]
    },
    {
     "data": {
      "application/vnd.jupyter.widget-view+json": {
       "model_id": "ba3bd69c97d84664b6b5058550392e9d",
       "version_major": 2,
       "version_minor": 0
      },
      "text/plain": [
       "  0%|          | 0/3083 [00:00<?, ?it/s]"
      ]
     },
     "metadata": {},
     "output_type": "display_data"
    },
    {
     "name": "stdout",
     "output_type": "stream",
     "text": [
      "final shape (3083, 178)\n",
      "shape before row_rise_aggregation (37974, 369)\n",
      "shape after row_rise_aggregation (37974, 384)\n",
      "shape before column_rise_aggregation (37974, 384)\n",
      "shape after column_rise_aggregation (3083, 1897)\n",
      "diff between last and mean transaction\n"
     ]
    },
    {
     "data": {
      "application/vnd.jupyter.widget-view+json": {
       "model_id": "e3248971dab9484caf658d3c3ef6c6cd",
       "version_major": 2,
       "version_minor": 0
      },
      "text/plain": [
       "  0%|          | 0/177 [00:00<?, ?it/s]"
      ]
     },
     "metadata": {},
     "output_type": "display_data"
    },
    {
     "name": "stdout",
     "output_type": "stream",
     "text": [
      "save processed test_193.ftr\n"
     ]
    },
    {
     "data": {
      "application/vnd.jupyter.widget-view+json": {
       "model_id": "0c4f511e47b64d4b8d748392933d2e49",
       "version_major": 2,
       "version_minor": 0
      },
      "text/plain": [
       "  0%|          | 0/3083 [00:00<?, ?it/s]"
      ]
     },
     "metadata": {},
     "output_type": "display_data"
    },
    {
     "name": "stdout",
     "output_type": "stream",
     "text": [
      "final shape (3083, 178)\n",
      "shape before row_rise_aggregation (37757, 369)\n",
      "shape after row_rise_aggregation (37757, 384)\n",
      "shape before column_rise_aggregation (37757, 384)\n",
      "shape after column_rise_aggregation (3083, 1897)\n",
      "diff between last and mean transaction\n"
     ]
    },
    {
     "data": {
      "application/vnd.jupyter.widget-view+json": {
       "model_id": "7f978eeefa1745bbb734039c078d089c",
       "version_major": 2,
       "version_minor": 0
      },
      "text/plain": [
       "  0%|          | 0/177 [00:00<?, ?it/s]"
      ]
     },
     "metadata": {},
     "output_type": "display_data"
    },
    {
     "name": "stdout",
     "output_type": "stream",
     "text": [
      "save processed test_178.ftr\n"
     ]
    },
    {
     "data": {
      "application/vnd.jupyter.widget-view+json": {
       "model_id": "d7f4cbdc4a1345dea0022f3fc8d21bec",
       "version_major": 2,
       "version_minor": 0
      },
      "text/plain": [
       "  0%|          | 0/3083 [00:00<?, ?it/s]"
      ]
     },
     "metadata": {},
     "output_type": "display_data"
    },
    {
     "name": "stdout",
     "output_type": "stream",
     "text": [
      "final shape (3083, 178)\n",
      "shape before row_rise_aggregation (37722, 369)\n",
      "shape after row_rise_aggregation (37722, 384)\n",
      "shape before column_rise_aggregation (37722, 384)\n",
      "shape after column_rise_aggregation (3083, 1889)\n",
      "diff between last and mean transaction\n"
     ]
    },
    {
     "data": {
      "application/vnd.jupyter.widget-view+json": {
       "model_id": "26d881868d35465a9da75c46dad8c219",
       "version_major": 2,
       "version_minor": 0
      },
      "text/plain": [
       "  0%|          | 0/177 [00:00<?, ?it/s]"
      ]
     },
     "metadata": {},
     "output_type": "display_data"
    },
    {
     "name": "stdout",
     "output_type": "stream",
     "text": [
      "save processed test_48.ftr\n"
     ]
    },
    {
     "data": {
      "application/vnd.jupyter.widget-view+json": {
       "model_id": "cc1cc6c9f16c4f0a934de4d945507553",
       "version_major": 2,
       "version_minor": 0
      },
      "text/plain": [
       "  0%|          | 0/3083 [00:00<?, ?it/s]"
      ]
     },
     "metadata": {},
     "output_type": "display_data"
    },
    {
     "name": "stdout",
     "output_type": "stream",
     "text": [
      "final shape (3083, 178)\n",
      "shape before row_rise_aggregation (37755, 369)\n",
      "shape after row_rise_aggregation (37755, 384)\n",
      "shape before column_rise_aggregation (37755, 384)\n",
      "shape after column_rise_aggregation (3083, 1893)\n",
      "diff between last and mean transaction\n"
     ]
    },
    {
     "data": {
      "application/vnd.jupyter.widget-view+json": {
       "model_id": "eff38c57030b466dbc4cde1968d688be",
       "version_major": 2,
       "version_minor": 0
      },
      "text/plain": [
       "  0%|          | 0/177 [00:00<?, ?it/s]"
      ]
     },
     "metadata": {},
     "output_type": "display_data"
    },
    {
     "name": "stdout",
     "output_type": "stream",
     "text": [
      "save processed test_92.ftr\n"
     ]
    },
    {
     "data": {
      "application/vnd.jupyter.widget-view+json": {
       "model_id": "1f72bf4b52994fefad3e81a3db876401",
       "version_major": 2,
       "version_minor": 0
      },
      "text/plain": [
       "  0%|          | 0/3083 [00:00<?, ?it/s]"
      ]
     },
     "metadata": {},
     "output_type": "display_data"
    },
    {
     "name": "stdout",
     "output_type": "stream",
     "text": [
      "final shape (3083, 178)\n",
      "shape before row_rise_aggregation (37704, 369)\n",
      "shape after row_rise_aggregation (37704, 384)\n",
      "shape before column_rise_aggregation (37704, 384)\n",
      "shape after column_rise_aggregation (3083, 1893)\n",
      "diff between last and mean transaction\n"
     ]
    },
    {
     "data": {
      "application/vnd.jupyter.widget-view+json": {
       "model_id": "fb77212dab7446acad73adeb499f715d",
       "version_major": 2,
       "version_minor": 0
      },
      "text/plain": [
       "  0%|          | 0/177 [00:00<?, ?it/s]"
      ]
     },
     "metadata": {},
     "output_type": "display_data"
    },
    {
     "name": "stdout",
     "output_type": "stream",
     "text": [
      "save processed test_142.ftr\n"
     ]
    },
    {
     "data": {
      "application/vnd.jupyter.widget-view+json": {
       "model_id": "ea0f411254134477baf8b90ca125c18e",
       "version_major": 2,
       "version_minor": 0
      },
      "text/plain": [
       "  0%|          | 0/3083 [00:00<?, ?it/s]"
      ]
     },
     "metadata": {},
     "output_type": "display_data"
    },
    {
     "name": "stdout",
     "output_type": "stream",
     "text": [
      "final shape (3083, 178)\n",
      "shape before row_rise_aggregation (37996, 369)\n",
      "shape after row_rise_aggregation (37996, 384)\n",
      "shape before column_rise_aggregation (37996, 384)\n",
      "shape after column_rise_aggregation (3083, 1893)\n",
      "diff between last and mean transaction\n"
     ]
    },
    {
     "data": {
      "application/vnd.jupyter.widget-view+json": {
       "model_id": "0b370433a8ef45fb917007a0bfb1f863",
       "version_major": 2,
       "version_minor": 0
      },
      "text/plain": [
       "  0%|          | 0/177 [00:00<?, ?it/s]"
      ]
     },
     "metadata": {},
     "output_type": "display_data"
    },
    {
     "name": "stdout",
     "output_type": "stream",
     "text": [
      "save processed test_105.ftr\n"
     ]
    },
    {
     "data": {
      "application/vnd.jupyter.widget-view+json": {
       "model_id": "3d690a864c194878a9984dc26861a4af",
       "version_major": 2,
       "version_minor": 0
      },
      "text/plain": [
       "  0%|          | 0/3083 [00:00<?, ?it/s]"
      ]
     },
     "metadata": {},
     "output_type": "display_data"
    },
    {
     "name": "stdout",
     "output_type": "stream",
     "text": [
      "final shape (3083, 178)\n",
      "shape before row_rise_aggregation (37770, 369)\n",
      "shape after row_rise_aggregation (37770, 384)\n",
      "shape before column_rise_aggregation (37770, 384)\n",
      "shape after column_rise_aggregation (3083, 1897)\n",
      "diff between last and mean transaction\n"
     ]
    },
    {
     "data": {
      "application/vnd.jupyter.widget-view+json": {
       "model_id": "5a8bf07431494cbdb910d0d81b04d096",
       "version_major": 2,
       "version_minor": 0
      },
      "text/plain": [
       "  0%|          | 0/177 [00:00<?, ?it/s]"
      ]
     },
     "metadata": {},
     "output_type": "display_data"
    },
    {
     "name": "stdout",
     "output_type": "stream",
     "text": [
      "save processed test_64.ftr\n"
     ]
    },
    {
     "data": {
      "application/vnd.jupyter.widget-view+json": {
       "model_id": "720d7a2b37d24f5c9418bac6a5cebefe",
       "version_major": 2,
       "version_minor": 0
      },
      "text/plain": [
       "  0%|          | 0/3083 [00:00<?, ?it/s]"
      ]
     },
     "metadata": {},
     "output_type": "display_data"
    },
    {
     "name": "stdout",
     "output_type": "stream",
     "text": [
      "final shape (3083, 178)\n",
      "shape before row_rise_aggregation (37783, 369)\n",
      "shape after row_rise_aggregation (37783, 384)\n",
      "shape before column_rise_aggregation (37783, 384)\n",
      "shape after column_rise_aggregation (3083, 1897)\n",
      "diff between last and mean transaction\n"
     ]
    },
    {
     "data": {
      "application/vnd.jupyter.widget-view+json": {
       "model_id": "df26efaf8b344950b4fcb87ee57c2b45",
       "version_major": 2,
       "version_minor": 0
      },
      "text/plain": [
       "  0%|          | 0/177 [00:00<?, ?it/s]"
      ]
     },
     "metadata": {},
     "output_type": "display_data"
    },
    {
     "name": "stdout",
     "output_type": "stream",
     "text": [
      "save processed test_100.ftr\n"
     ]
    },
    {
     "data": {
      "application/vnd.jupyter.widget-view+json": {
       "model_id": "78407b1e21c54385927f11ee052c7877",
       "version_major": 2,
       "version_minor": 0
      },
      "text/plain": [
       "  0%|          | 0/3083 [00:00<?, ?it/s]"
      ]
     },
     "metadata": {},
     "output_type": "display_data"
    },
    {
     "name": "stdout",
     "output_type": "stream",
     "text": [
      "final shape (3083, 178)\n",
      "shape before row_rise_aggregation (37873, 369)\n",
      "shape after row_rise_aggregation (37873, 384)\n",
      "shape before column_rise_aggregation (37873, 384)\n",
      "shape after column_rise_aggregation (3083, 1897)\n",
      "diff between last and mean transaction\n"
     ]
    },
    {
     "data": {
      "application/vnd.jupyter.widget-view+json": {
       "model_id": "5b50997bf1ed4be4811a7fcdd48673ac",
       "version_major": 2,
       "version_minor": 0
      },
      "text/plain": [
       "  0%|          | 0/177 [00:00<?, ?it/s]"
      ]
     },
     "metadata": {},
     "output_type": "display_data"
    },
    {
     "name": "stdout",
     "output_type": "stream",
     "text": [
      "save processed test_222.ftr\n"
     ]
    },
    {
     "data": {
      "application/vnd.jupyter.widget-view+json": {
       "model_id": "a84448806c9747119dda5131c2c17e16",
       "version_major": 2,
       "version_minor": 0
      },
      "text/plain": [
       "  0%|          | 0/3083 [00:00<?, ?it/s]"
      ]
     },
     "metadata": {},
     "output_type": "display_data"
    },
    {
     "name": "stdout",
     "output_type": "stream",
     "text": [
      "final shape (3083, 178)\n",
      "shape before row_rise_aggregation (37780, 369)\n",
      "shape after row_rise_aggregation (37780, 384)\n",
      "shape before column_rise_aggregation (37780, 384)\n",
      "shape after column_rise_aggregation (3083, 1893)\n",
      "diff between last and mean transaction\n"
     ]
    },
    {
     "data": {
      "application/vnd.jupyter.widget-view+json": {
       "model_id": "d09ce17c46044a909feffba74ff1f0de",
       "version_major": 2,
       "version_minor": 0
      },
      "text/plain": [
       "  0%|          | 0/177 [00:00<?, ?it/s]"
      ]
     },
     "metadata": {},
     "output_type": "display_data"
    },
    {
     "name": "stdout",
     "output_type": "stream",
     "text": [
      "save processed test_56.ftr\n"
     ]
    },
    {
     "data": {
      "application/vnd.jupyter.widget-view+json": {
       "model_id": "0efc3ac89af7411e883e336e256dc840",
       "version_major": 2,
       "version_minor": 0
      },
      "text/plain": [
       "  0%|          | 0/3083 [00:00<?, ?it/s]"
      ]
     },
     "metadata": {},
     "output_type": "display_data"
    },
    {
     "name": "stdout",
     "output_type": "stream",
     "text": [
      "final shape (3083, 178)\n",
      "shape before row_rise_aggregation (37692, 369)\n",
      "shape after row_rise_aggregation (37692, 384)\n",
      "shape before column_rise_aggregation (37692, 384)\n",
      "shape after column_rise_aggregation (3083, 1893)\n",
      "diff between last and mean transaction\n"
     ]
    },
    {
     "data": {
      "application/vnd.jupyter.widget-view+json": {
       "model_id": "7007d283888344b89f1510e66242a5fd",
       "version_major": 2,
       "version_minor": 0
      },
      "text/plain": [
       "  0%|          | 0/177 [00:00<?, ?it/s]"
      ]
     },
     "metadata": {},
     "output_type": "display_data"
    },
    {
     "name": "stdout",
     "output_type": "stream",
     "text": [
      "save processed test_0.ftr\n"
     ]
    },
    {
     "data": {
      "application/vnd.jupyter.widget-view+json": {
       "model_id": "ac2669bb13fd4ceca5df71d4a3dfa516",
       "version_major": 2,
       "version_minor": 0
      },
      "text/plain": [
       "  0%|          | 0/3083 [00:00<?, ?it/s]"
      ]
     },
     "metadata": {},
     "output_type": "display_data"
    },
    {
     "name": "stdout",
     "output_type": "stream",
     "text": [
      "final shape (3083, 178)\n",
      "shape before row_rise_aggregation (38022, 369)\n",
      "shape after row_rise_aggregation (38022, 384)\n",
      "shape before column_rise_aggregation (38022, 384)\n",
      "shape after column_rise_aggregation (3083, 1897)\n",
      "diff between last and mean transaction\n"
     ]
    },
    {
     "data": {
      "application/vnd.jupyter.widget-view+json": {
       "model_id": "e0b3999e3a0e4f7db1a98214ba7b5084",
       "version_major": 2,
       "version_minor": 0
      },
      "text/plain": [
       "  0%|          | 0/177 [00:00<?, ?it/s]"
      ]
     },
     "metadata": {},
     "output_type": "display_data"
    },
    {
     "name": "stdout",
     "output_type": "stream",
     "text": [
      "save processed test_25.ftr\n"
     ]
    },
    {
     "data": {
      "application/vnd.jupyter.widget-view+json": {
       "model_id": "1eeb974dfb8a47aeaa6dbc2933ed32da",
       "version_major": 2,
       "version_minor": 0
      },
      "text/plain": [
       "  0%|          | 0/3083 [00:00<?, ?it/s]"
      ]
     },
     "metadata": {},
     "output_type": "display_data"
    },
    {
     "name": "stdout",
     "output_type": "stream",
     "text": [
      "final shape (3083, 178)\n",
      "shape before row_rise_aggregation (37841, 369)\n",
      "shape after row_rise_aggregation (37841, 384)\n",
      "shape before column_rise_aggregation (37841, 384)\n",
      "shape after column_rise_aggregation (3083, 1897)\n",
      "diff between last and mean transaction\n"
     ]
    },
    {
     "data": {
      "application/vnd.jupyter.widget-view+json": {
       "model_id": "ca7392b53fd9438c9a79d00367959210",
       "version_major": 2,
       "version_minor": 0
      },
      "text/plain": [
       "  0%|          | 0/177 [00:00<?, ?it/s]"
      ]
     },
     "metadata": {},
     "output_type": "display_data"
    },
    {
     "name": "stdout",
     "output_type": "stream",
     "text": [
      "save processed test_55.ftr\n"
     ]
    },
    {
     "data": {
      "application/vnd.jupyter.widget-view+json": {
       "model_id": "fe39866989e3480c97f97647e6c499b8",
       "version_major": 2,
       "version_minor": 0
      },
      "text/plain": [
       "  0%|          | 0/3083 [00:00<?, ?it/s]"
      ]
     },
     "metadata": {},
     "output_type": "display_data"
    },
    {
     "name": "stdout",
     "output_type": "stream",
     "text": [
      "final shape (3083, 178)\n",
      "shape before row_rise_aggregation (38037, 369)\n",
      "shape after row_rise_aggregation (38037, 384)\n",
      "shape before column_rise_aggregation (38037, 384)\n",
      "shape after column_rise_aggregation (3083, 1885)\n",
      "diff between last and mean transaction\n"
     ]
    },
    {
     "data": {
      "application/vnd.jupyter.widget-view+json": {
       "model_id": "ce628266e6c64028bc70c5644cbc566a",
       "version_major": 2,
       "version_minor": 0
      },
      "text/plain": [
       "  0%|          | 0/177 [00:00<?, ?it/s]"
      ]
     },
     "metadata": {},
     "output_type": "display_data"
    },
    {
     "name": "stdout",
     "output_type": "stream",
     "text": [
      "save processed test_43.ftr\n"
     ]
    },
    {
     "data": {
      "application/vnd.jupyter.widget-view+json": {
       "model_id": "87709b4bfbd040f98ec599d7bb18ecb9",
       "version_major": 2,
       "version_minor": 0
      },
      "text/plain": [
       "  0%|          | 0/3083 [00:00<?, ?it/s]"
      ]
     },
     "metadata": {},
     "output_type": "display_data"
    },
    {
     "name": "stdout",
     "output_type": "stream",
     "text": [
      "final shape (3083, 178)\n",
      "shape before row_rise_aggregation (37833, 369)\n",
      "shape after row_rise_aggregation (37833, 384)\n",
      "shape before column_rise_aggregation (37833, 384)\n",
      "shape after column_rise_aggregation (3083, 1893)\n",
      "diff between last and mean transaction\n"
     ]
    },
    {
     "data": {
      "application/vnd.jupyter.widget-view+json": {
       "model_id": "b45956ee0de045ff913b5859cbb28694",
       "version_major": 2,
       "version_minor": 0
      },
      "text/plain": [
       "  0%|          | 0/177 [00:00<?, ?it/s]"
      ]
     },
     "metadata": {},
     "output_type": "display_data"
    },
    {
     "name": "stdout",
     "output_type": "stream",
     "text": [
      "save processed test_233.ftr\n"
     ]
    },
    {
     "data": {
      "application/vnd.jupyter.widget-view+json": {
       "model_id": "f7c26bd96a89447eb95ee2769692075e",
       "version_major": 2,
       "version_minor": 0
      },
      "text/plain": [
       "  0%|          | 0/3083 [00:00<?, ?it/s]"
      ]
     },
     "metadata": {},
     "output_type": "display_data"
    },
    {
     "name": "stdout",
     "output_type": "stream",
     "text": [
      "final shape (3083, 178)\n",
      "shape before row_rise_aggregation (37931, 369)\n",
      "shape after row_rise_aggregation (37931, 384)\n",
      "shape before column_rise_aggregation (37931, 384)\n",
      "shape after column_rise_aggregation (3083, 1893)\n",
      "diff between last and mean transaction\n"
     ]
    },
    {
     "data": {
      "application/vnd.jupyter.widget-view+json": {
       "model_id": "b4149ea7db2841c9ac67bd08ae945a05",
       "version_major": 2,
       "version_minor": 0
      },
      "text/plain": [
       "  0%|          | 0/177 [00:00<?, ?it/s]"
      ]
     },
     "metadata": {},
     "output_type": "display_data"
    },
    {
     "name": "stdout",
     "output_type": "stream",
     "text": [
      "save processed test_87.ftr\n"
     ]
    },
    {
     "data": {
      "application/vnd.jupyter.widget-view+json": {
       "model_id": "7c3dc89fe7ed4c179c964b34611727a9",
       "version_major": 2,
       "version_minor": 0
      },
      "text/plain": [
       "  0%|          | 0/3083 [00:00<?, ?it/s]"
      ]
     },
     "metadata": {},
     "output_type": "display_data"
    },
    {
     "name": "stdout",
     "output_type": "stream",
     "text": [
      "final shape (3083, 178)\n",
      "shape before row_rise_aggregation (37697, 369)\n",
      "shape after row_rise_aggregation (37697, 384)\n",
      "shape before column_rise_aggregation (37697, 384)\n",
      "shape after column_rise_aggregation (3083, 1897)\n",
      "diff between last and mean transaction\n"
     ]
    },
    {
     "data": {
      "application/vnd.jupyter.widget-view+json": {
       "model_id": "b1c82049dab34a1e886fffe1765ace81",
       "version_major": 2,
       "version_minor": 0
      },
      "text/plain": [
       "  0%|          | 0/177 [00:00<?, ?it/s]"
      ]
     },
     "metadata": {},
     "output_type": "display_data"
    },
    {
     "name": "stdout",
     "output_type": "stream",
     "text": [
      "save processed test_3.ftr\n"
     ]
    },
    {
     "data": {
      "application/vnd.jupyter.widget-view+json": {
       "model_id": "59f65ec8876d473f96044e81fe7e815f",
       "version_major": 2,
       "version_minor": 0
      },
      "text/plain": [
       "  0%|          | 0/3083 [00:00<?, ?it/s]"
      ]
     },
     "metadata": {},
     "output_type": "display_data"
    },
    {
     "name": "stdout",
     "output_type": "stream",
     "text": [
      "final shape (3083, 178)\n",
      "shape before row_rise_aggregation (37878, 369)\n",
      "shape after row_rise_aggregation (37878, 384)\n",
      "shape before column_rise_aggregation (37878, 384)\n",
      "shape after column_rise_aggregation (3083, 1897)\n",
      "diff between last and mean transaction\n"
     ]
    },
    {
     "data": {
      "application/vnd.jupyter.widget-view+json": {
       "model_id": "e03e117f288b4c3ea1fa158d21bed0e3",
       "version_major": 2,
       "version_minor": 0
      },
      "text/plain": [
       "  0%|          | 0/177 [00:00<?, ?it/s]"
      ]
     },
     "metadata": {},
     "output_type": "display_data"
    },
    {
     "name": "stdout",
     "output_type": "stream",
     "text": [
      "save processed test_127.ftr\n"
     ]
    },
    {
     "data": {
      "application/vnd.jupyter.widget-view+json": {
       "model_id": "9b7824ce3e3044ac9078afc9bc3cc0c5",
       "version_major": 2,
       "version_minor": 0
      },
      "text/plain": [
       "  0%|          | 0/3083 [00:00<?, ?it/s]"
      ]
     },
     "metadata": {},
     "output_type": "display_data"
    },
    {
     "name": "stdout",
     "output_type": "stream",
     "text": [
      "final shape (3083, 178)\n",
      "shape before row_rise_aggregation (37878, 369)\n",
      "shape after row_rise_aggregation (37878, 384)\n",
      "shape before column_rise_aggregation (37878, 384)\n",
      "shape after column_rise_aggregation (3083, 1897)\n",
      "diff between last and mean transaction\n"
     ]
    },
    {
     "data": {
      "application/vnd.jupyter.widget-view+json": {
       "model_id": "1cb5ccdac5b04038b46729ee26466462",
       "version_major": 2,
       "version_minor": 0
      },
      "text/plain": [
       "  0%|          | 0/177 [00:00<?, ?it/s]"
      ]
     },
     "metadata": {},
     "output_type": "display_data"
    },
    {
     "name": "stdout",
     "output_type": "stream",
     "text": [
      "save processed test_264.ftr\n"
     ]
    },
    {
     "data": {
      "application/vnd.jupyter.widget-view+json": {
       "model_id": "2238093283454204ac4f1df5a6e368eb",
       "version_major": 2,
       "version_minor": 0
      },
      "text/plain": [
       "  0%|          | 0/3083 [00:00<?, ?it/s]"
      ]
     },
     "metadata": {},
     "output_type": "display_data"
    },
    {
     "name": "stdout",
     "output_type": "stream",
     "text": [
      "final shape (3083, 178)\n",
      "shape before row_rise_aggregation (37932, 369)\n",
      "shape after row_rise_aggregation (37932, 384)\n",
      "shape before column_rise_aggregation (37932, 384)\n",
      "shape after column_rise_aggregation (3083, 1897)\n",
      "diff between last and mean transaction\n"
     ]
    },
    {
     "data": {
      "application/vnd.jupyter.widget-view+json": {
       "model_id": "b9ef0898e7a6416485f668f5fed33160",
       "version_major": 2,
       "version_minor": 0
      },
      "text/plain": [
       "  0%|          | 0/177 [00:00<?, ?it/s]"
      ]
     },
     "metadata": {},
     "output_type": "display_data"
    },
    {
     "name": "stdout",
     "output_type": "stream",
     "text": [
      "save processed test_95.ftr\n"
     ]
    },
    {
     "data": {
      "application/vnd.jupyter.widget-view+json": {
       "model_id": "2f144fae33e44c3e8bec0f10859f68f0",
       "version_major": 2,
       "version_minor": 0
      },
      "text/plain": [
       "  0%|          | 0/3083 [00:00<?, ?it/s]"
      ]
     },
     "metadata": {},
     "output_type": "display_data"
    },
    {
     "name": "stdout",
     "output_type": "stream",
     "text": [
      "final shape (3083, 178)\n",
      "shape before row_rise_aggregation (37683, 369)\n",
      "shape after row_rise_aggregation (37683, 384)\n",
      "shape before column_rise_aggregation (37683, 384)\n",
      "shape after column_rise_aggregation (3083, 1893)\n",
      "diff between last and mean transaction\n"
     ]
    },
    {
     "data": {
      "application/vnd.jupyter.widget-view+json": {
       "model_id": "807db65d73c74ccba16eff1bd733e7bc",
       "version_major": 2,
       "version_minor": 0
      },
      "text/plain": [
       "  0%|          | 0/177 [00:00<?, ?it/s]"
      ]
     },
     "metadata": {},
     "output_type": "display_data"
    },
    {
     "name": "stdout",
     "output_type": "stream",
     "text": [
      "save processed test_62.ftr\n"
     ]
    },
    {
     "data": {
      "application/vnd.jupyter.widget-view+json": {
       "model_id": "3e099cc3611d44a0826fcba3afec17da",
       "version_major": 2,
       "version_minor": 0
      },
      "text/plain": [
       "  0%|          | 0/3083 [00:00<?, ?it/s]"
      ]
     },
     "metadata": {},
     "output_type": "display_data"
    },
    {
     "name": "stdout",
     "output_type": "stream",
     "text": [
      "final shape (3083, 178)\n",
      "shape before row_rise_aggregation (37694, 369)\n",
      "shape after row_rise_aggregation (37694, 384)\n",
      "shape before column_rise_aggregation (37694, 384)\n",
      "shape after column_rise_aggregation (3083, 1897)\n",
      "diff between last and mean transaction\n"
     ]
    },
    {
     "data": {
      "application/vnd.jupyter.widget-view+json": {
       "model_id": "3c2141828c9740dcb8f13049e7aa51fd",
       "version_major": 2,
       "version_minor": 0
      },
      "text/plain": [
       "  0%|          | 0/177 [00:00<?, ?it/s]"
      ]
     },
     "metadata": {},
     "output_type": "display_data"
    },
    {
     "name": "stdout",
     "output_type": "stream",
     "text": [
      "save processed test_148.ftr\n"
     ]
    },
    {
     "data": {
      "application/vnd.jupyter.widget-view+json": {
       "model_id": "b7df8090764e47be926a8bfea8785f64",
       "version_major": 2,
       "version_minor": 0
      },
      "text/plain": [
       "  0%|          | 0/3083 [00:00<?, ?it/s]"
      ]
     },
     "metadata": {},
     "output_type": "display_data"
    },
    {
     "name": "stdout",
     "output_type": "stream",
     "text": [
      "final shape (3083, 178)\n",
      "shape before row_rise_aggregation (37881, 369)\n",
      "shape after row_rise_aggregation (37881, 384)\n",
      "shape before column_rise_aggregation (37881, 384)\n",
      "shape after column_rise_aggregation (3083, 1897)\n",
      "diff between last and mean transaction\n"
     ]
    },
    {
     "data": {
      "application/vnd.jupyter.widget-view+json": {
       "model_id": "204a12b1d16544f18017b8ff6081f75e",
       "version_major": 2,
       "version_minor": 0
      },
      "text/plain": [
       "  0%|          | 0/177 [00:00<?, ?it/s]"
      ]
     },
     "metadata": {},
     "output_type": "display_data"
    },
    {
     "name": "stdout",
     "output_type": "stream",
     "text": [
      "save processed test_124.ftr\n"
     ]
    },
    {
     "data": {
      "application/vnd.jupyter.widget-view+json": {
       "model_id": "8cf0303dafc24af8b5d2d71b1907820e",
       "version_major": 2,
       "version_minor": 0
      },
      "text/plain": [
       "  0%|          | 0/3083 [00:00<?, ?it/s]"
      ]
     },
     "metadata": {},
     "output_type": "display_data"
    },
    {
     "name": "stdout",
     "output_type": "stream",
     "text": [
      "final shape (3083, 178)\n",
      "shape before row_rise_aggregation (37770, 369)\n",
      "shape after row_rise_aggregation (37770, 384)\n",
      "shape before column_rise_aggregation (37770, 384)\n",
      "shape after column_rise_aggregation (3083, 1897)\n",
      "diff between last and mean transaction\n"
     ]
    },
    {
     "data": {
      "application/vnd.jupyter.widget-view+json": {
       "model_id": "2b21864c0b1c4a9f8cae481ca2f9b183",
       "version_major": 2,
       "version_minor": 0
      },
      "text/plain": [
       "  0%|          | 0/177 [00:00<?, ?it/s]"
      ]
     },
     "metadata": {},
     "output_type": "display_data"
    },
    {
     "name": "stdout",
     "output_type": "stream",
     "text": [
      "save processed test_156.ftr\n"
     ]
    },
    {
     "data": {
      "application/vnd.jupyter.widget-view+json": {
       "model_id": "22d509474d894d93b21635ce33e9838d",
       "version_major": 2,
       "version_minor": 0
      },
      "text/plain": [
       "  0%|          | 0/3083 [00:00<?, ?it/s]"
      ]
     },
     "metadata": {},
     "output_type": "display_data"
    },
    {
     "name": "stdout",
     "output_type": "stream",
     "text": [
      "final shape (3083, 178)\n",
      "shape before row_rise_aggregation (37831, 369)\n",
      "shape after row_rise_aggregation (37831, 384)\n",
      "shape before column_rise_aggregation (37831, 384)\n",
      "shape after column_rise_aggregation (3083, 1897)\n",
      "diff between last and mean transaction\n"
     ]
    },
    {
     "data": {
      "application/vnd.jupyter.widget-view+json": {
       "model_id": "8df0b36038a24366af8aa6bc35febaa4",
       "version_major": 2,
       "version_minor": 0
      },
      "text/plain": [
       "  0%|          | 0/177 [00:00<?, ?it/s]"
      ]
     },
     "metadata": {},
     "output_type": "display_data"
    },
    {
     "name": "stdout",
     "output_type": "stream",
     "text": [
      "save processed test_206.ftr\n"
     ]
    },
    {
     "data": {
      "application/vnd.jupyter.widget-view+json": {
       "model_id": "166b8663aa544523873824b67cf57064",
       "version_major": 2,
       "version_minor": 0
      },
      "text/plain": [
       "  0%|          | 0/3083 [00:00<?, ?it/s]"
      ]
     },
     "metadata": {},
     "output_type": "display_data"
    },
    {
     "name": "stdout",
     "output_type": "stream",
     "text": [
      "final shape (3083, 178)\n",
      "shape before row_rise_aggregation (37917, 369)\n",
      "shape after row_rise_aggregation (37917, 384)\n",
      "shape before column_rise_aggregation (37917, 384)\n",
      "shape after column_rise_aggregation (3083, 1893)\n",
      "diff between last and mean transaction\n"
     ]
    },
    {
     "data": {
      "application/vnd.jupyter.widget-view+json": {
       "model_id": "f0aeb4bfb6f74ea8ac85612cdf7a7792",
       "version_major": 2,
       "version_minor": 0
      },
      "text/plain": [
       "  0%|          | 0/177 [00:00<?, ?it/s]"
      ]
     },
     "metadata": {},
     "output_type": "display_data"
    },
    {
     "name": "stdout",
     "output_type": "stream",
     "text": [
      "save processed test_53.ftr\n"
     ]
    },
    {
     "data": {
      "application/vnd.jupyter.widget-view+json": {
       "model_id": "061893bce2b94c0ca6efc08d195a6f75",
       "version_major": 2,
       "version_minor": 0
      },
      "text/plain": [
       "  0%|          | 0/3083 [00:00<?, ?it/s]"
      ]
     },
     "metadata": {},
     "output_type": "display_data"
    },
    {
     "name": "stdout",
     "output_type": "stream",
     "text": [
      "final shape (3083, 178)\n",
      "shape before row_rise_aggregation (37940, 369)\n",
      "shape after row_rise_aggregation (37940, 384)\n",
      "shape before column_rise_aggregation (37940, 384)\n",
      "shape after column_rise_aggregation (3083, 1897)\n",
      "diff between last and mean transaction\n"
     ]
    },
    {
     "data": {
      "application/vnd.jupyter.widget-view+json": {
       "model_id": "53f4002181b14cd19e617d065bed4d0a",
       "version_major": 2,
       "version_minor": 0
      },
      "text/plain": [
       "  0%|          | 0/177 [00:00<?, ?it/s]"
      ]
     },
     "metadata": {},
     "output_type": "display_data"
    },
    {
     "name": "stdout",
     "output_type": "stream",
     "text": [
      "save processed test_12.ftr\n"
     ]
    },
    {
     "data": {
      "application/vnd.jupyter.widget-view+json": {
       "model_id": "91ae8d2539b14325abfbb0b782bfa4b1",
       "version_major": 2,
       "version_minor": 0
      },
      "text/plain": [
       "  0%|          | 0/3083 [00:00<?, ?it/s]"
      ]
     },
     "metadata": {},
     "output_type": "display_data"
    },
    {
     "name": "stdout",
     "output_type": "stream",
     "text": [
      "final shape (3083, 178)\n",
      "shape before row_rise_aggregation (37971, 369)\n",
      "shape after row_rise_aggregation (37971, 384)\n",
      "shape before column_rise_aggregation (37971, 384)\n",
      "shape after column_rise_aggregation (3083, 1897)\n",
      "diff between last and mean transaction\n"
     ]
    },
    {
     "data": {
      "application/vnd.jupyter.widget-view+json": {
       "model_id": "1453dbf7d27549b2a48235ddf89da1dd",
       "version_major": 2,
       "version_minor": 0
      },
      "text/plain": [
       "  0%|          | 0/177 [00:00<?, ?it/s]"
      ]
     },
     "metadata": {},
     "output_type": "display_data"
    },
    {
     "name": "stdout",
     "output_type": "stream",
     "text": [
      "save processed test_136.ftr\n"
     ]
    },
    {
     "data": {
      "application/vnd.jupyter.widget-view+json": {
       "model_id": "02b50c1f9dba444a818657449be6a726",
       "version_major": 2,
       "version_minor": 0
      },
      "text/plain": [
       "  0%|          | 0/3083 [00:00<?, ?it/s]"
      ]
     },
     "metadata": {},
     "output_type": "display_data"
    },
    {
     "name": "stdout",
     "output_type": "stream",
     "text": [
      "final shape (3083, 178)\n",
      "shape before row_rise_aggregation (37941, 369)\n",
      "shape after row_rise_aggregation (37941, 384)\n",
      "shape before column_rise_aggregation (37941, 384)\n",
      "shape after column_rise_aggregation (3083, 1897)\n",
      "diff between last and mean transaction\n"
     ]
    },
    {
     "data": {
      "application/vnd.jupyter.widget-view+json": {
       "model_id": "a74d28fd29974cf28f2ec4862d338392",
       "version_major": 2,
       "version_minor": 0
      },
      "text/plain": [
       "  0%|          | 0/177 [00:00<?, ?it/s]"
      ]
     },
     "metadata": {},
     "output_type": "display_data"
    },
    {
     "name": "stdout",
     "output_type": "stream",
     "text": [
      "save processed test_287.ftr\n"
     ]
    },
    {
     "data": {
      "application/vnd.jupyter.widget-view+json": {
       "model_id": "3ff03bc8abcf478ca125c021c77e671b",
       "version_major": 2,
       "version_minor": 0
      },
      "text/plain": [
       "  0%|          | 0/3083 [00:00<?, ?it/s]"
      ]
     },
     "metadata": {},
     "output_type": "display_data"
    },
    {
     "name": "stdout",
     "output_type": "stream",
     "text": [
      "final shape (3083, 178)\n",
      "shape before row_rise_aggregation (37900, 369)\n",
      "shape after row_rise_aggregation (37900, 384)\n",
      "shape before column_rise_aggregation (37900, 384)\n",
      "shape after column_rise_aggregation (3083, 1897)\n",
      "diff between last and mean transaction\n"
     ]
    },
    {
     "data": {
      "application/vnd.jupyter.widget-view+json": {
       "model_id": "f7769e147ddb4d37933ba34c9b443d65",
       "version_major": 2,
       "version_minor": 0
      },
      "text/plain": [
       "  0%|          | 0/177 [00:00<?, ?it/s]"
      ]
     },
     "metadata": {},
     "output_type": "display_data"
    },
    {
     "name": "stdout",
     "output_type": "stream",
     "text": [
      "save processed test_207.ftr\n"
     ]
    },
    {
     "data": {
      "application/vnd.jupyter.widget-view+json": {
       "model_id": "a881aafadac948a7ad104d9a2c2beefd",
       "version_major": 2,
       "version_minor": 0
      },
      "text/plain": [
       "  0%|          | 0/3083 [00:00<?, ?it/s]"
      ]
     },
     "metadata": {},
     "output_type": "display_data"
    },
    {
     "name": "stdout",
     "output_type": "stream",
     "text": [
      "final shape (3083, 178)\n",
      "shape before row_rise_aggregation (37746, 369)\n",
      "shape after row_rise_aggregation (37746, 384)\n",
      "shape before column_rise_aggregation (37746, 384)\n",
      "shape after column_rise_aggregation (3083, 1897)\n",
      "diff between last and mean transaction\n"
     ]
    },
    {
     "data": {
      "application/vnd.jupyter.widget-view+json": {
       "model_id": "22af6a9a4dbf4502a498d1ae264edfbe",
       "version_major": 2,
       "version_minor": 0
      },
      "text/plain": [
       "  0%|          | 0/177 [00:00<?, ?it/s]"
      ]
     },
     "metadata": {},
     "output_type": "display_data"
    },
    {
     "name": "stdout",
     "output_type": "stream",
     "text": [
      "save processed test_209.ftr\n"
     ]
    },
    {
     "data": {
      "application/vnd.jupyter.widget-view+json": {
       "model_id": "8b5ab13c6fe5407c9562b25207062018",
       "version_major": 2,
       "version_minor": 0
      },
      "text/plain": [
       "  0%|          | 0/3083 [00:00<?, ?it/s]"
      ]
     },
     "metadata": {},
     "output_type": "display_data"
    },
    {
     "name": "stdout",
     "output_type": "stream",
     "text": [
      "final shape (3083, 178)\n",
      "shape before row_rise_aggregation (37983, 369)\n",
      "shape after row_rise_aggregation (37983, 384)\n",
      "shape before column_rise_aggregation (37983, 384)\n",
      "shape after column_rise_aggregation (3083, 1897)\n",
      "diff between last and mean transaction\n"
     ]
    },
    {
     "data": {
      "application/vnd.jupyter.widget-view+json": {
       "model_id": "cddf838d5daa4dc18e0e41b08d7933c3",
       "version_major": 2,
       "version_minor": 0
      },
      "text/plain": [
       "  0%|          | 0/177 [00:00<?, ?it/s]"
      ]
     },
     "metadata": {},
     "output_type": "display_data"
    },
    {
     "name": "stdout",
     "output_type": "stream",
     "text": [
      "save processed test_96.ftr\n"
     ]
    },
    {
     "data": {
      "application/vnd.jupyter.widget-view+json": {
       "model_id": "02c83a66f5e04228a8be450a1e984587",
       "version_major": 2,
       "version_minor": 0
      },
      "text/plain": [
       "  0%|          | 0/3083 [00:00<?, ?it/s]"
      ]
     },
     "metadata": {},
     "output_type": "display_data"
    },
    {
     "name": "stdout",
     "output_type": "stream",
     "text": [
      "final shape (3083, 178)\n",
      "shape before row_rise_aggregation (37936, 369)\n",
      "shape after row_rise_aggregation (37936, 384)\n",
      "shape before column_rise_aggregation (37936, 384)\n",
      "shape after column_rise_aggregation (3083, 1897)\n",
      "diff between last and mean transaction\n"
     ]
    },
    {
     "data": {
      "application/vnd.jupyter.widget-view+json": {
       "model_id": "04bd0077723744538904dce134947a40",
       "version_major": 2,
       "version_minor": 0
      },
      "text/plain": [
       "  0%|          | 0/177 [00:00<?, ?it/s]"
      ]
     },
     "metadata": {},
     "output_type": "display_data"
    },
    {
     "name": "stdout",
     "output_type": "stream",
     "text": [
      "save processed test_61.ftr\n"
     ]
    },
    {
     "data": {
      "application/vnd.jupyter.widget-view+json": {
       "model_id": "8c508f34178f42ab9044fe98f0d79a1f",
       "version_major": 2,
       "version_minor": 0
      },
      "text/plain": [
       "  0%|          | 0/3083 [00:00<?, ?it/s]"
      ]
     },
     "metadata": {},
     "output_type": "display_data"
    },
    {
     "name": "stdout",
     "output_type": "stream",
     "text": [
      "final shape (3083, 178)\n",
      "shape before row_rise_aggregation (37850, 369)\n",
      "shape after row_rise_aggregation (37850, 384)\n",
      "shape before column_rise_aggregation (37850, 384)\n",
      "shape after column_rise_aggregation (3083, 1893)\n",
      "diff between last and mean transaction\n"
     ]
    },
    {
     "data": {
      "application/vnd.jupyter.widget-view+json": {
       "model_id": "e98d88c15c3b4306b3e0bd342f4deed3",
       "version_major": 2,
       "version_minor": 0
      },
      "text/plain": [
       "  0%|          | 0/177 [00:00<?, ?it/s]"
      ]
     },
     "metadata": {},
     "output_type": "display_data"
    },
    {
     "name": "stdout",
     "output_type": "stream",
     "text": [
      "save processed test_72.ftr\n"
     ]
    },
    {
     "data": {
      "application/vnd.jupyter.widget-view+json": {
       "model_id": "a3744349d01f40338e6c24785e0ebea1",
       "version_major": 2,
       "version_minor": 0
      },
      "text/plain": [
       "  0%|          | 0/3083 [00:00<?, ?it/s]"
      ]
     },
     "metadata": {},
     "output_type": "display_data"
    },
    {
     "name": "stdout",
     "output_type": "stream",
     "text": [
      "final shape (3083, 178)\n",
      "shape before row_rise_aggregation (37652, 369)\n",
      "shape after row_rise_aggregation (37652, 384)\n",
      "shape before column_rise_aggregation (37652, 384)\n",
      "shape after column_rise_aggregation (3083, 1893)\n",
      "diff between last and mean transaction\n"
     ]
    },
    {
     "data": {
      "application/vnd.jupyter.widget-view+json": {
       "model_id": "bc6e8cedd6914f76a3fdc5b3d9507f21",
       "version_major": 2,
       "version_minor": 0
      },
      "text/plain": [
       "  0%|          | 0/177 [00:00<?, ?it/s]"
      ]
     },
     "metadata": {},
     "output_type": "display_data"
    },
    {
     "name": "stdout",
     "output_type": "stream",
     "text": [
      "save processed test_106.ftr\n"
     ]
    },
    {
     "data": {
      "application/vnd.jupyter.widget-view+json": {
       "model_id": "437939c2b0cf4bc0946e9c18767c5998",
       "version_major": 2,
       "version_minor": 0
      },
      "text/plain": [
       "  0%|          | 0/3083 [00:00<?, ?it/s]"
      ]
     },
     "metadata": {},
     "output_type": "display_data"
    },
    {
     "name": "stdout",
     "output_type": "stream",
     "text": [
      "final shape (3083, 178)\n",
      "shape before row_rise_aggregation (37973, 369)\n",
      "shape after row_rise_aggregation (37973, 384)\n",
      "shape before column_rise_aggregation (37973, 384)\n",
      "shape after column_rise_aggregation (3083, 1897)\n",
      "diff between last and mean transaction\n"
     ]
    },
    {
     "data": {
      "application/vnd.jupyter.widget-view+json": {
       "model_id": "28216a534b3940a0ae8826b1beca1713",
       "version_major": 2,
       "version_minor": 0
      },
      "text/plain": [
       "  0%|          | 0/177 [00:00<?, ?it/s]"
      ]
     },
     "metadata": {},
     "output_type": "display_data"
    },
    {
     "name": "stdout",
     "output_type": "stream",
     "text": [
      "save processed test_147.ftr\n"
     ]
    },
    {
     "data": {
      "application/vnd.jupyter.widget-view+json": {
       "model_id": "dc2cf581248a4ca48c7371f0747d3612",
       "version_major": 2,
       "version_minor": 0
      },
      "text/plain": [
       "  0%|          | 0/3083 [00:00<?, ?it/s]"
      ]
     },
     "metadata": {},
     "output_type": "display_data"
    },
    {
     "name": "stdout",
     "output_type": "stream",
     "text": [
      "final shape (3083, 178)\n",
      "shape before row_rise_aggregation (37900, 369)\n",
      "shape after row_rise_aggregation (37900, 384)\n",
      "shape before column_rise_aggregation (37900, 384)\n",
      "shape after column_rise_aggregation (3083, 1897)\n",
      "diff between last and mean transaction\n"
     ]
    },
    {
     "data": {
      "application/vnd.jupyter.widget-view+json": {
       "model_id": "a0b45e999d564e70b2e8f3293a606fe0",
       "version_major": 2,
       "version_minor": 0
      },
      "text/plain": [
       "  0%|          | 0/177 [00:00<?, ?it/s]"
      ]
     },
     "metadata": {},
     "output_type": "display_data"
    },
    {
     "name": "stdout",
     "output_type": "stream",
     "text": [
      "save processed test_66.ftr\n"
     ]
    },
    {
     "data": {
      "application/vnd.jupyter.widget-view+json": {
       "model_id": "28edd61f617646d585eecd882593a80f",
       "version_major": 2,
       "version_minor": 0
      },
      "text/plain": [
       "  0%|          | 0/3083 [00:00<?, ?it/s]"
      ]
     },
     "metadata": {},
     "output_type": "display_data"
    },
    {
     "name": "stdout",
     "output_type": "stream",
     "text": [
      "final shape (3083, 178)\n",
      "shape before row_rise_aggregation (37504, 369)\n",
      "shape after row_rise_aggregation (37504, 384)\n",
      "shape before column_rise_aggregation (37504, 384)\n",
      "shape after column_rise_aggregation (3083, 1897)\n",
      "diff between last and mean transaction\n"
     ]
    },
    {
     "data": {
      "application/vnd.jupyter.widget-view+json": {
       "model_id": "407bc4853af446418a3c294c0d8f3b3e",
       "version_major": 2,
       "version_minor": 0
      },
      "text/plain": [
       "  0%|          | 0/177 [00:00<?, ?it/s]"
      ]
     },
     "metadata": {},
     "output_type": "display_data"
    },
    {
     "name": "stdout",
     "output_type": "stream",
     "text": [
      "save processed test_132.ftr\n"
     ]
    },
    {
     "data": {
      "application/vnd.jupyter.widget-view+json": {
       "model_id": "e231f89f8fd24325a52abe03e7d8fabc",
       "version_major": 2,
       "version_minor": 0
      },
      "text/plain": [
       "  0%|          | 0/3083 [00:00<?, ?it/s]"
      ]
     },
     "metadata": {},
     "output_type": "display_data"
    },
    {
     "name": "stdout",
     "output_type": "stream",
     "text": [
      "final shape (3083, 178)\n",
      "shape before row_rise_aggregation (37872, 369)\n",
      "shape after row_rise_aggregation (37872, 384)\n",
      "shape before column_rise_aggregation (37872, 384)\n",
      "shape after column_rise_aggregation (3083, 1893)\n",
      "diff between last and mean transaction\n"
     ]
    },
    {
     "data": {
      "application/vnd.jupyter.widget-view+json": {
       "model_id": "00fa415f0cac47409f6de444d7cb04ee",
       "version_major": 2,
       "version_minor": 0
      },
      "text/plain": [
       "  0%|          | 0/177 [00:00<?, ?it/s]"
      ]
     },
     "metadata": {},
     "output_type": "display_data"
    },
    {
     "name": "stdout",
     "output_type": "stream",
     "text": [
      "save processed test_187.ftr\n"
     ]
    },
    {
     "data": {
      "application/vnd.jupyter.widget-view+json": {
       "model_id": "8be6c249b89548b59978d56ebd5975f9",
       "version_major": 2,
       "version_minor": 0
      },
      "text/plain": [
       "  0%|          | 0/3083 [00:00<?, ?it/s]"
      ]
     },
     "metadata": {},
     "output_type": "display_data"
    },
    {
     "name": "stdout",
     "output_type": "stream",
     "text": [
      "final shape (3083, 178)\n",
      "shape before row_rise_aggregation (37865, 369)\n",
      "shape after row_rise_aggregation (37865, 384)\n",
      "shape before column_rise_aggregation (37865, 384)\n",
      "shape after column_rise_aggregation (3083, 1897)\n",
      "diff between last and mean transaction\n"
     ]
    },
    {
     "data": {
      "application/vnd.jupyter.widget-view+json": {
       "model_id": "5ab1f9cc35aa458792f037b6ae660804",
       "version_major": 2,
       "version_minor": 0
      },
      "text/plain": [
       "  0%|          | 0/177 [00:00<?, ?it/s]"
      ]
     },
     "metadata": {},
     "output_type": "display_data"
    },
    {
     "name": "stdout",
     "output_type": "stream",
     "text": [
      "save processed test_91.ftr\n"
     ]
    },
    {
     "data": {
      "application/vnd.jupyter.widget-view+json": {
       "model_id": "66990ce426314419af18a25f51cf1e19",
       "version_major": 2,
       "version_minor": 0
      },
      "text/plain": [
       "  0%|          | 0/3083 [00:00<?, ?it/s]"
      ]
     },
     "metadata": {},
     "output_type": "display_data"
    },
    {
     "name": "stdout",
     "output_type": "stream",
     "text": [
      "final shape (3083, 178)\n",
      "shape before row_rise_aggregation (37774, 369)\n",
      "shape after row_rise_aggregation (37774, 384)\n",
      "shape before column_rise_aggregation (37774, 384)\n",
      "shape after column_rise_aggregation (3083, 1893)\n",
      "diff between last and mean transaction\n"
     ]
    },
    {
     "data": {
      "application/vnd.jupyter.widget-view+json": {
       "model_id": "08505565ff2447ef813239f497370501",
       "version_major": 2,
       "version_minor": 0
      },
      "text/plain": [
       "  0%|          | 0/177 [00:00<?, ?it/s]"
      ]
     },
     "metadata": {},
     "output_type": "display_data"
    },
    {
     "name": "stdout",
     "output_type": "stream",
     "text": [
      "save processed test_86.ftr\n"
     ]
    },
    {
     "data": {
      "application/vnd.jupyter.widget-view+json": {
       "model_id": "b9ffc0d95d9b4360ac1d60b5d9ee8557",
       "version_major": 2,
       "version_minor": 0
      },
      "text/plain": [
       "  0%|          | 0/3083 [00:00<?, ?it/s]"
      ]
     },
     "metadata": {},
     "output_type": "display_data"
    },
    {
     "name": "stdout",
     "output_type": "stream",
     "text": [
      "final shape (3083, 178)\n",
      "shape before row_rise_aggregation (38065, 369)\n",
      "shape after row_rise_aggregation (38065, 384)\n",
      "shape before column_rise_aggregation (38065, 384)\n",
      "shape after column_rise_aggregation (3083, 1893)\n",
      "diff between last and mean transaction\n"
     ]
    },
    {
     "data": {
      "application/vnd.jupyter.widget-view+json": {
       "model_id": "ae51c6e0cabc437ab37d56d11037e5b6",
       "version_major": 2,
       "version_minor": 0
      },
      "text/plain": [
       "  0%|          | 0/177 [00:00<?, ?it/s]"
      ]
     },
     "metadata": {},
     "output_type": "display_data"
    },
    {
     "name": "stdout",
     "output_type": "stream",
     "text": [
      "save processed test_110.ftr\n"
     ]
    },
    {
     "data": {
      "application/vnd.jupyter.widget-view+json": {
       "model_id": "8445f0d55ce14c9fa15f7dccff7bef57",
       "version_major": 2,
       "version_minor": 0
      },
      "text/plain": [
       "  0%|          | 0/3083 [00:00<?, ?it/s]"
      ]
     },
     "metadata": {},
     "output_type": "display_data"
    },
    {
     "name": "stdout",
     "output_type": "stream",
     "text": [
      "final shape (3083, 178)\n",
      "shape before row_rise_aggregation (38004, 369)\n",
      "shape after row_rise_aggregation (38004, 384)\n",
      "shape before column_rise_aggregation (38004, 384)\n",
      "shape after column_rise_aggregation (3083, 1893)\n",
      "diff between last and mean transaction\n"
     ]
    },
    {
     "data": {
      "application/vnd.jupyter.widget-view+json": {
       "model_id": "2ebe22fd22c546ceb9e5cfc35e96a1a7",
       "version_major": 2,
       "version_minor": 0
      },
      "text/plain": [
       "  0%|          | 0/177 [00:00<?, ?it/s]"
      ]
     },
     "metadata": {},
     "output_type": "display_data"
    },
    {
     "name": "stdout",
     "output_type": "stream",
     "text": [
      "save processed test_51.ftr\n"
     ]
    },
    {
     "data": {
      "application/vnd.jupyter.widget-view+json": {
       "model_id": "1c7b3f2e72284b52b0e96573c8cc7293",
       "version_major": 2,
       "version_minor": 0
      },
      "text/plain": [
       "  0%|          | 0/3083 [00:00<?, ?it/s]"
      ]
     },
     "metadata": {},
     "output_type": "display_data"
    },
    {
     "name": "stdout",
     "output_type": "stream",
     "text": [
      "final shape (3083, 178)\n",
      "shape before row_rise_aggregation (37716, 369)\n",
      "shape after row_rise_aggregation (37716, 384)\n",
      "shape before column_rise_aggregation (37716, 384)\n",
      "shape after column_rise_aggregation (3083, 1893)\n",
      "diff between last and mean transaction\n"
     ]
    },
    {
     "data": {
      "application/vnd.jupyter.widget-view+json": {
       "model_id": "838bac4301ab47d59e9c5818d6ab9e98",
       "version_major": 2,
       "version_minor": 0
      },
      "text/plain": [
       "  0%|          | 0/177 [00:00<?, ?it/s]"
      ]
     },
     "metadata": {},
     "output_type": "display_data"
    },
    {
     "name": "stdout",
     "output_type": "stream",
     "text": [
      "save processed test_135.ftr\n"
     ]
    },
    {
     "data": {
      "application/vnd.jupyter.widget-view+json": {
       "model_id": "62f16547377841fc89e5572a81df4d47",
       "version_major": 2,
       "version_minor": 0
      },
      "text/plain": [
       "  0%|          | 0/3083 [00:00<?, ?it/s]"
      ]
     },
     "metadata": {},
     "output_type": "display_data"
    },
    {
     "name": "stdout",
     "output_type": "stream",
     "text": [
      "final shape (3083, 178)\n",
      "shape before row_rise_aggregation (37989, 369)\n",
      "shape after row_rise_aggregation (37989, 384)\n",
      "shape before column_rise_aggregation (37989, 384)\n",
      "shape after column_rise_aggregation (3083, 1897)\n",
      "diff between last and mean transaction\n"
     ]
    },
    {
     "data": {
      "application/vnd.jupyter.widget-view+json": {
       "model_id": "0223b304a2d14f27adc229169fe52c23",
       "version_major": 2,
       "version_minor": 0
      },
      "text/plain": [
       "  0%|          | 0/177 [00:00<?, ?it/s]"
      ]
     },
     "metadata": {},
     "output_type": "display_data"
    },
    {
     "name": "stdout",
     "output_type": "stream",
     "text": [
      "save processed test_94.ftr\n"
     ]
    },
    {
     "data": {
      "application/vnd.jupyter.widget-view+json": {
       "model_id": "05053ae22b09488bb62eb4c6a0defd20",
       "version_major": 2,
       "version_minor": 0
      },
      "text/plain": [
       "  0%|          | 0/3083 [00:00<?, ?it/s]"
      ]
     },
     "metadata": {},
     "output_type": "display_data"
    },
    {
     "name": "stdout",
     "output_type": "stream",
     "text": [
      "final shape (3083, 178)\n",
      "shape before row_rise_aggregation (37812, 369)\n",
      "shape after row_rise_aggregation (37812, 384)\n",
      "shape before column_rise_aggregation (37812, 384)\n",
      "shape after column_rise_aggregation (3083, 1893)\n",
      "diff between last and mean transaction\n"
     ]
    },
    {
     "data": {
      "application/vnd.jupyter.widget-view+json": {
       "model_id": "4f93297e18734d9eb4b357e6ce63ebc1",
       "version_major": 2,
       "version_minor": 0
      },
      "text/plain": [
       "  0%|          | 0/177 [00:00<?, ?it/s]"
      ]
     },
     "metadata": {},
     "output_type": "display_data"
    },
    {
     "name": "stdout",
     "output_type": "stream",
     "text": [
      "save processed test_28.ftr\n"
     ]
    },
    {
     "data": {
      "application/vnd.jupyter.widget-view+json": {
       "model_id": "d6ed657557b34eb8b62de591a95ab8a9",
       "version_major": 2,
       "version_minor": 0
      },
      "text/plain": [
       "  0%|          | 0/3083 [00:00<?, ?it/s]"
      ]
     },
     "metadata": {},
     "output_type": "display_data"
    },
    {
     "name": "stdout",
     "output_type": "stream",
     "text": [
      "final shape (3083, 178)\n",
      "shape before row_rise_aggregation (37935, 369)\n",
      "shape after row_rise_aggregation (37935, 384)\n",
      "shape before column_rise_aggregation (37935, 384)\n",
      "shape after column_rise_aggregation (3083, 1897)\n",
      "diff between last and mean transaction\n"
     ]
    },
    {
     "data": {
      "application/vnd.jupyter.widget-view+json": {
       "model_id": "abd847ae6b384c65b1cf9b41eaa372bd",
       "version_major": 2,
       "version_minor": 0
      },
      "text/plain": [
       "  0%|          | 0/177 [00:00<?, ?it/s]"
      ]
     },
     "metadata": {},
     "output_type": "display_data"
    },
    {
     "name": "stdout",
     "output_type": "stream",
     "text": [
      "save processed test_276.ftr\n"
     ]
    },
    {
     "data": {
      "application/vnd.jupyter.widget-view+json": {
       "model_id": "5a396c8691e64ed8b2faef2f4d83b507",
       "version_major": 2,
       "version_minor": 0
      },
      "text/plain": [
       "  0%|          | 0/3083 [00:00<?, ?it/s]"
      ]
     },
     "metadata": {},
     "output_type": "display_data"
    },
    {
     "name": "stdout",
     "output_type": "stream",
     "text": [
      "final shape (3083, 178)\n",
      "shape before row_rise_aggregation (37670, 369)\n",
      "shape after row_rise_aggregation (37670, 384)\n",
      "shape before column_rise_aggregation (37670, 384)\n",
      "shape after column_rise_aggregation (3083, 1893)\n",
      "diff between last and mean transaction\n"
     ]
    },
    {
     "data": {
      "application/vnd.jupyter.widget-view+json": {
       "model_id": "bcc6ceab33da496bb3682c23c3f7ca6d",
       "version_major": 2,
       "version_minor": 0
      },
      "text/plain": [
       "  0%|          | 0/177 [00:00<?, ?it/s]"
      ]
     },
     "metadata": {},
     "output_type": "display_data"
    },
    {
     "name": "stdout",
     "output_type": "stream",
     "text": [
      "save processed test_150.ftr\n"
     ]
    },
    {
     "data": {
      "application/vnd.jupyter.widget-view+json": {
       "model_id": "80cdff98238448d8853b888cbab166a0",
       "version_major": 2,
       "version_minor": 0
      },
      "text/plain": [
       "  0%|          | 0/3083 [00:00<?, ?it/s]"
      ]
     },
     "metadata": {},
     "output_type": "display_data"
    },
    {
     "name": "stdout",
     "output_type": "stream",
     "text": [
      "final shape (3083, 178)\n",
      "shape before row_rise_aggregation (37961, 369)\n",
      "shape after row_rise_aggregation (37961, 384)\n",
      "shape before column_rise_aggregation (37961, 384)\n",
      "shape after column_rise_aggregation (3083, 1889)\n",
      "diff between last and mean transaction\n"
     ]
    },
    {
     "data": {
      "application/vnd.jupyter.widget-view+json": {
       "model_id": "f9c7e2e5119146d587905bb11d705185",
       "version_major": 2,
       "version_minor": 0
      },
      "text/plain": [
       "  0%|          | 0/177 [00:00<?, ?it/s]"
      ]
     },
     "metadata": {},
     "output_type": "display_data"
    },
    {
     "name": "stdout",
     "output_type": "stream",
     "text": [
      "save processed test_224.ftr\n"
     ]
    },
    {
     "data": {
      "application/vnd.jupyter.widget-view+json": {
       "model_id": "b58a856fe4534930b0d98c84622a0c18",
       "version_major": 2,
       "version_minor": 0
      },
      "text/plain": [
       "  0%|          | 0/3083 [00:00<?, ?it/s]"
      ]
     },
     "metadata": {},
     "output_type": "display_data"
    },
    {
     "name": "stdout",
     "output_type": "stream",
     "text": [
      "final shape (3083, 178)\n",
      "shape before row_rise_aggregation (37935, 369)\n",
      "shape after row_rise_aggregation (37935, 384)\n",
      "shape before column_rise_aggregation (37935, 384)\n",
      "shape after column_rise_aggregation (3083, 1893)\n",
      "diff between last and mean transaction\n"
     ]
    },
    {
     "data": {
      "application/vnd.jupyter.widget-view+json": {
       "model_id": "320add839f9046c48c77220418fc0f53",
       "version_major": 2,
       "version_minor": 0
      },
      "text/plain": [
       "  0%|          | 0/177 [00:00<?, ?it/s]"
      ]
     },
     "metadata": {},
     "output_type": "display_data"
    },
    {
     "name": "stdout",
     "output_type": "stream",
     "text": [
      "save processed test_6.ftr\n"
     ]
    },
    {
     "data": {
      "application/vnd.jupyter.widget-view+json": {
       "model_id": "5100e8ff3f9c429eb5f7f3c33b34ab4f",
       "version_major": 2,
       "version_minor": 0
      },
      "text/plain": [
       "  0%|          | 0/3083 [00:00<?, ?it/s]"
      ]
     },
     "metadata": {},
     "output_type": "display_data"
    },
    {
     "name": "stdout",
     "output_type": "stream",
     "text": [
      "final shape (3083, 178)\n",
      "shape before row_rise_aggregation (37725, 369)\n",
      "shape after row_rise_aggregation (37725, 384)\n",
      "shape before column_rise_aggregation (37725, 384)\n",
      "shape after column_rise_aggregation (3083, 1889)\n",
      "diff between last and mean transaction\n"
     ]
    },
    {
     "data": {
      "application/vnd.jupyter.widget-view+json": {
       "model_id": "4aa3c0ddc77e4ca69ef3ddaf48025cb1",
       "version_major": 2,
       "version_minor": 0
      },
      "text/plain": [
       "  0%|          | 0/177 [00:00<?, ?it/s]"
      ]
     },
     "metadata": {},
     "output_type": "display_data"
    },
    {
     "name": "stdout",
     "output_type": "stream",
     "text": [
      "save processed test_273.ftr\n"
     ]
    },
    {
     "data": {
      "application/vnd.jupyter.widget-view+json": {
       "model_id": "2ee96ae5823542c1bd3cdc706225ef07",
       "version_major": 2,
       "version_minor": 0
      },
      "text/plain": [
       "  0%|          | 0/3083 [00:00<?, ?it/s]"
      ]
     },
     "metadata": {},
     "output_type": "display_data"
    },
    {
     "name": "stdout",
     "output_type": "stream",
     "text": [
      "final shape (3083, 178)\n",
      "shape before row_rise_aggregation (38163, 369)\n",
      "shape after row_rise_aggregation (38163, 384)\n",
      "shape before column_rise_aggregation (38163, 384)\n",
      "shape after column_rise_aggregation (3083, 1897)\n",
      "diff between last and mean transaction\n"
     ]
    },
    {
     "data": {
      "application/vnd.jupyter.widget-view+json": {
       "model_id": "6e4fac6aeb0d4190a6fe299dec420d27",
       "version_major": 2,
       "version_minor": 0
      },
      "text/plain": [
       "  0%|          | 0/177 [00:00<?, ?it/s]"
      ]
     },
     "metadata": {},
     "output_type": "display_data"
    },
    {
     "name": "stdout",
     "output_type": "stream",
     "text": [
      "save processed test_15.ftr\n"
     ]
    },
    {
     "data": {
      "application/vnd.jupyter.widget-view+json": {
       "model_id": "1e643561873a4a1dbdf748bee5b3fb84",
       "version_major": 2,
       "version_minor": 0
      },
      "text/plain": [
       "  0%|          | 0/3083 [00:00<?, ?it/s]"
      ]
     },
     "metadata": {},
     "output_type": "display_data"
    },
    {
     "name": "stdout",
     "output_type": "stream",
     "text": [
      "final shape (3083, 178)\n",
      "shape before row_rise_aggregation (37861, 369)\n",
      "shape after row_rise_aggregation (37861, 384)\n",
      "shape before column_rise_aggregation (37861, 384)\n",
      "shape after column_rise_aggregation (3083, 1897)\n",
      "diff between last and mean transaction\n"
     ]
    },
    {
     "data": {
      "application/vnd.jupyter.widget-view+json": {
       "model_id": "cdf2a08b1e1e4f90a10dc058140ac5a9",
       "version_major": 2,
       "version_minor": 0
      },
      "text/plain": [
       "  0%|          | 0/177 [00:00<?, ?it/s]"
      ]
     },
     "metadata": {},
     "output_type": "display_data"
    },
    {
     "name": "stdout",
     "output_type": "stream",
     "text": [
      "save processed test_232.ftr\n"
     ]
    },
    {
     "data": {
      "application/vnd.jupyter.widget-view+json": {
       "model_id": "db8f76cda52f4e8ca154cfdf94a570bb",
       "version_major": 2,
       "version_minor": 0
      },
      "text/plain": [
       "  0%|          | 0/3083 [00:00<?, ?it/s]"
      ]
     },
     "metadata": {},
     "output_type": "display_data"
    },
    {
     "name": "stdout",
     "output_type": "stream",
     "text": [
      "final shape (3083, 178)\n",
      "shape before row_rise_aggregation (37943, 369)\n",
      "shape after row_rise_aggregation (37943, 384)\n",
      "shape before column_rise_aggregation (37943, 384)\n",
      "shape after column_rise_aggregation (3083, 1897)\n",
      "diff between last and mean transaction\n"
     ]
    },
    {
     "data": {
      "application/vnd.jupyter.widget-view+json": {
       "model_id": "f3b618b37b25415bb51edcc7a1357cfa",
       "version_major": 2,
       "version_minor": 0
      },
      "text/plain": [
       "  0%|          | 0/177 [00:00<?, ?it/s]"
      ]
     },
     "metadata": {},
     "output_type": "display_data"
    },
    {
     "name": "stdout",
     "output_type": "stream",
     "text": [
      "save processed test_188.ftr\n"
     ]
    },
    {
     "data": {
      "application/vnd.jupyter.widget-view+json": {
       "model_id": "7a2e338521b04c93b42a08d46c3bbc82",
       "version_major": 2,
       "version_minor": 0
      },
      "text/plain": [
       "  0%|          | 0/3083 [00:00<?, ?it/s]"
      ]
     },
     "metadata": {},
     "output_type": "display_data"
    },
    {
     "name": "stdout",
     "output_type": "stream",
     "text": [
      "final shape (3083, 178)\n",
      "shape before row_rise_aggregation (37941, 369)\n",
      "shape after row_rise_aggregation (37941, 384)\n",
      "shape before column_rise_aggregation (37941, 384)\n",
      "shape after column_rise_aggregation (3083, 1897)\n",
      "diff between last and mean transaction\n"
     ]
    },
    {
     "data": {
      "application/vnd.jupyter.widget-view+json": {
       "model_id": "4581157052864d98a148646c1f7619c2",
       "version_major": 2,
       "version_minor": 0
      },
      "text/plain": [
       "  0%|          | 0/177 [00:00<?, ?it/s]"
      ]
     },
     "metadata": {},
     "output_type": "display_data"
    },
    {
     "name": "stdout",
     "output_type": "stream",
     "text": [
      "save processed test_26.ftr\n"
     ]
    },
    {
     "data": {
      "application/vnd.jupyter.widget-view+json": {
       "model_id": "7774294bebb94803bec7d8d8ed3ef411",
       "version_major": 2,
       "version_minor": 0
      },
      "text/plain": [
       "  0%|          | 0/3083 [00:00<?, ?it/s]"
      ]
     },
     "metadata": {},
     "output_type": "display_data"
    },
    {
     "name": "stdout",
     "output_type": "stream",
     "text": [
      "final shape (3083, 178)\n",
      "shape before row_rise_aggregation (37958, 369)\n",
      "shape after row_rise_aggregation (37958, 384)\n",
      "shape before column_rise_aggregation (37958, 384)\n",
      "shape after column_rise_aggregation (3083, 1893)\n",
      "diff between last and mean transaction\n"
     ]
    },
    {
     "data": {
      "application/vnd.jupyter.widget-view+json": {
       "model_id": "99bd255b9c804853817897bfa7d442cf",
       "version_major": 2,
       "version_minor": 0
      },
      "text/plain": [
       "  0%|          | 0/177 [00:00<?, ?it/s]"
      ]
     },
     "metadata": {},
     "output_type": "display_data"
    },
    {
     "name": "stdout",
     "output_type": "stream",
     "text": [
      "save processed test_176.ftr\n"
     ]
    },
    {
     "data": {
      "application/vnd.jupyter.widget-view+json": {
       "model_id": "ebe7be16353947ee8a9ebd66323b945f",
       "version_major": 2,
       "version_minor": 0
      },
      "text/plain": [
       "  0%|          | 0/3083 [00:00<?, ?it/s]"
      ]
     },
     "metadata": {},
     "output_type": "display_data"
    },
    {
     "name": "stdout",
     "output_type": "stream",
     "text": [
      "final shape (3083, 178)\n",
      "shape before row_rise_aggregation (37974, 369)\n",
      "shape after row_rise_aggregation (37974, 384)\n",
      "shape before column_rise_aggregation (37974, 384)\n",
      "shape after column_rise_aggregation (3083, 1897)\n",
      "diff between last and mean transaction\n"
     ]
    },
    {
     "data": {
      "application/vnd.jupyter.widget-view+json": {
       "model_id": "4a6e9033a795404494c3172cfbc54264",
       "version_major": 2,
       "version_minor": 0
      },
      "text/plain": [
       "  0%|          | 0/177 [00:00<?, ?it/s]"
      ]
     },
     "metadata": {},
     "output_type": "display_data"
    },
    {
     "name": "stdout",
     "output_type": "stream",
     "text": [
      "save processed test_259.ftr\n"
     ]
    },
    {
     "data": {
      "application/vnd.jupyter.widget-view+json": {
       "model_id": "43dba737eb174ddba8d5af14978058a9",
       "version_major": 2,
       "version_minor": 0
      },
      "text/plain": [
       "  0%|          | 0/3083 [00:00<?, ?it/s]"
      ]
     },
     "metadata": {},
     "output_type": "display_data"
    },
    {
     "name": "stdout",
     "output_type": "stream",
     "text": [
      "final shape (3083, 178)\n",
      "shape before row_rise_aggregation (37954, 369)\n",
      "shape after row_rise_aggregation (37954, 384)\n",
      "shape before column_rise_aggregation (37954, 384)\n",
      "shape after column_rise_aggregation (3083, 1893)\n",
      "diff between last and mean transaction\n"
     ]
    },
    {
     "data": {
      "application/vnd.jupyter.widget-view+json": {
       "model_id": "f1da4a1887654f7d875fea5c0e76c204",
       "version_major": 2,
       "version_minor": 0
      },
      "text/plain": [
       "  0%|          | 0/177 [00:00<?, ?it/s]"
      ]
     },
     "metadata": {},
     "output_type": "display_data"
    },
    {
     "name": "stdout",
     "output_type": "stream",
     "text": [
      "save processed test_82.ftr\n"
     ]
    },
    {
     "data": {
      "application/vnd.jupyter.widget-view+json": {
       "model_id": "b41ab05e4f82450fbe02fc1c2a9832f5",
       "version_major": 2,
       "version_minor": 0
      },
      "text/plain": [
       "  0%|          | 0/3083 [00:00<?, ?it/s]"
      ]
     },
     "metadata": {},
     "output_type": "display_data"
    },
    {
     "name": "stdout",
     "output_type": "stream",
     "text": [
      "final shape (3083, 178)\n",
      "shape before row_rise_aggregation (37961, 369)\n",
      "shape after row_rise_aggregation (37961, 384)\n",
      "shape before column_rise_aggregation (37961, 384)\n",
      "shape after column_rise_aggregation (3083, 1897)\n",
      "diff between last and mean transaction\n"
     ]
    },
    {
     "data": {
      "application/vnd.jupyter.widget-view+json": {
       "model_id": "5aa2c588b4554cf5b73672156550700b",
       "version_major": 2,
       "version_minor": 0
      },
      "text/plain": [
       "  0%|          | 0/177 [00:00<?, ?it/s]"
      ]
     },
     "metadata": {},
     "output_type": "display_data"
    },
    {
     "name": "stdout",
     "output_type": "stream",
     "text": [
      "save processed test_154.ftr\n"
     ]
    },
    {
     "data": {
      "application/vnd.jupyter.widget-view+json": {
       "model_id": "fd73f1ecbcd0415aaebc68984498eb24",
       "version_major": 2,
       "version_minor": 0
      },
      "text/plain": [
       "  0%|          | 0/3083 [00:00<?, ?it/s]"
      ]
     },
     "metadata": {},
     "output_type": "display_data"
    },
    {
     "name": "stdout",
     "output_type": "stream",
     "text": [
      "final shape (3083, 178)\n",
      "shape before row_rise_aggregation (38016, 369)\n",
      "shape after row_rise_aggregation (38016, 384)\n",
      "shape before column_rise_aggregation (38016, 384)\n",
      "shape after column_rise_aggregation (3083, 1893)\n",
      "diff between last and mean transaction\n"
     ]
    },
    {
     "data": {
      "application/vnd.jupyter.widget-view+json": {
       "model_id": "7c19817387114674a07e590ad5268934",
       "version_major": 2,
       "version_minor": 0
      },
      "text/plain": [
       "  0%|          | 0/177 [00:00<?, ?it/s]"
      ]
     },
     "metadata": {},
     "output_type": "display_data"
    },
    {
     "name": "stdout",
     "output_type": "stream",
     "text": [
      "save processed test_218.ftr\n"
     ]
    },
    {
     "data": {
      "application/vnd.jupyter.widget-view+json": {
       "model_id": "7fe99039aea4475b8a746b954080b193",
       "version_major": 2,
       "version_minor": 0
      },
      "text/plain": [
       "  0%|          | 0/3083 [00:00<?, ?it/s]"
      ]
     },
     "metadata": {},
     "output_type": "display_data"
    },
    {
     "name": "stdout",
     "output_type": "stream",
     "text": [
      "final shape (3083, 178)\n",
      "shape before row_rise_aggregation (37850, 369)\n",
      "shape after row_rise_aggregation (37850, 384)\n",
      "shape before column_rise_aggregation (37850, 384)\n",
      "shape after column_rise_aggregation (3083, 1893)\n",
      "diff between last and mean transaction\n"
     ]
    },
    {
     "data": {
      "application/vnd.jupyter.widget-view+json": {
       "model_id": "78d3dc198fba405d9d9a124b351001e2",
       "version_major": 2,
       "version_minor": 0
      },
      "text/plain": [
       "  0%|          | 0/177 [00:00<?, ?it/s]"
      ]
     },
     "metadata": {},
     "output_type": "display_data"
    },
    {
     "name": "stdout",
     "output_type": "stream",
     "text": [
      "save processed test_70.ftr\n"
     ]
    },
    {
     "data": {
      "application/vnd.jupyter.widget-view+json": {
       "model_id": "e1212f618cda46c5b1499953eae993c3",
       "version_major": 2,
       "version_minor": 0
      },
      "text/plain": [
       "  0%|          | 0/3083 [00:00<?, ?it/s]"
      ]
     },
     "metadata": {},
     "output_type": "display_data"
    },
    {
     "name": "stdout",
     "output_type": "stream",
     "text": [
      "final shape (3083, 178)\n",
      "shape before row_rise_aggregation (38087, 369)\n",
      "shape after row_rise_aggregation (38087, 384)\n",
      "shape before column_rise_aggregation (38087, 384)\n",
      "shape after column_rise_aggregation (3083, 1897)\n",
      "diff between last and mean transaction\n"
     ]
    },
    {
     "data": {
      "application/vnd.jupyter.widget-view+json": {
       "model_id": "24c102cc76f84469883011012c14b094",
       "version_major": 2,
       "version_minor": 0
      },
      "text/plain": [
       "  0%|          | 0/177 [00:00<?, ?it/s]"
      ]
     },
     "metadata": {},
     "output_type": "display_data"
    },
    {
     "name": "stdout",
     "output_type": "stream",
     "text": [
      "save processed test_78.ftr\n"
     ]
    },
    {
     "data": {
      "application/vnd.jupyter.widget-view+json": {
       "model_id": "7b2901dff4e44a8aa146f945b9dbeb25",
       "version_major": 2,
       "version_minor": 0
      },
      "text/plain": [
       "  0%|          | 0/3083 [00:00<?, ?it/s]"
      ]
     },
     "metadata": {},
     "output_type": "display_data"
    },
    {
     "name": "stdout",
     "output_type": "stream",
     "text": [
      "final shape (3083, 178)\n",
      "shape before row_rise_aggregation (37898, 369)\n",
      "shape after row_rise_aggregation (37898, 384)\n",
      "shape before column_rise_aggregation (37898, 384)\n",
      "shape after column_rise_aggregation (3083, 1897)\n",
      "diff between last and mean transaction\n"
     ]
    },
    {
     "data": {
      "application/vnd.jupyter.widget-view+json": {
       "model_id": "f489848791e1450bb9829623a8eef9c6",
       "version_major": 2,
       "version_minor": 0
      },
      "text/plain": [
       "  0%|          | 0/177 [00:00<?, ?it/s]"
      ]
     },
     "metadata": {},
     "output_type": "display_data"
    },
    {
     "name": "stdout",
     "output_type": "stream",
     "text": [
      "save processed test_291.ftr\n"
     ]
    },
    {
     "data": {
      "application/vnd.jupyter.widget-view+json": {
       "model_id": "39f17a71c2904ebcb8cb9eeab84a188d",
       "version_major": 2,
       "version_minor": 0
      },
      "text/plain": [
       "  0%|          | 0/3083 [00:00<?, ?it/s]"
      ]
     },
     "metadata": {},
     "output_type": "display_data"
    },
    {
     "name": "stdout",
     "output_type": "stream",
     "text": [
      "final shape (3083, 178)\n",
      "shape before row_rise_aggregation (38063, 369)\n",
      "shape after row_rise_aggregation (38063, 384)\n",
      "shape before column_rise_aggregation (38063, 384)\n",
      "shape after column_rise_aggregation (3083, 1897)\n",
      "diff between last and mean transaction\n"
     ]
    },
    {
     "data": {
      "application/vnd.jupyter.widget-view+json": {
       "model_id": "3f2abdffb8ce42739df54f8274ceb516",
       "version_major": 2,
       "version_minor": 0
      },
      "text/plain": [
       "  0%|          | 0/177 [00:00<?, ?it/s]"
      ]
     },
     "metadata": {},
     "output_type": "display_data"
    },
    {
     "name": "stdout",
     "output_type": "stream",
     "text": [
      "save processed test_125.ftr\n"
     ]
    },
    {
     "data": {
      "application/vnd.jupyter.widget-view+json": {
       "model_id": "f9ee82502cf14ae79b9d02bd7e7bb2d1",
       "version_major": 2,
       "version_minor": 0
      },
      "text/plain": [
       "  0%|          | 0/3083 [00:00<?, ?it/s]"
      ]
     },
     "metadata": {},
     "output_type": "display_data"
    },
    {
     "name": "stdout",
     "output_type": "stream",
     "text": [
      "final shape (3083, 178)\n",
      "shape before row_rise_aggregation (37860, 369)\n",
      "shape after row_rise_aggregation (37860, 384)\n",
      "shape before column_rise_aggregation (37860, 384)\n",
      "shape after column_rise_aggregation (3083, 1893)\n",
      "diff between last and mean transaction\n"
     ]
    },
    {
     "data": {
      "application/vnd.jupyter.widget-view+json": {
       "model_id": "31a593da4f5847bcbe3fa143d015de73",
       "version_major": 2,
       "version_minor": 0
      },
      "text/plain": [
       "  0%|          | 0/177 [00:00<?, ?it/s]"
      ]
     },
     "metadata": {},
     "output_type": "display_data"
    },
    {
     "name": "stdout",
     "output_type": "stream",
     "text": [
      "save processed test_99.ftr\n"
     ]
    },
    {
     "data": {
      "application/vnd.jupyter.widget-view+json": {
       "model_id": "644355b989864931873e9a26ae7d050b",
       "version_major": 2,
       "version_minor": 0
      },
      "text/plain": [
       "  0%|          | 0/3083 [00:00<?, ?it/s]"
      ]
     },
     "metadata": {},
     "output_type": "display_data"
    },
    {
     "name": "stdout",
     "output_type": "stream",
     "text": [
      "final shape (3083, 178)\n",
      "shape before row_rise_aggregation (38174, 369)\n",
      "shape after row_rise_aggregation (38174, 384)\n",
      "shape before column_rise_aggregation (38174, 384)\n",
      "shape after column_rise_aggregation (3083, 1897)\n",
      "diff between last and mean transaction\n"
     ]
    },
    {
     "data": {
      "application/vnd.jupyter.widget-view+json": {
       "model_id": "82087850501849e0b76654d5ea8f3d7b",
       "version_major": 2,
       "version_minor": 0
      },
      "text/plain": [
       "  0%|          | 0/177 [00:00<?, ?it/s]"
      ]
     },
     "metadata": {},
     "output_type": "display_data"
    },
    {
     "name": "stdout",
     "output_type": "stream",
     "text": [
      "save processed test_282.ftr\n"
     ]
    },
    {
     "data": {
      "application/vnd.jupyter.widget-view+json": {
       "model_id": "d340a697dbf04b93bf98b69be8ff5790",
       "version_major": 2,
       "version_minor": 0
      },
      "text/plain": [
       "  0%|          | 0/3083 [00:00<?, ?it/s]"
      ]
     },
     "metadata": {},
     "output_type": "display_data"
    },
    {
     "name": "stdout",
     "output_type": "stream",
     "text": [
      "final shape (3083, 178)\n",
      "shape before row_rise_aggregation (37654, 369)\n",
      "shape after row_rise_aggregation (37654, 384)\n",
      "shape before column_rise_aggregation (37654, 384)\n",
      "shape after column_rise_aggregation (3083, 1897)\n",
      "diff between last and mean transaction\n"
     ]
    },
    {
     "data": {
      "application/vnd.jupyter.widget-view+json": {
       "model_id": "95f6a37a73e74eaf89f08b7a67756d36",
       "version_major": 2,
       "version_minor": 0
      },
      "text/plain": [
       "  0%|          | 0/177 [00:00<?, ?it/s]"
      ]
     },
     "metadata": {},
     "output_type": "display_data"
    },
    {
     "name": "stdout",
     "output_type": "stream",
     "text": [
      "save processed test_283.ftr\n"
     ]
    },
    {
     "data": {
      "application/vnd.jupyter.widget-view+json": {
       "model_id": "299eddc78931479fb1c6be833738c6f4",
       "version_major": 2,
       "version_minor": 0
      },
      "text/plain": [
       "  0%|          | 0/3083 [00:00<?, ?it/s]"
      ]
     },
     "metadata": {},
     "output_type": "display_data"
    },
    {
     "name": "stdout",
     "output_type": "stream",
     "text": [
      "final shape (3083, 178)\n",
      "shape before row_rise_aggregation (37858, 369)\n",
      "shape after row_rise_aggregation (37858, 384)\n",
      "shape before column_rise_aggregation (37858, 384)\n",
      "shape after column_rise_aggregation (3083, 1893)\n",
      "diff between last and mean transaction\n"
     ]
    },
    {
     "data": {
      "application/vnd.jupyter.widget-view+json": {
       "model_id": "a5f5960d1c294532976be1c2c1d14d5a",
       "version_major": 2,
       "version_minor": 0
      },
      "text/plain": [
       "  0%|          | 0/177 [00:00<?, ?it/s]"
      ]
     },
     "metadata": {},
     "output_type": "display_data"
    },
    {
     "name": "stdout",
     "output_type": "stream",
     "text": [
      "save processed test_9.ftr\n"
     ]
    },
    {
     "data": {
      "application/vnd.jupyter.widget-view+json": {
       "model_id": "8cc79a06d37b4abaad8c55685e9d0241",
       "version_major": 2,
       "version_minor": 0
      },
      "text/plain": [
       "  0%|          | 0/3083 [00:00<?, ?it/s]"
      ]
     },
     "metadata": {},
     "output_type": "display_data"
    },
    {
     "name": "stdout",
     "output_type": "stream",
     "text": [
      "final shape (3083, 178)\n",
      "shape before row_rise_aggregation (38068, 369)\n",
      "shape after row_rise_aggregation (38068, 384)\n",
      "shape before column_rise_aggregation (38068, 384)\n",
      "shape after column_rise_aggregation (3083, 1893)\n",
      "diff between last and mean transaction\n"
     ]
    },
    {
     "data": {
      "application/vnd.jupyter.widget-view+json": {
       "model_id": "0890116cac744de4a5dfd79f779cd619",
       "version_major": 2,
       "version_minor": 0
      },
      "text/plain": [
       "  0%|          | 0/177 [00:00<?, ?it/s]"
      ]
     },
     "metadata": {},
     "output_type": "display_data"
    },
    {
     "name": "stdout",
     "output_type": "stream",
     "text": [
      "save processed test_79.ftr\n"
     ]
    },
    {
     "data": {
      "application/vnd.jupyter.widget-view+json": {
       "model_id": "410a43df1bc54aea8a97349272e7291f",
       "version_major": 2,
       "version_minor": 0
      },
      "text/plain": [
       "  0%|          | 0/3083 [00:00<?, ?it/s]"
      ]
     },
     "metadata": {},
     "output_type": "display_data"
    },
    {
     "name": "stdout",
     "output_type": "stream",
     "text": [
      "final shape (3083, 178)\n",
      "shape before row_rise_aggregation (37905, 369)\n",
      "shape after row_rise_aggregation (37905, 384)\n",
      "shape before column_rise_aggregation (37905, 384)\n",
      "shape after column_rise_aggregation (3083, 1897)\n",
      "diff between last and mean transaction\n"
     ]
    },
    {
     "data": {
      "application/vnd.jupyter.widget-view+json": {
       "model_id": "66a877935ee54271b5a2fd1016b670e4",
       "version_major": 2,
       "version_minor": 0
      },
      "text/plain": [
       "  0%|          | 0/177 [00:00<?, ?it/s]"
      ]
     },
     "metadata": {},
     "output_type": "display_data"
    },
    {
     "name": "stdout",
     "output_type": "stream",
     "text": [
      "save processed test_68.ftr\n"
     ]
    },
    {
     "data": {
      "application/vnd.jupyter.widget-view+json": {
       "model_id": "d17f2d5c2b81422390936aef64ae9d1e",
       "version_major": 2,
       "version_minor": 0
      },
      "text/plain": [
       "  0%|          | 0/3083 [00:00<?, ?it/s]"
      ]
     },
     "metadata": {},
     "output_type": "display_data"
    },
    {
     "name": "stdout",
     "output_type": "stream",
     "text": [
      "final shape (3083, 178)\n",
      "shape before row_rise_aggregation (38008, 369)\n",
      "shape after row_rise_aggregation (38008, 384)\n",
      "shape before column_rise_aggregation (38008, 384)\n",
      "shape after column_rise_aggregation (3083, 1893)\n",
      "diff between last and mean transaction\n"
     ]
    },
    {
     "data": {
      "application/vnd.jupyter.widget-view+json": {
       "model_id": "f4d034305d5643da89d713375ab096d0",
       "version_major": 2,
       "version_minor": 0
      },
      "text/plain": [
       "  0%|          | 0/177 [00:00<?, ?it/s]"
      ]
     },
     "metadata": {},
     "output_type": "display_data"
    },
    {
     "name": "stdout",
     "output_type": "stream",
     "text": [
      "save processed test_246.ftr\n"
     ]
    },
    {
     "data": {
      "application/vnd.jupyter.widget-view+json": {
       "model_id": "fc238e61870c4e2b8ffdf627627f8a9c",
       "version_major": 2,
       "version_minor": 0
      },
      "text/plain": [
       "  0%|          | 0/3083 [00:00<?, ?it/s]"
      ]
     },
     "metadata": {},
     "output_type": "display_data"
    },
    {
     "name": "stdout",
     "output_type": "stream",
     "text": [
      "final shape (3083, 178)\n",
      "shape before row_rise_aggregation (37924, 369)\n",
      "shape after row_rise_aggregation (37924, 384)\n",
      "shape before column_rise_aggregation (37924, 384)\n",
      "shape after column_rise_aggregation (3083, 1881)\n",
      "diff between last and mean transaction\n"
     ]
    },
    {
     "data": {
      "application/vnd.jupyter.widget-view+json": {
       "model_id": "150987d3c6bf4708b1c5a0f87e4300c9",
       "version_major": 2,
       "version_minor": 0
      },
      "text/plain": [
       "  0%|          | 0/177 [00:00<?, ?it/s]"
      ]
     },
     "metadata": {},
     "output_type": "display_data"
    },
    {
     "name": "stdout",
     "output_type": "stream",
     "text": [
      "save processed test_151.ftr\n"
     ]
    },
    {
     "data": {
      "application/vnd.jupyter.widget-view+json": {
       "model_id": "f4b9dce1c6bd48a286acf12f032beb4e",
       "version_major": 2,
       "version_minor": 0
      },
      "text/plain": [
       "  0%|          | 0/3083 [00:00<?, ?it/s]"
      ]
     },
     "metadata": {},
     "output_type": "display_data"
    },
    {
     "name": "stdout",
     "output_type": "stream",
     "text": [
      "final shape (3083, 178)\n",
      "shape before row_rise_aggregation (37766, 369)\n",
      "shape after row_rise_aggregation (37766, 384)\n",
      "shape before column_rise_aggregation (37766, 384)\n",
      "shape after column_rise_aggregation (3083, 1897)\n",
      "diff between last and mean transaction\n"
     ]
    },
    {
     "data": {
      "application/vnd.jupyter.widget-view+json": {
       "model_id": "13833e13f76e414a8b1f2fae3f444b1d",
       "version_major": 2,
       "version_minor": 0
      },
      "text/plain": [
       "  0%|          | 0/177 [00:00<?, ?it/s]"
      ]
     },
     "metadata": {},
     "output_type": "display_data"
    },
    {
     "name": "stdout",
     "output_type": "stream",
     "text": [
      "save processed test_202.ftr\n"
     ]
    },
    {
     "data": {
      "application/vnd.jupyter.widget-view+json": {
       "model_id": "a94fb9066eaf4e898fdfa5b2763b00c2",
       "version_major": 2,
       "version_minor": 0
      },
      "text/plain": [
       "  0%|          | 0/3083 [00:00<?, ?it/s]"
      ]
     },
     "metadata": {},
     "output_type": "display_data"
    },
    {
     "name": "stdout",
     "output_type": "stream",
     "text": [
      "final shape (3083, 178)\n",
      "shape before row_rise_aggregation (37770, 369)\n",
      "shape after row_rise_aggregation (37770, 384)\n",
      "shape before column_rise_aggregation (37770, 384)\n",
      "shape after column_rise_aggregation (3083, 1897)\n",
      "diff between last and mean transaction\n"
     ]
    },
    {
     "data": {
      "application/vnd.jupyter.widget-view+json": {
       "model_id": "3789619bdb53471bbccb929a15e61c02",
       "version_major": 2,
       "version_minor": 0
      },
      "text/plain": [
       "  0%|          | 0/177 [00:00<?, ?it/s]"
      ]
     },
     "metadata": {},
     "output_type": "display_data"
    },
    {
     "name": "stdout",
     "output_type": "stream",
     "text": [
      "save processed test_138.ftr\n"
     ]
    },
    {
     "data": {
      "application/vnd.jupyter.widget-view+json": {
       "model_id": "cb35445872004c98b9c2d6d9a3b919ca",
       "version_major": 2,
       "version_minor": 0
      },
      "text/plain": [
       "  0%|          | 0/3083 [00:00<?, ?it/s]"
      ]
     },
     "metadata": {},
     "output_type": "display_data"
    },
    {
     "name": "stdout",
     "output_type": "stream",
     "text": [
      "final shape (3083, 178)\n",
      "shape before row_rise_aggregation (37761, 369)\n",
      "shape after row_rise_aggregation (37761, 384)\n",
      "shape before column_rise_aggregation (37761, 384)\n",
      "shape after column_rise_aggregation (3083, 1893)\n",
      "diff between last and mean transaction\n"
     ]
    },
    {
     "data": {
      "application/vnd.jupyter.widget-view+json": {
       "model_id": "62430cd592f841bb97985fe15f73850b",
       "version_major": 2,
       "version_minor": 0
      },
      "text/plain": [
       "  0%|          | 0/177 [00:00<?, ?it/s]"
      ]
     },
     "metadata": {},
     "output_type": "display_data"
    },
    {
     "name": "stdout",
     "output_type": "stream",
     "text": [
      "save processed test_115.ftr\n"
     ]
    },
    {
     "data": {
      "application/vnd.jupyter.widget-view+json": {
       "model_id": "c59d4c8873dd46bea4d07e885b84c6c6",
       "version_major": 2,
       "version_minor": 0
      },
      "text/plain": [
       "  0%|          | 0/3083 [00:00<?, ?it/s]"
      ]
     },
     "metadata": {},
     "output_type": "display_data"
    },
    {
     "name": "stdout",
     "output_type": "stream",
     "text": [
      "final shape (3083, 178)\n",
      "shape before row_rise_aggregation (37779, 369)\n",
      "shape after row_rise_aggregation (37779, 384)\n",
      "shape before column_rise_aggregation (37779, 384)\n",
      "shape after column_rise_aggregation (3083, 1893)\n",
      "diff between last and mean transaction\n"
     ]
    },
    {
     "data": {
      "application/vnd.jupyter.widget-view+json": {
       "model_id": "fc7cc5e30cde4408bb331eef766d744a",
       "version_major": 2,
       "version_minor": 0
      },
      "text/plain": [
       "  0%|          | 0/177 [00:00<?, ?it/s]"
      ]
     },
     "metadata": {},
     "output_type": "display_data"
    },
    {
     "name": "stdout",
     "output_type": "stream",
     "text": [
      "save processed test_173.ftr\n"
     ]
    },
    {
     "data": {
      "application/vnd.jupyter.widget-view+json": {
       "model_id": "40e447b9a9264634b705388742e1fcda",
       "version_major": 2,
       "version_minor": 0
      },
      "text/plain": [
       "  0%|          | 0/3083 [00:00<?, ?it/s]"
      ]
     },
     "metadata": {},
     "output_type": "display_data"
    },
    {
     "name": "stdout",
     "output_type": "stream",
     "text": [
      "final shape (3083, 178)\n",
      "shape before row_rise_aggregation (38050, 369)\n",
      "shape after row_rise_aggregation (38050, 384)\n",
      "shape before column_rise_aggregation (38050, 384)\n",
      "shape after column_rise_aggregation (3083, 1897)\n",
      "diff between last and mean transaction\n"
     ]
    },
    {
     "data": {
      "application/vnd.jupyter.widget-view+json": {
       "model_id": "5def1d675ba74dfe9f666e8e1ad39811",
       "version_major": 2,
       "version_minor": 0
      },
      "text/plain": [
       "  0%|          | 0/177 [00:00<?, ?it/s]"
      ]
     },
     "metadata": {},
     "output_type": "display_data"
    },
    {
     "name": "stdout",
     "output_type": "stream",
     "text": [
      "save processed test_162.ftr\n"
     ]
    },
    {
     "data": {
      "application/vnd.jupyter.widget-view+json": {
       "model_id": "e130224f20fe4a609008366698cc6e14",
       "version_major": 2,
       "version_minor": 0
      },
      "text/plain": [
       "  0%|          | 0/3083 [00:00<?, ?it/s]"
      ]
     },
     "metadata": {},
     "output_type": "display_data"
    },
    {
     "name": "stdout",
     "output_type": "stream",
     "text": [
      "final shape (3083, 178)\n",
      "shape before row_rise_aggregation (37832, 369)\n",
      "shape after row_rise_aggregation (37832, 384)\n",
      "shape before column_rise_aggregation (37832, 384)\n",
      "shape after column_rise_aggregation (3083, 1893)\n",
      "diff between last and mean transaction\n"
     ]
    },
    {
     "data": {
      "application/vnd.jupyter.widget-view+json": {
       "model_id": "fad946f60eca4a1199f1b35c7b40e9b6",
       "version_major": 2,
       "version_minor": 0
      },
      "text/plain": [
       "  0%|          | 0/177 [00:00<?, ?it/s]"
      ]
     },
     "metadata": {},
     "output_type": "display_data"
    },
    {
     "name": "stdout",
     "output_type": "stream",
     "text": [
      "save processed test_37.ftr\n"
     ]
    },
    {
     "data": {
      "application/vnd.jupyter.widget-view+json": {
       "model_id": "38a23194453545a3bed14dbf1705da0a",
       "version_major": 2,
       "version_minor": 0
      },
      "text/plain": [
       "  0%|          | 0/3083 [00:00<?, ?it/s]"
      ]
     },
     "metadata": {},
     "output_type": "display_data"
    },
    {
     "name": "stdout",
     "output_type": "stream",
     "text": [
      "final shape (3083, 178)\n",
      "shape before row_rise_aggregation (37623, 369)\n",
      "shape after row_rise_aggregation (37623, 384)\n",
      "shape before column_rise_aggregation (37623, 384)\n",
      "shape after column_rise_aggregation (3083, 1893)\n",
      "diff between last and mean transaction\n"
     ]
    },
    {
     "data": {
      "application/vnd.jupyter.widget-view+json": {
       "model_id": "b75c3d3a62e84fb48d1c291baf483ab8",
       "version_major": 2,
       "version_minor": 0
      },
      "text/plain": [
       "  0%|          | 0/177 [00:00<?, ?it/s]"
      ]
     },
     "metadata": {},
     "output_type": "display_data"
    },
    {
     "name": "stdout",
     "output_type": "stream",
     "text": [
      "save processed test_104.ftr\n"
     ]
    },
    {
     "data": {
      "application/vnd.jupyter.widget-view+json": {
       "model_id": "6a8919772da44d7297a3d8dc4cd1d6af",
       "version_major": 2,
       "version_minor": 0
      },
      "text/plain": [
       "  0%|          | 0/3083 [00:00<?, ?it/s]"
      ]
     },
     "metadata": {},
     "output_type": "display_data"
    },
    {
     "name": "stdout",
     "output_type": "stream",
     "text": [
      "final shape (3083, 178)\n",
      "shape before row_rise_aggregation (37736, 369)\n",
      "shape after row_rise_aggregation (37736, 384)\n",
      "shape before column_rise_aggregation (37736, 384)\n",
      "shape after column_rise_aggregation (3083, 1897)\n",
      "diff between last and mean transaction\n"
     ]
    },
    {
     "data": {
      "application/vnd.jupyter.widget-view+json": {
       "model_id": "d0691312d55846d099f292db37480349",
       "version_major": 2,
       "version_minor": 0
      },
      "text/plain": [
       "  0%|          | 0/177 [00:00<?, ?it/s]"
      ]
     },
     "metadata": {},
     "output_type": "display_data"
    },
    {
     "name": "stdout",
     "output_type": "stream",
     "text": [
      "save processed test_146.ftr\n"
     ]
    },
    {
     "data": {
      "application/vnd.jupyter.widget-view+json": {
       "model_id": "3768cce4619a4a27a7711e5c0043ac64",
       "version_major": 2,
       "version_minor": 0
      },
      "text/plain": [
       "  0%|          | 0/3083 [00:00<?, ?it/s]"
      ]
     },
     "metadata": {},
     "output_type": "display_data"
    },
    {
     "name": "stdout",
     "output_type": "stream",
     "text": [
      "final shape (3083, 178)\n",
      "shape before row_rise_aggregation (37706, 369)\n",
      "shape after row_rise_aggregation (37706, 384)\n",
      "shape before column_rise_aggregation (37706, 384)\n",
      "shape after column_rise_aggregation (3083, 1897)\n",
      "diff between last and mean transaction\n"
     ]
    },
    {
     "data": {
      "application/vnd.jupyter.widget-view+json": {
       "model_id": "db215a3060f44d9aabcbbd6846908363",
       "version_major": 2,
       "version_minor": 0
      },
      "text/plain": [
       "  0%|          | 0/177 [00:00<?, ?it/s]"
      ]
     },
     "metadata": {},
     "output_type": "display_data"
    },
    {
     "name": "stdout",
     "output_type": "stream",
     "text": [
      "save processed test_101.ftr\n"
     ]
    },
    {
     "data": {
      "application/vnd.jupyter.widget-view+json": {
       "model_id": "f20fc986323e44a1954bdd2554dd3f66",
       "version_major": 2,
       "version_minor": 0
      },
      "text/plain": [
       "  0%|          | 0/3083 [00:00<?, ?it/s]"
      ]
     },
     "metadata": {},
     "output_type": "display_data"
    },
    {
     "name": "stdout",
     "output_type": "stream",
     "text": [
      "final shape (3083, 178)\n",
      "shape before row_rise_aggregation (37691, 369)\n",
      "shape after row_rise_aggregation (37691, 384)\n",
      "shape before column_rise_aggregation (37691, 384)\n",
      "shape after column_rise_aggregation (3083, 1893)\n",
      "diff between last and mean transaction\n"
     ]
    },
    {
     "data": {
      "application/vnd.jupyter.widget-view+json": {
       "model_id": "05f78c0bf94e431eb443cf187b0eb11a",
       "version_major": 2,
       "version_minor": 0
      },
      "text/plain": [
       "  0%|          | 0/177 [00:00<?, ?it/s]"
      ]
     },
     "metadata": {},
     "output_type": "display_data"
    },
    {
     "name": "stdout",
     "output_type": "stream",
     "text": [
      "save processed test_8.ftr\n"
     ]
    },
    {
     "data": {
      "application/vnd.jupyter.widget-view+json": {
       "model_id": "fe155748dcfb429eacd39005a8835f31",
       "version_major": 2,
       "version_minor": 0
      },
      "text/plain": [
       "  0%|          | 0/3083 [00:00<?, ?it/s]"
      ]
     },
     "metadata": {},
     "output_type": "display_data"
    },
    {
     "name": "stdout",
     "output_type": "stream",
     "text": [
      "final shape (3083, 178)\n",
      "shape before row_rise_aggregation (37901, 369)\n",
      "shape after row_rise_aggregation (37901, 384)\n",
      "shape before column_rise_aggregation (37901, 384)\n",
      "shape after column_rise_aggregation (3083, 1897)\n",
      "diff between last and mean transaction\n"
     ]
    },
    {
     "data": {
      "application/vnd.jupyter.widget-view+json": {
       "model_id": "6b3d0c3b168a404ab408abad96571468",
       "version_major": 2,
       "version_minor": 0
      },
      "text/plain": [
       "  0%|          | 0/177 [00:00<?, ?it/s]"
      ]
     },
     "metadata": {},
     "output_type": "display_data"
    },
    {
     "name": "stdout",
     "output_type": "stream",
     "text": [
      "save processed test_116.ftr\n"
     ]
    },
    {
     "data": {
      "application/vnd.jupyter.widget-view+json": {
       "model_id": "e803e49546404e80820daebd8a234547",
       "version_major": 2,
       "version_minor": 0
      },
      "text/plain": [
       "  0%|          | 0/3083 [00:00<?, ?it/s]"
      ]
     },
     "metadata": {},
     "output_type": "display_data"
    },
    {
     "name": "stdout",
     "output_type": "stream",
     "text": [
      "final shape (3083, 178)\n",
      "shape before row_rise_aggregation (37986, 369)\n",
      "shape after row_rise_aggregation (37986, 384)\n",
      "shape before column_rise_aggregation (37986, 384)\n",
      "shape after column_rise_aggregation (3083, 1897)\n",
      "diff between last and mean transaction\n"
     ]
    },
    {
     "data": {
      "application/vnd.jupyter.widget-view+json": {
       "model_id": "ba8abb30d4b44e0ebcee0af5de9c29b4",
       "version_major": 2,
       "version_minor": 0
      },
      "text/plain": [
       "  0%|          | 0/177 [00:00<?, ?it/s]"
      ]
     },
     "metadata": {},
     "output_type": "display_data"
    },
    {
     "name": "stdout",
     "output_type": "stream",
     "text": [
      "save processed test_130.ftr\n"
     ]
    },
    {
     "data": {
      "application/vnd.jupyter.widget-view+json": {
       "model_id": "59cd239ae0d44bb7a22918fc9d5684f5",
       "version_major": 2,
       "version_minor": 0
      },
      "text/plain": [
       "  0%|          | 0/3083 [00:00<?, ?it/s]"
      ]
     },
     "metadata": {},
     "output_type": "display_data"
    },
    {
     "name": "stdout",
     "output_type": "stream",
     "text": [
      "final shape (3083, 178)\n",
      "shape before row_rise_aggregation (37938, 369)\n",
      "shape after row_rise_aggregation (37938, 384)\n",
      "shape before column_rise_aggregation (37938, 384)\n",
      "shape after column_rise_aggregation (3083, 1897)\n",
      "diff between last and mean transaction\n"
     ]
    },
    {
     "data": {
      "application/vnd.jupyter.widget-view+json": {
       "model_id": "737538742b1b4feea57697cd74eceb8d",
       "version_major": 2,
       "version_minor": 0
      },
      "text/plain": [
       "  0%|          | 0/177 [00:00<?, ?it/s]"
      ]
     },
     "metadata": {},
     "output_type": "display_data"
    },
    {
     "name": "stdout",
     "output_type": "stream",
     "text": [
      "save processed test_167.ftr\n"
     ]
    },
    {
     "data": {
      "application/vnd.jupyter.widget-view+json": {
       "model_id": "97ab2e0c18594b05876a5c3bd8e8fd23",
       "version_major": 2,
       "version_minor": 0
      },
      "text/plain": [
       "  0%|          | 0/3083 [00:00<?, ?it/s]"
      ]
     },
     "metadata": {},
     "output_type": "display_data"
    },
    {
     "name": "stdout",
     "output_type": "stream",
     "text": [
      "final shape (3083, 178)\n",
      "shape before row_rise_aggregation (37929, 369)\n",
      "shape after row_rise_aggregation (37929, 384)\n",
      "shape before column_rise_aggregation (37929, 384)\n",
      "shape after column_rise_aggregation (3083, 1897)\n",
      "diff between last and mean transaction\n"
     ]
    },
    {
     "data": {
      "application/vnd.jupyter.widget-view+json": {
       "model_id": "b5f8c5ada1ea4d2994ea7db0dab310ac",
       "version_major": 2,
       "version_minor": 0
      },
      "text/plain": [
       "  0%|          | 0/177 [00:00<?, ?it/s]"
      ]
     },
     "metadata": {},
     "output_type": "display_data"
    },
    {
     "name": "stdout",
     "output_type": "stream",
     "text": [
      "save processed test_144.ftr\n"
     ]
    },
    {
     "data": {
      "application/vnd.jupyter.widget-view+json": {
       "model_id": "eb0ba4f461d5490d8700f0e3d6f3c23f",
       "version_major": 2,
       "version_minor": 0
      },
      "text/plain": [
       "  0%|          | 0/3083 [00:00<?, ?it/s]"
      ]
     },
     "metadata": {},
     "output_type": "display_data"
    },
    {
     "name": "stdout",
     "output_type": "stream",
     "text": [
      "final shape (3083, 178)\n",
      "shape before row_rise_aggregation (37779, 369)\n",
      "shape after row_rise_aggregation (37779, 384)\n",
      "shape before column_rise_aggregation (37779, 384)\n",
      "shape after column_rise_aggregation (3083, 1897)\n",
      "diff between last and mean transaction\n"
     ]
    },
    {
     "data": {
      "application/vnd.jupyter.widget-view+json": {
       "model_id": "eb9acbd09ce64e80b000a2faa8e8e575",
       "version_major": 2,
       "version_minor": 0
      },
      "text/plain": [
       "  0%|          | 0/177 [00:00<?, ?it/s]"
      ]
     },
     "metadata": {},
     "output_type": "display_data"
    },
    {
     "name": "stdout",
     "output_type": "stream",
     "text": [
      "save processed test_58.ftr\n"
     ]
    },
    {
     "data": {
      "application/vnd.jupyter.widget-view+json": {
       "model_id": "1e2ce36a970847eb98247f78278905af",
       "version_major": 2,
       "version_minor": 0
      },
      "text/plain": [
       "  0%|          | 0/3083 [00:00<?, ?it/s]"
      ]
     },
     "metadata": {},
     "output_type": "display_data"
    },
    {
     "name": "stdout",
     "output_type": "stream",
     "text": [
      "final shape (3083, 178)\n",
      "shape before row_rise_aggregation (37825, 369)\n",
      "shape after row_rise_aggregation (37825, 384)\n",
      "shape before column_rise_aggregation (37825, 384)\n",
      "shape after column_rise_aggregation (3083, 1897)\n",
      "diff between last and mean transaction\n"
     ]
    },
    {
     "data": {
      "application/vnd.jupyter.widget-view+json": {
       "model_id": "d376e2fce6fc423c91cd5b50e9f4f497",
       "version_major": 2,
       "version_minor": 0
      },
      "text/plain": [
       "  0%|          | 0/177 [00:00<?, ?it/s]"
      ]
     },
     "metadata": {},
     "output_type": "display_data"
    },
    {
     "name": "stdout",
     "output_type": "stream",
     "text": [
      "save processed test_277.ftr\n"
     ]
    },
    {
     "data": {
      "application/vnd.jupyter.widget-view+json": {
       "model_id": "db7b48e762fd452f9f4f2fcebbe61aad",
       "version_major": 2,
       "version_minor": 0
      },
      "text/plain": [
       "  0%|          | 0/3083 [00:00<?, ?it/s]"
      ]
     },
     "metadata": {},
     "output_type": "display_data"
    },
    {
     "name": "stdout",
     "output_type": "stream",
     "text": [
      "final shape (3083, 178)\n",
      "shape before row_rise_aggregation (37996, 369)\n",
      "shape after row_rise_aggregation (37996, 384)\n",
      "shape before column_rise_aggregation (37996, 384)\n",
      "shape after column_rise_aggregation (3083, 1893)\n",
      "diff between last and mean transaction\n"
     ]
    },
    {
     "data": {
      "application/vnd.jupyter.widget-view+json": {
       "model_id": "9e5d3134c583465290b0024171b45c7b",
       "version_major": 2,
       "version_minor": 0
      },
      "text/plain": [
       "  0%|          | 0/177 [00:00<?, ?it/s]"
      ]
     },
     "metadata": {},
     "output_type": "display_data"
    },
    {
     "name": "stdout",
     "output_type": "stream",
     "text": [
      "save processed test_269.ftr\n"
     ]
    },
    {
     "data": {
      "application/vnd.jupyter.widget-view+json": {
       "model_id": "e18f61cce49f418b8ad453e0c3a0110c",
       "version_major": 2,
       "version_minor": 0
      },
      "text/plain": [
       "  0%|          | 0/3083 [00:00<?, ?it/s]"
      ]
     },
     "metadata": {},
     "output_type": "display_data"
    },
    {
     "name": "stdout",
     "output_type": "stream",
     "text": [
      "final shape (3083, 178)\n",
      "shape before row_rise_aggregation (37846, 369)\n",
      "shape after row_rise_aggregation (37846, 384)\n",
      "shape before column_rise_aggregation (37846, 384)\n",
      "shape after column_rise_aggregation (3083, 1897)\n",
      "diff between last and mean transaction\n"
     ]
    },
    {
     "data": {
      "application/vnd.jupyter.widget-view+json": {
       "model_id": "6eb066e45cc3419a9ed3aab7838c140f",
       "version_major": 2,
       "version_minor": 0
      },
      "text/plain": [
       "  0%|          | 0/177 [00:00<?, ?it/s]"
      ]
     },
     "metadata": {},
     "output_type": "display_data"
    },
    {
     "name": "stdout",
     "output_type": "stream",
     "text": [
      "save processed test_73.ftr\n"
     ]
    },
    {
     "data": {
      "application/vnd.jupyter.widget-view+json": {
       "model_id": "1d6704be07244c6987362280c5cfe463",
       "version_major": 2,
       "version_minor": 0
      },
      "text/plain": [
       "  0%|          | 0/3083 [00:00<?, ?it/s]"
      ]
     },
     "metadata": {},
     "output_type": "display_data"
    },
    {
     "name": "stdout",
     "output_type": "stream",
     "text": [
      "final shape (3083, 178)\n",
      "shape before row_rise_aggregation (37879, 369)\n",
      "shape after row_rise_aggregation (37879, 384)\n",
      "shape before column_rise_aggregation (37879, 384)\n",
      "shape after column_rise_aggregation (3083, 1897)\n",
      "diff between last and mean transaction\n"
     ]
    },
    {
     "data": {
      "application/vnd.jupyter.widget-view+json": {
       "model_id": "9741c5ef7c004e5d928fc75b3d18a5a2",
       "version_major": 2,
       "version_minor": 0
      },
      "text/plain": [
       "  0%|          | 0/177 [00:00<?, ?it/s]"
      ]
     },
     "metadata": {},
     "output_type": "display_data"
    },
    {
     "name": "stdout",
     "output_type": "stream",
     "text": [
      "save processed test_192.ftr\n"
     ]
    },
    {
     "data": {
      "application/vnd.jupyter.widget-view+json": {
       "model_id": "6d48aecf623e43018197db78a5a6a874",
       "version_major": 2,
       "version_minor": 0
      },
      "text/plain": [
       "  0%|          | 0/3083 [00:00<?, ?it/s]"
      ]
     },
     "metadata": {},
     "output_type": "display_data"
    },
    {
     "name": "stdout",
     "output_type": "stream",
     "text": [
      "final shape (3083, 178)\n",
      "shape before row_rise_aggregation (37930, 369)\n",
      "shape after row_rise_aggregation (37930, 384)\n",
      "shape before column_rise_aggregation (37930, 384)\n",
      "shape after column_rise_aggregation (3083, 1893)\n",
      "diff between last and mean transaction\n"
     ]
    },
    {
     "data": {
      "application/vnd.jupyter.widget-view+json": {
       "model_id": "4adf119909c041808b9bd3a6f9d0473b",
       "version_major": 2,
       "version_minor": 0
      },
      "text/plain": [
       "  0%|          | 0/177 [00:00<?, ?it/s]"
      ]
     },
     "metadata": {},
     "output_type": "display_data"
    },
    {
     "name": "stdout",
     "output_type": "stream",
     "text": [
      "save processed test_17.ftr\n"
     ]
    },
    {
     "data": {
      "application/vnd.jupyter.widget-view+json": {
       "model_id": "76dcf22e09c447cd8db06b7f5de5c54f",
       "version_major": 2,
       "version_minor": 0
      },
      "text/plain": [
       "  0%|          | 0/3083 [00:00<?, ?it/s]"
      ]
     },
     "metadata": {},
     "output_type": "display_data"
    },
    {
     "name": "stdout",
     "output_type": "stream",
     "text": [
      "final shape (3083, 178)\n",
      "shape before row_rise_aggregation (38123, 369)\n",
      "shape after row_rise_aggregation (38123, 384)\n",
      "shape before column_rise_aggregation (38123, 384)\n",
      "shape after column_rise_aggregation (3083, 1897)\n",
      "diff between last and mean transaction\n"
     ]
    },
    {
     "data": {
      "application/vnd.jupyter.widget-view+json": {
       "model_id": "7fc73577590841e095dc3de794e066b7",
       "version_major": 2,
       "version_minor": 0
      },
      "text/plain": [
       "  0%|          | 0/177 [00:00<?, ?it/s]"
      ]
     },
     "metadata": {},
     "output_type": "display_data"
    },
    {
     "name": "stdout",
     "output_type": "stream",
     "text": [
      "save processed test_126.ftr\n"
     ]
    },
    {
     "data": {
      "application/vnd.jupyter.widget-view+json": {
       "model_id": "1ca39628c7ae41ee8bf8f63436d8e6d9",
       "version_major": 2,
       "version_minor": 0
      },
      "text/plain": [
       "  0%|          | 0/3083 [00:00<?, ?it/s]"
      ]
     },
     "metadata": {},
     "output_type": "display_data"
    },
    {
     "name": "stdout",
     "output_type": "stream",
     "text": [
      "final shape (3083, 178)\n",
      "shape before row_rise_aggregation (37840, 369)\n",
      "shape after row_rise_aggregation (37840, 384)\n",
      "shape before column_rise_aggregation (37840, 384)\n",
      "shape after column_rise_aggregation (3083, 1893)\n",
      "diff between last and mean transaction\n"
     ]
    },
    {
     "data": {
      "application/vnd.jupyter.widget-view+json": {
       "model_id": "0568c7fa7c6641ffa55154771b40cdd1",
       "version_major": 2,
       "version_minor": 0
      },
      "text/plain": [
       "  0%|          | 0/177 [00:00<?, ?it/s]"
      ]
     },
     "metadata": {},
     "output_type": "display_data"
    },
    {
     "name": "stdout",
     "output_type": "stream",
     "text": [
      "save processed test_297.ftr\n"
     ]
    },
    {
     "data": {
      "application/vnd.jupyter.widget-view+json": {
       "model_id": "a28bf9c79427486d916d9bf5173dd5a3",
       "version_major": 2,
       "version_minor": 0
      },
      "text/plain": [
       "  0%|          | 0/3083 [00:00<?, ?it/s]"
      ]
     },
     "metadata": {},
     "output_type": "display_data"
    },
    {
     "name": "stdout",
     "output_type": "stream",
     "text": [
      "final shape (3083, 178)\n",
      "shape before row_rise_aggregation (38077, 369)\n",
      "shape after row_rise_aggregation (38077, 384)\n",
      "shape before column_rise_aggregation (38077, 384)\n",
      "shape after column_rise_aggregation (3083, 1893)\n",
      "diff between last and mean transaction\n"
     ]
    },
    {
     "data": {
      "application/vnd.jupyter.widget-view+json": {
       "model_id": "76d3d000b9874b0686a8c247088c18b3",
       "version_major": 2,
       "version_minor": 0
      },
      "text/plain": [
       "  0%|          | 0/177 [00:00<?, ?it/s]"
      ]
     },
     "metadata": {},
     "output_type": "display_data"
    },
    {
     "name": "stdout",
     "output_type": "stream",
     "text": [
      "save processed test_30.ftr\n"
     ]
    },
    {
     "data": {
      "application/vnd.jupyter.widget-view+json": {
       "model_id": "a1a85e001f774d0fa532878d73e1fdc0",
       "version_major": 2,
       "version_minor": 0
      },
      "text/plain": [
       "  0%|          | 0/3083 [00:00<?, ?it/s]"
      ]
     },
     "metadata": {},
     "output_type": "display_data"
    },
    {
     "name": "stdout",
     "output_type": "stream",
     "text": [
      "final shape (3083, 178)\n",
      "shape before row_rise_aggregation (37938, 369)\n",
      "shape after row_rise_aggregation (37938, 384)\n",
      "shape before column_rise_aggregation (37938, 384)\n",
      "shape after column_rise_aggregation (3083, 1893)\n",
      "diff between last and mean transaction\n"
     ]
    },
    {
     "data": {
      "application/vnd.jupyter.widget-view+json": {
       "model_id": "197b755111794185815b6de2481bba39",
       "version_major": 2,
       "version_minor": 0
      },
      "text/plain": [
       "  0%|          | 0/177 [00:00<?, ?it/s]"
      ]
     },
     "metadata": {},
     "output_type": "display_data"
    },
    {
     "name": "stdout",
     "output_type": "stream",
     "text": [
      "save processed test_168.ftr\n"
     ]
    },
    {
     "data": {
      "application/vnd.jupyter.widget-view+json": {
       "model_id": "401621f2ef0245e3a83a9f080e2c8c7e",
       "version_major": 2,
       "version_minor": 0
      },
      "text/plain": [
       "  0%|          | 0/3083 [00:00<?, ?it/s]"
      ]
     },
     "metadata": {},
     "output_type": "display_data"
    },
    {
     "name": "stdout",
     "output_type": "stream",
     "text": [
      "final shape (3083, 178)\n",
      "shape before row_rise_aggregation (37872, 369)\n",
      "shape after row_rise_aggregation (37872, 384)\n",
      "shape before column_rise_aggregation (37872, 384)\n",
      "shape after column_rise_aggregation (3083, 1893)\n",
      "diff between last and mean transaction\n"
     ]
    },
    {
     "data": {
      "application/vnd.jupyter.widget-view+json": {
       "model_id": "8a74f76628b24870a17476e25bfdb797",
       "version_major": 2,
       "version_minor": 0
      },
      "text/plain": [
       "  0%|          | 0/177 [00:00<?, ?it/s]"
      ]
     },
     "metadata": {},
     "output_type": "display_data"
    },
    {
     "name": "stdout",
     "output_type": "stream",
     "text": [
      "save processed test_217.ftr\n"
     ]
    },
    {
     "data": {
      "application/vnd.jupyter.widget-view+json": {
       "model_id": "e0868b539f644478b3b647884db02f8d",
       "version_major": 2,
       "version_minor": 0
      },
      "text/plain": [
       "  0%|          | 0/3083 [00:00<?, ?it/s]"
      ]
     },
     "metadata": {},
     "output_type": "display_data"
    },
    {
     "name": "stdout",
     "output_type": "stream",
     "text": [
      "final shape (3083, 178)\n",
      "shape before row_rise_aggregation (37779, 369)\n",
      "shape after row_rise_aggregation (37779, 384)\n",
      "shape before column_rise_aggregation (37779, 384)\n",
      "shape after column_rise_aggregation (3083, 1897)\n",
      "diff between last and mean transaction\n"
     ]
    },
    {
     "data": {
      "application/vnd.jupyter.widget-view+json": {
       "model_id": "2ad848877c844d18808dc74cee060b82",
       "version_major": 2,
       "version_minor": 0
      },
      "text/plain": [
       "  0%|          | 0/177 [00:00<?, ?it/s]"
      ]
     },
     "metadata": {},
     "output_type": "display_data"
    },
    {
     "name": "stdout",
     "output_type": "stream",
     "text": [
      "save processed test_108.ftr\n"
     ]
    },
    {
     "data": {
      "application/vnd.jupyter.widget-view+json": {
       "model_id": "1b10dff4515e4c37bf260478933e3ab6",
       "version_major": 2,
       "version_minor": 0
      },
      "text/plain": [
       "  0%|          | 0/3083 [00:00<?, ?it/s]"
      ]
     },
     "metadata": {},
     "output_type": "display_data"
    },
    {
     "name": "stdout",
     "output_type": "stream",
     "text": [
      "final shape (3083, 178)\n",
      "shape before row_rise_aggregation (37879, 369)\n",
      "shape after row_rise_aggregation (37879, 384)\n",
      "shape before column_rise_aggregation (37879, 384)\n",
      "shape after column_rise_aggregation (3083, 1897)\n",
      "diff between last and mean transaction\n"
     ]
    },
    {
     "data": {
      "application/vnd.jupyter.widget-view+json": {
       "model_id": "10d8c014a40d46b6af6c1eb78e142c5e",
       "version_major": 2,
       "version_minor": 0
      },
      "text/plain": [
       "  0%|          | 0/177 [00:00<?, ?it/s]"
      ]
     },
     "metadata": {},
     "output_type": "display_data"
    },
    {
     "name": "stdout",
     "output_type": "stream",
     "text": [
      "save processed test_157.ftr\n"
     ]
    },
    {
     "data": {
      "application/vnd.jupyter.widget-view+json": {
       "model_id": "05395a281ea142e99dcc53b106760187",
       "version_major": 2,
       "version_minor": 0
      },
      "text/plain": [
       "  0%|          | 0/3083 [00:00<?, ?it/s]"
      ]
     },
     "metadata": {},
     "output_type": "display_data"
    },
    {
     "name": "stdout",
     "output_type": "stream",
     "text": [
      "final shape (3083, 178)\n",
      "shape before row_rise_aggregation (37967, 369)\n",
      "shape after row_rise_aggregation (37967, 384)\n",
      "shape before column_rise_aggregation (37967, 384)\n",
      "shape after column_rise_aggregation (3083, 1889)\n",
      "diff between last and mean transaction\n"
     ]
    },
    {
     "data": {
      "application/vnd.jupyter.widget-view+json": {
       "model_id": "1718bc4f50f54cee91854630a8c5ffc5",
       "version_major": 2,
       "version_minor": 0
      },
      "text/plain": [
       "  0%|          | 0/177 [00:00<?, ?it/s]"
      ]
     },
     "metadata": {},
     "output_type": "display_data"
    },
    {
     "name": "stdout",
     "output_type": "stream",
     "text": [
      "save processed test_181.ftr\n"
     ]
    },
    {
     "data": {
      "application/vnd.jupyter.widget-view+json": {
       "model_id": "aa0cb2e190894a70b9222c3906547866",
       "version_major": 2,
       "version_minor": 0
      },
      "text/plain": [
       "  0%|          | 0/3083 [00:00<?, ?it/s]"
      ]
     },
     "metadata": {},
     "output_type": "display_data"
    },
    {
     "name": "stdout",
     "output_type": "stream",
     "text": [
      "final shape (3083, 178)\n",
      "shape before row_rise_aggregation (37856, 369)\n",
      "shape after row_rise_aggregation (37856, 384)\n",
      "shape before column_rise_aggregation (37856, 384)\n",
      "shape after column_rise_aggregation (3083, 1897)\n",
      "diff between last and mean transaction\n"
     ]
    },
    {
     "data": {
      "application/vnd.jupyter.widget-view+json": {
       "model_id": "5d17c6c1080043fdafc7e93179ed9da6",
       "version_major": 2,
       "version_minor": 0
      },
      "text/plain": [
       "  0%|          | 0/177 [00:00<?, ?it/s]"
      ]
     },
     "metadata": {},
     "output_type": "display_data"
    },
    {
     "name": "stdout",
     "output_type": "stream",
     "text": [
      "save processed test_16.ftr\n"
     ]
    },
    {
     "data": {
      "application/vnd.jupyter.widget-view+json": {
       "model_id": "a0d7d4cdb0114d99ae5f3030719a7eaf",
       "version_major": 2,
       "version_minor": 0
      },
      "text/plain": [
       "  0%|          | 0/3083 [00:00<?, ?it/s]"
      ]
     },
     "metadata": {},
     "output_type": "display_data"
    },
    {
     "name": "stdout",
     "output_type": "stream",
     "text": [
      "final shape (3083, 178)\n",
      "shape before row_rise_aggregation (37692, 369)\n",
      "shape after row_rise_aggregation (37692, 384)\n",
      "shape before column_rise_aggregation (37692, 384)\n",
      "shape after column_rise_aggregation (3083, 1889)\n",
      "diff between last and mean transaction\n"
     ]
    },
    {
     "data": {
      "application/vnd.jupyter.widget-view+json": {
       "model_id": "2a651660ed984893abeec0ac9927ca32",
       "version_major": 2,
       "version_minor": 0
      },
      "text/plain": [
       "  0%|          | 0/177 [00:00<?, ?it/s]"
      ]
     },
     "metadata": {},
     "output_type": "display_data"
    },
    {
     "name": "stdout",
     "output_type": "stream",
     "text": [
      "save processed test_278.ftr\n"
     ]
    },
    {
     "data": {
      "application/vnd.jupyter.widget-view+json": {
       "model_id": "8b63f61addad4f1c814364fb47084128",
       "version_major": 2,
       "version_minor": 0
      },
      "text/plain": [
       "  0%|          | 0/3083 [00:00<?, ?it/s]"
      ]
     },
     "metadata": {},
     "output_type": "display_data"
    },
    {
     "name": "stdout",
     "output_type": "stream",
     "text": [
      "final shape (3083, 178)\n",
      "shape before row_rise_aggregation (37516, 369)\n",
      "shape after row_rise_aggregation (37516, 384)\n",
      "shape before column_rise_aggregation (37516, 384)\n",
      "shape after column_rise_aggregation (3083, 1897)\n",
      "diff between last and mean transaction\n"
     ]
    },
    {
     "data": {
      "application/vnd.jupyter.widget-view+json": {
       "model_id": "32a1a78995c24e4db17b16937e2a3185",
       "version_major": 2,
       "version_minor": 0
      },
      "text/plain": [
       "  0%|          | 0/177 [00:00<?, ?it/s]"
      ]
     },
     "metadata": {},
     "output_type": "display_data"
    },
    {
     "name": "stdout",
     "output_type": "stream",
     "text": [
      "save processed test_274.ftr\n"
     ]
    },
    {
     "data": {
      "application/vnd.jupyter.widget-view+json": {
       "model_id": "b195df9d6f73463d94748a3c75e3818e",
       "version_major": 2,
       "version_minor": 0
      },
      "text/plain": [
       "  0%|          | 0/3083 [00:00<?, ?it/s]"
      ]
     },
     "metadata": {},
     "output_type": "display_data"
    },
    {
     "name": "stdout",
     "output_type": "stream",
     "text": [
      "final shape (3083, 178)\n",
      "shape before row_rise_aggregation (37981, 369)\n",
      "shape after row_rise_aggregation (37981, 384)\n",
      "shape before column_rise_aggregation (37981, 384)\n",
      "shape after column_rise_aggregation (3083, 1893)\n",
      "diff between last and mean transaction\n"
     ]
    },
    {
     "data": {
      "application/vnd.jupyter.widget-view+json": {
       "model_id": "b3707b8182a444899faf66b4bd679f7d",
       "version_major": 2,
       "version_minor": 0
      },
      "text/plain": [
       "  0%|          | 0/177 [00:00<?, ?it/s]"
      ]
     },
     "metadata": {},
     "output_type": "display_data"
    },
    {
     "name": "stdout",
     "output_type": "stream",
     "text": [
      "save processed test_229.ftr\n"
     ]
    },
    {
     "data": {
      "application/vnd.jupyter.widget-view+json": {
       "model_id": "a734fe320448429192d331cbd7c40069",
       "version_major": 2,
       "version_minor": 0
      },
      "text/plain": [
       "  0%|          | 0/3083 [00:00<?, ?it/s]"
      ]
     },
     "metadata": {},
     "output_type": "display_data"
    },
    {
     "name": "stdout",
     "output_type": "stream",
     "text": [
      "final shape (3083, 178)\n",
      "shape before row_rise_aggregation (37703, 369)\n",
      "shape after row_rise_aggregation (37703, 384)\n",
      "shape before column_rise_aggregation (37703, 384)\n",
      "shape after column_rise_aggregation (3083, 1897)\n",
      "diff between last and mean transaction\n"
     ]
    },
    {
     "data": {
      "application/vnd.jupyter.widget-view+json": {
       "model_id": "0340db9ea15e4b358474f3e805a03fc8",
       "version_major": 2,
       "version_minor": 0
      },
      "text/plain": [
       "  0%|          | 0/177 [00:00<?, ?it/s]"
      ]
     },
     "metadata": {},
     "output_type": "display_data"
    },
    {
     "name": "stdout",
     "output_type": "stream",
     "text": [
      "save processed test_128.ftr\n"
     ]
    },
    {
     "data": {
      "application/vnd.jupyter.widget-view+json": {
       "model_id": "92439c65dd324f2c9e94ab99bbb77a76",
       "version_major": 2,
       "version_minor": 0
      },
      "text/plain": [
       "  0%|          | 0/3083 [00:00<?, ?it/s]"
      ]
     },
     "metadata": {},
     "output_type": "display_data"
    },
    {
     "name": "stdout",
     "output_type": "stream",
     "text": [
      "final shape (3083, 178)\n",
      "shape before row_rise_aggregation (37846, 369)\n",
      "shape after row_rise_aggregation (37846, 384)\n",
      "shape before column_rise_aggregation (37846, 384)\n",
      "shape after column_rise_aggregation (3083, 1889)\n",
      "diff between last and mean transaction\n"
     ]
    },
    {
     "data": {
      "application/vnd.jupyter.widget-view+json": {
       "model_id": "384125ccb60847f891ada4660fe69877",
       "version_major": 2,
       "version_minor": 0
      },
      "text/plain": [
       "  0%|          | 0/177 [00:00<?, ?it/s]"
      ]
     },
     "metadata": {},
     "output_type": "display_data"
    },
    {
     "name": "stdout",
     "output_type": "stream",
     "text": [
      "save processed test_31.ftr\n"
     ]
    },
    {
     "data": {
      "application/vnd.jupyter.widget-view+json": {
       "model_id": "00ab42f490d3476a9ce4c60b142df783",
       "version_major": 2,
       "version_minor": 0
      },
      "text/plain": [
       "  0%|          | 0/3083 [00:00<?, ?it/s]"
      ]
     },
     "metadata": {},
     "output_type": "display_data"
    },
    {
     "name": "stdout",
     "output_type": "stream",
     "text": [
      "final shape (3083, 178)\n",
      "shape before row_rise_aggregation (38133, 369)\n",
      "shape after row_rise_aggregation (38133, 384)\n",
      "shape before column_rise_aggregation (38133, 384)\n",
      "shape after column_rise_aggregation (3083, 1893)\n",
      "diff between last and mean transaction\n"
     ]
    },
    {
     "data": {
      "application/vnd.jupyter.widget-view+json": {
       "model_id": "10b97ff3b8fb46389eb1185095bba9e0",
       "version_major": 2,
       "version_minor": 0
      },
      "text/plain": [
       "  0%|          | 0/177 [00:00<?, ?it/s]"
      ]
     },
     "metadata": {},
     "output_type": "display_data"
    },
    {
     "name": "stdout",
     "output_type": "stream",
     "text": [
      "save processed test_103.ftr\n"
     ]
    },
    {
     "data": {
      "application/vnd.jupyter.widget-view+json": {
       "model_id": "23c3d58de5ff41f9bca26141cd73657b",
       "version_major": 2,
       "version_minor": 0
      },
      "text/plain": [
       "  0%|          | 0/3083 [00:00<?, ?it/s]"
      ]
     },
     "metadata": {},
     "output_type": "display_data"
    },
    {
     "name": "stdout",
     "output_type": "stream",
     "text": [
      "final shape (3083, 178)\n",
      "shape before row_rise_aggregation (37850, 369)\n",
      "shape after row_rise_aggregation (37850, 384)\n",
      "shape before column_rise_aggregation (37850, 384)\n",
      "shape after column_rise_aggregation (3083, 1893)\n",
      "diff between last and mean transaction\n"
     ]
    },
    {
     "data": {
      "application/vnd.jupyter.widget-view+json": {
       "model_id": "4edf327b752c41b1a5e8d79571c8d474",
       "version_major": 2,
       "version_minor": 0
      },
      "text/plain": [
       "  0%|          | 0/177 [00:00<?, ?it/s]"
      ]
     },
     "metadata": {},
     "output_type": "display_data"
    },
    {
     "name": "stdout",
     "output_type": "stream",
     "text": [
      "save processed test_88.ftr\n"
     ]
    },
    {
     "data": {
      "application/vnd.jupyter.widget-view+json": {
       "model_id": "8eb5c606003d425f8f2db3ea39328a98",
       "version_major": 2,
       "version_minor": 0
      },
      "text/plain": [
       "  0%|          | 0/3083 [00:00<?, ?it/s]"
      ]
     },
     "metadata": {},
     "output_type": "display_data"
    },
    {
     "name": "stdout",
     "output_type": "stream",
     "text": [
      "final shape (3083, 178)\n",
      "shape before row_rise_aggregation (37881, 369)\n",
      "shape after row_rise_aggregation (37881, 384)\n",
      "shape before column_rise_aggregation (37881, 384)\n",
      "shape after column_rise_aggregation (3083, 1897)\n",
      "diff between last and mean transaction\n"
     ]
    },
    {
     "data": {
      "application/vnd.jupyter.widget-view+json": {
       "model_id": "4d8aa81fa24342c29d4837afa5a4ae1a",
       "version_major": 2,
       "version_minor": 0
      },
      "text/plain": [
       "  0%|          | 0/177 [00:00<?, ?it/s]"
      ]
     },
     "metadata": {},
     "output_type": "display_data"
    },
    {
     "name": "stdout",
     "output_type": "stream",
     "text": [
      "save processed test_199.ftr\n"
     ]
    },
    {
     "data": {
      "application/vnd.jupyter.widget-view+json": {
       "model_id": "bdd7127540014454a55a0e11af8136d5",
       "version_major": 2,
       "version_minor": 0
      },
      "text/plain": [
       "  0%|          | 0/3083 [00:00<?, ?it/s]"
      ]
     },
     "metadata": {},
     "output_type": "display_data"
    },
    {
     "name": "stdout",
     "output_type": "stream",
     "text": [
      "final shape (3083, 178)\n",
      "shape before row_rise_aggregation (38005, 369)\n",
      "shape after row_rise_aggregation (38005, 384)\n",
      "shape before column_rise_aggregation (38005, 384)\n",
      "shape after column_rise_aggregation (3083, 1897)\n",
      "diff between last and mean transaction\n"
     ]
    },
    {
     "data": {
      "application/vnd.jupyter.widget-view+json": {
       "model_id": "05c9c9b3259747729cab18cd9bca86c4",
       "version_major": 2,
       "version_minor": 0
      },
      "text/plain": [
       "  0%|          | 0/177 [00:00<?, ?it/s]"
      ]
     },
     "metadata": {},
     "output_type": "display_data"
    },
    {
     "name": "stdout",
     "output_type": "stream",
     "text": [
      "save processed test_129.ftr\n"
     ]
    },
    {
     "data": {
      "application/vnd.jupyter.widget-view+json": {
       "model_id": "745888a927d0491a8790b10890968c9b",
       "version_major": 2,
       "version_minor": 0
      },
      "text/plain": [
       "  0%|          | 0/3083 [00:00<?, ?it/s]"
      ]
     },
     "metadata": {},
     "output_type": "display_data"
    },
    {
     "name": "stdout",
     "output_type": "stream",
     "text": [
      "final shape (3083, 178)\n",
      "shape before row_rise_aggregation (37873, 369)\n",
      "shape after row_rise_aggregation (37873, 384)\n",
      "shape before column_rise_aggregation (37873, 384)\n",
      "shape after column_rise_aggregation (3083, 1897)\n",
      "diff between last and mean transaction\n"
     ]
    },
    {
     "data": {
      "application/vnd.jupyter.widget-view+json": {
       "model_id": "553961259e884515b1429a8e81ed17aa",
       "version_major": 2,
       "version_minor": 0
      },
      "text/plain": [
       "  0%|          | 0/177 [00:00<?, ?it/s]"
      ]
     },
     "metadata": {},
     "output_type": "display_data"
    },
    {
     "name": "stdout",
     "output_type": "stream",
     "text": [
      "save processed test_153.ftr\n"
     ]
    },
    {
     "data": {
      "application/vnd.jupyter.widget-view+json": {
       "model_id": "15f053e6a9df4f3bbf2268f6a43dd89a",
       "version_major": 2,
       "version_minor": 0
      },
      "text/plain": [
       "  0%|          | 0/3083 [00:00<?, ?it/s]"
      ]
     },
     "metadata": {},
     "output_type": "display_data"
    },
    {
     "name": "stdout",
     "output_type": "stream",
     "text": [
      "final shape (3083, 178)\n",
      "shape before row_rise_aggregation (37866, 369)\n",
      "shape after row_rise_aggregation (37866, 384)\n",
      "shape before column_rise_aggregation (37866, 384)\n",
      "shape after column_rise_aggregation (3083, 1897)\n",
      "diff between last and mean transaction\n"
     ]
    },
    {
     "data": {
      "application/vnd.jupyter.widget-view+json": {
       "model_id": "6cf34f077bd7441283cfd5099d4cf251",
       "version_major": 2,
       "version_minor": 0
      },
      "text/plain": [
       "  0%|          | 0/177 [00:00<?, ?it/s]"
      ]
     },
     "metadata": {},
     "output_type": "display_data"
    },
    {
     "name": "stdout",
     "output_type": "stream",
     "text": [
      "save processed test_60.ftr\n"
     ]
    },
    {
     "data": {
      "application/vnd.jupyter.widget-view+json": {
       "model_id": "dd2c7d353a7b4f5284a877557c45cfdd",
       "version_major": 2,
       "version_minor": 0
      },
      "text/plain": [
       "  0%|          | 0/3083 [00:00<?, ?it/s]"
      ]
     },
     "metadata": {},
     "output_type": "display_data"
    },
    {
     "name": "stdout",
     "output_type": "stream",
     "text": [
      "final shape (3083, 178)\n",
      "shape before row_rise_aggregation (37814, 369)\n",
      "shape after row_rise_aggregation (37814, 384)\n",
      "shape before column_rise_aggregation (37814, 384)\n",
      "shape after column_rise_aggregation (3083, 1893)\n",
      "diff between last and mean transaction\n"
     ]
    },
    {
     "data": {
      "application/vnd.jupyter.widget-view+json": {
       "model_id": "83c1ed3944504898a0d4767ffa1fd0ea",
       "version_major": 2,
       "version_minor": 0
      },
      "text/plain": [
       "  0%|          | 0/177 [00:00<?, ?it/s]"
      ]
     },
     "metadata": {},
     "output_type": "display_data"
    },
    {
     "name": "stdout",
     "output_type": "stream",
     "text": [
      "save processed test_114.ftr\n"
     ]
    },
    {
     "data": {
      "application/vnd.jupyter.widget-view+json": {
       "model_id": "669919c512c448c88edb7464f30815a0",
       "version_major": 2,
       "version_minor": 0
      },
      "text/plain": [
       "  0%|          | 0/3083 [00:00<?, ?it/s]"
      ]
     },
     "metadata": {},
     "output_type": "display_data"
    },
    {
     "name": "stdout",
     "output_type": "stream",
     "text": [
      "final shape (3083, 178)\n",
      "shape before row_rise_aggregation (37961, 369)\n",
      "shape after row_rise_aggregation (37961, 384)\n",
      "shape before column_rise_aggregation (37961, 384)\n",
      "shape after column_rise_aggregation (3083, 1897)\n",
      "diff between last and mean transaction\n"
     ]
    },
    {
     "data": {
      "application/vnd.jupyter.widget-view+json": {
       "model_id": "6aec06c5bc8f4f6aaee48af55e0bde9d",
       "version_major": 2,
       "version_minor": 0
      },
      "text/plain": [
       "  0%|          | 0/177 [00:00<?, ?it/s]"
      ]
     },
     "metadata": {},
     "output_type": "display_data"
    },
    {
     "name": "stdout",
     "output_type": "stream",
     "text": [
      "save processed test_177.ftr\n"
     ]
    },
    {
     "data": {
      "application/vnd.jupyter.widget-view+json": {
       "model_id": "446605cf453b4a239276791661e85662",
       "version_major": 2,
       "version_minor": 0
      },
      "text/plain": [
       "  0%|          | 0/3083 [00:00<?, ?it/s]"
      ]
     },
     "metadata": {},
     "output_type": "display_data"
    },
    {
     "name": "stdout",
     "output_type": "stream",
     "text": [
      "final shape (3083, 178)\n",
      "shape before row_rise_aggregation (37929, 369)\n",
      "shape after row_rise_aggregation (37929, 384)\n",
      "shape before column_rise_aggregation (37929, 384)\n",
      "shape after column_rise_aggregation (3083, 1897)\n",
      "diff between last and mean transaction\n"
     ]
    },
    {
     "data": {
      "application/vnd.jupyter.widget-view+json": {
       "model_id": "5e462e7e7a10403d8879ce6a456f2cab",
       "version_major": 2,
       "version_minor": 0
      },
      "text/plain": [
       "  0%|          | 0/177 [00:00<?, ?it/s]"
      ]
     },
     "metadata": {},
     "output_type": "display_data"
    },
    {
     "name": "stdout",
     "output_type": "stream",
     "text": [
      "save processed test_279.ftr\n"
     ]
    },
    {
     "data": {
      "application/vnd.jupyter.widget-view+json": {
       "model_id": "2dbd2c4d2223422c993b8a802380f8c3",
       "version_major": 2,
       "version_minor": 0
      },
      "text/plain": [
       "  0%|          | 0/3083 [00:00<?, ?it/s]"
      ]
     },
     "metadata": {},
     "output_type": "display_data"
    },
    {
     "name": "stdout",
     "output_type": "stream",
     "text": [
      "final shape (3083, 178)\n",
      "shape before row_rise_aggregation (38073, 369)\n",
      "shape after row_rise_aggregation (38073, 384)\n",
      "shape before column_rise_aggregation (38073, 384)\n",
      "shape after column_rise_aggregation (3083, 1893)\n",
      "diff between last and mean transaction\n"
     ]
    },
    {
     "data": {
      "application/vnd.jupyter.widget-view+json": {
       "model_id": "2666bdb0237d4675808702171948a91c",
       "version_major": 2,
       "version_minor": 0
      },
      "text/plain": [
       "  0%|          | 0/177 [00:00<?, ?it/s]"
      ]
     },
     "metadata": {},
     "output_type": "display_data"
    },
    {
     "name": "stdout",
     "output_type": "stream",
     "text": [
      "save processed test_7.ftr\n"
     ]
    },
    {
     "data": {
      "application/vnd.jupyter.widget-view+json": {
       "model_id": "c6e5e1f3548d4f25b554416bc2053436",
       "version_major": 2,
       "version_minor": 0
      },
      "text/plain": [
       "  0%|          | 0/3083 [00:00<?, ?it/s]"
      ]
     },
     "metadata": {},
     "output_type": "display_data"
    },
    {
     "name": "stdout",
     "output_type": "stream",
     "text": [
      "final shape (3083, 178)\n",
      "shape before row_rise_aggregation (37693, 369)\n",
      "shape after row_rise_aggregation (37693, 384)\n",
      "shape before column_rise_aggregation (37693, 384)\n",
      "shape after column_rise_aggregation (3083, 1893)\n",
      "diff between last and mean transaction\n"
     ]
    },
    {
     "data": {
      "application/vnd.jupyter.widget-view+json": {
       "model_id": "5ea6746bfa4a4c929ff2979ce0e430da",
       "version_major": 2,
       "version_minor": 0
      },
      "text/plain": [
       "  0%|          | 0/177 [00:00<?, ?it/s]"
      ]
     },
     "metadata": {},
     "output_type": "display_data"
    },
    {
     "name": "stdout",
     "output_type": "stream",
     "text": [
      "save processed test_194.ftr\n"
     ]
    },
    {
     "data": {
      "application/vnd.jupyter.widget-view+json": {
       "model_id": "e62b709dae004cc4bdd7e22e67a68442",
       "version_major": 2,
       "version_minor": 0
      },
      "text/plain": [
       "  0%|          | 0/3083 [00:00<?, ?it/s]"
      ]
     },
     "metadata": {},
     "output_type": "display_data"
    },
    {
     "name": "stdout",
     "output_type": "stream",
     "text": [
      "final shape (3083, 178)\n",
      "shape before row_rise_aggregation (38032, 369)\n",
      "shape after row_rise_aggregation (38032, 384)\n",
      "shape before column_rise_aggregation (38032, 384)\n",
      "shape after column_rise_aggregation (3083, 1893)\n",
      "diff between last and mean transaction\n"
     ]
    },
    {
     "data": {
      "application/vnd.jupyter.widget-view+json": {
       "model_id": "a8e31e7492ce4500bf65feb7e8a1957f",
       "version_major": 2,
       "version_minor": 0
      },
      "text/plain": [
       "  0%|          | 0/177 [00:00<?, ?it/s]"
      ]
     },
     "metadata": {},
     "output_type": "display_data"
    },
    {
     "name": "stdout",
     "output_type": "stream",
     "text": [
      "save processed test_2.ftr\n"
     ]
    },
    {
     "data": {
      "application/vnd.jupyter.widget-view+json": {
       "model_id": "dbb24daed04b41c59ff84e8f258a9b47",
       "version_major": 2,
       "version_minor": 0
      },
      "text/plain": [
       "  0%|          | 0/3083 [00:00<?, ?it/s]"
      ]
     },
     "metadata": {},
     "output_type": "display_data"
    },
    {
     "name": "stdout",
     "output_type": "stream",
     "text": [
      "final shape (3083, 178)\n",
      "shape before row_rise_aggregation (38040, 369)\n",
      "shape after row_rise_aggregation (38040, 384)\n",
      "shape before column_rise_aggregation (38040, 384)\n",
      "shape after column_rise_aggregation (3083, 1893)\n",
      "diff between last and mean transaction\n"
     ]
    },
    {
     "data": {
      "application/vnd.jupyter.widget-view+json": {
       "model_id": "6d23bbfbe8df4d07b78b28f098204de5",
       "version_major": 2,
       "version_minor": 0
      },
      "text/plain": [
       "  0%|          | 0/177 [00:00<?, ?it/s]"
      ]
     },
     "metadata": {},
     "output_type": "display_data"
    },
    {
     "name": "stdout",
     "output_type": "stream",
     "text": [
      "save processed test_71.ftr\n"
     ]
    },
    {
     "data": {
      "application/vnd.jupyter.widget-view+json": {
       "model_id": "135f9978bce949609097d66e84499375",
       "version_major": 2,
       "version_minor": 0
      },
      "text/plain": [
       "  0%|          | 0/3083 [00:00<?, ?it/s]"
      ]
     },
     "metadata": {},
     "output_type": "display_data"
    },
    {
     "name": "stdout",
     "output_type": "stream",
     "text": [
      "final shape (3083, 178)\n",
      "shape before row_rise_aggregation (37702, 369)\n",
      "shape after row_rise_aggregation (37702, 384)\n",
      "shape before column_rise_aggregation (37702, 384)\n",
      "shape after column_rise_aggregation (3083, 1893)\n",
      "diff between last and mean transaction\n"
     ]
    },
    {
     "data": {
      "application/vnd.jupyter.widget-view+json": {
       "model_id": "1164035d0aab44f3ae3f85caab86e6fe",
       "version_major": 2,
       "version_minor": 0
      },
      "text/plain": [
       "  0%|          | 0/177 [00:00<?, ?it/s]"
      ]
     },
     "metadata": {},
     "output_type": "display_data"
    },
    {
     "name": "stdout",
     "output_type": "stream",
     "text": [
      "save processed test_14.ftr\n"
     ]
    },
    {
     "data": {
      "application/vnd.jupyter.widget-view+json": {
       "model_id": "063c6f50291948df96baf3841b2fb79b",
       "version_major": 2,
       "version_minor": 0
      },
      "text/plain": [
       "  0%|          | 0/3083 [00:00<?, ?it/s]"
      ]
     },
     "metadata": {},
     "output_type": "display_data"
    },
    {
     "name": "stdout",
     "output_type": "stream",
     "text": [
      "final shape (3083, 178)\n",
      "shape before row_rise_aggregation (37925, 369)\n",
      "shape after row_rise_aggregation (37925, 384)\n",
      "shape before column_rise_aggregation (37925, 384)\n",
      "shape after column_rise_aggregation (3083, 1893)\n",
      "diff between last and mean transaction\n"
     ]
    },
    {
     "data": {
      "application/vnd.jupyter.widget-view+json": {
       "model_id": "ee3cac0917ee4c299aec7fd170552e08",
       "version_major": 2,
       "version_minor": 0
      },
      "text/plain": [
       "  0%|          | 0/177 [00:00<?, ?it/s]"
      ]
     },
     "metadata": {},
     "output_type": "display_data"
    },
    {
     "name": "stdout",
     "output_type": "stream",
     "text": [
      "save processed test_63.ftr\n"
     ]
    },
    {
     "data": {
      "application/vnd.jupyter.widget-view+json": {
       "model_id": "1d85fd9c2061475d896ed67bc525ad6f",
       "version_major": 2,
       "version_minor": 0
      },
      "text/plain": [
       "  0%|          | 0/3083 [00:00<?, ?it/s]"
      ]
     },
     "metadata": {},
     "output_type": "display_data"
    },
    {
     "name": "stdout",
     "output_type": "stream",
     "text": [
      "final shape (3083, 178)\n",
      "shape before row_rise_aggregation (37631, 369)\n",
      "shape after row_rise_aggregation (37631, 384)\n",
      "shape before column_rise_aggregation (37631, 384)\n",
      "shape after column_rise_aggregation (3083, 1897)\n",
      "diff between last and mean transaction\n"
     ]
    },
    {
     "data": {
      "application/vnd.jupyter.widget-view+json": {
       "model_id": "3ca50d651b024b38910a8956e5bc1311",
       "version_major": 2,
       "version_minor": 0
      },
      "text/plain": [
       "  0%|          | 0/177 [00:00<?, ?it/s]"
      ]
     },
     "metadata": {},
     "output_type": "display_data"
    },
    {
     "name": "stdout",
     "output_type": "stream",
     "text": [
      "save processed test_271.ftr\n"
     ]
    },
    {
     "data": {
      "application/vnd.jupyter.widget-view+json": {
       "model_id": "2953944f67db4cc782ba1b5b7ed97e24",
       "version_major": 2,
       "version_minor": 0
      },
      "text/plain": [
       "  0%|          | 0/3083 [00:00<?, ?it/s]"
      ]
     },
     "metadata": {},
     "output_type": "display_data"
    },
    {
     "name": "stdout",
     "output_type": "stream",
     "text": [
      "final shape (3083, 178)\n",
      "shape before row_rise_aggregation (38031, 369)\n",
      "shape after row_rise_aggregation (38031, 384)\n",
      "shape before column_rise_aggregation (38031, 384)\n",
      "shape after column_rise_aggregation (3083, 1893)\n",
      "diff between last and mean transaction\n"
     ]
    },
    {
     "data": {
      "application/vnd.jupyter.widget-view+json": {
       "model_id": "a4e3593a8c2d47aab89d0244f3567231",
       "version_major": 2,
       "version_minor": 0
      },
      "text/plain": [
       "  0%|          | 0/177 [00:00<?, ?it/s]"
      ]
     },
     "metadata": {},
     "output_type": "display_data"
    },
    {
     "name": "stdout",
     "output_type": "stream",
     "text": [
      "save processed test_256.ftr\n"
     ]
    },
    {
     "data": {
      "application/vnd.jupyter.widget-view+json": {
       "model_id": "75f476b6170a43618b3b64251f3795db",
       "version_major": 2,
       "version_minor": 0
      },
      "text/plain": [
       "  0%|          | 0/3083 [00:00<?, ?it/s]"
      ]
     },
     "metadata": {},
     "output_type": "display_data"
    },
    {
     "name": "stdout",
     "output_type": "stream",
     "text": [
      "final shape (3083, 178)\n",
      "shape before row_rise_aggregation (37841, 369)\n",
      "shape after row_rise_aggregation (37841, 384)\n",
      "shape before column_rise_aggregation (37841, 384)\n",
      "shape after column_rise_aggregation (3083, 1897)\n",
      "diff between last and mean transaction\n"
     ]
    },
    {
     "data": {
      "application/vnd.jupyter.widget-view+json": {
       "model_id": "ffd845442cae4ff79d628edfb5cc58e5",
       "version_major": 2,
       "version_minor": 0
      },
      "text/plain": [
       "  0%|          | 0/177 [00:00<?, ?it/s]"
      ]
     },
     "metadata": {},
     "output_type": "display_data"
    },
    {
     "name": "stdout",
     "output_type": "stream",
     "text": [
      "save processed test_137.ftr\n"
     ]
    },
    {
     "data": {
      "application/vnd.jupyter.widget-view+json": {
       "model_id": "1702e4a78d8745c39687f355fb517bd6",
       "version_major": 2,
       "version_minor": 0
      },
      "text/plain": [
       "  0%|          | 0/3083 [00:00<?, ?it/s]"
      ]
     },
     "metadata": {},
     "output_type": "display_data"
    },
    {
     "name": "stdout",
     "output_type": "stream",
     "text": [
      "final shape (3083, 178)\n",
      "shape before row_rise_aggregation (37815, 369)\n",
      "shape after row_rise_aggregation (37815, 384)\n",
      "shape before column_rise_aggregation (37815, 384)\n",
      "shape after column_rise_aggregation (3083, 1897)\n",
      "diff between last and mean transaction\n"
     ]
    },
    {
     "data": {
      "application/vnd.jupyter.widget-view+json": {
       "model_id": "486e9ca012ce496684aadb9edb5ee079",
       "version_major": 2,
       "version_minor": 0
      },
      "text/plain": [
       "  0%|          | 0/177 [00:00<?, ?it/s]"
      ]
     },
     "metadata": {},
     "output_type": "display_data"
    },
    {
     "name": "stdout",
     "output_type": "stream",
     "text": [
      "save processed test_18.ftr\n"
     ]
    },
    {
     "data": {
      "application/vnd.jupyter.widget-view+json": {
       "model_id": "7a672e3a7e6442839cf59e50630ef3eb",
       "version_major": 2,
       "version_minor": 0
      },
      "text/plain": [
       "  0%|          | 0/3083 [00:00<?, ?it/s]"
      ]
     },
     "metadata": {},
     "output_type": "display_data"
    },
    {
     "name": "stdout",
     "output_type": "stream",
     "text": [
      "final shape (3083, 178)\n",
      "shape before row_rise_aggregation (37823, 369)\n",
      "shape after row_rise_aggregation (37823, 384)\n",
      "shape before column_rise_aggregation (37823, 384)\n",
      "shape after column_rise_aggregation (3083, 1897)\n",
      "diff between last and mean transaction\n"
     ]
    },
    {
     "data": {
      "application/vnd.jupyter.widget-view+json": {
       "model_id": "ad6f8269aa1f4507b5199234d9e1f3f8",
       "version_major": 2,
       "version_minor": 0
      },
      "text/plain": [
       "  0%|          | 0/177 [00:00<?, ?it/s]"
      ]
     },
     "metadata": {},
     "output_type": "display_data"
    },
    {
     "name": "stdout",
     "output_type": "stream",
     "text": [
      "save processed test_80.ftr\n"
     ]
    },
    {
     "data": {
      "application/vnd.jupyter.widget-view+json": {
       "model_id": "37780eff75084c8e961daabf0992c155",
       "version_major": 2,
       "version_minor": 0
      },
      "text/plain": [
       "  0%|          | 0/3083 [00:00<?, ?it/s]"
      ]
     },
     "metadata": {},
     "output_type": "display_data"
    },
    {
     "name": "stdout",
     "output_type": "stream",
     "text": [
      "final shape (3083, 178)\n",
      "shape before row_rise_aggregation (37863, 369)\n",
      "shape after row_rise_aggregation (37863, 384)\n",
      "shape before column_rise_aggregation (37863, 384)\n",
      "shape after column_rise_aggregation (3083, 1897)\n",
      "diff between last and mean transaction\n"
     ]
    },
    {
     "data": {
      "application/vnd.jupyter.widget-view+json": {
       "model_id": "534401b5e900430393853be020d0625c",
       "version_major": 2,
       "version_minor": 0
      },
      "text/plain": [
       "  0%|          | 0/177 [00:00<?, ?it/s]"
      ]
     },
     "metadata": {},
     "output_type": "display_data"
    },
    {
     "name": "stdout",
     "output_type": "stream",
     "text": [
      "save processed test_298.ftr\n"
     ]
    },
    {
     "data": {
      "application/vnd.jupyter.widget-view+json": {
       "model_id": "28c07919e6b647f5b1609bd6b9b7addd",
       "version_major": 2,
       "version_minor": 0
      },
      "text/plain": [
       "  0%|          | 0/3083 [00:00<?, ?it/s]"
      ]
     },
     "metadata": {},
     "output_type": "display_data"
    },
    {
     "name": "stdout",
     "output_type": "stream",
     "text": [
      "final shape (3083, 178)\n",
      "shape before row_rise_aggregation (37882, 369)\n",
      "shape after row_rise_aggregation (37882, 384)\n",
      "shape before column_rise_aggregation (37882, 384)\n",
      "shape after column_rise_aggregation (3083, 1893)\n",
      "diff between last and mean transaction\n"
     ]
    },
    {
     "data": {
      "application/vnd.jupyter.widget-view+json": {
       "model_id": "9dabc2cbd6284d568c49ba11f6307c13",
       "version_major": 2,
       "version_minor": 0
      },
      "text/plain": [
       "  0%|          | 0/177 [00:00<?, ?it/s]"
      ]
     },
     "metadata": {},
     "output_type": "display_data"
    },
    {
     "name": "stdout",
     "output_type": "stream",
     "text": [
      "save processed test_1.ftr\n"
     ]
    },
    {
     "data": {
      "application/vnd.jupyter.widget-view+json": {
       "model_id": "66f4afb9990a4359ab9fa272a754b902",
       "version_major": 2,
       "version_minor": 0
      },
      "text/plain": [
       "  0%|          | 0/3083 [00:00<?, ?it/s]"
      ]
     },
     "metadata": {},
     "output_type": "display_data"
    },
    {
     "name": "stdout",
     "output_type": "stream",
     "text": [
      "final shape (3083, 178)\n",
      "shape before row_rise_aggregation (38085, 369)\n",
      "shape after row_rise_aggregation (38085, 384)\n",
      "shape before column_rise_aggregation (38085, 384)\n",
      "shape after column_rise_aggregation (3083, 1897)\n",
      "diff between last and mean transaction\n"
     ]
    },
    {
     "data": {
      "application/vnd.jupyter.widget-view+json": {
       "model_id": "1f3e657ff6754f6d8838f8624498df05",
       "version_major": 2,
       "version_minor": 0
      },
      "text/plain": [
       "  0%|          | 0/177 [00:00<?, ?it/s]"
      ]
     },
     "metadata": {},
     "output_type": "display_data"
    },
    {
     "name": "stdout",
     "output_type": "stream",
     "text": [
      "save processed test_165.ftr\n"
     ]
    },
    {
     "data": {
      "application/vnd.jupyter.widget-view+json": {
       "model_id": "6d2c778f7d70419199ccd7c2cec5403c",
       "version_major": 2,
       "version_minor": 0
      },
      "text/plain": [
       "  0%|          | 0/3083 [00:00<?, ?it/s]"
      ]
     },
     "metadata": {},
     "output_type": "display_data"
    },
    {
     "name": "stdout",
     "output_type": "stream",
     "text": [
      "final shape (3083, 178)\n",
      "shape before row_rise_aggregation (38213, 369)\n",
      "shape after row_rise_aggregation (38213, 384)\n",
      "shape before column_rise_aggregation (38213, 384)\n",
      "shape after column_rise_aggregation (3083, 1897)\n",
      "diff between last and mean transaction\n"
     ]
    },
    {
     "data": {
      "application/vnd.jupyter.widget-view+json": {
       "model_id": "080820dd67f5486ca6f133c5f18f07d7",
       "version_major": 2,
       "version_minor": 0
      },
      "text/plain": [
       "  0%|          | 0/177 [00:00<?, ?it/s]"
      ]
     },
     "metadata": {},
     "output_type": "display_data"
    },
    {
     "name": "stdout",
     "output_type": "stream",
     "text": [
      "save processed test_152.ftr\n"
     ]
    },
    {
     "data": {
      "application/vnd.jupyter.widget-view+json": {
       "model_id": "349fa161a41149e293328012c0efa09b",
       "version_major": 2,
       "version_minor": 0
      },
      "text/plain": [
       "  0%|          | 0/3083 [00:00<?, ?it/s]"
      ]
     },
     "metadata": {},
     "output_type": "display_data"
    },
    {
     "name": "stdout",
     "output_type": "stream",
     "text": [
      "final shape (3083, 178)\n",
      "shape before row_rise_aggregation (37998, 369)\n",
      "shape after row_rise_aggregation (37998, 384)\n",
      "shape before column_rise_aggregation (37998, 384)\n",
      "shape after column_rise_aggregation (3083, 1893)\n",
      "diff between last and mean transaction\n"
     ]
    },
    {
     "data": {
      "application/vnd.jupyter.widget-view+json": {
       "model_id": "c528e49b375c4891ac18c2d655865fd9",
       "version_major": 2,
       "version_minor": 0
      },
      "text/plain": [
       "  0%|          | 0/177 [00:00<?, ?it/s]"
      ]
     },
     "metadata": {},
     "output_type": "display_data"
    },
    {
     "name": "stdout",
     "output_type": "stream",
     "text": [
      "save processed test_107.ftr\n"
     ]
    },
    {
     "data": {
      "application/vnd.jupyter.widget-view+json": {
       "model_id": "01fe3904c3664ecbb72699a53119cfcb",
       "version_major": 2,
       "version_minor": 0
      },
      "text/plain": [
       "  0%|          | 0/3083 [00:00<?, ?it/s]"
      ]
     },
     "metadata": {},
     "output_type": "display_data"
    },
    {
     "name": "stdout",
     "output_type": "stream",
     "text": [
      "final shape (3083, 178)\n",
      "shape before row_rise_aggregation (37888, 369)\n",
      "shape after row_rise_aggregation (37888, 384)\n",
      "shape before column_rise_aggregation (37888, 384)\n",
      "shape after column_rise_aggregation (3083, 1897)\n",
      "diff between last and mean transaction\n"
     ]
    },
    {
     "data": {
      "application/vnd.jupyter.widget-view+json": {
       "model_id": "24b40e2d26f64bac96facf1793005d2b",
       "version_major": 2,
       "version_minor": 0
      },
      "text/plain": [
       "  0%|          | 0/177 [00:00<?, ?it/s]"
      ]
     },
     "metadata": {},
     "output_type": "display_data"
    },
    {
     "name": "stdout",
     "output_type": "stream",
     "text": [
      "save processed test_166.ftr\n"
     ]
    },
    {
     "data": {
      "application/vnd.jupyter.widget-view+json": {
       "model_id": "fa88aaba29ac40f1890e59d2c046d4b1",
       "version_major": 2,
       "version_minor": 0
      },
      "text/plain": [
       "  0%|          | 0/3083 [00:00<?, ?it/s]"
      ]
     },
     "metadata": {},
     "output_type": "display_data"
    },
    {
     "name": "stdout",
     "output_type": "stream",
     "text": [
      "final shape (3083, 178)\n",
      "shape before row_rise_aggregation (37851, 369)\n",
      "shape after row_rise_aggregation (37851, 384)\n",
      "shape before column_rise_aggregation (37851, 384)\n",
      "shape after column_rise_aggregation (3083, 1897)\n",
      "diff between last and mean transaction\n"
     ]
    },
    {
     "data": {
      "application/vnd.jupyter.widget-view+json": {
       "model_id": "8042ec38c5af4c19860ce16f7fc5d444",
       "version_major": 2,
       "version_minor": 0
      },
      "text/plain": [
       "  0%|          | 0/177 [00:00<?, ?it/s]"
      ]
     },
     "metadata": {},
     "output_type": "display_data"
    },
    {
     "name": "stdout",
     "output_type": "stream",
     "text": [
      "save processed test_27.ftr\n"
     ]
    },
    {
     "data": {
      "application/vnd.jupyter.widget-view+json": {
       "model_id": "51ba384fa64a4ce194fe54426002ea93",
       "version_major": 2,
       "version_minor": 0
      },
      "text/plain": [
       "  0%|          | 0/3083 [00:00<?, ?it/s]"
      ]
     },
     "metadata": {},
     "output_type": "display_data"
    },
    {
     "name": "stdout",
     "output_type": "stream",
     "text": [
      "final shape (3083, 178)\n",
      "shape before row_rise_aggregation (37916, 369)\n",
      "shape after row_rise_aggregation (37916, 384)\n",
      "shape before column_rise_aggregation (37916, 384)\n",
      "shape after column_rise_aggregation (3083, 1897)\n",
      "diff between last and mean transaction\n"
     ]
    },
    {
     "data": {
      "application/vnd.jupyter.widget-view+json": {
       "model_id": "cc2f4123bd254d93b8784cab2515e483",
       "version_major": 2,
       "version_minor": 0
      },
      "text/plain": [
       "  0%|          | 0/177 [00:00<?, ?it/s]"
      ]
     },
     "metadata": {},
     "output_type": "display_data"
    },
    {
     "name": "stdout",
     "output_type": "stream",
     "text": [
      "save processed test_123.ftr\n"
     ]
    },
    {
     "data": {
      "application/vnd.jupyter.widget-view+json": {
       "model_id": "cd1974e38f484a438a4da66f9cfccab4",
       "version_major": 2,
       "version_minor": 0
      },
      "text/plain": [
       "  0%|          | 0/3083 [00:00<?, ?it/s]"
      ]
     },
     "metadata": {},
     "output_type": "display_data"
    },
    {
     "name": "stdout",
     "output_type": "stream",
     "text": [
      "final shape (3083, 178)\n",
      "shape before row_rise_aggregation (37780, 369)\n",
      "shape after row_rise_aggregation (37780, 384)\n",
      "shape before column_rise_aggregation (37780, 384)\n",
      "shape after column_rise_aggregation (3083, 1897)\n",
      "diff between last and mean transaction\n"
     ]
    },
    {
     "data": {
      "application/vnd.jupyter.widget-view+json": {
       "model_id": "5fdce33ce9374f3cb385eeaefee0d039",
       "version_major": 2,
       "version_minor": 0
      },
      "text/plain": [
       "  0%|          | 0/177 [00:00<?, ?it/s]"
      ]
     },
     "metadata": {},
     "output_type": "display_data"
    },
    {
     "name": "stdout",
     "output_type": "stream",
     "text": [
      "save processed test_267.ftr\n"
     ]
    },
    {
     "data": {
      "application/vnd.jupyter.widget-view+json": {
       "model_id": "82acd96978054eaab813dc00b2148429",
       "version_major": 2,
       "version_minor": 0
      },
      "text/plain": [
       "  0%|          | 0/3083 [00:00<?, ?it/s]"
      ]
     },
     "metadata": {},
     "output_type": "display_data"
    },
    {
     "name": "stdout",
     "output_type": "stream",
     "text": [
      "final shape (3083, 178)\n",
      "shape before row_rise_aggregation (37945, 369)\n",
      "shape after row_rise_aggregation (37945, 384)\n",
      "shape before column_rise_aggregation (37945, 384)\n",
      "shape after column_rise_aggregation (3083, 1893)\n",
      "diff between last and mean transaction\n"
     ]
    },
    {
     "data": {
      "application/vnd.jupyter.widget-view+json": {
       "model_id": "d2763c7b9677455db88c7b5c09931f91",
       "version_major": 2,
       "version_minor": 0
      },
      "text/plain": [
       "  0%|          | 0/177 [00:00<?, ?it/s]"
      ]
     },
     "metadata": {},
     "output_type": "display_data"
    },
    {
     "name": "stdout",
     "output_type": "stream",
     "text": [
      "save processed test_75.ftr\n"
     ]
    },
    {
     "data": {
      "application/vnd.jupyter.widget-view+json": {
       "model_id": "502f6af7a93b4638a268290a517f7882",
       "version_major": 2,
       "version_minor": 0
      },
      "text/plain": [
       "  0%|          | 0/3083 [00:00<?, ?it/s]"
      ]
     },
     "metadata": {},
     "output_type": "display_data"
    },
    {
     "name": "stdout",
     "output_type": "stream",
     "text": [
      "final shape (3083, 178)\n",
      "shape before row_rise_aggregation (37754, 369)\n",
      "shape after row_rise_aggregation (37754, 384)\n",
      "shape before column_rise_aggregation (37754, 384)\n",
      "shape after column_rise_aggregation (3083, 1893)\n",
      "diff between last and mean transaction\n"
     ]
    },
    {
     "data": {
      "application/vnd.jupyter.widget-view+json": {
       "model_id": "06fe54c7190d4c91842dc44a823607d6",
       "version_major": 2,
       "version_minor": 0
      },
      "text/plain": [
       "  0%|          | 0/177 [00:00<?, ?it/s]"
      ]
     },
     "metadata": {},
     "output_type": "display_data"
    },
    {
     "name": "stdout",
     "output_type": "stream",
     "text": [
      "save processed test_215.ftr\n"
     ]
    },
    {
     "data": {
      "application/vnd.jupyter.widget-view+json": {
       "model_id": "756ad2096efd44778dec49219016c3b6",
       "version_major": 2,
       "version_minor": 0
      },
      "text/plain": [
       "  0%|          | 0/3083 [00:00<?, ?it/s]"
      ]
     },
     "metadata": {},
     "output_type": "display_data"
    },
    {
     "name": "stdout",
     "output_type": "stream",
     "text": [
      "final shape (3083, 178)\n",
      "shape before row_rise_aggregation (37960, 369)\n",
      "shape after row_rise_aggregation (37960, 384)\n",
      "shape before column_rise_aggregation (37960, 384)\n",
      "shape after column_rise_aggregation (3083, 1897)\n",
      "diff between last and mean transaction\n"
     ]
    },
    {
     "data": {
      "application/vnd.jupyter.widget-view+json": {
       "model_id": "72d9ceba7641409784544b2284d19afc",
       "version_major": 2,
       "version_minor": 0
      },
      "text/plain": [
       "  0%|          | 0/177 [00:00<?, ?it/s]"
      ]
     },
     "metadata": {},
     "output_type": "display_data"
    },
    {
     "name": "stdout",
     "output_type": "stream",
     "text": [
      "save processed test_131.ftr\n"
     ]
    },
    {
     "data": {
      "application/vnd.jupyter.widget-view+json": {
       "model_id": "a0b645e6d175475686699f6f33cc120f",
       "version_major": 2,
       "version_minor": 0
      },
      "text/plain": [
       "  0%|          | 0/3083 [00:00<?, ?it/s]"
      ]
     },
     "metadata": {},
     "output_type": "display_data"
    },
    {
     "name": "stdout",
     "output_type": "stream",
     "text": [
      "final shape (3083, 178)\n",
      "shape before row_rise_aggregation (37758, 369)\n",
      "shape after row_rise_aggregation (37758, 384)\n",
      "shape before column_rise_aggregation (37758, 384)\n",
      "shape after column_rise_aggregation (3083, 1893)\n",
      "diff between last and mean transaction\n"
     ]
    },
    {
     "data": {
      "application/vnd.jupyter.widget-view+json": {
       "model_id": "4d891fe405394683a75e609e123fd171",
       "version_major": 2,
       "version_minor": 0
      },
      "text/plain": [
       "  0%|          | 0/177 [00:00<?, ?it/s]"
      ]
     },
     "metadata": {},
     "output_type": "display_data"
    },
    {
     "name": "stdout",
     "output_type": "stream",
     "text": [
      "save processed test_149.ftr\n"
     ]
    },
    {
     "data": {
      "application/vnd.jupyter.widget-view+json": {
       "model_id": "2efc479ab54e42e4a150414007de26e1",
       "version_major": 2,
       "version_minor": 0
      },
      "text/plain": [
       "  0%|          | 0/3083 [00:00<?, ?it/s]"
      ]
     },
     "metadata": {},
     "output_type": "display_data"
    },
    {
     "name": "stdout",
     "output_type": "stream",
     "text": [
      "final shape (3083, 178)\n",
      "shape before row_rise_aggregation (37816, 369)\n",
      "shape after row_rise_aggregation (37816, 384)\n",
      "shape before column_rise_aggregation (37816, 384)\n",
      "shape after column_rise_aggregation (3083, 1889)\n",
      "diff between last and mean transaction\n"
     ]
    },
    {
     "data": {
      "application/vnd.jupyter.widget-view+json": {
       "model_id": "315dccd7696b46fe826fcdd47bc3b1ed",
       "version_major": 2,
       "version_minor": 0
      },
      "text/plain": [
       "  0%|          | 0/177 [00:00<?, ?it/s]"
      ]
     },
     "metadata": {},
     "output_type": "display_data"
    },
    {
     "name": "stdout",
     "output_type": "stream",
     "text": [
      "save processed test_85.ftr\n"
     ]
    },
    {
     "data": {
      "application/vnd.jupyter.widget-view+json": {
       "model_id": "1ae5a1530be44f9299c311165aecb51a",
       "version_major": 2,
       "version_minor": 0
      },
      "text/plain": [
       "  0%|          | 0/3083 [00:00<?, ?it/s]"
      ]
     },
     "metadata": {},
     "output_type": "display_data"
    },
    {
     "name": "stdout",
     "output_type": "stream",
     "text": [
      "final shape (3083, 178)\n",
      "shape before row_rise_aggregation (37781, 369)\n",
      "shape after row_rise_aggregation (37781, 384)\n",
      "shape before column_rise_aggregation (37781, 384)\n",
      "shape after column_rise_aggregation (3083, 1897)\n",
      "diff between last and mean transaction\n"
     ]
    },
    {
     "data": {
      "application/vnd.jupyter.widget-view+json": {
       "model_id": "c1836b4a41a44fae929ccb37f31beaf6",
       "version_major": 2,
       "version_minor": 0
      },
      "text/plain": [
       "  0%|          | 0/177 [00:00<?, ?it/s]"
      ]
     },
     "metadata": {},
     "output_type": "display_data"
    },
    {
     "name": "stdout",
     "output_type": "stream",
     "text": [
      "save processed test_84.ftr\n"
     ]
    },
    {
     "data": {
      "application/vnd.jupyter.widget-view+json": {
       "model_id": "848514148b2241bb801267b6cd1ff8f0",
       "version_major": 2,
       "version_minor": 0
      },
      "text/plain": [
       "  0%|          | 0/3083 [00:00<?, ?it/s]"
      ]
     },
     "metadata": {},
     "output_type": "display_data"
    },
    {
     "name": "stdout",
     "output_type": "stream",
     "text": [
      "final shape (3083, 178)\n",
      "shape before row_rise_aggregation (37907, 369)\n",
      "shape after row_rise_aggregation (37907, 384)\n",
      "shape before column_rise_aggregation (37907, 384)\n",
      "shape after column_rise_aggregation (3083, 1893)\n",
      "diff between last and mean transaction\n"
     ]
    },
    {
     "data": {
      "application/vnd.jupyter.widget-view+json": {
       "model_id": "303bd725c024499e9e32d7a0693468b4",
       "version_major": 2,
       "version_minor": 0
      },
      "text/plain": [
       "  0%|          | 0/177 [00:00<?, ?it/s]"
      ]
     },
     "metadata": {},
     "output_type": "display_data"
    },
    {
     "name": "stdout",
     "output_type": "stream",
     "text": [
      "save processed test_102.ftr\n"
     ]
    },
    {
     "data": {
      "application/vnd.jupyter.widget-view+json": {
       "model_id": "19dd5591c6324050b5ba516c92863a1a",
       "version_major": 2,
       "version_minor": 0
      },
      "text/plain": [
       "  0%|          | 0/3083 [00:00<?, ?it/s]"
      ]
     },
     "metadata": {},
     "output_type": "display_data"
    },
    {
     "name": "stdout",
     "output_type": "stream",
     "text": [
      "final shape (3083, 178)\n",
      "shape before row_rise_aggregation (37926, 369)\n",
      "shape after row_rise_aggregation (37926, 384)\n",
      "shape before column_rise_aggregation (37926, 384)\n",
      "shape after column_rise_aggregation (3083, 1897)\n",
      "diff between last and mean transaction\n"
     ]
    },
    {
     "data": {
      "application/vnd.jupyter.widget-view+json": {
       "model_id": "9402b3c09c504223b90867122d48a2f6",
       "version_major": 2,
       "version_minor": 0
      },
      "text/plain": [
       "  0%|          | 0/177 [00:00<?, ?it/s]"
      ]
     },
     "metadata": {},
     "output_type": "display_data"
    },
    {
     "name": "stdout",
     "output_type": "stream",
     "text": [
      "save processed test_175.ftr\n"
     ]
    },
    {
     "data": {
      "application/vnd.jupyter.widget-view+json": {
       "model_id": "ac436b3f85c0402199a650e15e1edabe",
       "version_major": 2,
       "version_minor": 0
      },
      "text/plain": [
       "  0%|          | 0/3083 [00:00<?, ?it/s]"
      ]
     },
     "metadata": {},
     "output_type": "display_data"
    },
    {
     "name": "stdout",
     "output_type": "stream",
     "text": [
      "final shape (3083, 178)\n",
      "shape before row_rise_aggregation (37758, 369)\n",
      "shape after row_rise_aggregation (37758, 384)\n",
      "shape before column_rise_aggregation (37758, 384)\n",
      "shape after column_rise_aggregation (3083, 1897)\n",
      "diff between last and mean transaction\n"
     ]
    },
    {
     "data": {
      "application/vnd.jupyter.widget-view+json": {
       "model_id": "2b66ec7d44c348068b6f0878ea1c895a",
       "version_major": 2,
       "version_minor": 0
      },
      "text/plain": [
       "  0%|          | 0/177 [00:00<?, ?it/s]"
      ]
     },
     "metadata": {},
     "output_type": "display_data"
    },
    {
     "name": "stdout",
     "output_type": "stream",
     "text": [
      "save processed test_69.ftr\n"
     ]
    },
    {
     "data": {
      "application/vnd.jupyter.widget-view+json": {
       "model_id": "44785da10fdb4d9a901e9d01c399adcd",
       "version_major": 2,
       "version_minor": 0
      },
      "text/plain": [
       "  0%|          | 0/3083 [00:00<?, ?it/s]"
      ]
     },
     "metadata": {},
     "output_type": "display_data"
    },
    {
     "name": "stdout",
     "output_type": "stream",
     "text": [
      "final shape (3083, 178)\n",
      "shape before row_rise_aggregation (37965, 369)\n",
      "shape after row_rise_aggregation (37965, 384)\n",
      "shape before column_rise_aggregation (37965, 384)\n",
      "shape after column_rise_aggregation (3083, 1897)\n",
      "diff between last and mean transaction\n"
     ]
    },
    {
     "data": {
      "application/vnd.jupyter.widget-view+json": {
       "model_id": "71d4358b0828495e9ce25b8b94318d06",
       "version_major": 2,
       "version_minor": 0
      },
      "text/plain": [
       "  0%|          | 0/177 [00:00<?, ?it/s]"
      ]
     },
     "metadata": {},
     "output_type": "display_data"
    },
    {
     "name": "stdout",
     "output_type": "stream",
     "text": [
      "save processed test_172.ftr\n"
     ]
    },
    {
     "data": {
      "application/vnd.jupyter.widget-view+json": {
       "model_id": "b53838c1ce8b49b1955b3c94335ec7e0",
       "version_major": 2,
       "version_minor": 0
      },
      "text/plain": [
       "  0%|          | 0/3083 [00:00<?, ?it/s]"
      ]
     },
     "metadata": {},
     "output_type": "display_data"
    },
    {
     "name": "stdout",
     "output_type": "stream",
     "text": [
      "final shape (3083, 178)\n",
      "shape before row_rise_aggregation (37820, 369)\n",
      "shape after row_rise_aggregation (37820, 384)\n",
      "shape before column_rise_aggregation (37820, 384)\n",
      "shape after column_rise_aggregation (3083, 1893)\n",
      "diff between last and mean transaction\n"
     ]
    },
    {
     "data": {
      "application/vnd.jupyter.widget-view+json": {
       "model_id": "766b1fd5c2c64b378970d9c4694089ee",
       "version_major": 2,
       "version_minor": 0
      },
      "text/plain": [
       "  0%|          | 0/177 [00:00<?, ?it/s]"
      ]
     },
     "metadata": {},
     "output_type": "display_data"
    },
    {
     "name": "stdout",
     "output_type": "stream",
     "text": [
      "save processed test_183.ftr\n"
     ]
    },
    {
     "data": {
      "application/vnd.jupyter.widget-view+json": {
       "model_id": "d1366842ee244abd98a23f82b142c3c1",
       "version_major": 2,
       "version_minor": 0
      },
      "text/plain": [
       "  0%|          | 0/3083 [00:00<?, ?it/s]"
      ]
     },
     "metadata": {},
     "output_type": "display_data"
    },
    {
     "name": "stdout",
     "output_type": "stream",
     "text": [
      "final shape (3083, 178)\n",
      "shape before row_rise_aggregation (37829, 369)\n",
      "shape after row_rise_aggregation (37829, 384)\n",
      "shape before column_rise_aggregation (37829, 384)\n",
      "shape after column_rise_aggregation (3083, 1897)\n",
      "diff between last and mean transaction\n"
     ]
    },
    {
     "data": {
      "application/vnd.jupyter.widget-view+json": {
       "model_id": "5a95653f3c574caa977d1f2ce53cabe7",
       "version_major": 2,
       "version_minor": 0
      },
      "text/plain": [
       "  0%|          | 0/177 [00:00<?, ?it/s]"
      ]
     },
     "metadata": {},
     "output_type": "display_data"
    },
    {
     "name": "stdout",
     "output_type": "stream",
     "text": [
      "save processed test_158.ftr\n"
     ]
    },
    {
     "data": {
      "application/vnd.jupyter.widget-view+json": {
       "model_id": "c08b08618c5f46749c1c071378b7457e",
       "version_major": 2,
       "version_minor": 0
      },
      "text/plain": [
       "  0%|          | 0/3083 [00:00<?, ?it/s]"
      ]
     },
     "metadata": {},
     "output_type": "display_data"
    },
    {
     "name": "stdout",
     "output_type": "stream",
     "text": [
      "final shape (3083, 178)\n",
      "shape before row_rise_aggregation (37972, 369)\n",
      "shape after row_rise_aggregation (37972, 384)\n",
      "shape before column_rise_aggregation (37972, 384)\n",
      "shape after column_rise_aggregation (3083, 1897)\n",
      "diff between last and mean transaction\n"
     ]
    },
    {
     "data": {
      "application/vnd.jupyter.widget-view+json": {
       "model_id": "a3bbc7486d6246f9822e071c0b64b19b",
       "version_major": 2,
       "version_minor": 0
      },
      "text/plain": [
       "  0%|          | 0/177 [00:00<?, ?it/s]"
      ]
     },
     "metadata": {},
     "output_type": "display_data"
    },
    {
     "name": "stdout",
     "output_type": "stream",
     "text": [
      "save processed test_98.ftr\n"
     ]
    },
    {
     "data": {
      "application/vnd.jupyter.widget-view+json": {
       "model_id": "602a348921fd4f6fb490e681e2ccf792",
       "version_major": 2,
       "version_minor": 0
      },
      "text/plain": [
       "  0%|          | 0/3083 [00:00<?, ?it/s]"
      ]
     },
     "metadata": {},
     "output_type": "display_data"
    },
    {
     "name": "stdout",
     "output_type": "stream",
     "text": [
      "final shape (3083, 178)\n",
      "shape before row_rise_aggregation (37935, 369)\n",
      "shape after row_rise_aggregation (37935, 384)\n",
      "shape before column_rise_aggregation (37935, 384)\n",
      "shape after column_rise_aggregation (3083, 1889)\n",
      "diff between last and mean transaction\n"
     ]
    },
    {
     "data": {
      "application/vnd.jupyter.widget-view+json": {
       "model_id": "418ae0b8f3cf493abc4f77f4cbed5557",
       "version_major": 2,
       "version_minor": 0
      },
      "text/plain": [
       "  0%|          | 0/177 [00:00<?, ?it/s]"
      ]
     },
     "metadata": {},
     "output_type": "display_data"
    },
    {
     "name": "stdout",
     "output_type": "stream",
     "text": [
      "save processed test_248.ftr\n"
     ]
    },
    {
     "data": {
      "application/vnd.jupyter.widget-view+json": {
       "model_id": "9c2da3acd86f4421abff320200b13ab1",
       "version_major": 2,
       "version_minor": 0
      },
      "text/plain": [
       "  0%|          | 0/3083 [00:00<?, ?it/s]"
      ]
     },
     "metadata": {},
     "output_type": "display_data"
    },
    {
     "name": "stdout",
     "output_type": "stream",
     "text": [
      "final shape (3083, 178)\n",
      "shape before row_rise_aggregation (37960, 369)\n",
      "shape after row_rise_aggregation (37960, 384)\n",
      "shape before column_rise_aggregation (37960, 384)\n",
      "shape after column_rise_aggregation (3083, 1893)\n",
      "diff between last and mean transaction\n"
     ]
    },
    {
     "data": {
      "application/vnd.jupyter.widget-view+json": {
       "model_id": "8f6bd0a9e755417eb2405b896642d19b",
       "version_major": 2,
       "version_minor": 0
      },
      "text/plain": [
       "  0%|          | 0/177 [00:00<?, ?it/s]"
      ]
     },
     "metadata": {},
     "output_type": "display_data"
    },
    {
     "name": "stdout",
     "output_type": "stream",
     "text": [
      "save processed test_141.ftr\n"
     ]
    },
    {
     "data": {
      "application/vnd.jupyter.widget-view+json": {
       "model_id": "9a90419e8b5645a7a0759ff6429bfd32",
       "version_major": 2,
       "version_minor": 0
      },
      "text/plain": [
       "  0%|          | 0/3083 [00:00<?, ?it/s]"
      ]
     },
     "metadata": {},
     "output_type": "display_data"
    },
    {
     "name": "stdout",
     "output_type": "stream",
     "text": [
      "final shape (3083, 178)\n",
      "shape before row_rise_aggregation (37709, 369)\n",
      "shape after row_rise_aggregation (37709, 384)\n",
      "shape before column_rise_aggregation (37709, 384)\n",
      "shape after column_rise_aggregation (3083, 1897)\n",
      "diff between last and mean transaction\n"
     ]
    },
    {
     "data": {
      "application/vnd.jupyter.widget-view+json": {
       "model_id": "9731641791644b1184c2d9df70576fac",
       "version_major": 2,
       "version_minor": 0
      },
      "text/plain": [
       "  0%|          | 0/177 [00:00<?, ?it/s]"
      ]
     },
     "metadata": {},
     "output_type": "display_data"
    },
    {
     "name": "stdout",
     "output_type": "stream",
     "text": [
      "save processed test_50.ftr\n"
     ]
    },
    {
     "data": {
      "application/vnd.jupyter.widget-view+json": {
       "model_id": "6dceca0525c240e6808624f0151b789f",
       "version_major": 2,
       "version_minor": 0
      },
      "text/plain": [
       "  0%|          | 0/3083 [00:00<?, ?it/s]"
      ]
     },
     "metadata": {},
     "output_type": "display_data"
    },
    {
     "name": "stdout",
     "output_type": "stream",
     "text": [
      "final shape (3083, 178)\n",
      "shape before row_rise_aggregation (38038, 369)\n",
      "shape after row_rise_aggregation (38038, 384)\n",
      "shape before column_rise_aggregation (38038, 384)\n",
      "shape after column_rise_aggregation (3083, 1893)\n",
      "diff between last and mean transaction\n"
     ]
    },
    {
     "data": {
      "application/vnd.jupyter.widget-view+json": {
       "model_id": "baa78ad09d894aed9069ecd11436b5eb",
       "version_major": 2,
       "version_minor": 0
      },
      "text/plain": [
       "  0%|          | 0/177 [00:00<?, ?it/s]"
      ]
     },
     "metadata": {},
     "output_type": "display_data"
    },
    {
     "name": "stdout",
     "output_type": "stream",
     "text": [
      "save processed test_182.ftr\n"
     ]
    },
    {
     "data": {
      "application/vnd.jupyter.widget-view+json": {
       "model_id": "e806c048e0ad4b148b17d2e704cf0abf",
       "version_major": 2,
       "version_minor": 0
      },
      "text/plain": [
       "  0%|          | 0/3083 [00:00<?, ?it/s]"
      ]
     },
     "metadata": {},
     "output_type": "display_data"
    },
    {
     "name": "stdout",
     "output_type": "stream",
     "text": [
      "final shape (3083, 178)\n",
      "shape before row_rise_aggregation (37753, 369)\n",
      "shape after row_rise_aggregation (37753, 384)\n",
      "shape before column_rise_aggregation (37753, 384)\n",
      "shape after column_rise_aggregation (3083, 1897)\n",
      "diff between last and mean transaction\n"
     ]
    },
    {
     "data": {
      "application/vnd.jupyter.widget-view+json": {
       "model_id": "ab5720f1c9e74db2b89cd299ec39c6e3",
       "version_major": 2,
       "version_minor": 0
      },
      "text/plain": [
       "  0%|          | 0/177 [00:00<?, ?it/s]"
      ]
     },
     "metadata": {},
     "output_type": "display_data"
    },
    {
     "name": "stdout",
     "output_type": "stream",
     "text": [
      "save processed test_251.ftr\n"
     ]
    },
    {
     "data": {
      "application/vnd.jupyter.widget-view+json": {
       "model_id": "664916e6c2fb4a46af7ddfeecd6ec744",
       "version_major": 2,
       "version_minor": 0
      },
      "text/plain": [
       "  0%|          | 0/3083 [00:00<?, ?it/s]"
      ]
     },
     "metadata": {},
     "output_type": "display_data"
    },
    {
     "name": "stdout",
     "output_type": "stream",
     "text": [
      "final shape (3083, 178)\n",
      "shape before row_rise_aggregation (37704, 369)\n",
      "shape after row_rise_aggregation (37704, 384)\n",
      "shape before column_rise_aggregation (37704, 384)\n",
      "shape after column_rise_aggregation (3083, 1897)\n",
      "diff between last and mean transaction\n"
     ]
    },
    {
     "data": {
      "application/vnd.jupyter.widget-view+json": {
       "model_id": "a8726da048a04d9b80e07aa89bda7385",
       "version_major": 2,
       "version_minor": 0
      },
      "text/plain": [
       "  0%|          | 0/177 [00:00<?, ?it/s]"
      ]
     },
     "metadata": {},
     "output_type": "display_data"
    },
    {
     "name": "stdout",
     "output_type": "stream",
     "text": [
      "save processed test_213.ftr\n"
     ]
    },
    {
     "data": {
      "application/vnd.jupyter.widget-view+json": {
       "model_id": "1d1b504fff88463a83db5857f5c89670",
       "version_major": 2,
       "version_minor": 0
      },
      "text/plain": [
       "  0%|          | 0/3083 [00:00<?, ?it/s]"
      ]
     },
     "metadata": {},
     "output_type": "display_data"
    },
    {
     "name": "stdout",
     "output_type": "stream",
     "text": [
      "final shape (3083, 178)\n",
      "shape before row_rise_aggregation (38289, 369)\n",
      "shape after row_rise_aggregation (38289, 384)\n",
      "shape before column_rise_aggregation (38289, 384)\n",
      "shape after column_rise_aggregation (3083, 1893)\n",
      "diff between last and mean transaction\n"
     ]
    },
    {
     "data": {
      "application/vnd.jupyter.widget-view+json": {
       "model_id": "c335f5ee8eab4959924bdc80dd2cf541",
       "version_major": 2,
       "version_minor": 0
      },
      "text/plain": [
       "  0%|          | 0/177 [00:00<?, ?it/s]"
      ]
     },
     "metadata": {},
     "output_type": "display_data"
    },
    {
     "name": "stdout",
     "output_type": "stream",
     "text": [
      "save processed test_41.ftr\n"
     ]
    },
    {
     "data": {
      "application/vnd.jupyter.widget-view+json": {
       "model_id": "3ad435f70e9b4a5298cee38facddaafe",
       "version_major": 2,
       "version_minor": 0
      },
      "text/plain": [
       "  0%|          | 0/3083 [00:00<?, ?it/s]"
      ]
     },
     "metadata": {},
     "output_type": "display_data"
    },
    {
     "name": "stdout",
     "output_type": "stream",
     "text": [
      "final shape (3083, 178)\n",
      "shape before row_rise_aggregation (37983, 369)\n",
      "shape after row_rise_aggregation (37983, 384)\n",
      "shape before column_rise_aggregation (37983, 384)\n",
      "shape after column_rise_aggregation (3083, 1897)\n",
      "diff between last and mean transaction\n"
     ]
    },
    {
     "data": {
      "application/vnd.jupyter.widget-view+json": {
       "model_id": "dceb4efc1e5f48ce9ed99b0e3d36de70",
       "version_major": 2,
       "version_minor": 0
      },
      "text/plain": [
       "  0%|          | 0/177 [00:00<?, ?it/s]"
      ]
     },
     "metadata": {},
     "output_type": "display_data"
    },
    {
     "name": "stdout",
     "output_type": "stream",
     "text": [
      "save processed test_197.ftr\n"
     ]
    },
    {
     "data": {
      "application/vnd.jupyter.widget-view+json": {
       "model_id": "38d6621acbd84ce28291c43446dc7d90",
       "version_major": 2,
       "version_minor": 0
      },
      "text/plain": [
       "  0%|          | 0/3083 [00:00<?, ?it/s]"
      ]
     },
     "metadata": {},
     "output_type": "display_data"
    },
    {
     "name": "stdout",
     "output_type": "stream",
     "text": [
      "final shape (3083, 178)\n",
      "shape before row_rise_aggregation (38111, 369)\n",
      "shape after row_rise_aggregation (38111, 384)\n",
      "shape before column_rise_aggregation (38111, 384)\n",
      "shape after column_rise_aggregation (3083, 1893)\n",
      "diff between last and mean transaction\n"
     ]
    },
    {
     "data": {
      "application/vnd.jupyter.widget-view+json": {
       "model_id": "584238a41943424f8f28fb888674974c",
       "version_major": 2,
       "version_minor": 0
      },
      "text/plain": [
       "  0%|          | 0/177 [00:00<?, ?it/s]"
      ]
     },
     "metadata": {},
     "output_type": "display_data"
    },
    {
     "name": "stdout",
     "output_type": "stream",
     "text": [
      "save processed test_196.ftr\n"
     ]
    },
    {
     "data": {
      "application/vnd.jupyter.widget-view+json": {
       "model_id": "907dfe058f384e4c8a51aa9d8c99fc74",
       "version_major": 2,
       "version_minor": 0
      },
      "text/plain": [
       "  0%|          | 0/3083 [00:00<?, ?it/s]"
      ]
     },
     "metadata": {},
     "output_type": "display_data"
    },
    {
     "name": "stdout",
     "output_type": "stream",
     "text": [
      "final shape (3083, 178)\n",
      "shape before row_rise_aggregation (38008, 369)\n",
      "shape after row_rise_aggregation (38008, 384)\n",
      "shape before column_rise_aggregation (38008, 384)\n",
      "shape after column_rise_aggregation (3083, 1897)\n",
      "diff between last and mean transaction\n"
     ]
    },
    {
     "data": {
      "application/vnd.jupyter.widget-view+json": {
       "model_id": "48a9e806dea943dc9085a612fda75535",
       "version_major": 2,
       "version_minor": 0
      },
      "text/plain": [
       "  0%|          | 0/177 [00:00<?, ?it/s]"
      ]
     },
     "metadata": {},
     "output_type": "display_data"
    },
    {
     "name": "stdout",
     "output_type": "stream",
     "text": [
      "save processed test_164.ftr\n"
     ]
    },
    {
     "data": {
      "application/vnd.jupyter.widget-view+json": {
       "model_id": "9245ac1bf1ed49398818fb998b147a07",
       "version_major": 2,
       "version_minor": 0
      },
      "text/plain": [
       "  0%|          | 0/3083 [00:00<?, ?it/s]"
      ]
     },
     "metadata": {},
     "output_type": "display_data"
    },
    {
     "name": "stdout",
     "output_type": "stream",
     "text": [
      "final shape (3083, 178)\n",
      "shape before row_rise_aggregation (37820, 369)\n",
      "shape after row_rise_aggregation (37820, 384)\n",
      "shape before column_rise_aggregation (37820, 384)\n",
      "shape after column_rise_aggregation (3083, 1897)\n",
      "diff between last and mean transaction\n"
     ]
    },
    {
     "data": {
      "application/vnd.jupyter.widget-view+json": {
       "model_id": "56beba3b395a42dcac89efe8a535405a",
       "version_major": 2,
       "version_minor": 0
      },
      "text/plain": [
       "  0%|          | 0/177 [00:00<?, ?it/s]"
      ]
     },
     "metadata": {},
     "output_type": "display_data"
    },
    {
     "name": "stdout",
     "output_type": "stream",
     "text": [
      "save processed test_281.ftr\n"
     ]
    },
    {
     "data": {
      "application/vnd.jupyter.widget-view+json": {
       "model_id": "98d5304086a54be49a9442cc722b2fd0",
       "version_major": 2,
       "version_minor": 0
      },
      "text/plain": [
       "  0%|          | 0/3083 [00:00<?, ?it/s]"
      ]
     },
     "metadata": {},
     "output_type": "display_data"
    },
    {
     "name": "stdout",
     "output_type": "stream",
     "text": [
      "final shape (3083, 178)\n",
      "shape before row_rise_aggregation (37923, 369)\n",
      "shape after row_rise_aggregation (37923, 384)\n",
      "shape before column_rise_aggregation (37923, 384)\n",
      "shape after column_rise_aggregation (3083, 1897)\n",
      "diff between last and mean transaction\n"
     ]
    },
    {
     "data": {
      "application/vnd.jupyter.widget-view+json": {
       "model_id": "04b21ec9aec34874904bed131831a4a9",
       "version_major": 2,
       "version_minor": 0
      },
      "text/plain": [
       "  0%|          | 0/177 [00:00<?, ?it/s]"
      ]
     },
     "metadata": {},
     "output_type": "display_data"
    },
    {
     "name": "stdout",
     "output_type": "stream",
     "text": [
      "save processed test_220.ftr\n"
     ]
    },
    {
     "data": {
      "application/vnd.jupyter.widget-view+json": {
       "model_id": "4f52678bfee64262bc8e111af64efe02",
       "version_major": 2,
       "version_minor": 0
      },
      "text/plain": [
       "  0%|          | 0/3083 [00:00<?, ?it/s]"
      ]
     },
     "metadata": {},
     "output_type": "display_data"
    },
    {
     "name": "stdout",
     "output_type": "stream",
     "text": [
      "final shape (3083, 178)\n",
      "shape before row_rise_aggregation (38001, 369)\n",
      "shape after row_rise_aggregation (38001, 384)\n",
      "shape before column_rise_aggregation (38001, 384)\n",
      "shape after column_rise_aggregation (3083, 1897)\n",
      "diff between last and mean transaction\n"
     ]
    },
    {
     "data": {
      "application/vnd.jupyter.widget-view+json": {
       "model_id": "f842d14b4d854ff3b36334c086c84c1a",
       "version_major": 2,
       "version_minor": 0
      },
      "text/plain": [
       "  0%|          | 0/177 [00:00<?, ?it/s]"
      ]
     },
     "metadata": {},
     "output_type": "display_data"
    },
    {
     "name": "stdout",
     "output_type": "stream",
     "text": [
      "save processed test_45.ftr\n"
     ]
    },
    {
     "data": {
      "application/vnd.jupyter.widget-view+json": {
       "model_id": "c9765ccc92334bbeb3e0a2f5558749f8",
       "version_major": 2,
       "version_minor": 0
      },
      "text/plain": [
       "  0%|          | 0/3083 [00:00<?, ?it/s]"
      ]
     },
     "metadata": {},
     "output_type": "display_data"
    },
    {
     "name": "stdout",
     "output_type": "stream",
     "text": [
      "final shape (3083, 178)\n",
      "shape before row_rise_aggregation (37866, 369)\n",
      "shape after row_rise_aggregation (37866, 384)\n",
      "shape before column_rise_aggregation (37866, 384)\n",
      "shape after column_rise_aggregation (3083, 1897)\n",
      "diff between last and mean transaction\n"
     ]
    },
    {
     "data": {
      "application/vnd.jupyter.widget-view+json": {
       "model_id": "e9bf31f52cd64dd4beaa5ed9fcde5b08",
       "version_major": 2,
       "version_minor": 0
      },
      "text/plain": [
       "  0%|          | 0/177 [00:00<?, ?it/s]"
      ]
     },
     "metadata": {},
     "output_type": "display_data"
    },
    {
     "name": "stdout",
     "output_type": "stream",
     "text": [
      "save processed test_180.ftr\n"
     ]
    },
    {
     "data": {
      "application/vnd.jupyter.widget-view+json": {
       "model_id": "b7050f072822464ba2418fcd07fa1898",
       "version_major": 2,
       "version_minor": 0
      },
      "text/plain": [
       "  0%|          | 0/3083 [00:00<?, ?it/s]"
      ]
     },
     "metadata": {},
     "output_type": "display_data"
    },
    {
     "name": "stdout",
     "output_type": "stream",
     "text": [
      "final shape (3083, 178)\n",
      "shape before row_rise_aggregation (37983, 369)\n",
      "shape after row_rise_aggregation (37983, 384)\n",
      "shape before column_rise_aggregation (37983, 384)\n",
      "shape after column_rise_aggregation (3083, 1897)\n",
      "diff between last and mean transaction\n"
     ]
    },
    {
     "data": {
      "application/vnd.jupyter.widget-view+json": {
       "model_id": "54a29be363f64f3a92d89f4bf0f7c013",
       "version_major": 2,
       "version_minor": 0
      },
      "text/plain": [
       "  0%|          | 0/177 [00:00<?, ?it/s]"
      ]
     },
     "metadata": {},
     "output_type": "display_data"
    },
    {
     "name": "stdout",
     "output_type": "stream",
     "text": [
      "save processed test_54.ftr\n"
     ]
    },
    {
     "data": {
      "application/vnd.jupyter.widget-view+json": {
       "model_id": "219f88e176dc480184386e13f768e262",
       "version_major": 2,
       "version_minor": 0
      },
      "text/plain": [
       "  0%|          | 0/3083 [00:00<?, ?it/s]"
      ]
     },
     "metadata": {},
     "output_type": "display_data"
    },
    {
     "name": "stdout",
     "output_type": "stream",
     "text": [
      "final shape (3083, 178)\n",
      "shape before row_rise_aggregation (37848, 369)\n",
      "shape after row_rise_aggregation (37848, 384)\n",
      "shape before column_rise_aggregation (37848, 384)\n",
      "shape after column_rise_aggregation (3083, 1893)\n",
      "diff between last and mean transaction\n"
     ]
    },
    {
     "data": {
      "application/vnd.jupyter.widget-view+json": {
       "model_id": "7c29d1c27d1b44eb8963a8de231d5240",
       "version_major": 2,
       "version_minor": 0
      },
      "text/plain": [
       "  0%|          | 0/177 [00:00<?, ?it/s]"
      ]
     },
     "metadata": {},
     "output_type": "display_data"
    },
    {
     "name": "stdout",
     "output_type": "stream",
     "text": [
      "save processed test_67.ftr\n"
     ]
    },
    {
     "data": {
      "application/vnd.jupyter.widget-view+json": {
       "model_id": "fbf3a1a607fd49358daf26348f24dc2b",
       "version_major": 2,
       "version_minor": 0
      },
      "text/plain": [
       "  0%|          | 0/3083 [00:00<?, ?it/s]"
      ]
     },
     "metadata": {},
     "output_type": "display_data"
    },
    {
     "name": "stdout",
     "output_type": "stream",
     "text": [
      "final shape (3083, 178)\n",
      "shape before row_rise_aggregation (37839, 369)\n",
      "shape after row_rise_aggregation (37839, 384)\n",
      "shape before column_rise_aggregation (37839, 384)\n",
      "shape after column_rise_aggregation (3083, 1897)\n",
      "diff between last and mean transaction\n"
     ]
    },
    {
     "data": {
      "application/vnd.jupyter.widget-view+json": {
       "model_id": "c030354ac7b041a48fac9cfa56c0fde1",
       "version_major": 2,
       "version_minor": 0
      },
      "text/plain": [
       "  0%|          | 0/177 [00:00<?, ?it/s]"
      ]
     },
     "metadata": {},
     "output_type": "display_data"
    },
    {
     "name": "stdout",
     "output_type": "stream",
     "text": [
      "save processed test_169.ftr\n"
     ]
    },
    {
     "data": {
      "application/vnd.jupyter.widget-view+json": {
       "model_id": "936283f4f78945258dfec3f275880129",
       "version_major": 2,
       "version_minor": 0
      },
      "text/plain": [
       "  0%|          | 0/3083 [00:00<?, ?it/s]"
      ]
     },
     "metadata": {},
     "output_type": "display_data"
    },
    {
     "name": "stdout",
     "output_type": "stream",
     "text": [
      "final shape (3083, 178)\n",
      "shape before row_rise_aggregation (37921, 369)\n",
      "shape after row_rise_aggregation (37921, 384)\n",
      "shape before column_rise_aggregation (37921, 384)\n",
      "shape after column_rise_aggregation (3083, 1897)\n",
      "diff between last and mean transaction\n"
     ]
    },
    {
     "data": {
      "application/vnd.jupyter.widget-view+json": {
       "model_id": "a61ac3205b0f46dfb7920f4d676ca368",
       "version_major": 2,
       "version_minor": 0
      },
      "text/plain": [
       "  0%|          | 0/177 [00:00<?, ?it/s]"
      ]
     },
     "metadata": {},
     "output_type": "display_data"
    },
    {
     "name": "stdout",
     "output_type": "stream",
     "text": [
      "save processed test_89.ftr\n"
     ]
    },
    {
     "data": {
      "application/vnd.jupyter.widget-view+json": {
       "model_id": "b768a225d598497b86cc450bc5a5f5f0",
       "version_major": 2,
       "version_minor": 0
      },
      "text/plain": [
       "  0%|          | 0/3083 [00:00<?, ?it/s]"
      ]
     },
     "metadata": {},
     "output_type": "display_data"
    },
    {
     "name": "stdout",
     "output_type": "stream",
     "text": [
      "final shape (3083, 178)\n",
      "shape before row_rise_aggregation (37817, 369)\n",
      "shape after row_rise_aggregation (37817, 384)\n",
      "shape before column_rise_aggregation (37817, 384)\n",
      "shape after column_rise_aggregation (3083, 1897)\n",
      "diff between last and mean transaction\n"
     ]
    },
    {
     "data": {
      "application/vnd.jupyter.widget-view+json": {
       "model_id": "f697ae37a77243aab9cb1d5c4e11deab",
       "version_major": 2,
       "version_minor": 0
      },
      "text/plain": [
       "  0%|          | 0/177 [00:00<?, ?it/s]"
      ]
     },
     "metadata": {},
     "output_type": "display_data"
    },
    {
     "name": "stdout",
     "output_type": "stream",
     "text": [
      "save processed test_160.ftr\n"
     ]
    },
    {
     "data": {
      "application/vnd.jupyter.widget-view+json": {
       "model_id": "a87a575fa16d428d9cdfc69c51cd6357",
       "version_major": 2,
       "version_minor": 0
      },
      "text/plain": [
       "  0%|          | 0/3083 [00:00<?, ?it/s]"
      ]
     },
     "metadata": {},
     "output_type": "display_data"
    },
    {
     "name": "stdout",
     "output_type": "stream",
     "text": [
      "final shape (3083, 178)\n",
      "shape before row_rise_aggregation (37908, 369)\n",
      "shape after row_rise_aggregation (37908, 384)\n",
      "shape before column_rise_aggregation (37908, 384)\n",
      "shape after column_rise_aggregation (3083, 1897)\n",
      "diff between last and mean transaction\n"
     ]
    },
    {
     "data": {
      "application/vnd.jupyter.widget-view+json": {
       "model_id": "8d278b20ffbf4504bde1de534a61f97e",
       "version_major": 2,
       "version_minor": 0
      },
      "text/plain": [
       "  0%|          | 0/177 [00:00<?, ?it/s]"
      ]
     },
     "metadata": {},
     "output_type": "display_data"
    },
    {
     "name": "stdout",
     "output_type": "stream",
     "text": [
      "save processed test_258.ftr\n"
     ]
    },
    {
     "data": {
      "application/vnd.jupyter.widget-view+json": {
       "model_id": "baab012d05ec40049104cf7d8e5c1ecb",
       "version_major": 2,
       "version_minor": 0
      },
      "text/plain": [
       "  0%|          | 0/3083 [00:00<?, ?it/s]"
      ]
     },
     "metadata": {},
     "output_type": "display_data"
    },
    {
     "name": "stdout",
     "output_type": "stream",
     "text": [
      "final shape (3083, 178)\n",
      "shape before row_rise_aggregation (38025, 369)\n",
      "shape after row_rise_aggregation (38025, 384)\n",
      "shape before column_rise_aggregation (38025, 384)\n",
      "shape after column_rise_aggregation (3083, 1897)\n",
      "diff between last and mean transaction\n"
     ]
    },
    {
     "data": {
      "application/vnd.jupyter.widget-view+json": {
       "model_id": "5caa416594cc4615b7ec0493af49851e",
       "version_major": 2,
       "version_minor": 0
      },
      "text/plain": [
       "  0%|          | 0/177 [00:00<?, ?it/s]"
      ]
     },
     "metadata": {},
     "output_type": "display_data"
    },
    {
     "name": "stdout",
     "output_type": "stream",
     "text": [
      "save processed test_23.ftr\n"
     ]
    },
    {
     "data": {
      "application/vnd.jupyter.widget-view+json": {
       "model_id": "063c1ac712e6458ab1c5530974a53476",
       "version_major": 2,
       "version_minor": 0
      },
      "text/plain": [
       "  0%|          | 0/3083 [00:00<?, ?it/s]"
      ]
     },
     "metadata": {},
     "output_type": "display_data"
    },
    {
     "name": "stdout",
     "output_type": "stream",
     "text": [
      "final shape (3083, 178)\n",
      "shape before row_rise_aggregation (37919, 369)\n",
      "shape after row_rise_aggregation (37919, 384)\n",
      "shape before column_rise_aggregation (37919, 384)\n",
      "shape after column_rise_aggregation (3083, 1897)\n",
      "diff between last and mean transaction\n"
     ]
    },
    {
     "data": {
      "application/vnd.jupyter.widget-view+json": {
       "model_id": "1069d3e2835143028176addea67470de",
       "version_major": 2,
       "version_minor": 0
      },
      "text/plain": [
       "  0%|          | 0/177 [00:00<?, ?it/s]"
      ]
     },
     "metadata": {},
     "output_type": "display_data"
    },
    {
     "name": "stdout",
     "output_type": "stream",
     "text": [
      "save processed test_155.ftr\n"
     ]
    },
    {
     "data": {
      "application/vnd.jupyter.widget-view+json": {
       "model_id": "02b6c0ffa982499fad31fbd3d517acd9",
       "version_major": 2,
       "version_minor": 0
      },
      "text/plain": [
       "  0%|          | 0/3083 [00:00<?, ?it/s]"
      ]
     },
     "metadata": {},
     "output_type": "display_data"
    },
    {
     "name": "stdout",
     "output_type": "stream",
     "text": [
      "final shape (3083, 178)\n",
      "shape before row_rise_aggregation (37966, 369)\n",
      "shape after row_rise_aggregation (37966, 384)\n",
      "shape before column_rise_aggregation (37966, 384)\n",
      "shape after column_rise_aggregation (3083, 1893)\n",
      "diff between last and mean transaction\n"
     ]
    },
    {
     "data": {
      "application/vnd.jupyter.widget-view+json": {
       "model_id": "c4452ad0dd0f409482a1868361e351df",
       "version_major": 2,
       "version_minor": 0
      },
      "text/plain": [
       "  0%|          | 0/177 [00:00<?, ?it/s]"
      ]
     },
     "metadata": {},
     "output_type": "display_data"
    },
    {
     "name": "stdout",
     "output_type": "stream",
     "text": [
      "save processed test_272.ftr\n"
     ]
    },
    {
     "data": {
      "application/vnd.jupyter.widget-view+json": {
       "model_id": "a93a23c70123421cac64dea36437246c",
       "version_major": 2,
       "version_minor": 0
      },
      "text/plain": [
       "  0%|          | 0/3083 [00:00<?, ?it/s]"
      ]
     },
     "metadata": {},
     "output_type": "display_data"
    },
    {
     "name": "stdout",
     "output_type": "stream",
     "text": [
      "final shape (3083, 178)\n",
      "shape before row_rise_aggregation (38014, 369)\n",
      "shape after row_rise_aggregation (38014, 384)\n",
      "shape before column_rise_aggregation (38014, 384)\n",
      "shape after column_rise_aggregation (3083, 1897)\n",
      "diff between last and mean transaction\n"
     ]
    },
    {
     "data": {
      "application/vnd.jupyter.widget-view+json": {
       "model_id": "bf51fbeb65c24e3ba68a2b35947607e4",
       "version_major": 2,
       "version_minor": 0
      },
      "text/plain": [
       "  0%|          | 0/177 [00:00<?, ?it/s]"
      ]
     },
     "metadata": {},
     "output_type": "display_data"
    },
    {
     "name": "stdout",
     "output_type": "stream",
     "text": [
      "save processed test_13.ftr\n"
     ]
    },
    {
     "data": {
      "application/vnd.jupyter.widget-view+json": {
       "model_id": "ffb4b92c3ea742279ba7c99557d8e356",
       "version_major": 2,
       "version_minor": 0
      },
      "text/plain": [
       "  0%|          | 0/3083 [00:00<?, ?it/s]"
      ]
     },
     "metadata": {},
     "output_type": "display_data"
    },
    {
     "name": "stdout",
     "output_type": "stream",
     "text": [
      "final shape (3083, 178)\n",
      "shape before row_rise_aggregation (37859, 369)\n",
      "shape after row_rise_aggregation (37859, 384)\n",
      "shape before column_rise_aggregation (37859, 384)\n",
      "shape after column_rise_aggregation (3083, 1885)\n",
      "diff between last and mean transaction\n"
     ]
    },
    {
     "data": {
      "application/vnd.jupyter.widget-view+json": {
       "model_id": "2a7ca9ea6bd14a94bb30dbef4052bae3",
       "version_major": 2,
       "version_minor": 0
      },
      "text/plain": [
       "  0%|          | 0/177 [00:00<?, ?it/s]"
      ]
     },
     "metadata": {},
     "output_type": "display_data"
    },
    {
     "name": "stdout",
     "output_type": "stream",
     "text": [
      "save processed test_205.ftr\n"
     ]
    },
    {
     "data": {
      "application/vnd.jupyter.widget-view+json": {
       "model_id": "3603d9bcd6e24b0b8a45df54b91a1311",
       "version_major": 2,
       "version_minor": 0
      },
      "text/plain": [
       "  0%|          | 0/3083 [00:00<?, ?it/s]"
      ]
     },
     "metadata": {},
     "output_type": "display_data"
    },
    {
     "name": "stdout",
     "output_type": "stream",
     "text": [
      "final shape (3083, 178)\n",
      "shape before row_rise_aggregation (37815, 369)\n",
      "shape after row_rise_aggregation (37815, 384)\n",
      "shape before column_rise_aggregation (37815, 384)\n",
      "shape after column_rise_aggregation (3083, 1893)\n",
      "diff between last and mean transaction\n"
     ]
    },
    {
     "data": {
      "application/vnd.jupyter.widget-view+json": {
       "model_id": "a1dbe87691694e1086a95fba26c14b04",
       "version_major": 2,
       "version_minor": 0
      },
      "text/plain": [
       "  0%|          | 0/177 [00:00<?, ?it/s]"
      ]
     },
     "metadata": {},
     "output_type": "display_data"
    },
    {
     "name": "stdout",
     "output_type": "stream",
     "text": [
      "save processed test_227.ftr\n"
     ]
    },
    {
     "data": {
      "application/vnd.jupyter.widget-view+json": {
       "model_id": "3de5863d8cce42ccb06a96af7bfc0f98",
       "version_major": 2,
       "version_minor": 0
      },
      "text/plain": [
       "  0%|          | 0/3083 [00:00<?, ?it/s]"
      ]
     },
     "metadata": {},
     "output_type": "display_data"
    },
    {
     "name": "stdout",
     "output_type": "stream",
     "text": [
      "final shape (3083, 178)\n",
      "shape before row_rise_aggregation (38008, 369)\n",
      "shape after row_rise_aggregation (38008, 384)\n",
      "shape before column_rise_aggregation (38008, 384)\n",
      "shape after column_rise_aggregation (3083, 1897)\n",
      "diff between last and mean transaction\n"
     ]
    },
    {
     "data": {
      "application/vnd.jupyter.widget-view+json": {
       "model_id": "d99695080600448ebf462460dbcf5ce4",
       "version_major": 2,
       "version_minor": 0
      },
      "text/plain": [
       "  0%|          | 0/177 [00:00<?, ?it/s]"
      ]
     },
     "metadata": {},
     "output_type": "display_data"
    },
    {
     "name": "stdout",
     "output_type": "stream",
     "text": [
      "save processed test_257.ftr\n"
     ]
    },
    {
     "data": {
      "application/vnd.jupyter.widget-view+json": {
       "model_id": "cf3f5188c5f641b2acd1449a42c3d215",
       "version_major": 2,
       "version_minor": 0
      },
      "text/plain": [
       "  0%|          | 0/3083 [00:00<?, ?it/s]"
      ]
     },
     "metadata": {},
     "output_type": "display_data"
    },
    {
     "name": "stdout",
     "output_type": "stream",
     "text": [
      "final shape (3083, 178)\n",
      "shape before row_rise_aggregation (37779, 369)\n",
      "shape after row_rise_aggregation (37779, 384)\n",
      "shape before column_rise_aggregation (37779, 384)\n",
      "shape after column_rise_aggregation (3083, 1893)\n",
      "diff between last and mean transaction\n"
     ]
    },
    {
     "data": {
      "application/vnd.jupyter.widget-view+json": {
       "model_id": "d94429829d6a464b928b330dfed193ef",
       "version_major": 2,
       "version_minor": 0
      },
      "text/plain": [
       "  0%|          | 0/177 [00:00<?, ?it/s]"
      ]
     },
     "metadata": {},
     "output_type": "display_data"
    },
    {
     "name": "stdout",
     "output_type": "stream",
     "text": [
      "save processed test_286.ftr\n"
     ]
    },
    {
     "data": {
      "application/vnd.jupyter.widget-view+json": {
       "model_id": "fa19301e3c4f4230b5a436958300acc3",
       "version_major": 2,
       "version_minor": 0
      },
      "text/plain": [
       "  0%|          | 0/3083 [00:00<?, ?it/s]"
      ]
     },
     "metadata": {},
     "output_type": "display_data"
    },
    {
     "name": "stdout",
     "output_type": "stream",
     "text": [
      "final shape (3083, 178)\n",
      "shape before row_rise_aggregation (37875, 369)\n",
      "shape after row_rise_aggregation (37875, 384)\n",
      "shape before column_rise_aggregation (37875, 384)\n",
      "shape after column_rise_aggregation (3083, 1893)\n",
      "diff between last and mean transaction\n"
     ]
    },
    {
     "data": {
      "application/vnd.jupyter.widget-view+json": {
       "model_id": "9eef462f1b6347e8b72edfe9b278e370",
       "version_major": 2,
       "version_minor": 0
      },
      "text/plain": [
       "  0%|          | 0/177 [00:00<?, ?it/s]"
      ]
     },
     "metadata": {},
     "output_type": "display_data"
    },
    {
     "name": "stdout",
     "output_type": "stream",
     "text": [
      "save processed test_238.ftr\n"
     ]
    },
    {
     "data": {
      "application/vnd.jupyter.widget-view+json": {
       "model_id": "2952f33fab1d4357bd6eb1cdd2825363",
       "version_major": 2,
       "version_minor": 0
      },
      "text/plain": [
       "  0%|          | 0/3083 [00:00<?, ?it/s]"
      ]
     },
     "metadata": {},
     "output_type": "display_data"
    },
    {
     "name": "stdout",
     "output_type": "stream",
     "text": [
      "final shape (3083, 178)\n",
      "shape before row_rise_aggregation (38061, 369)\n",
      "shape after row_rise_aggregation (38061, 384)\n",
      "shape before column_rise_aggregation (38061, 384)\n",
      "shape after column_rise_aggregation (3083, 1893)\n",
      "diff between last and mean transaction\n"
     ]
    },
    {
     "data": {
      "application/vnd.jupyter.widget-view+json": {
       "model_id": "2e28d81ea76f463c924698f0ff3ee9d5",
       "version_major": 2,
       "version_minor": 0
      },
      "text/plain": [
       "  0%|          | 0/177 [00:00<?, ?it/s]"
      ]
     },
     "metadata": {},
     "output_type": "display_data"
    },
    {
     "name": "stdout",
     "output_type": "stream",
     "text": [
      "save processed test_174.ftr\n"
     ]
    },
    {
     "data": {
      "application/vnd.jupyter.widget-view+json": {
       "model_id": "83e520edc13f4978810053b1f4e4b7af",
       "version_major": 2,
       "version_minor": 0
      },
      "text/plain": [
       "  0%|          | 0/3083 [00:00<?, ?it/s]"
      ]
     },
     "metadata": {},
     "output_type": "display_data"
    },
    {
     "name": "stdout",
     "output_type": "stream",
     "text": [
      "final shape (3083, 178)\n",
      "shape before row_rise_aggregation (37768, 369)\n",
      "shape after row_rise_aggregation (37768, 384)\n",
      "shape before column_rise_aggregation (37768, 384)\n",
      "shape after column_rise_aggregation (3083, 1897)\n",
      "diff between last and mean transaction\n"
     ]
    },
    {
     "data": {
      "application/vnd.jupyter.widget-view+json": {
       "model_id": "488f974f85504c2a954899862324bb45",
       "version_major": 2,
       "version_minor": 0
      },
      "text/plain": [
       "  0%|          | 0/177 [00:00<?, ?it/s]"
      ]
     },
     "metadata": {},
     "output_type": "display_data"
    },
    {
     "name": "stdout",
     "output_type": "stream",
     "text": [
      "save processed test_212.ftr\n"
     ]
    },
    {
     "data": {
      "application/vnd.jupyter.widget-view+json": {
       "model_id": "0d5cde1e4aac4ef4971ac29b3e469f99",
       "version_major": 2,
       "version_minor": 0
      },
      "text/plain": [
       "  0%|          | 0/3083 [00:00<?, ?it/s]"
      ]
     },
     "metadata": {},
     "output_type": "display_data"
    },
    {
     "name": "stdout",
     "output_type": "stream",
     "text": [
      "final shape (3083, 178)\n",
      "shape before row_rise_aggregation (38161, 369)\n",
      "shape after row_rise_aggregation (38161, 384)\n",
      "shape before column_rise_aggregation (38161, 384)\n",
      "shape after column_rise_aggregation (3083, 1897)\n",
      "diff between last and mean transaction\n"
     ]
    },
    {
     "data": {
      "application/vnd.jupyter.widget-view+json": {
       "model_id": "2bfd9fef769a4ba7b1e123bd022778d9",
       "version_major": 2,
       "version_minor": 0
      },
      "text/plain": [
       "  0%|          | 0/177 [00:00<?, ?it/s]"
      ]
     },
     "metadata": {},
     "output_type": "display_data"
    },
    {
     "name": "stdout",
     "output_type": "stream",
     "text": [
      "save processed test_295.ftr\n"
     ]
    },
    {
     "data": {
      "application/vnd.jupyter.widget-view+json": {
       "model_id": "7e98c5937d4342278f9219c3d9873bd8",
       "version_major": 2,
       "version_minor": 0
      },
      "text/plain": [
       "  0%|          | 0/3083 [00:00<?, ?it/s]"
      ]
     },
     "metadata": {},
     "output_type": "display_data"
    },
    {
     "name": "stdout",
     "output_type": "stream",
     "text": [
      "final shape (3083, 178)\n",
      "shape before row_rise_aggregation (37837, 369)\n",
      "shape after row_rise_aggregation (37837, 384)\n",
      "shape before column_rise_aggregation (37837, 384)\n",
      "shape after column_rise_aggregation (3083, 1897)\n",
      "diff between last and mean transaction\n"
     ]
    },
    {
     "data": {
      "application/vnd.jupyter.widget-view+json": {
       "model_id": "2eb2e06435ef4157b200ea98a6d68bd3",
       "version_major": 2,
       "version_minor": 0
      },
      "text/plain": [
       "  0%|          | 0/177 [00:00<?, ?it/s]"
      ]
     },
     "metadata": {},
     "output_type": "display_data"
    },
    {
     "name": "stdout",
     "output_type": "stream",
     "text": [
      "save processed test_145.ftr\n"
     ]
    },
    {
     "data": {
      "application/vnd.jupyter.widget-view+json": {
       "model_id": "fa11dfd864da4408974567fabf8d3783",
       "version_major": 2,
       "version_minor": 0
      },
      "text/plain": [
       "  0%|          | 0/3083 [00:00<?, ?it/s]"
      ]
     },
     "metadata": {},
     "output_type": "display_data"
    },
    {
     "name": "stdout",
     "output_type": "stream",
     "text": [
      "final shape (3083, 178)\n",
      "shape before row_rise_aggregation (37823, 369)\n",
      "shape after row_rise_aggregation (37823, 384)\n",
      "shape before column_rise_aggregation (37823, 384)\n",
      "shape after column_rise_aggregation (3083, 1893)\n",
      "diff between last and mean transaction\n"
     ]
    },
    {
     "data": {
      "application/vnd.jupyter.widget-view+json": {
       "model_id": "f307acfaab54486281fc63c532d6c69e",
       "version_major": 2,
       "version_minor": 0
      },
      "text/plain": [
       "  0%|          | 0/177 [00:00<?, ?it/s]"
      ]
     },
     "metadata": {},
     "output_type": "display_data"
    },
    {
     "name": "stdout",
     "output_type": "stream",
     "text": [
      "save processed test_185.ftr\n"
     ]
    },
    {
     "data": {
      "application/vnd.jupyter.widget-view+json": {
       "model_id": "5ba0e03dcd9f48f7a3409b4360e2fb48",
       "version_major": 2,
       "version_minor": 0
      },
      "text/plain": [
       "  0%|          | 0/3083 [00:00<?, ?it/s]"
      ]
     },
     "metadata": {},
     "output_type": "display_data"
    },
    {
     "name": "stdout",
     "output_type": "stream",
     "text": [
      "final shape (3083, 178)\n",
      "shape before row_rise_aggregation (38076, 369)\n",
      "shape after row_rise_aggregation (38076, 384)\n",
      "shape before column_rise_aggregation (38076, 384)\n",
      "shape after column_rise_aggregation (3083, 1893)\n",
      "diff between last and mean transaction\n"
     ]
    },
    {
     "data": {
      "application/vnd.jupyter.widget-view+json": {
       "model_id": "651ff12749c54d298d4bec41a4193d24",
       "version_major": 2,
       "version_minor": 0
      },
      "text/plain": [
       "  0%|          | 0/177 [00:00<?, ?it/s]"
      ]
     },
     "metadata": {},
     "output_type": "display_data"
    },
    {
     "name": "stdout",
     "output_type": "stream",
     "text": [
      "save processed test_120.ftr\n"
     ]
    },
    {
     "data": {
      "application/vnd.jupyter.widget-view+json": {
       "model_id": "b8a69037808b4d329cdf47505f7cf7a1",
       "version_major": 2,
       "version_minor": 0
      },
      "text/plain": [
       "  0%|          | 0/3083 [00:00<?, ?it/s]"
      ]
     },
     "metadata": {},
     "output_type": "display_data"
    },
    {
     "name": "stdout",
     "output_type": "stream",
     "text": [
      "final shape (3083, 178)\n",
      "shape before row_rise_aggregation (37580, 369)\n",
      "shape after row_rise_aggregation (37580, 384)\n",
      "shape before column_rise_aggregation (37580, 384)\n",
      "shape after column_rise_aggregation (3083, 1897)\n",
      "diff between last and mean transaction\n"
     ]
    },
    {
     "data": {
      "application/vnd.jupyter.widget-view+json": {
       "model_id": "6975ebdcb6534987afab8fd873ccd37a",
       "version_major": 2,
       "version_minor": 0
      },
      "text/plain": [
       "  0%|          | 0/177 [00:00<?, ?it/s]"
      ]
     },
     "metadata": {},
     "output_type": "display_data"
    },
    {
     "name": "stdout",
     "output_type": "stream",
     "text": [
      "save processed test_76.ftr\n"
     ]
    },
    {
     "data": {
      "application/vnd.jupyter.widget-view+json": {
       "model_id": "a5f7854a992b4cb3b527bc338d7eaffa",
       "version_major": 2,
       "version_minor": 0
      },
      "text/plain": [
       "  0%|          | 0/3083 [00:00<?, ?it/s]"
      ]
     },
     "metadata": {},
     "output_type": "display_data"
    },
    {
     "name": "stdout",
     "output_type": "stream",
     "text": [
      "final shape (3083, 178)\n",
      "shape before row_rise_aggregation (37821, 369)\n",
      "shape after row_rise_aggregation (37821, 384)\n",
      "shape before column_rise_aggregation (37821, 384)\n",
      "shape after column_rise_aggregation (3083, 1893)\n",
      "diff between last and mean transaction\n"
     ]
    },
    {
     "data": {
      "application/vnd.jupyter.widget-view+json": {
       "model_id": "4307749992864b01bc6228a9bf8979d7",
       "version_major": 2,
       "version_minor": 0
      },
      "text/plain": [
       "  0%|          | 0/177 [00:00<?, ?it/s]"
      ]
     },
     "metadata": {},
     "output_type": "display_data"
    },
    {
     "name": "stdout",
     "output_type": "stream",
     "text": [
      "save processed test_81.ftr\n"
     ]
    },
    {
     "data": {
      "application/vnd.jupyter.widget-view+json": {
       "model_id": "63433eb015c847e19b97503a5d35ddff",
       "version_major": 2,
       "version_minor": 0
      },
      "text/plain": [
       "  0%|          | 0/3083 [00:00<?, ?it/s]"
      ]
     },
     "metadata": {},
     "output_type": "display_data"
    },
    {
     "name": "stdout",
     "output_type": "stream",
     "text": [
      "final shape (3083, 178)\n",
      "shape before row_rise_aggregation (37721, 369)\n",
      "shape after row_rise_aggregation (37721, 384)\n",
      "shape before column_rise_aggregation (37721, 384)\n",
      "shape after column_rise_aggregation (3083, 1893)\n",
      "diff between last and mean transaction\n"
     ]
    },
    {
     "data": {
      "application/vnd.jupyter.widget-view+json": {
       "model_id": "ff138b79d42b46cdafe680175cbafe90",
       "version_major": 2,
       "version_minor": 0
      },
      "text/plain": [
       "  0%|          | 0/177 [00:00<?, ?it/s]"
      ]
     },
     "metadata": {},
     "output_type": "display_data"
    },
    {
     "name": "stdout",
     "output_type": "stream",
     "text": [
      "save processed test_284.ftr\n"
     ]
    },
    {
     "data": {
      "application/vnd.jupyter.widget-view+json": {
       "model_id": "7a697984399f4ae88a06e00997207c9e",
       "version_major": 2,
       "version_minor": 0
      },
      "text/plain": [
       "  0%|          | 0/3083 [00:00<?, ?it/s]"
      ]
     },
     "metadata": {},
     "output_type": "display_data"
    },
    {
     "name": "stdout",
     "output_type": "stream",
     "text": [
      "final shape (3083, 178)\n",
      "shape before row_rise_aggregation (37717, 369)\n",
      "shape after row_rise_aggregation (37717, 384)\n",
      "shape before column_rise_aggregation (37717, 384)\n",
      "shape after column_rise_aggregation (3083, 1893)\n",
      "diff between last and mean transaction\n"
     ]
    },
    {
     "data": {
      "application/vnd.jupyter.widget-view+json": {
       "model_id": "c702b1091651404a98effe0596fd0ef9",
       "version_major": 2,
       "version_minor": 0
      },
      "text/plain": [
       "  0%|          | 0/177 [00:00<?, ?it/s]"
      ]
     },
     "metadata": {},
     "output_type": "display_data"
    },
    {
     "name": "stdout",
     "output_type": "stream",
     "text": [
      "save processed test_268.ftr\n"
     ]
    },
    {
     "data": {
      "application/vnd.jupyter.widget-view+json": {
       "model_id": "7bc7e3605eaf4997a99e9d230db3d46c",
       "version_major": 2,
       "version_minor": 0
      },
      "text/plain": [
       "  0%|          | 0/3083 [00:00<?, ?it/s]"
      ]
     },
     "metadata": {},
     "output_type": "display_data"
    },
    {
     "name": "stdout",
     "output_type": "stream",
     "text": [
      "final shape (3083, 178)\n",
      "shape before row_rise_aggregation (38157, 369)\n",
      "shape after row_rise_aggregation (38157, 384)\n",
      "shape before column_rise_aggregation (38157, 384)\n",
      "shape after column_rise_aggregation (3083, 1893)\n",
      "diff between last and mean transaction\n"
     ]
    },
    {
     "data": {
      "application/vnd.jupyter.widget-view+json": {
       "model_id": "96b20fbe16fb4838a9b63a035a93ad82",
       "version_major": 2,
       "version_minor": 0
      },
      "text/plain": [
       "  0%|          | 0/177 [00:00<?, ?it/s]"
      ]
     },
     "metadata": {},
     "output_type": "display_data"
    },
    {
     "name": "stdout",
     "output_type": "stream",
     "text": [
      "save processed test_190.ftr\n"
     ]
    },
    {
     "data": {
      "application/vnd.jupyter.widget-view+json": {
       "model_id": "5b1ddbece682490db43612ef2f78cac9",
       "version_major": 2,
       "version_minor": 0
      },
      "text/plain": [
       "  0%|          | 0/3083 [00:00<?, ?it/s]"
      ]
     },
     "metadata": {},
     "output_type": "display_data"
    },
    {
     "name": "stdout",
     "output_type": "stream",
     "text": [
      "final shape (3083, 178)\n",
      "shape before row_rise_aggregation (37720, 369)\n",
      "shape after row_rise_aggregation (37720, 384)\n",
      "shape before column_rise_aggregation (37720, 384)\n",
      "shape after column_rise_aggregation (3083, 1897)\n",
      "diff between last and mean transaction\n"
     ]
    },
    {
     "data": {
      "application/vnd.jupyter.widget-view+json": {
       "model_id": "7effa507d1294cb29c5b9fae027fe65b",
       "version_major": 2,
       "version_minor": 0
      },
      "text/plain": [
       "  0%|          | 0/177 [00:00<?, ?it/s]"
      ]
     },
     "metadata": {},
     "output_type": "display_data"
    },
    {
     "name": "stdout",
     "output_type": "stream",
     "text": [
      "save processed test_198.ftr\n"
     ]
    },
    {
     "data": {
      "application/vnd.jupyter.widget-view+json": {
       "model_id": "67bc7db66ba44f12809793bbd4228013",
       "version_major": 2,
       "version_minor": 0
      },
      "text/plain": [
       "  0%|          | 0/3083 [00:00<?, ?it/s]"
      ]
     },
     "metadata": {},
     "output_type": "display_data"
    },
    {
     "name": "stdout",
     "output_type": "stream",
     "text": [
      "final shape (3083, 178)\n",
      "shape before row_rise_aggregation (37748, 369)\n",
      "shape after row_rise_aggregation (37748, 384)\n",
      "shape before column_rise_aggregation (37748, 384)\n",
      "shape after column_rise_aggregation (3083, 1893)\n",
      "diff between last and mean transaction\n"
     ]
    },
    {
     "data": {
      "application/vnd.jupyter.widget-view+json": {
       "model_id": "fd241fa35e9245b08017bec1a2730bb6",
       "version_major": 2,
       "version_minor": 0
      },
      "text/plain": [
       "  0%|          | 0/177 [00:00<?, ?it/s]"
      ]
     },
     "metadata": {},
     "output_type": "display_data"
    },
    {
     "name": "stdout",
     "output_type": "stream",
     "text": [
      "save processed test_113.ftr\n"
     ]
    },
    {
     "data": {
      "application/vnd.jupyter.widget-view+json": {
       "model_id": "4a47d8fa3aa24ad6a0d4106567ab51d8",
       "version_major": 2,
       "version_minor": 0
      },
      "text/plain": [
       "  0%|          | 0/3083 [00:00<?, ?it/s]"
      ]
     },
     "metadata": {},
     "output_type": "display_data"
    },
    {
     "name": "stdout",
     "output_type": "stream",
     "text": [
      "final shape (3083, 178)\n",
      "shape before row_rise_aggregation (37924, 369)\n",
      "shape after row_rise_aggregation (37924, 384)\n",
      "shape before column_rise_aggregation (37924, 384)\n",
      "shape after column_rise_aggregation (3083, 1893)\n",
      "diff between last and mean transaction\n"
     ]
    },
    {
     "data": {
      "application/vnd.jupyter.widget-view+json": {
       "model_id": "8be8c38c31fd4cf28fd227d3d6a2f8ff",
       "version_major": 2,
       "version_minor": 0
      },
      "text/plain": [
       "  0%|          | 0/177 [00:00<?, ?it/s]"
      ]
     },
     "metadata": {},
     "output_type": "display_data"
    },
    {
     "name": "stdout",
     "output_type": "stream",
     "text": [
      "save processed test_33.ftr\n"
     ]
    },
    {
     "data": {
      "application/vnd.jupyter.widget-view+json": {
       "model_id": "98c7dac9416644afa03609633afe9bac",
       "version_major": 2,
       "version_minor": 0
      },
      "text/plain": [
       "  0%|          | 0/3083 [00:00<?, ?it/s]"
      ]
     },
     "metadata": {},
     "output_type": "display_data"
    },
    {
     "name": "stdout",
     "output_type": "stream",
     "text": [
      "final shape (3083, 178)\n",
      "shape before row_rise_aggregation (38055, 369)\n",
      "shape after row_rise_aggregation (38055, 384)\n",
      "shape before column_rise_aggregation (38055, 384)\n",
      "shape after column_rise_aggregation (3083, 1893)\n",
      "diff between last and mean transaction\n"
     ]
    },
    {
     "data": {
      "application/vnd.jupyter.widget-view+json": {
       "model_id": "61d1f700271b4209bc4d185d2e327849",
       "version_major": 2,
       "version_minor": 0
      },
      "text/plain": [
       "  0%|          | 0/177 [00:00<?, ?it/s]"
      ]
     },
     "metadata": {},
     "output_type": "display_data"
    },
    {
     "name": "stdout",
     "output_type": "stream",
     "text": [
      "save processed test_221.ftr\n"
     ]
    },
    {
     "data": {
      "application/vnd.jupyter.widget-view+json": {
       "model_id": "d9022950c0f14d4d92dc6b672d097f7c",
       "version_major": 2,
       "version_minor": 0
      },
      "text/plain": [
       "  0%|          | 0/3083 [00:00<?, ?it/s]"
      ]
     },
     "metadata": {},
     "output_type": "display_data"
    },
    {
     "name": "stdout",
     "output_type": "stream",
     "text": [
      "final shape (3083, 178)\n",
      "shape before row_rise_aggregation (37929, 369)\n",
      "shape after row_rise_aggregation (37929, 384)\n",
      "shape before column_rise_aggregation (37929, 384)\n",
      "shape after column_rise_aggregation (3083, 1881)\n",
      "diff between last and mean transaction\n"
     ]
    },
    {
     "data": {
      "application/vnd.jupyter.widget-view+json": {
       "model_id": "7704321c5a3a4a02b995e0c68c0ac2d2",
       "version_major": 2,
       "version_minor": 0
      },
      "text/plain": [
       "  0%|          | 0/177 [00:00<?, ?it/s]"
      ]
     },
     "metadata": {},
     "output_type": "display_data"
    },
    {
     "name": "stdout",
     "output_type": "stream",
     "text": [
      "save processed test_10.ftr\n"
     ]
    },
    {
     "data": {
      "application/vnd.jupyter.widget-view+json": {
       "model_id": "a3e7af24a4b444788be195deb3fa6960",
       "version_major": 2,
       "version_minor": 0
      },
      "text/plain": [
       "  0%|          | 0/3083 [00:00<?, ?it/s]"
      ]
     },
     "metadata": {},
     "output_type": "display_data"
    },
    {
     "name": "stdout",
     "output_type": "stream",
     "text": [
      "final shape (3083, 178)\n",
      "shape before row_rise_aggregation (37948, 369)\n",
      "shape after row_rise_aggregation (37948, 384)\n",
      "shape before column_rise_aggregation (37948, 384)\n",
      "shape after column_rise_aggregation (3083, 1897)\n",
      "diff between last and mean transaction\n"
     ]
    },
    {
     "data": {
      "application/vnd.jupyter.widget-view+json": {
       "model_id": "6539f8dbbbdf409c9f20ef35404128e3",
       "version_major": 2,
       "version_minor": 0
      },
      "text/plain": [
       "  0%|          | 0/177 [00:00<?, ?it/s]"
      ]
     },
     "metadata": {},
     "output_type": "display_data"
    },
    {
     "name": "stdout",
     "output_type": "stream",
     "text": [
      "save processed test_249.ftr\n"
     ]
    },
    {
     "data": {
      "application/vnd.jupyter.widget-view+json": {
       "model_id": "ed526695f8294feeb104e8a0b324e703",
       "version_major": 2,
       "version_minor": 0
      },
      "text/plain": [
       "  0%|          | 0/3083 [00:00<?, ?it/s]"
      ]
     },
     "metadata": {},
     "output_type": "display_data"
    },
    {
     "name": "stdout",
     "output_type": "stream",
     "text": [
      "final shape (3083, 178)\n",
      "shape before row_rise_aggregation (38024, 369)\n",
      "shape after row_rise_aggregation (38024, 384)\n",
      "shape before column_rise_aggregation (38024, 384)\n",
      "shape after column_rise_aggregation (3083, 1897)\n",
      "diff between last and mean transaction\n"
     ]
    },
    {
     "data": {
      "application/vnd.jupyter.widget-view+json": {
       "model_id": "34b2d18d3a094851b5369b0270b16162",
       "version_major": 2,
       "version_minor": 0
      },
      "text/plain": [
       "  0%|          | 0/177 [00:00<?, ?it/s]"
      ]
     },
     "metadata": {},
     "output_type": "display_data"
    },
    {
     "name": "stdout",
     "output_type": "stream",
     "text": [
      "save processed test_47.ftr\n"
     ]
    },
    {
     "data": {
      "application/vnd.jupyter.widget-view+json": {
       "model_id": "c93ef89a40714c2ab8cbe465c1b6307b",
       "version_major": 2,
       "version_minor": 0
      },
      "text/plain": [
       "  0%|          | 0/3083 [00:00<?, ?it/s]"
      ]
     },
     "metadata": {},
     "output_type": "display_data"
    },
    {
     "name": "stdout",
     "output_type": "stream",
     "text": [
      "final shape (3083, 178)\n",
      "shape before row_rise_aggregation (38009, 369)\n",
      "shape after row_rise_aggregation (38009, 384)\n",
      "shape before column_rise_aggregation (38009, 384)\n",
      "shape after column_rise_aggregation (3083, 1897)\n",
      "diff between last and mean transaction\n"
     ]
    },
    {
     "data": {
      "application/vnd.jupyter.widget-view+json": {
       "model_id": "d649440f87e34ec08f18063ff1c55f87",
       "version_major": 2,
       "version_minor": 0
      },
      "text/plain": [
       "  0%|          | 0/177 [00:00<?, ?it/s]"
      ]
     },
     "metadata": {},
     "output_type": "display_data"
    },
    {
     "name": "stdout",
     "output_type": "stream",
     "text": [
      "save processed test_36.ftr\n"
     ]
    },
    {
     "data": {
      "application/vnd.jupyter.widget-view+json": {
       "model_id": "901123eb9cbd4262b707e889de94f397",
       "version_major": 2,
       "version_minor": 0
      },
      "text/plain": [
       "  0%|          | 0/3083 [00:00<?, ?it/s]"
      ]
     },
     "metadata": {},
     "output_type": "display_data"
    },
    {
     "name": "stdout",
     "output_type": "stream",
     "text": [
      "final shape (3083, 178)\n",
      "shape before row_rise_aggregation (37938, 369)\n",
      "shape after row_rise_aggregation (37938, 384)\n",
      "shape before column_rise_aggregation (37938, 384)\n",
      "shape after column_rise_aggregation (3083, 1897)\n",
      "diff between last and mean transaction\n"
     ]
    },
    {
     "data": {
      "application/vnd.jupyter.widget-view+json": {
       "model_id": "1990fee7167d410891379e6c4f04ea98",
       "version_major": 2,
       "version_minor": 0
      },
      "text/plain": [
       "  0%|          | 0/177 [00:00<?, ?it/s]"
      ]
     },
     "metadata": {},
     "output_type": "display_data"
    },
    {
     "name": "stdout",
     "output_type": "stream",
     "text": [
      "save processed test_280.ftr\n"
     ]
    },
    {
     "data": {
      "application/vnd.jupyter.widget-view+json": {
       "model_id": "c21c40e4292d439bae2e24a6bb030e1b",
       "version_major": 2,
       "version_minor": 0
      },
      "text/plain": [
       "  0%|          | 0/3083 [00:00<?, ?it/s]"
      ]
     },
     "metadata": {},
     "output_type": "display_data"
    },
    {
     "name": "stdout",
     "output_type": "stream",
     "text": [
      "final shape (3083, 178)\n",
      "shape before row_rise_aggregation (37952, 369)\n",
      "shape after row_rise_aggregation (37952, 384)\n",
      "shape before column_rise_aggregation (37952, 384)\n",
      "shape after column_rise_aggregation (3083, 1897)\n",
      "diff between last and mean transaction\n"
     ]
    },
    {
     "data": {
      "application/vnd.jupyter.widget-view+json": {
       "model_id": "f2f9808a7dff42708b3e90041215c0bb",
       "version_major": 2,
       "version_minor": 0
      },
      "text/plain": [
       "  0%|          | 0/177 [00:00<?, ?it/s]"
      ]
     },
     "metadata": {},
     "output_type": "display_data"
    },
    {
     "name": "stdout",
     "output_type": "stream",
     "text": [
      "save processed test_208.ftr\n"
     ]
    },
    {
     "data": {
      "application/vnd.jupyter.widget-view+json": {
       "model_id": "fe08f6f31dd940fc8bd52f20c7a02066",
       "version_major": 2,
       "version_minor": 0
      },
      "text/plain": [
       "  0%|          | 0/3083 [00:00<?, ?it/s]"
      ]
     },
     "metadata": {},
     "output_type": "display_data"
    },
    {
     "name": "stdout",
     "output_type": "stream",
     "text": [
      "final shape (3083, 178)\n",
      "shape before row_rise_aggregation (37878, 369)\n",
      "shape after row_rise_aggregation (37878, 384)\n",
      "shape before column_rise_aggregation (37878, 384)\n",
      "shape after column_rise_aggregation (3083, 1897)\n",
      "diff between last and mean transaction\n"
     ]
    },
    {
     "data": {
      "application/vnd.jupyter.widget-view+json": {
       "model_id": "592a6eb1dc3e40c9bc17ac7d81378930",
       "version_major": 2,
       "version_minor": 0
      },
      "text/plain": [
       "  0%|          | 0/177 [00:00<?, ?it/s]"
      ]
     },
     "metadata": {},
     "output_type": "display_data"
    },
    {
     "name": "stdout",
     "output_type": "stream",
     "text": [
      "save processed test_24.ftr\n"
     ]
    },
    {
     "data": {
      "application/vnd.jupyter.widget-view+json": {
       "model_id": "f434e83b364c445e8f24f96cc0f7bffb",
       "version_major": 2,
       "version_minor": 0
      },
      "text/plain": [
       "  0%|          | 0/3083 [00:00<?, ?it/s]"
      ]
     },
     "metadata": {},
     "output_type": "display_data"
    },
    {
     "name": "stdout",
     "output_type": "stream",
     "text": [
      "final shape (3083, 178)\n",
      "shape before row_rise_aggregation (37845, 369)\n",
      "shape after row_rise_aggregation (37845, 384)\n",
      "shape before column_rise_aggregation (37845, 384)\n",
      "shape after column_rise_aggregation (3083, 1897)\n",
      "diff between last and mean transaction\n"
     ]
    },
    {
     "data": {
      "application/vnd.jupyter.widget-view+json": {
       "model_id": "558ce4d197c14ea8b837fc863a8f196c",
       "version_major": 2,
       "version_minor": 0
      },
      "text/plain": [
       "  0%|          | 0/177 [00:00<?, ?it/s]"
      ]
     },
     "metadata": {},
     "output_type": "display_data"
    },
    {
     "name": "stdout",
     "output_type": "stream",
     "text": [
      "save processed test_93.ftr\n"
     ]
    },
    {
     "data": {
      "application/vnd.jupyter.widget-view+json": {
       "model_id": "1817ee3b3f9e41daa0688d14181551d2",
       "version_major": 2,
       "version_minor": 0
      },
      "text/plain": [
       "  0%|          | 0/3083 [00:00<?, ?it/s]"
      ]
     },
     "metadata": {},
     "output_type": "display_data"
    },
    {
     "name": "stdout",
     "output_type": "stream",
     "text": [
      "final shape (3083, 178)\n",
      "shape before row_rise_aggregation (37934, 369)\n",
      "shape after row_rise_aggregation (37934, 384)\n",
      "shape before column_rise_aggregation (37934, 384)\n",
      "shape after column_rise_aggregation (3083, 1893)\n",
      "diff between last and mean transaction\n"
     ]
    },
    {
     "data": {
      "application/vnd.jupyter.widget-view+json": {
       "model_id": "e01dc452289f42b3a6bc5ed5dc11ce11",
       "version_major": 2,
       "version_minor": 0
      },
      "text/plain": [
       "  0%|          | 0/177 [00:00<?, ?it/s]"
      ]
     },
     "metadata": {},
     "output_type": "display_data"
    },
    {
     "name": "stdout",
     "output_type": "stream",
     "text": [
      "save processed test_245.ftr\n"
     ]
    },
    {
     "data": {
      "application/vnd.jupyter.widget-view+json": {
       "model_id": "b328737e9e514821897e1bff8841cd29",
       "version_major": 2,
       "version_minor": 0
      },
      "text/plain": [
       "  0%|          | 0/3083 [00:00<?, ?it/s]"
      ]
     },
     "metadata": {},
     "output_type": "display_data"
    },
    {
     "name": "stdout",
     "output_type": "stream",
     "text": [
      "final shape (3083, 178)\n",
      "shape before row_rise_aggregation (38007, 369)\n",
      "shape after row_rise_aggregation (38007, 384)\n",
      "shape before column_rise_aggregation (38007, 384)\n",
      "shape after column_rise_aggregation (3083, 1893)\n",
      "diff between last and mean transaction\n"
     ]
    },
    {
     "data": {
      "application/vnd.jupyter.widget-view+json": {
       "model_id": "e0dc3ea2914042cbad4cbd8e6d8b844a",
       "version_major": 2,
       "version_minor": 0
      },
      "text/plain": [
       "  0%|          | 0/177 [00:00<?, ?it/s]"
      ]
     },
     "metadata": {},
     "output_type": "display_data"
    },
    {
     "name": "stdout",
     "output_type": "stream",
     "text": [
      "save processed test_252.ftr\n"
     ]
    },
    {
     "data": {
      "application/vnd.jupyter.widget-view+json": {
       "model_id": "e0df28432af449128aef3e59451f72de",
       "version_major": 2,
       "version_minor": 0
      },
      "text/plain": [
       "  0%|          | 0/3083 [00:00<?, ?it/s]"
      ]
     },
     "metadata": {},
     "output_type": "display_data"
    },
    {
     "name": "stdout",
     "output_type": "stream",
     "text": [
      "final shape (3083, 178)\n",
      "shape before row_rise_aggregation (37945, 369)\n",
      "shape after row_rise_aggregation (37945, 384)\n",
      "shape before column_rise_aggregation (37945, 384)\n",
      "shape after column_rise_aggregation (3083, 1893)\n",
      "diff between last and mean transaction\n"
     ]
    },
    {
     "data": {
      "application/vnd.jupyter.widget-view+json": {
       "model_id": "4e165933f77e43f19246876bb667ee1d",
       "version_major": 2,
       "version_minor": 0
      },
      "text/plain": [
       "  0%|          | 0/177 [00:00<?, ?it/s]"
      ]
     },
     "metadata": {},
     "output_type": "display_data"
    },
    {
     "name": "stdout",
     "output_type": "stream",
     "text": [
      "save processed test_288.ftr\n"
     ]
    },
    {
     "data": {
      "application/vnd.jupyter.widget-view+json": {
       "model_id": "d1ddea9c659e40f3bbd0f9dfdb02a580",
       "version_major": 2,
       "version_minor": 0
      },
      "text/plain": [
       "  0%|          | 0/3083 [00:00<?, ?it/s]"
      ]
     },
     "metadata": {},
     "output_type": "display_data"
    },
    {
     "name": "stdout",
     "output_type": "stream",
     "text": [
      "final shape (3083, 178)\n",
      "shape before row_rise_aggregation (37803, 369)\n",
      "shape after row_rise_aggregation (37803, 384)\n",
      "shape before column_rise_aggregation (37803, 384)\n",
      "shape after column_rise_aggregation (3083, 1897)\n",
      "diff between last and mean transaction\n"
     ]
    },
    {
     "data": {
      "application/vnd.jupyter.widget-view+json": {
       "model_id": "cfdce91d802b44e1839717acdfe55444",
       "version_major": 2,
       "version_minor": 0
      },
      "text/plain": [
       "  0%|          | 0/177 [00:00<?, ?it/s]"
      ]
     },
     "metadata": {},
     "output_type": "display_data"
    },
    {
     "name": "stdout",
     "output_type": "stream",
     "text": [
      "save processed test_211.ftr\n"
     ]
    },
    {
     "data": {
      "application/vnd.jupyter.widget-view+json": {
       "model_id": "118354f74cae4f7c863f0260e8aa1180",
       "version_major": 2,
       "version_minor": 0
      },
      "text/plain": [
       "  0%|          | 0/3083 [00:00<?, ?it/s]"
      ]
     },
     "metadata": {},
     "output_type": "display_data"
    },
    {
     "name": "stdout",
     "output_type": "stream",
     "text": [
      "final shape (3083, 178)\n",
      "shape before row_rise_aggregation (37996, 369)\n",
      "shape after row_rise_aggregation (37996, 384)\n",
      "shape before column_rise_aggregation (37996, 384)\n",
      "shape after column_rise_aggregation (3083, 1897)\n",
      "diff between last and mean transaction\n"
     ]
    },
    {
     "data": {
      "application/vnd.jupyter.widget-view+json": {
       "model_id": "5999d769368543838d592e5e468d8acc",
       "version_major": 2,
       "version_minor": 0
      },
      "text/plain": [
       "  0%|          | 0/177 [00:00<?, ?it/s]"
      ]
     },
     "metadata": {},
     "output_type": "display_data"
    },
    {
     "name": "stdout",
     "output_type": "stream",
     "text": [
      "save processed test_42.ftr\n"
     ]
    },
    {
     "data": {
      "application/vnd.jupyter.widget-view+json": {
       "model_id": "fb55d10b06274979835177b674b76cd1",
       "version_major": 2,
       "version_minor": 0
      },
      "text/plain": [
       "  0%|          | 0/3083 [00:00<?, ?it/s]"
      ]
     },
     "metadata": {},
     "output_type": "display_data"
    },
    {
     "name": "stdout",
     "output_type": "stream",
     "text": [
      "final shape (3083, 178)\n",
      "shape before row_rise_aggregation (37760, 369)\n",
      "shape after row_rise_aggregation (37760, 384)\n",
      "shape before column_rise_aggregation (37760, 384)\n",
      "shape after column_rise_aggregation (3083, 1897)\n",
      "diff between last and mean transaction\n"
     ]
    },
    {
     "data": {
      "application/vnd.jupyter.widget-view+json": {
       "model_id": "13b861f24f3d48ffaabf13bf57172ebf",
       "version_major": 2,
       "version_minor": 0
      },
      "text/plain": [
       "  0%|          | 0/177 [00:00<?, ?it/s]"
      ]
     },
     "metadata": {},
     "output_type": "display_data"
    },
    {
     "name": "stdout",
     "output_type": "stream",
     "text": [
      "save processed test_292.ftr\n"
     ]
    },
    {
     "data": {
      "application/vnd.jupyter.widget-view+json": {
       "model_id": "f5395d762aca4a788e3700550d16f982",
       "version_major": 2,
       "version_minor": 0
      },
      "text/plain": [
       "  0%|          | 0/3083 [00:00<?, ?it/s]"
      ]
     },
     "metadata": {},
     "output_type": "display_data"
    },
    {
     "name": "stdout",
     "output_type": "stream",
     "text": [
      "final shape (3083, 178)\n",
      "shape before row_rise_aggregation (37920, 369)\n",
      "shape after row_rise_aggregation (37920, 384)\n",
      "shape before column_rise_aggregation (37920, 384)\n",
      "shape after column_rise_aggregation (3083, 1897)\n",
      "diff between last and mean transaction\n"
     ]
    },
    {
     "data": {
      "application/vnd.jupyter.widget-view+json": {
       "model_id": "2f58d0a4db9d4cb4ab8a8cb744ca78c0",
       "version_major": 2,
       "version_minor": 0
      },
      "text/plain": [
       "  0%|          | 0/177 [00:00<?, ?it/s]"
      ]
     },
     "metadata": {},
     "output_type": "display_data"
    },
    {
     "name": "stdout",
     "output_type": "stream",
     "text": [
      "save processed test_121.ftr\n"
     ]
    },
    {
     "data": {
      "application/vnd.jupyter.widget-view+json": {
       "model_id": "23f979ee956a4a4c9f1a45de707abd77",
       "version_major": 2,
       "version_minor": 0
      },
      "text/plain": [
       "  0%|          | 0/3083 [00:00<?, ?it/s]"
      ]
     },
     "metadata": {},
     "output_type": "display_data"
    },
    {
     "name": "stdout",
     "output_type": "stream",
     "text": [
      "final shape (3083, 178)\n",
      "shape before row_rise_aggregation (37923, 369)\n",
      "shape after row_rise_aggregation (37923, 384)\n",
      "shape before column_rise_aggregation (37923, 384)\n",
      "shape after column_rise_aggregation (3083, 1893)\n",
      "diff between last and mean transaction\n"
     ]
    },
    {
     "data": {
      "application/vnd.jupyter.widget-view+json": {
       "model_id": "60b834b48a8c40a3975153a3d2215acd",
       "version_major": 2,
       "version_minor": 0
      },
      "text/plain": [
       "  0%|          | 0/177 [00:00<?, ?it/s]"
      ]
     },
     "metadata": {},
     "output_type": "display_data"
    },
    {
     "name": "stdout",
     "output_type": "stream",
     "text": [
      "save processed test_186.ftr\n"
     ]
    },
    {
     "data": {
      "application/vnd.jupyter.widget-view+json": {
       "model_id": "49b266ac7b57478ebb42e58d2f85bb18",
       "version_major": 2,
       "version_minor": 0
      },
      "text/plain": [
       "  0%|          | 0/3083 [00:00<?, ?it/s]"
      ]
     },
     "metadata": {},
     "output_type": "display_data"
    },
    {
     "name": "stdout",
     "output_type": "stream",
     "text": [
      "final shape (3083, 178)\n",
      "shape before row_rise_aggregation (37778, 369)\n",
      "shape after row_rise_aggregation (37778, 384)\n",
      "shape before column_rise_aggregation (37778, 384)\n",
      "shape after column_rise_aggregation (3083, 1893)\n",
      "diff between last and mean transaction\n"
     ]
    },
    {
     "data": {
      "application/vnd.jupyter.widget-view+json": {
       "model_id": "3d2934ffc3e549b2aa1376158968f10e",
       "version_major": 2,
       "version_minor": 0
      },
      "text/plain": [
       "  0%|          | 0/177 [00:00<?, ?it/s]"
      ]
     },
     "metadata": {},
     "output_type": "display_data"
    },
    {
     "name": "stdout",
     "output_type": "stream",
     "text": [
      "save processed test_19.ftr\n"
     ]
    },
    {
     "data": {
      "application/vnd.jupyter.widget-view+json": {
       "model_id": "3db50beff8dd46178e986543cb90b389",
       "version_major": 2,
       "version_minor": 0
      },
      "text/plain": [
       "  0%|          | 0/3083 [00:00<?, ?it/s]"
      ]
     },
     "metadata": {},
     "output_type": "display_data"
    },
    {
     "name": "stdout",
     "output_type": "stream",
     "text": [
      "final shape (3083, 178)\n",
      "shape before row_rise_aggregation (37932, 369)\n",
      "shape after row_rise_aggregation (37932, 384)\n",
      "shape before column_rise_aggregation (37932, 384)\n",
      "shape after column_rise_aggregation (3083, 1893)\n",
      "diff between last and mean transaction\n"
     ]
    },
    {
     "data": {
      "application/vnd.jupyter.widget-view+json": {
       "model_id": "cd08492f7b3a47c4a6be0c3b46595b69",
       "version_major": 2,
       "version_minor": 0
      },
      "text/plain": [
       "  0%|          | 0/177 [00:00<?, ?it/s]"
      ]
     },
     "metadata": {},
     "output_type": "display_data"
    },
    {
     "name": "stdout",
     "output_type": "stream",
     "text": [
      "save processed test_296.ftr\n"
     ]
    },
    {
     "data": {
      "application/vnd.jupyter.widget-view+json": {
       "model_id": "7b3059783a7542479f9ec44a0642ce47",
       "version_major": 2,
       "version_minor": 0
      },
      "text/plain": [
       "  0%|          | 0/3083 [00:00<?, ?it/s]"
      ]
     },
     "metadata": {},
     "output_type": "display_data"
    },
    {
     "name": "stdout",
     "output_type": "stream",
     "text": [
      "final shape (3083, 178)\n",
      "shape before row_rise_aggregation (38042, 369)\n",
      "shape after row_rise_aggregation (38042, 384)\n",
      "shape before column_rise_aggregation (38042, 384)\n",
      "shape after column_rise_aggregation (3083, 1897)\n",
      "diff between last and mean transaction\n"
     ]
    },
    {
     "data": {
      "application/vnd.jupyter.widget-view+json": {
       "model_id": "63c77565ceac4443b4ca7850cd014c90",
       "version_major": 2,
       "version_minor": 0
      },
      "text/plain": [
       "  0%|          | 0/177 [00:00<?, ?it/s]"
      ]
     },
     "metadata": {},
     "output_type": "display_data"
    },
    {
     "name": "stdout",
     "output_type": "stream",
     "text": [
      "save processed test_97.ftr\n"
     ]
    },
    {
     "data": {
      "application/vnd.jupyter.widget-view+json": {
       "model_id": "891ed347708941f6a7f5e66bcebd720f",
       "version_major": 2,
       "version_minor": 0
      },
      "text/plain": [
       "  0%|          | 0/3083 [00:00<?, ?it/s]"
      ]
     },
     "metadata": {},
     "output_type": "display_data"
    },
    {
     "name": "stdout",
     "output_type": "stream",
     "text": [
      "final shape (3083, 178)\n",
      "shape before row_rise_aggregation (38019, 369)\n",
      "shape after row_rise_aggregation (38019, 384)\n",
      "shape before column_rise_aggregation (38019, 384)\n",
      "shape after column_rise_aggregation (3083, 1897)\n",
      "diff between last and mean transaction\n"
     ]
    },
    {
     "data": {
      "application/vnd.jupyter.widget-view+json": {
       "model_id": "635e25d704bd44e0b13618ffd8f6660c",
       "version_major": 2,
       "version_minor": 0
      },
      "text/plain": [
       "  0%|          | 0/177 [00:00<?, ?it/s]"
      ]
     },
     "metadata": {},
     "output_type": "display_data"
    },
    {
     "name": "stdout",
     "output_type": "stream",
     "text": [
      "save processed test_5.ftr\n"
     ]
    },
    {
     "data": {
      "application/vnd.jupyter.widget-view+json": {
       "model_id": "3d1f5a3aea024b6f8b379753179ffea4",
       "version_major": 2,
       "version_minor": 0
      },
      "text/plain": [
       "  0%|          | 0/3083 [00:00<?, ?it/s]"
      ]
     },
     "metadata": {},
     "output_type": "display_data"
    },
    {
     "name": "stdout",
     "output_type": "stream",
     "text": [
      "final shape (3083, 178)\n",
      "shape before row_rise_aggregation (38028, 369)\n",
      "shape after row_rise_aggregation (38028, 384)\n",
      "shape before column_rise_aggregation (38028, 384)\n",
      "shape after column_rise_aggregation (3083, 1897)\n",
      "diff between last and mean transaction\n"
     ]
    },
    {
     "data": {
      "application/vnd.jupyter.widget-view+json": {
       "model_id": "56d223cf39314acaa9059ca14dac27d5",
       "version_major": 2,
       "version_minor": 0
      },
      "text/plain": [
       "  0%|          | 0/177 [00:00<?, ?it/s]"
      ]
     },
     "metadata": {},
     "output_type": "display_data"
    },
    {
     "name": "stdout",
     "output_type": "stream",
     "text": [
      "save processed test_243.ftr\n"
     ]
    },
    {
     "data": {
      "application/vnd.jupyter.widget-view+json": {
       "model_id": "d96c6ad3cb1c4e46a26292a21bda4f7d",
       "version_major": 2,
       "version_minor": 0
      },
      "text/plain": [
       "  0%|          | 0/3083 [00:00<?, ?it/s]"
      ]
     },
     "metadata": {},
     "output_type": "display_data"
    },
    {
     "name": "stdout",
     "output_type": "stream",
     "text": [
      "final shape (3083, 178)\n",
      "shape before row_rise_aggregation (37893, 369)\n",
      "shape after row_rise_aggregation (37893, 384)\n",
      "shape before column_rise_aggregation (37893, 384)\n",
      "shape after column_rise_aggregation (3083, 1893)\n",
      "diff between last and mean transaction\n"
     ]
    },
    {
     "data": {
      "application/vnd.jupyter.widget-view+json": {
       "model_id": "74745561d7134de48f2a70eed2d36615",
       "version_major": 2,
       "version_minor": 0
      },
      "text/plain": [
       "  0%|          | 0/177 [00:00<?, ?it/s]"
      ]
     },
     "metadata": {},
     "output_type": "display_data"
    },
    {
     "name": "stdout",
     "output_type": "stream",
     "text": [
      "save processed test_35.ftr\n"
     ]
    },
    {
     "data": {
      "application/vnd.jupyter.widget-view+json": {
       "model_id": "8780b0d3a589469aa8cf842bb707278f",
       "version_major": 2,
       "version_minor": 0
      },
      "text/plain": [
       "  0%|          | 0/3083 [00:00<?, ?it/s]"
      ]
     },
     "metadata": {},
     "output_type": "display_data"
    },
    {
     "name": "stdout",
     "output_type": "stream",
     "text": [
      "final shape (3083, 178)\n",
      "shape before row_rise_aggregation (38061, 369)\n",
      "shape after row_rise_aggregation (38061, 384)\n",
      "shape before column_rise_aggregation (38061, 384)\n",
      "shape after column_rise_aggregation (3083, 1893)\n",
      "diff between last and mean transaction\n"
     ]
    },
    {
     "data": {
      "application/vnd.jupyter.widget-view+json": {
       "model_id": "38f064a11fb843ccaff1d9b2b0b01af6",
       "version_major": 2,
       "version_minor": 0
      },
      "text/plain": [
       "  0%|          | 0/177 [00:00<?, ?it/s]"
      ]
     },
     "metadata": {},
     "output_type": "display_data"
    },
    {
     "name": "stdout",
     "output_type": "stream",
     "text": [
      "save processed test_237.ftr\n"
     ]
    },
    {
     "data": {
      "application/vnd.jupyter.widget-view+json": {
       "model_id": "29456695ae76472883cb6ca07f336b31",
       "version_major": 2,
       "version_minor": 0
      },
      "text/plain": [
       "  0%|          | 0/3083 [00:00<?, ?it/s]"
      ]
     },
     "metadata": {},
     "output_type": "display_data"
    },
    {
     "name": "stdout",
     "output_type": "stream",
     "text": [
      "final shape (3083, 178)\n",
      "shape before row_rise_aggregation (37832, 369)\n",
      "shape after row_rise_aggregation (37832, 384)\n",
      "shape before column_rise_aggregation (37832, 384)\n",
      "shape after column_rise_aggregation (3083, 1897)\n",
      "diff between last and mean transaction\n"
     ]
    },
    {
     "data": {
      "application/vnd.jupyter.widget-view+json": {
       "model_id": "dc634f8547404376ac77c628b2b091ab",
       "version_major": 2,
       "version_minor": 0
      },
      "text/plain": [
       "  0%|          | 0/177 [00:00<?, ?it/s]"
      ]
     },
     "metadata": {},
     "output_type": "display_data"
    },
    {
     "name": "stdout",
     "output_type": "stream",
     "text": [
      "save processed test_255.ftr\n"
     ]
    },
    {
     "data": {
      "application/vnd.jupyter.widget-view+json": {
       "model_id": "02010ec3dd1945e48662ceaab2a4d63c",
       "version_major": 2,
       "version_minor": 0
      },
      "text/plain": [
       "  0%|          | 0/3083 [00:00<?, ?it/s]"
      ]
     },
     "metadata": {},
     "output_type": "display_data"
    },
    {
     "name": "stdout",
     "output_type": "stream",
     "text": [
      "final shape (3083, 178)\n",
      "shape before row_rise_aggregation (37848, 369)\n",
      "shape after row_rise_aggregation (37848, 384)\n",
      "shape before column_rise_aggregation (37848, 384)\n",
      "shape after column_rise_aggregation (3083, 1893)\n",
      "diff between last and mean transaction\n"
     ]
    },
    {
     "data": {
      "application/vnd.jupyter.widget-view+json": {
       "model_id": "04440284a432467490d61bd7474acf74",
       "version_major": 2,
       "version_minor": 0
      },
      "text/plain": [
       "  0%|          | 0/177 [00:00<?, ?it/s]"
      ]
     },
     "metadata": {},
     "output_type": "display_data"
    },
    {
     "name": "stdout",
     "output_type": "stream",
     "text": [
      "save processed test_44.ftr\n"
     ]
    },
    {
     "data": {
      "application/vnd.jupyter.widget-view+json": {
       "model_id": "60c9f129cd0846b39a5b21ca36e79423",
       "version_major": 2,
       "version_minor": 0
      },
      "text/plain": [
       "  0%|          | 0/3083 [00:00<?, ?it/s]"
      ]
     },
     "metadata": {},
     "output_type": "display_data"
    },
    {
     "name": "stdout",
     "output_type": "stream",
     "text": [
      "final shape (3083, 178)\n",
      "shape before row_rise_aggregation (37777, 369)\n",
      "shape after row_rise_aggregation (37777, 384)\n",
      "shape before column_rise_aggregation (37777, 384)\n",
      "shape after column_rise_aggregation (3083, 1897)\n",
      "diff between last and mean transaction\n"
     ]
    },
    {
     "data": {
      "application/vnd.jupyter.widget-view+json": {
       "model_id": "a44b397ca8bf4de28fa1831d66bba278",
       "version_major": 2,
       "version_minor": 0
      },
      "text/plain": [
       "  0%|          | 0/177 [00:00<?, ?it/s]"
      ]
     },
     "metadata": {},
     "output_type": "display_data"
    },
    {
     "name": "stdout",
     "output_type": "stream",
     "text": [
      "save processed test_159.ftr\n"
     ]
    },
    {
     "data": {
      "application/vnd.jupyter.widget-view+json": {
       "model_id": "4d96bb9f813742d18a3107f7ded4d22f",
       "version_major": 2,
       "version_minor": 0
      },
      "text/plain": [
       "  0%|          | 0/3083 [00:00<?, ?it/s]"
      ]
     },
     "metadata": {},
     "output_type": "display_data"
    },
    {
     "name": "stdout",
     "output_type": "stream",
     "text": [
      "final shape (3083, 178)\n",
      "shape before row_rise_aggregation (38042, 369)\n",
      "shape after row_rise_aggregation (38042, 384)\n",
      "shape before column_rise_aggregation (38042, 384)\n",
      "shape after column_rise_aggregation (3083, 1893)\n",
      "diff between last and mean transaction\n"
     ]
    },
    {
     "data": {
      "application/vnd.jupyter.widget-view+json": {
       "model_id": "df96085981b0411c8b362eba0a600e38",
       "version_major": 2,
       "version_minor": 0
      },
      "text/plain": [
       "  0%|          | 0/177 [00:00<?, ?it/s]"
      ]
     },
     "metadata": {},
     "output_type": "display_data"
    },
    {
     "name": "stdout",
     "output_type": "stream",
     "text": [
      "save processed test_203.ftr\n"
     ]
    },
    {
     "data": {
      "application/vnd.jupyter.widget-view+json": {
       "model_id": "f8b6706dd8a04bc9b775f6ef1b3b4d68",
       "version_major": 2,
       "version_minor": 0
      },
      "text/plain": [
       "  0%|          | 0/3083 [00:00<?, ?it/s]"
      ]
     },
     "metadata": {},
     "output_type": "display_data"
    },
    {
     "name": "stdout",
     "output_type": "stream",
     "text": [
      "final shape (3083, 178)\n",
      "shape before row_rise_aggregation (37822, 369)\n",
      "shape after row_rise_aggregation (37822, 384)\n",
      "shape before column_rise_aggregation (37822, 384)\n",
      "shape after column_rise_aggregation (3083, 1897)\n",
      "diff between last and mean transaction\n"
     ]
    },
    {
     "data": {
      "application/vnd.jupyter.widget-view+json": {
       "model_id": "006e20c03fcd4d01a3daf70a98fabb4f",
       "version_major": 2,
       "version_minor": 0
      },
      "text/plain": [
       "  0%|          | 0/177 [00:00<?, ?it/s]"
      ]
     },
     "metadata": {},
     "output_type": "display_data"
    },
    {
     "name": "stdout",
     "output_type": "stream",
     "text": [
      "save processed test_83.ftr\n"
     ]
    },
    {
     "data": {
      "application/vnd.jupyter.widget-view+json": {
       "model_id": "8319aa9673d64acca711a03b3805ec12",
       "version_major": 2,
       "version_minor": 0
      },
      "text/plain": [
       "  0%|          | 0/3083 [00:00<?, ?it/s]"
      ]
     },
     "metadata": {},
     "output_type": "display_data"
    },
    {
     "name": "stdout",
     "output_type": "stream",
     "text": [
      "final shape (3083, 178)\n",
      "shape before row_rise_aggregation (37717, 369)\n",
      "shape after row_rise_aggregation (37717, 384)\n",
      "shape before column_rise_aggregation (37717, 384)\n",
      "shape after column_rise_aggregation (3083, 1889)\n",
      "diff between last and mean transaction\n"
     ]
    },
    {
     "data": {
      "application/vnd.jupyter.widget-view+json": {
       "model_id": "fcd424f09c0d443b86a68872fea2ce91",
       "version_major": 2,
       "version_minor": 0
      },
      "text/plain": [
       "  0%|          | 0/177 [00:00<?, ?it/s]"
      ]
     },
     "metadata": {},
     "output_type": "display_data"
    },
    {
     "name": "stdout",
     "output_type": "stream",
     "text": [
      "save processed test_294.ftr\n"
     ]
    },
    {
     "data": {
      "application/vnd.jupyter.widget-view+json": {
       "model_id": "6c898c9ff84d42b08c1497c83774a454",
       "version_major": 2,
       "version_minor": 0
      },
      "text/plain": [
       "  0%|          | 0/3083 [00:00<?, ?it/s]"
      ]
     },
     "metadata": {},
     "output_type": "display_data"
    },
    {
     "name": "stdout",
     "output_type": "stream",
     "text": [
      "final shape (3083, 178)\n",
      "shape before row_rise_aggregation (37801, 369)\n",
      "shape after row_rise_aggregation (37801, 384)\n",
      "shape before column_rise_aggregation (37801, 384)\n",
      "shape after column_rise_aggregation (3083, 1893)\n",
      "diff between last and mean transaction\n"
     ]
    },
    {
     "data": {
      "application/vnd.jupyter.widget-view+json": {
       "model_id": "9641c1e44d1f4223984a32f030d296d9",
       "version_major": 2,
       "version_minor": 0
      },
      "text/plain": [
       "  0%|          | 0/177 [00:00<?, ?it/s]"
      ]
     },
     "metadata": {},
     "output_type": "display_data"
    },
    {
     "name": "stdout",
     "output_type": "stream",
     "text": [
      "save processed test_11.ftr\n"
     ]
    },
    {
     "data": {
      "application/vnd.jupyter.widget-view+json": {
       "model_id": "7fb3f24b603b46e08383c98e9e673679",
       "version_major": 2,
       "version_minor": 0
      },
      "text/plain": [
       "  0%|          | 0/3083 [00:00<?, ?it/s]"
      ]
     },
     "metadata": {},
     "output_type": "display_data"
    },
    {
     "name": "stdout",
     "output_type": "stream",
     "text": [
      "final shape (3083, 178)\n",
      "shape before row_rise_aggregation (37959, 369)\n",
      "shape after row_rise_aggregation (37959, 384)\n",
      "shape before column_rise_aggregation (37959, 384)\n",
      "shape after column_rise_aggregation (3083, 1893)\n",
      "diff between last and mean transaction\n"
     ]
    },
    {
     "data": {
      "application/vnd.jupyter.widget-view+json": {
       "model_id": "f187ffba400848d680a2f7bf9232c55a",
       "version_major": 2,
       "version_minor": 0
      },
      "text/plain": [
       "  0%|          | 0/177 [00:00<?, ?it/s]"
      ]
     },
     "metadata": {},
     "output_type": "display_data"
    },
    {
     "name": "stdout",
     "output_type": "stream",
     "text": [
      "save processed test_20.ftr\n"
     ]
    },
    {
     "data": {
      "application/vnd.jupyter.widget-view+json": {
       "model_id": "06e2f97ac45544c69f2965a7e86a9e4b",
       "version_major": 2,
       "version_minor": 0
      },
      "text/plain": [
       "  0%|          | 0/3083 [00:00<?, ?it/s]"
      ]
     },
     "metadata": {},
     "output_type": "display_data"
    },
    {
     "name": "stdout",
     "output_type": "stream",
     "text": [
      "final shape (3083, 178)\n",
      "shape before row_rise_aggregation (37990, 369)\n",
      "shape after row_rise_aggregation (37990, 384)\n",
      "shape before column_rise_aggregation (37990, 384)\n",
      "shape after column_rise_aggregation (3083, 1893)\n",
      "diff between last and mean transaction\n"
     ]
    },
    {
     "data": {
      "application/vnd.jupyter.widget-view+json": {
       "model_id": "3718c36795094a6aa0a831a6aa3cfb32",
       "version_major": 2,
       "version_minor": 0
      },
      "text/plain": [
       "  0%|          | 0/177 [00:00<?, ?it/s]"
      ]
     },
     "metadata": {},
     "output_type": "display_data"
    },
    {
     "name": "stdout",
     "output_type": "stream",
     "text": [
      "save processed test_34.ftr\n"
     ]
    },
    {
     "data": {
      "application/vnd.jupyter.widget-view+json": {
       "model_id": "4f717f74d4d04ecfa17b4377857dc0af",
       "version_major": 2,
       "version_minor": 0
      },
      "text/plain": [
       "  0%|          | 0/3083 [00:00<?, ?it/s]"
      ]
     },
     "metadata": {},
     "output_type": "display_data"
    },
    {
     "name": "stdout",
     "output_type": "stream",
     "text": [
      "final shape (3083, 178)\n",
      "shape before row_rise_aggregation (37850, 369)\n",
      "shape after row_rise_aggregation (37850, 384)\n",
      "shape before column_rise_aggregation (37850, 384)\n",
      "shape after column_rise_aggregation (3083, 1893)\n",
      "diff between last and mean transaction\n"
     ]
    },
    {
     "data": {
      "application/vnd.jupyter.widget-view+json": {
       "model_id": "c8d81285be4242bb87bfcc1b8fd894c0",
       "version_major": 2,
       "version_minor": 0
      },
      "text/plain": [
       "  0%|          | 0/177 [00:00<?, ?it/s]"
      ]
     },
     "metadata": {},
     "output_type": "display_data"
    },
    {
     "name": "stdout",
     "output_type": "stream",
     "text": [
      "save processed test_4.ftr\n"
     ]
    },
    {
     "data": {
      "application/vnd.jupyter.widget-view+json": {
       "model_id": "ebf4c3279abb4dec9c2e91ad45532b6a",
       "version_major": 2,
       "version_minor": 0
      },
      "text/plain": [
       "  0%|          | 0/3083 [00:00<?, ?it/s]"
      ]
     },
     "metadata": {},
     "output_type": "display_data"
    },
    {
     "name": "stdout",
     "output_type": "stream",
     "text": [
      "final shape (3083, 178)\n",
      "shape before row_rise_aggregation (37858, 369)\n",
      "shape after row_rise_aggregation (37858, 384)\n",
      "shape before column_rise_aggregation (37858, 384)\n",
      "shape after column_rise_aggregation (3083, 1893)\n",
      "diff between last and mean transaction\n"
     ]
    },
    {
     "data": {
      "application/vnd.jupyter.widget-view+json": {
       "model_id": "b9274b923e394bfca7e0be685d52724d",
       "version_major": 2,
       "version_minor": 0
      },
      "text/plain": [
       "  0%|          | 0/177 [00:00<?, ?it/s]"
      ]
     },
     "metadata": {},
     "output_type": "display_data"
    },
    {
     "name": "stdout",
     "output_type": "stream",
     "text": [
      "save processed test_65.ftr\n"
     ]
    },
    {
     "data": {
      "application/vnd.jupyter.widget-view+json": {
       "model_id": "fa3d9012e2a5482ca05a85a721f0d1cd",
       "version_major": 2,
       "version_minor": 0
      },
      "text/plain": [
       "  0%|          | 0/3083 [00:00<?, ?it/s]"
      ]
     },
     "metadata": {},
     "output_type": "display_data"
    },
    {
     "name": "stdout",
     "output_type": "stream",
     "text": [
      "final shape (3083, 178)\n",
      "shape before row_rise_aggregation (38020, 369)\n",
      "shape after row_rise_aggregation (38020, 384)\n",
      "shape before column_rise_aggregation (38020, 384)\n",
      "shape after column_rise_aggregation (3083, 1897)\n",
      "diff between last and mean transaction\n"
     ]
    },
    {
     "data": {
      "application/vnd.jupyter.widget-view+json": {
       "model_id": "e66f2b94b6374a35923c01ca517c633c",
       "version_major": 2,
       "version_minor": 0
      },
      "text/plain": [
       "  0%|          | 0/177 [00:00<?, ?it/s]"
      ]
     },
     "metadata": {},
     "output_type": "display_data"
    },
    {
     "name": "stdout",
     "output_type": "stream",
     "text": [
      "save processed test_219.ftr\n"
     ]
    },
    {
     "data": {
      "application/vnd.jupyter.widget-view+json": {
       "model_id": "a5b7ba2f172b46f19cca22e95a122796",
       "version_major": 2,
       "version_minor": 0
      },
      "text/plain": [
       "  0%|          | 0/3083 [00:00<?, ?it/s]"
      ]
     },
     "metadata": {},
     "output_type": "display_data"
    },
    {
     "name": "stdout",
     "output_type": "stream",
     "text": [
      "final shape (3083, 178)\n",
      "shape before row_rise_aggregation (37931, 369)\n",
      "shape after row_rise_aggregation (37931, 384)\n",
      "shape before column_rise_aggregation (37931, 384)\n",
      "shape after column_rise_aggregation (3083, 1893)\n",
      "diff between last and mean transaction\n"
     ]
    },
    {
     "data": {
      "application/vnd.jupyter.widget-view+json": {
       "model_id": "68d19b9f411344b5847c04598ba356f5",
       "version_major": 2,
       "version_minor": 0
      },
      "text/plain": [
       "  0%|          | 0/177 [00:00<?, ?it/s]"
      ]
     },
     "metadata": {},
     "output_type": "display_data"
    },
    {
     "name": "stdout",
     "output_type": "stream",
     "text": [
      "save processed test_39.ftr\n"
     ]
    },
    {
     "data": {
      "application/vnd.jupyter.widget-view+json": {
       "model_id": "b343ce95cb9a40b1986723377627c18c",
       "version_major": 2,
       "version_minor": 0
      },
      "text/plain": [
       "  0%|          | 0/3083 [00:00<?, ?it/s]"
      ]
     },
     "metadata": {},
     "output_type": "display_data"
    },
    {
     "name": "stdout",
     "output_type": "stream",
     "text": [
      "final shape (3083, 178)\n",
      "shape before row_rise_aggregation (37722, 369)\n",
      "shape after row_rise_aggregation (37722, 384)\n",
      "shape before column_rise_aggregation (37722, 384)\n",
      "shape after column_rise_aggregation (3083, 1897)\n",
      "diff between last and mean transaction\n"
     ]
    },
    {
     "data": {
      "application/vnd.jupyter.widget-view+json": {
       "model_id": "913101ee35e6486ca1556f5185cd2ade",
       "version_major": 2,
       "version_minor": 0
      },
      "text/plain": [
       "  0%|          | 0/177 [00:00<?, ?it/s]"
      ]
     },
     "metadata": {},
     "output_type": "display_data"
    },
    {
     "name": "stdout",
     "output_type": "stream",
     "text": [
      "save processed test_52.ftr\n"
     ]
    },
    {
     "data": {
      "application/vnd.jupyter.widget-view+json": {
       "model_id": "e60f34c142214fda873fd34b331d8c08",
       "version_major": 2,
       "version_minor": 0
      },
      "text/plain": [
       "  0%|          | 0/3083 [00:00<?, ?it/s]"
      ]
     },
     "metadata": {},
     "output_type": "display_data"
    },
    {
     "name": "stdout",
     "output_type": "stream",
     "text": [
      "final shape (3083, 178)\n",
      "shape before row_rise_aggregation (37962, 369)\n",
      "shape after row_rise_aggregation (37962, 384)\n",
      "shape before column_rise_aggregation (37962, 384)\n",
      "shape after column_rise_aggregation (3083, 1893)\n",
      "diff between last and mean transaction\n"
     ]
    },
    {
     "data": {
      "application/vnd.jupyter.widget-view+json": {
       "model_id": "1c7285c3338a4cff9f932012882f84a2",
       "version_major": 2,
       "version_minor": 0
      },
      "text/plain": [
       "  0%|          | 0/177 [00:00<?, ?it/s]"
      ]
     },
     "metadata": {},
     "output_type": "display_data"
    },
    {
     "name": "stdout",
     "output_type": "stream",
     "text": [
      "save processed test_133.ftr\n"
     ]
    },
    {
     "data": {
      "application/vnd.jupyter.widget-view+json": {
       "model_id": "c337e2e9f05f439a804fa0c32d42fec9",
       "version_major": 2,
       "version_minor": 0
      },
      "text/plain": [
       "  0%|          | 0/3083 [00:00<?, ?it/s]"
      ]
     },
     "metadata": {},
     "output_type": "display_data"
    },
    {
     "name": "stdout",
     "output_type": "stream",
     "text": [
      "final shape (3083, 178)\n",
      "shape before row_rise_aggregation (38004, 369)\n",
      "shape after row_rise_aggregation (38004, 384)\n",
      "shape before column_rise_aggregation (38004, 384)\n",
      "shape after column_rise_aggregation (3083, 1897)\n",
      "diff between last and mean transaction\n"
     ]
    },
    {
     "data": {
      "application/vnd.jupyter.widget-view+json": {
       "model_id": "950a5ba5e5d3431792b780f5a8c934f0",
       "version_major": 2,
       "version_minor": 0
      },
      "text/plain": [
       "  0%|          | 0/177 [00:00<?, ?it/s]"
      ]
     },
     "metadata": {},
     "output_type": "display_data"
    },
    {
     "name": "stdout",
     "output_type": "stream",
     "text": [
      "save processed test_236.ftr\n"
     ]
    },
    {
     "data": {
      "application/vnd.jupyter.widget-view+json": {
       "model_id": "13edb192fa214ba2bbf96e44b66ce310",
       "version_major": 2,
       "version_minor": 0
      },
      "text/plain": [
       "  0%|          | 0/3083 [00:00<?, ?it/s]"
      ]
     },
     "metadata": {},
     "output_type": "display_data"
    },
    {
     "name": "stdout",
     "output_type": "stream",
     "text": [
      "final shape (3083, 178)\n",
      "shape before row_rise_aggregation (37936, 369)\n",
      "shape after row_rise_aggregation (37936, 384)\n",
      "shape before column_rise_aggregation (37936, 384)\n",
      "shape after column_rise_aggregation (3083, 1897)\n",
      "diff between last and mean transaction\n"
     ]
    },
    {
     "data": {
      "application/vnd.jupyter.widget-view+json": {
       "model_id": "4448150fe384429e821a36d40d3fa916",
       "version_major": 2,
       "version_minor": 0
      },
      "text/plain": [
       "  0%|          | 0/177 [00:00<?, ?it/s]"
      ]
     },
     "metadata": {},
     "output_type": "display_data"
    },
    {
     "name": "stdout",
     "output_type": "stream",
     "text": [
      "save processed test_161.ftr\n"
     ]
    },
    {
     "data": {
      "application/vnd.jupyter.widget-view+json": {
       "model_id": "c133467eb15041cfb4af3e1bb473a741",
       "version_major": 2,
       "version_minor": 0
      },
      "text/plain": [
       "  0%|          | 0/3083 [00:00<?, ?it/s]"
      ]
     },
     "metadata": {},
     "output_type": "display_data"
    },
    {
     "name": "stdout",
     "output_type": "stream",
     "text": [
      "final shape (3083, 178)\n",
      "shape before row_rise_aggregation (38081, 369)\n",
      "shape after row_rise_aggregation (38081, 384)\n",
      "shape before column_rise_aggregation (38081, 384)\n",
      "shape after column_rise_aggregation (3083, 1893)\n",
      "diff between last and mean transaction\n"
     ]
    },
    {
     "data": {
      "application/vnd.jupyter.widget-view+json": {
       "model_id": "24db773671e540d497fa039ab558ffe7",
       "version_major": 2,
       "version_minor": 0
      },
      "text/plain": [
       "  0%|          | 0/177 [00:00<?, ?it/s]"
      ]
     },
     "metadata": {},
     "output_type": "display_data"
    },
    {
     "name": "stdout",
     "output_type": "stream",
     "text": [
      "save processed test_200.ftr\n"
     ]
    },
    {
     "data": {
      "application/vnd.jupyter.widget-view+json": {
       "model_id": "31059155764a45c3bd02c13825504f28",
       "version_major": 2,
       "version_minor": 0
      },
      "text/plain": [
       "  0%|          | 0/3083 [00:00<?, ?it/s]"
      ]
     },
     "metadata": {},
     "output_type": "display_data"
    },
    {
     "name": "stdout",
     "output_type": "stream",
     "text": [
      "final shape (3083, 178)\n",
      "shape before row_rise_aggregation (37872, 369)\n",
      "shape after row_rise_aggregation (37872, 384)\n",
      "shape before column_rise_aggregation (37872, 384)\n",
      "shape after column_rise_aggregation (3083, 1857)\n",
      "diff between last and mean transaction\n"
     ]
    },
    {
     "data": {
      "application/vnd.jupyter.widget-view+json": {
       "model_id": "7e52396ddc7e4d90a4129bb33118d00c",
       "version_major": 2,
       "version_minor": 0
      },
      "text/plain": [
       "  0%|          | 0/177 [00:00<?, ?it/s]"
      ]
     },
     "metadata": {},
     "output_type": "display_data"
    },
    {
     "name": "stdout",
     "output_type": "stream",
     "text": [
      "save processed test_289.ftr\n"
     ]
    },
    {
     "data": {
      "application/vnd.jupyter.widget-view+json": {
       "model_id": "b6ea91eb817d4b42bc82212ed9bb56f0",
       "version_major": 2,
       "version_minor": 0
      },
      "text/plain": [
       "  0%|          | 0/3083 [00:00<?, ?it/s]"
      ]
     },
     "metadata": {},
     "output_type": "display_data"
    },
    {
     "name": "stdout",
     "output_type": "stream",
     "text": [
      "final shape (3083, 178)\n",
      "shape before row_rise_aggregation (37926, 369)\n",
      "shape after row_rise_aggregation (37926, 384)\n",
      "shape before column_rise_aggregation (37926, 384)\n",
      "shape after column_rise_aggregation (3083, 1897)\n",
      "diff between last and mean transaction\n"
     ]
    },
    {
     "data": {
      "application/vnd.jupyter.widget-view+json": {
       "model_id": "8a078b6591bd40c69f59484335ff9570",
       "version_major": 2,
       "version_minor": 0
      },
      "text/plain": [
       "  0%|          | 0/177 [00:00<?, ?it/s]"
      ]
     },
     "metadata": {},
     "output_type": "display_data"
    },
    {
     "name": "stdout",
     "output_type": "stream",
     "text": [
      "save processed test_90.ftr\n"
     ]
    },
    {
     "data": {
      "application/vnd.jupyter.widget-view+json": {
       "model_id": "fc0d427fc14e42198c0e60e6fb16a7e9",
       "version_major": 2,
       "version_minor": 0
      },
      "text/plain": [
       "  0%|          | 0/3083 [00:00<?, ?it/s]"
      ]
     },
     "metadata": {},
     "output_type": "display_data"
    },
    {
     "name": "stdout",
     "output_type": "stream",
     "text": [
      "final shape (3083, 178)\n",
      "shape before row_rise_aggregation (37889, 369)\n",
      "shape after row_rise_aggregation (37889, 384)\n",
      "shape before column_rise_aggregation (37889, 384)\n",
      "shape after column_rise_aggregation (3083, 1893)\n",
      "diff between last and mean transaction\n"
     ]
    },
    {
     "data": {
      "application/vnd.jupyter.widget-view+json": {
       "model_id": "ab6f853042ba436f947e1fe741065ab0",
       "version_major": 2,
       "version_minor": 0
      },
      "text/plain": [
       "  0%|          | 0/177 [00:00<?, ?it/s]"
      ]
     },
     "metadata": {},
     "output_type": "display_data"
    },
    {
     "name": "stdout",
     "output_type": "stream",
     "text": [
      "save processed test_32.ftr\n"
     ]
    },
    {
     "data": {
      "application/vnd.jupyter.widget-view+json": {
       "model_id": "996e6863d69744609ba701bf247a2315",
       "version_major": 2,
       "version_minor": 0
      },
      "text/plain": [
       "  0%|          | 0/3083 [00:00<?, ?it/s]"
      ]
     },
     "metadata": {},
     "output_type": "display_data"
    },
    {
     "name": "stdout",
     "output_type": "stream",
     "text": [
      "final shape (3083, 178)\n",
      "shape before row_rise_aggregation (37758, 369)\n",
      "shape after row_rise_aggregation (37758, 384)\n",
      "shape before column_rise_aggregation (37758, 384)\n",
      "shape after column_rise_aggregation (3083, 1897)\n",
      "diff between last and mean transaction\n"
     ]
    },
    {
     "data": {
      "application/vnd.jupyter.widget-view+json": {
       "model_id": "b669d51862e149f695b80c62123fd3d7",
       "version_major": 2,
       "version_minor": 0
      },
      "text/plain": [
       "  0%|          | 0/177 [00:00<?, ?it/s]"
      ]
     },
     "metadata": {},
     "output_type": "display_data"
    },
    {
     "name": "stdout",
     "output_type": "stream",
     "text": [
      "save processed test_266.ftr\n"
     ]
    },
    {
     "data": {
      "application/vnd.jupyter.widget-view+json": {
       "model_id": "9fffa1a1efd440bd8fc37a471052cd68",
       "version_major": 2,
       "version_minor": 0
      },
      "text/plain": [
       "  0%|          | 0/3083 [00:00<?, ?it/s]"
      ]
     },
     "metadata": {},
     "output_type": "display_data"
    },
    {
     "name": "stdout",
     "output_type": "stream",
     "text": [
      "final shape (3083, 178)\n",
      "shape before row_rise_aggregation (37840, 369)\n",
      "shape after row_rise_aggregation (37840, 384)\n",
      "shape before column_rise_aggregation (37840, 384)\n",
      "shape after column_rise_aggregation (3083, 1893)\n",
      "diff between last and mean transaction\n"
     ]
    },
    {
     "data": {
      "application/vnd.jupyter.widget-view+json": {
       "model_id": "df39833d72f54e12925cb96ec35e6dff",
       "version_major": 2,
       "version_minor": 0
      },
      "text/plain": [
       "  0%|          | 0/177 [00:00<?, ?it/s]"
      ]
     },
     "metadata": {},
     "output_type": "display_data"
    },
    {
     "name": "stdout",
     "output_type": "stream",
     "text": [
      "save processed test_134.ftr\n"
     ]
    },
    {
     "data": {
      "application/vnd.jupyter.widget-view+json": {
       "model_id": "9300700fe9a84b5195cd7d17edbb1308",
       "version_major": 2,
       "version_minor": 0
      },
      "text/plain": [
       "  0%|          | 0/3083 [00:00<?, ?it/s]"
      ]
     },
     "metadata": {},
     "output_type": "display_data"
    },
    {
     "name": "stdout",
     "output_type": "stream",
     "text": [
      "final shape (3083, 178)\n",
      "shape before row_rise_aggregation (37985, 369)\n",
      "shape after row_rise_aggregation (37985, 384)\n",
      "shape before column_rise_aggregation (37985, 384)\n",
      "shape after column_rise_aggregation (3083, 1897)\n",
      "diff between last and mean transaction\n"
     ]
    },
    {
     "data": {
      "application/vnd.jupyter.widget-view+json": {
       "model_id": "382df2ca3e2645a48b5ed94e39419d76",
       "version_major": 2,
       "version_minor": 0
      },
      "text/plain": [
       "  0%|          | 0/177 [00:00<?, ?it/s]"
      ]
     },
     "metadata": {},
     "output_type": "display_data"
    },
    {
     "name": "stdout",
     "output_type": "stream",
     "text": [
      "save processed test_109.ftr\n"
     ]
    },
    {
     "data": {
      "application/vnd.jupyter.widget-view+json": {
       "model_id": "c1e1bc8768934bd2b5c777ff7baccb80",
       "version_major": 2,
       "version_minor": 0
      },
      "text/plain": [
       "  0%|          | 0/3083 [00:00<?, ?it/s]"
      ]
     },
     "metadata": {},
     "output_type": "display_data"
    },
    {
     "name": "stdout",
     "output_type": "stream",
     "text": [
      "final shape (3083, 178)\n",
      "shape before row_rise_aggregation (38075, 369)\n",
      "shape after row_rise_aggregation (38075, 384)\n",
      "shape before column_rise_aggregation (38075, 384)\n",
      "shape after column_rise_aggregation (3083, 1897)\n",
      "diff between last and mean transaction\n"
     ]
    },
    {
     "data": {
      "application/vnd.jupyter.widget-view+json": {
       "model_id": "34a5be09eab94ff3b1b49c67818d02e7",
       "version_major": 2,
       "version_minor": 0
      },
      "text/plain": [
       "  0%|          | 0/177 [00:00<?, ?it/s]"
      ]
     },
     "metadata": {},
     "output_type": "display_data"
    },
    {
     "name": "stdout",
     "output_type": "stream",
     "text": [
      "save processed test_46.ftr\n"
     ]
    },
    {
     "data": {
      "application/vnd.jupyter.widget-view+json": {
       "model_id": "bb541b50def84dcfbd1840015cb75fb7",
       "version_major": 2,
       "version_minor": 0
      },
      "text/plain": [
       "  0%|          | 0/3083 [00:00<?, ?it/s]"
      ]
     },
     "metadata": {},
     "output_type": "display_data"
    },
    {
     "name": "stdout",
     "output_type": "stream",
     "text": [
      "final shape (3083, 178)\n",
      "shape before row_rise_aggregation (37777, 369)\n",
      "shape after row_rise_aggregation (37777, 384)\n",
      "shape before column_rise_aggregation (37777, 384)\n",
      "shape after column_rise_aggregation (3083, 1893)\n",
      "diff between last and mean transaction\n"
     ]
    },
    {
     "data": {
      "application/vnd.jupyter.widget-view+json": {
       "model_id": "8479d4956bb14d47bff8081b5711d772",
       "version_major": 2,
       "version_minor": 0
      },
      "text/plain": [
       "  0%|          | 0/177 [00:00<?, ?it/s]"
      ]
     },
     "metadata": {},
     "output_type": "display_data"
    },
    {
     "name": "stdout",
     "output_type": "stream",
     "text": [
      "save processed test_139.ftr\n"
     ]
    },
    {
     "data": {
      "application/vnd.jupyter.widget-view+json": {
       "model_id": "05a77bc191dc4e97ad554e129eaf3ae8",
       "version_major": 2,
       "version_minor": 0
      },
      "text/plain": [
       "  0%|          | 0/3083 [00:00<?, ?it/s]"
      ]
     },
     "metadata": {},
     "output_type": "display_data"
    },
    {
     "name": "stdout",
     "output_type": "stream",
     "text": [
      "final shape (3083, 178)\n",
      "shape before row_rise_aggregation (37993, 369)\n",
      "shape after row_rise_aggregation (37993, 384)\n",
      "shape before column_rise_aggregation (37993, 384)\n",
      "shape after column_rise_aggregation (3083, 1893)\n",
      "diff between last and mean transaction\n"
     ]
    },
    {
     "data": {
      "application/vnd.jupyter.widget-view+json": {
       "model_id": "c1be7debb9444bffa9d608a2267bde3a",
       "version_major": 2,
       "version_minor": 0
      },
      "text/plain": [
       "  0%|          | 0/177 [00:00<?, ?it/s]"
      ]
     },
     "metadata": {},
     "output_type": "display_data"
    },
    {
     "name": "stdout",
     "output_type": "stream",
     "text": [
      "save processed test_22.ftr\n"
     ]
    },
    {
     "data": {
      "application/vnd.jupyter.widget-view+json": {
       "model_id": "544b1afa66024f49bd61a2ad88e4c250",
       "version_major": 2,
       "version_minor": 0
      },
      "text/plain": [
       "  0%|          | 0/3083 [00:00<?, ?it/s]"
      ]
     },
     "metadata": {},
     "output_type": "display_data"
    },
    {
     "name": "stdout",
     "output_type": "stream",
     "text": [
      "final shape (3083, 178)\n",
      "shape before row_rise_aggregation (37800, 369)\n",
      "shape after row_rise_aggregation (37800, 384)\n",
      "shape before column_rise_aggregation (37800, 384)\n",
      "shape after column_rise_aggregation (3083, 1897)\n",
      "diff between last and mean transaction\n"
     ]
    },
    {
     "data": {
      "application/vnd.jupyter.widget-view+json": {
       "model_id": "4909a316a7244c2faee109b4c50395e5",
       "version_major": 2,
       "version_minor": 0
      },
      "text/plain": [
       "  0%|          | 0/177 [00:00<?, ?it/s]"
      ]
     },
     "metadata": {},
     "output_type": "display_data"
    },
    {
     "name": "stdout",
     "output_type": "stream",
     "text": [
      "save processed test_265.ftr\n"
     ]
    },
    {
     "data": {
      "application/vnd.jupyter.widget-view+json": {
       "model_id": "6a91aad3f8a6469393fddffa164d83b3",
       "version_major": 2,
       "version_minor": 0
      },
      "text/plain": [
       "  0%|          | 0/3083 [00:00<?, ?it/s]"
      ]
     },
     "metadata": {},
     "output_type": "display_data"
    },
    {
     "name": "stdout",
     "output_type": "stream",
     "text": [
      "final shape (3083, 178)\n",
      "shape before row_rise_aggregation (37770, 369)\n",
      "shape after row_rise_aggregation (37770, 384)\n",
      "shape before column_rise_aggregation (37770, 384)\n",
      "shape after column_rise_aggregation (3083, 1893)\n",
      "diff between last and mean transaction\n"
     ]
    },
    {
     "data": {
      "application/vnd.jupyter.widget-view+json": {
       "model_id": "9c24d411c4d64cdb94c304119ccc188e",
       "version_major": 2,
       "version_minor": 0
      },
      "text/plain": [
       "  0%|          | 0/177 [00:00<?, ?it/s]"
      ]
     },
     "metadata": {},
     "output_type": "display_data"
    },
    {
     "name": "stdout",
     "output_type": "stream",
     "text": [
      "save processed test_260.ftr\n"
     ]
    },
    {
     "data": {
      "application/vnd.jupyter.widget-view+json": {
       "model_id": "6dfbcc3c46b7442c84ae9c9e0f32a73c",
       "version_major": 2,
       "version_minor": 0
      },
      "text/plain": [
       "  0%|          | 0/3083 [00:00<?, ?it/s]"
      ]
     },
     "metadata": {},
     "output_type": "display_data"
    },
    {
     "name": "stdout",
     "output_type": "stream",
     "text": [
      "final shape (3083, 178)\n",
      "shape before row_rise_aggregation (37762, 369)\n",
      "shape after row_rise_aggregation (37762, 384)\n",
      "shape before column_rise_aggregation (37762, 384)\n",
      "shape after column_rise_aggregation (3083, 1897)\n",
      "diff between last and mean transaction\n"
     ]
    },
    {
     "data": {
      "application/vnd.jupyter.widget-view+json": {
       "model_id": "036d9c207c694d21ba0f229a5bc57562",
       "version_major": 2,
       "version_minor": 0
      },
      "text/plain": [
       "  0%|          | 0/177 [00:00<?, ?it/s]"
      ]
     },
     "metadata": {},
     "output_type": "display_data"
    },
    {
     "name": "stdout",
     "output_type": "stream",
     "text": [
      "save processed test_119.ftr\n"
     ]
    },
    {
     "data": {
      "application/vnd.jupyter.widget-view+json": {
       "model_id": "a3053292d65d4cd289256d46a88b6ee7",
       "version_major": 2,
       "version_minor": 0
      },
      "text/plain": [
       "  0%|          | 0/3083 [00:00<?, ?it/s]"
      ]
     },
     "metadata": {},
     "output_type": "display_data"
    },
    {
     "name": "stdout",
     "output_type": "stream",
     "text": [
      "final shape (3083, 178)\n",
      "shape before row_rise_aggregation (38013, 369)\n",
      "shape after row_rise_aggregation (38013, 384)\n",
      "shape before column_rise_aggregation (38013, 384)\n",
      "shape after column_rise_aggregation (3083, 1893)\n",
      "diff between last and mean transaction\n"
     ]
    },
    {
     "data": {
      "application/vnd.jupyter.widget-view+json": {
       "model_id": "0df5f27ab50b4eacae6b8b2d5ee73ead",
       "version_major": 2,
       "version_minor": 0
      },
      "text/plain": [
       "  0%|          | 0/177 [00:00<?, ?it/s]"
      ]
     },
     "metadata": {},
     "output_type": "display_data"
    },
    {
     "name": "stdout",
     "output_type": "stream",
     "text": [
      "save processed test_225.ftr\n"
     ]
    },
    {
     "data": {
      "application/vnd.jupyter.widget-view+json": {
       "model_id": "ec7850536de140ca884e81357e7a785e",
       "version_major": 2,
       "version_minor": 0
      },
      "text/plain": [
       "  0%|          | 0/300 [00:00<?, ?it/s]"
      ]
     },
     "metadata": {},
     "output_type": "display_data"
    }
   ],
   "source": [
    "processed = 0\n",
    "\n",
    "      \n",
    "for path in tqdm_notebook(glob.glob('test_*.ftr')):\n",
    "    # apply on train\n",
    "    sample_df = pd.read_feather(path)\n",
    "    diff_df = get_difference(sample_df, num_features=num_vars)\n",
    "    sample_df = sample_df.merge(diff_df, on='customer_ID', how='inner')\n",
    "        \n",
    " #   if sample_df.shape[1]<300:\n",
    "    sample_df = extract_date_vars(sample_df)\n",
    "    all_num_vars = num_vars + list(map(lambda x: x+'_diff1', num_vars))\n",
    "    sample_df = row_rise_aggregation(sample_df, save=False)\n",
    "    sample_df = column_rise_aggregation(sample_df, num_vars=all_num_vars, save=False)\n",
    "        \n",
    "    print(\"diff between last and mean transaction\")\n",
    "    for col in tqdm_notebook(num_vars):\n",
    "        try:\n",
    "            sample_df[f'{col}_last_mean_diff'] = sample_df[f'{col}_last'] - sample_df[f'{col}_mean']\n",
    "        except:\n",
    "            pass\n",
    "\n",
    "    sample_df = sample_df.reset_index()\n",
    "        \n",
    "    sample_df.reset_index(drop=True).to_feather(path)\n",
    "    print(\"save processed\", path)\n",
    "        \n",
    "    processed += sample_df.customer_ID.nunique()\n",
    "        \n",
    "test = pd.concat(map(lambda sample_df: pd.read_feather(sample_df), tqdm_notebook(glob.glob('test_*.ftr'))))\n",
    "test.reset_index(drop=True).to_feather('test_fin_df.ftr')"
   ]
  },
  {
   "cell_type": "code",
   "execution_count": null,
   "id": "9a8e993e",
   "metadata": {
    "execution": {
     "iopub.execute_input": "2023-01-04T19:34:02.149944Z",
     "iopub.status.busy": "2023-01-04T19:34:02.149474Z",
     "iopub.status.idle": "2023-01-04T19:35:17.701205Z",
     "shell.execute_reply": "2023-01-04T19:35:17.700303Z",
     "shell.execute_reply.started": "2023-01-04T19:34:02.149903Z"
    },
    "papermill": {
     "duration": null,
     "end_time": null,
     "exception": null,
     "start_time": null,
     "status": "completed"
    },
    "tags": []
   },
   "outputs": [],
   "source": [
    "test = pd.concat(map(lambda sample_df: pd.read_feather(sample_df), tqdm_notebook(glob.glob('test_*.ftr'))))\n"
   ]
  },
  {
   "cell_type": "code",
   "execution_count": null,
   "id": "e9ef9f31",
   "metadata": {
    "execution": {
     "iopub.execute_input": "2023-01-04T19:35:42.819116Z",
     "iopub.status.busy": "2023-01-04T19:35:42.818696Z",
     "iopub.status.idle": "2023-01-04T19:35:43.112109Z",
     "shell.execute_reply": "2023-01-04T19:35:43.110698Z",
     "shell.execute_reply.started": "2023-01-04T19:35:42.819080Z"
    },
    "papermill": {
     "duration": null,
     "end_time": null,
     "exception": null,
     "start_time": null,
     "status": "completed"
    },
    "tags": []
   },
   "outputs": [],
   "source": [
    "test.info()\n",
    "gc.collect()"
   ]
  },
  {
   "cell_type": "code",
   "execution_count": null,
   "id": "1722ed74",
   "metadata": {
    "execution": {
     "iopub.execute_input": "2023-01-04T20:00:35.171599Z",
     "iopub.status.busy": "2023-01-04T20:00:35.171166Z",
     "iopub.status.idle": "2023-01-04T20:00:43.240524Z",
     "shell.execute_reply": "2023-01-04T20:00:43.238915Z",
     "shell.execute_reply.started": "2023-01-04T20:00:35.171561Z"
    },
    "papermill": {
     "duration": null,
     "end_time": null,
     "exception": null,
     "start_time": null,
     "status": "completed"
    },
    "tags": []
   },
   "outputs": [],
   "source": [
    "test.set_index('customer_ID')"
   ]
  },
  {
   "cell_type": "code",
   "execution_count": null,
   "id": "2f453607",
   "metadata": {
    "execution": {
     "iopub.execute_input": "2023-01-04T12:14:50.109770Z",
     "iopub.status.busy": "2023-01-04T12:14:50.108809Z",
     "iopub.status.idle": "2023-01-04T12:14:50.190474Z",
     "shell.execute_reply": "2023-01-04T12:14:50.186226Z",
     "shell.execute_reply.started": "2023-01-04T12:14:50.109719Z"
    },
    "papermill": {
     "duration": null,
     "end_time": null,
     "exception": null,
     "start_time": null,
     "status": "completed"
    },
    "tags": []
   },
   "outputs": [],
   "source": [
    "train"
   ]
  },
  {
   "cell_type": "code",
   "execution_count": null,
   "id": "2fb513b7",
   "metadata": {
    "papermill": {
     "duration": null,
     "end_time": null,
     "exception": null,
     "start_time": null,
     "status": "completed"
    },
    "tags": []
   },
   "outputs": [],
   "source": [
    "test.reset_index(drop=True).to_feather('test_fin_df.ftr')"
   ]
  },
  {
   "cell_type": "code",
   "execution_count": null,
   "id": "c5552689",
   "metadata": {
    "execution": {
     "iopub.execute_input": "2023-01-04T11:54:16.607846Z",
     "iopub.status.busy": "2023-01-04T11:54:16.606470Z",
     "iopub.status.idle": "2023-01-04T11:55:07.050663Z",
     "shell.execute_reply": "2023-01-04T11:55:07.049236Z",
     "shell.execute_reply.started": "2023-01-04T11:54:16.607804Z"
    },
    "papermill": {
     "duration": null,
     "end_time": null,
     "exception": null,
     "start_time": null,
     "status": "completed"
    },
    "tags": []
   },
   "outputs": [],
   "source": [
    "train = pd.concat(map(lambda sample_df: pd.read_feather(sample_df), tqdm_notebook(glob.glob('train_*.ftr'))))"
   ]
  },
  {
   "cell_type": "code",
   "execution_count": null,
   "id": "d78ec74e",
   "metadata": {
    "execution": {
     "iopub.execute_input": "2023-01-04T18:14:17.556003Z",
     "iopub.status.busy": "2023-01-04T18:14:17.554733Z",
     "iopub.status.idle": "2023-01-04T18:14:26.174620Z",
     "shell.execute_reply": "2023-01-04T18:14:26.173390Z",
     "shell.execute_reply.started": "2023-01-04T18:14:17.555957Z"
    },
    "papermill": {
     "duration": null,
     "end_time": null,
     "exception": null,
     "start_time": null,
     "status": "completed"
    },
    "tags": []
   },
   "outputs": [],
   "source": [
    "train = pd.read_feather('train_fin_df.ftr')"
   ]
  },
  {
   "cell_type": "code",
   "execution_count": null,
   "id": "4c67ebcd",
   "metadata": {
    "execution": {
     "iopub.execute_input": "2023-01-04T12:18:20.752471Z",
     "iopub.status.busy": "2023-01-04T12:18:20.752068Z",
     "iopub.status.idle": "2023-01-04T12:18:22.965892Z",
     "shell.execute_reply": "2023-01-04T12:18:22.964565Z",
     "shell.execute_reply.started": "2023-01-04T12:18:20.752438Z"
    },
    "papermill": {
     "duration": null,
     "end_time": null,
     "exception": null,
     "start_time": null,
     "status": "completed"
    },
    "tags": []
   },
   "outputs": [],
   "source": [
    "train"
   ]
  },
  {
   "cell_type": "code",
   "execution_count": null,
   "id": "63ee5e46",
   "metadata": {
    "execution": {
     "iopub.execute_input": "2023-01-04T19:35:55.057051Z",
     "iopub.status.busy": "2023-01-04T19:35:55.056560Z",
     "iopub.status.idle": "2023-01-04T19:35:56.964976Z",
     "shell.execute_reply": "2023-01-04T19:35:56.963171Z",
     "shell.execute_reply.started": "2023-01-04T19:35:55.057011Z"
    },
    "papermill": {
     "duration": null,
     "end_time": null,
     "exception": null,
     "start_time": null,
     "status": "completed"
    },
    "tags": []
   },
   "outputs": [],
   "source": [
    "def reduce_size(df):\n",
    "# Transform float64 columns to float32\n",
    "    print(\"reduce float data size\")\n",
    "    cols = list(df.dtypes[df.dtypes == 'float64'].index)\n",
    "    for col in tqdm_notebook(cols):\n",
    "        df[col] = df[col].astype(np.float32)\n",
    "    # Transform int64 columns to int32\n",
    "    print(\"reduce cat data size\")\n",
    "    cols = list(df.dtypes[df.dtypes == 'int64'].index)\n",
    "    for col in tqdm_notebook(cols):\n",
    "        df[col] = df[col].astype(np.int32)\n",
    "    return df\n",
    "        \n",
    "train = reduce_size(train)\n",
    "test = reduce_size(test)"
   ]
  },
  {
   "cell_type": "code",
   "execution_count": null,
   "id": "38c50c13",
   "metadata": {
    "execution": {
     "iopub.execute_input": "2023-01-04T19:38:38.090562Z",
     "iopub.status.busy": "2023-01-04T19:38:38.090175Z",
     "iopub.status.idle": "2023-01-04T19:38:50.173849Z",
     "shell.execute_reply": "2023-01-04T19:38:50.172162Z",
     "shell.execute_reply.started": "2023-01-04T19:38:38.090535Z"
    },
    "papermill": {
     "duration": null,
     "end_time": null,
     "exception": null,
     "start_time": null,
     "status": "completed"
    },
    "tags": []
   },
   "outputs": [],
   "source": [
    "def missing_values_table(df):\n",
    "    # Total missing values by column\n",
    "    mis_val = df.isnull().sum()\n",
    "\n",
    "    # Percentage of missing values by column\n",
    "    mis_val_percent = 100 * df.isnull().sum() / len(df)\n",
    "\n",
    "    # build a table with the thw columns\n",
    "    mis_val_table = pd.concat([mis_val, mis_val_percent], axis=1)\n",
    "\n",
    "    # Rename the columns\n",
    "    mis_val_table_ren_columns = mis_val_table.rename(\n",
    "    columns = {0 : 'Missing Values', 1 : '% of Total Values'})\n",
    "\n",
    "    # Sort the table by percentage of missing descending\n",
    "    mis_val_table_ren_columns = mis_val_table_ren_columns[\n",
    "        mis_val_table_ren_columns.iloc[:,1] != 0].sort_values(\n",
    "    '% of Total Values', ascending=False).round(1)\n",
    "\n",
    "    # Print some summary information\n",
    "    print (\"Your selected dataframe has \" + str(df.shape[1]) + \" columns.\\n\"      \n",
    "        \"There are \" + str(mis_val_table_ren_columns.shape[0]) +\n",
    "          \" columns that have missing values.\")\n",
    "\n",
    "    # Return the dataframe with missing information\n",
    "    return mis_val_table_ren_columns\n",
    "\n",
    "# Missing values for training data\n",
    "missing_values_train = missing_values_table(test)\n",
    "#cm = sns.color_palette('Set2', as_cmap=True)\n",
    "#missing_values_train[:20]#.style.background_gradient(cmap=cm)\n",
    "THRESHOLD = 80\n",
    "print(test.shape)\n",
    "drop_cols = missing_values_train[missing_values_train['% of Total Values']>THRESHOLD].index.to_list()\n",
    "print(f\"Drop {len(drop_cols)} features with more than {THRESHOLD}% of missing values\")\n",
    "\n",
    "test = test.drop(drop_cols,axis=1)\n",
    "print(\"Training data shape after dropping highly missing values columns\", test.shape)"
   ]
  },
  {
   "cell_type": "code",
   "execution_count": null,
   "id": "1e065cef",
   "metadata": {
    "execution": {
     "iopub.execute_input": "2023-01-04T18:17:15.479600Z",
     "iopub.status.busy": "2023-01-04T18:17:15.479110Z",
     "iopub.status.idle": "2023-01-04T18:17:25.092931Z",
     "shell.execute_reply": "2023-01-04T18:17:25.091751Z",
     "shell.execute_reply.started": "2023-01-04T18:17:15.479552Z"
    },
    "papermill": {
     "duration": null,
     "end_time": null,
     "exception": null,
     "start_time": null,
     "status": "completed"
    },
    "tags": []
   },
   "outputs": [],
   "source": [
    "corr = train.corrwith(train['target'], axis=0)\n",
    "corr = corr[corr.notna()].sort_values(key=abs, ascending=False)\n",
    "THRESHOLD = 0.15\n",
    "CORR_SELECTION=True\n",
    "if CORR_SELECTION:\n",
    "    selected_feats = corr[corr.abs()>THRESHOLD].index\n",
    "    train = train[list(selected_feats)]\n",
    "    print(f\"Training data shape after dropping uncorrelated features\"\n",
    "          f\"(threshold Pearson correlation = {THRESHOLD})\", \n",
    "          train.shape)"
   ]
  },
  {
   "cell_type": "code",
   "execution_count": null,
   "id": "b0775603",
   "metadata": {
    "execution": {
     "iopub.execute_input": "2023-01-04T19:55:46.405764Z",
     "iopub.status.busy": "2023-01-04T19:55:46.405294Z",
     "iopub.status.idle": "2023-01-04T19:55:46.429342Z",
     "shell.execute_reply": "2023-01-04T19:55:46.427150Z",
     "shell.execute_reply.started": "2023-01-04T19:55:46.405728Z"
    },
    "papermill": {
     "duration": null,
     "end_time": null,
     "exception": null,
     "start_time": null,
     "status": "completed"
    },
    "tags": []
   },
   "outputs": [],
   "source": [
    "train[list(selected_feats)]"
   ]
  },
  {
   "cell_type": "code",
   "execution_count": null,
   "id": "532e8d4b",
   "metadata": {
    "execution": {
     "iopub.execute_input": "2023-01-04T18:17:28.168553Z",
     "iopub.status.busy": "2023-01-04T18:17:28.168142Z",
     "iopub.status.idle": "2023-01-04T18:17:28.501940Z",
     "shell.execute_reply": "2023-01-04T18:17:28.500738Z",
     "shell.execute_reply.started": "2023-01-04T18:17:28.168521Z"
    },
    "papermill": {
     "duration": null,
     "end_time": null,
     "exception": null,
     "start_time": null,
     "status": "completed"
    },
    "tags": []
   },
   "outputs": [],
   "source": [
    "gc.collect()"
   ]
  },
  {
   "cell_type": "code",
   "execution_count": null,
   "id": "c361628e",
   "metadata": {
    "execution": {
     "iopub.execute_input": "2023-01-04T18:17:31.331756Z",
     "iopub.status.busy": "2023-01-04T18:17:31.331295Z",
     "iopub.status.idle": "2023-01-04T18:17:31.822963Z",
     "shell.execute_reply": "2023-01-04T18:17:31.821535Z",
     "shell.execute_reply.started": "2023-01-04T18:17:31.331718Z"
    },
    "papermill": {
     "duration": null,
     "end_time": null,
     "exception": null,
     "start_time": null,
     "status": "completed"
    },
    "tags": []
   },
   "outputs": [],
   "source": [
    "NaN_Val = np.array(train.isnull().sum())\n",
    "NaN_prec = np.array((train.isnull().sum() * 100 / len(train)).round(2))\n",
    "NaN_Col = pd.DataFrame([np.array(list(train.columns)).T,NaN_Val.T,NaN_prec.T,np.array(list(train.dtypes)).T], index=['Features','Num of Missing values','Percentage','DataType']\n",
    ").transpose()\n",
    "pd.set_option('display.max_rows', None)\n",
    "NaN_Col"
   ]
  },
  {
   "cell_type": "code",
   "execution_count": null,
   "id": "92ef4584",
   "metadata": {
    "execution": {
     "iopub.execute_input": "2023-01-04T18:17:43.648127Z",
     "iopub.status.busy": "2023-01-04T18:17:43.647720Z",
     "iopub.status.idle": "2023-01-04T18:17:43.653760Z",
     "shell.execute_reply": "2023-01-04T18:17:43.652793Z",
     "shell.execute_reply.started": "2023-01-04T18:17:43.648097Z"
    },
    "papermill": {
     "duration": null,
     "end_time": null,
     "exception": null,
     "start_time": null,
     "status": "completed"
    },
    "tags": []
   },
   "outputs": [],
   "source": [
    "features = [col for col in train.columns if col != \"customer_ID\"]\n"
   ]
  },
  {
   "cell_type": "code",
   "execution_count": null,
   "id": "904aeb60",
   "metadata": {
    "execution": {
     "iopub.execute_input": "2023-01-04T18:17:46.666087Z",
     "iopub.status.busy": "2023-01-04T18:17:46.665330Z",
     "iopub.status.idle": "2023-01-04T18:17:49.979316Z",
     "shell.execute_reply": "2023-01-04T18:17:49.977832Z",
     "shell.execute_reply.started": "2023-01-04T18:17:46.666047Z"
    },
    "papermill": {
     "duration": null,
     "end_time": null,
     "exception": null,
     "start_time": null,
     "status": "completed"
    },
    "tags": []
   },
   "outputs": [],
   "source": [
    "for col in features:\n",
    "    train[col] = train[col].fillna(train[col].median())"
   ]
  },
  {
   "cell_type": "code",
   "execution_count": null,
   "id": "73c45745",
   "metadata": {
    "execution": {
     "iopub.execute_input": "2023-01-04T18:18:23.767893Z",
     "iopub.status.busy": "2023-01-04T18:18:23.767456Z",
     "iopub.status.idle": "2023-01-04T18:18:24.288582Z",
     "shell.execute_reply": "2023-01-04T18:18:24.287127Z",
     "shell.execute_reply.started": "2023-01-04T18:18:23.767861Z"
    },
    "papermill": {
     "duration": null,
     "end_time": null,
     "exception": null,
     "start_time": null,
     "status": "completed"
    },
    "tags": []
   },
   "outputs": [],
   "source": [
    "types = train.dtypes\n",
    "target_col = 'target'\n",
    "\n",
    "cat_cols = list(types[types.apply(lambda x:not(str(x).startswith('float')))].index)\n",
    "cat_cols = list(filter(lambda x:x!=target_col, cat_cols))\n",
    "features = list(train.drop(target_col, axis=1).columns)\n",
    "gc.collect()\n",
    "print('len cat_col', len(cat_cols))\n",
    "print('len features', len(features))\n",
    "    \n",
    "with open('features.pkl', 'wb') as f:\n",
    "    pickle.dump(features, f)\n",
    "\n",
    "with open('cat_cols.pkl', 'wb') as f:\n",
    "    pickle.dump(cat_cols, f)"
   ]
  },
  {
   "cell_type": "code",
   "execution_count": null,
   "id": "ef86beb9",
   "metadata": {
    "execution": {
     "iopub.execute_input": "2023-01-04T18:18:56.246160Z",
     "iopub.status.busy": "2023-01-04T18:18:56.245773Z",
     "iopub.status.idle": "2023-01-04T18:18:56.276531Z",
     "shell.execute_reply": "2023-01-04T18:18:56.274598Z",
     "shell.execute_reply.started": "2023-01-04T18:18:56.246132Z"
    },
    "papermill": {
     "duration": null,
     "end_time": null,
     "exception": null,
     "start_time": null,
     "status": "completed"
    },
    "tags": []
   },
   "outputs": [],
   "source": [
    "train['target'] = train[\"target\"].astype('int')\n",
    "print('Transform all String features to category.\\n')\n",
    "os.makedirs('label_encoders')\n",
    "\n",
    "for usecol in tqdm_notebook(cat_cols):\n",
    "#    print(usecol)\n",
    "    train[usecol] = train[usecol].astype('str')\n",
    "#    test[usecol] = test[usecol].astype('str')\n",
    "\n",
    "    #Fit LabelEncoder\n",
    "    le = LabelEncoder().fit(\n",
    "            np.unique(train[usecol].unique().tolist()))#+\n",
    "#                      test[usecol].unique().tolist()))\n",
    "\n",
    "    #At the end 0 will be used for null values so we start at 1 \n",
    "    train[usecol] = le.transform(train[usecol])+1\n",
    "#    test[usecol]  = le.transform(test[usecol])+1\n",
    "\n",
    "    train[usecol] = train[usecol].replace(np.nan, 0).astype('int').astype('category')\n",
    "#    test[usecol]  = test[usecol].replace(np.nan, 0).astype('int').astype('category')\n",
    "\n",
    "    joblib.dump(le, f'label_encoders/{usecol}_label_encoder.pkl')"
   ]
  },
  {
   "cell_type": "code",
   "execution_count": null,
   "id": "98bfc782",
   "metadata": {
    "execution": {
     "iopub.execute_input": "2023-01-04T13:06:34.500099Z",
     "iopub.status.busy": "2023-01-04T13:06:34.499626Z",
     "iopub.status.idle": "2023-01-04T13:06:35.145512Z",
     "shell.execute_reply": "2023-01-04T13:06:35.144601Z",
     "shell.execute_reply.started": "2023-01-04T13:06:34.500060Z"
    },
    "papermill": {
     "duration": null,
     "end_time": null,
     "exception": null,
     "start_time": null,
     "status": "completed"
    },
    "tags": []
   },
   "outputs": [],
   "source": [
    "X = train.drop(['target'],axis = 1)\n",
    "y = train['target']"
   ]
  },
  {
   "cell_type": "code",
   "execution_count": null,
   "id": "c4d8a6d1",
   "metadata": {
    "execution": {
     "iopub.execute_input": "2023-01-04T13:07:21.094354Z",
     "iopub.status.busy": "2023-01-04T13:07:21.093856Z",
     "iopub.status.idle": "2023-01-04T13:07:21.103177Z",
     "shell.execute_reply": "2023-01-04T13:07:21.102021Z",
     "shell.execute_reply.started": "2023-01-04T13:07:21.094309Z"
    },
    "papermill": {
     "duration": null,
     "end_time": null,
     "exception": null,
     "start_time": null,
     "status": "completed"
    },
    "tags": []
   },
   "outputs": [],
   "source": [
    "X.shape , y.shape"
   ]
  },
  {
   "cell_type": "code",
   "execution_count": null,
   "id": "29734500",
   "metadata": {
    "execution": {
     "iopub.execute_input": "2023-01-04T13:08:13.811175Z",
     "iopub.status.busy": "2023-01-04T13:08:13.810744Z",
     "iopub.status.idle": "2023-01-04T13:08:13.817452Z",
     "shell.execute_reply": "2023-01-04T13:08:13.815842Z",
     "shell.execute_reply.started": "2023-01-04T13:08:13.811146Z"
    },
    "papermill": {
     "duration": null,
     "end_time": null,
     "exception": null,
     "start_time": null,
     "status": "completed"
    },
    "tags": []
   },
   "outputs": [],
   "source": [
    "from sklearn.model_selection import train_test_split"
   ]
  },
  {
   "cell_type": "code",
   "execution_count": null,
   "id": "b5171e3c",
   "metadata": {
    "execution": {
     "iopub.execute_input": "2023-01-04T13:09:00.554574Z",
     "iopub.status.busy": "2023-01-04T13:09:00.554128Z",
     "iopub.status.idle": "2023-01-04T13:09:01.936757Z",
     "shell.execute_reply": "2023-01-04T13:09:01.935192Z",
     "shell.execute_reply.started": "2023-01-04T13:09:00.554545Z"
    },
    "papermill": {
     "duration": null,
     "end_time": null,
     "exception": null,
     "start_time": null,
     "status": "completed"
    },
    "tags": []
   },
   "outputs": [],
   "source": [
    "X_train,X_test,y_train,y_test = train_test_split(X, y, test_size=0.2, random_state=75, stratify=y)"
   ]
  },
  {
   "cell_type": "code",
   "execution_count": null,
   "id": "e5abc40d",
   "metadata": {
    "execution": {
     "iopub.execute_input": "2023-01-04T13:17:31.084033Z",
     "iopub.status.busy": "2023-01-04T13:17:31.083568Z",
     "iopub.status.idle": "2023-01-04T13:17:31.090265Z",
     "shell.execute_reply": "2023-01-04T13:17:31.088645Z",
     "shell.execute_reply.started": "2023-01-04T13:17:31.084001Z"
    },
    "papermill": {
     "duration": null,
     "end_time": null,
     "exception": null,
     "start_time": null,
     "status": "completed"
    },
    "tags": []
   },
   "outputs": [],
   "source": [
    "from lightgbm import LGBMClassifier"
   ]
  },
  {
   "cell_type": "code",
   "execution_count": null,
   "id": "adb43bba",
   "metadata": {
    "execution": {
     "iopub.execute_input": "2023-01-04T13:21:49.593264Z",
     "iopub.status.busy": "2023-01-04T13:21:49.592748Z",
     "iopub.status.idle": "2023-01-04T13:21:49.602164Z",
     "shell.execute_reply": "2023-01-04T13:21:49.600377Z",
     "shell.execute_reply.started": "2023-01-04T13:21:49.593227Z"
    },
    "papermill": {
     "duration": null,
     "end_time": null,
     "exception": null,
     "start_time": null,
     "status": "completed"
    },
    "tags": []
   },
   "outputs": [],
   "source": [
    "lgb = LGBMClassifier(objective= 'binary',\n",
    "        metric= 'binary_logloss',\n",
    "        boosting= 'dart',\n",
    "        seed= 75,\n",
    "        num_leaves= 100,\n",
    "        learning_rate= 0.01,\n",
    "        feature_fraction= 0.20,\n",
    "        bagging_freq= 10,\n",
    "        bagging_fraction= 0.50,\n",
    "        n_jobs= -1,\n",
    "        lambda_l2= 2,\n",
    "        min_data_in_leaf= 40,\n",
    "        n_estimators=15000)"
   ]
  },
  {
   "cell_type": "code",
   "execution_count": null,
   "id": "36493b24",
   "metadata": {
    "execution": {
     "iopub.execute_input": "2023-01-04T13:23:34.951622Z",
     "iopub.status.busy": "2023-01-04T13:23:34.951126Z",
     "iopub.status.idle": "2023-01-04T17:20:02.358145Z",
     "shell.execute_reply": "2023-01-04T17:20:02.352960Z",
     "shell.execute_reply.started": "2023-01-04T13:23:34.951567Z"
    },
    "papermill": {
     "duration": null,
     "end_time": null,
     "exception": null,
     "start_time": null,
     "status": "completed"
    },
    "tags": []
   },
   "outputs": [],
   "source": [
    "lgb.fit(X_train, y_train, eval_metric='binary_logloss', eval_set=[(X_test, y_test)], early_stopping_rounds=100,\n",
    "        verbose=150)"
   ]
  },
  {
   "cell_type": "code",
   "execution_count": null,
   "id": "c98cc384",
   "metadata": {
    "execution": {
     "iopub.execute_input": "2023-01-04T17:27:31.211472Z",
     "iopub.status.busy": "2023-01-04T17:27:31.211086Z",
     "iopub.status.idle": "2023-01-04T17:27:35.301531Z",
     "shell.execute_reply": "2023-01-04T17:27:35.300289Z",
     "shell.execute_reply.started": "2023-01-04T17:27:31.211445Z"
    },
    "papermill": {
     "duration": null,
     "end_time": null,
     "exception": null,
     "start_time": null,
     "status": "completed"
    },
    "tags": []
   },
   "outputs": [],
   "source": [
    "joblib.dump(lgb, \"lgb_model_with_diff.sav\")"
   ]
  },
  {
   "cell_type": "code",
   "execution_count": null,
   "id": "b4e2fa2f",
   "metadata": {
    "execution": {
     "iopub.execute_input": "2023-01-04T17:36:40.185341Z",
     "iopub.status.busy": "2023-01-04T17:36:40.184921Z",
     "iopub.status.idle": "2023-01-04T17:36:40.206449Z",
     "shell.execute_reply": "2023-01-04T17:36:40.204660Z",
     "shell.execute_reply.started": "2023-01-04T17:36:40.185312Z"
    },
    "papermill": {
     "duration": null,
     "end_time": null,
     "exception": null,
     "start_time": null,
     "status": "completed"
    },
    "tags": []
   },
   "outputs": [],
   "source": [
    "del train\n",
    "gc.collect()"
   ]
  },
  {
   "cell_type": "code",
   "execution_count": null,
   "id": "17e2b2b1",
   "metadata": {
    "execution": {
     "iopub.execute_input": "2023-01-04T19:19:44.073396Z",
     "iopub.status.busy": "2023-01-04T19:19:44.072952Z",
     "iopub.status.idle": "2023-01-04T19:19:44.088784Z",
     "shell.execute_reply": "2023-01-04T19:19:44.086817Z",
     "shell.execute_reply.started": "2023-01-04T19:19:44.073359Z"
    },
    "papermill": {
     "duration": null,
     "end_time": null,
     "exception": null,
     "start_time": null,
     "status": "completed"
    },
    "tags": []
   },
   "outputs": [],
   "source": [
    "from functools import partial, reduce\n",
    "\n",
    "models_folder = '/kaggle/working/label_encoders/'\n",
    "\n",
    "def get_sample(path):\n",
    "    test = pd.read_feather(path).set_index('customer_ID')\n",
    "\n",
    "    test = reduce_size(test)\n",
    "    \n",
    "    test = test[features]\n",
    "    \n",
    "    gc.collect()\n",
    "\n",
    "    for usecol in tqdm_notebook(cat_cols):\n",
    "        le = joblib.load(os.path.join(models_folder,f'{usecol}_label_encoder.pkl'))\n",
    "        test[usecol] = test[usecol].astype('str').apply(lambda x:x.split('.')[0])\n",
    "        test[usecol] = test[usecol].map(lambda s: '<unknown>' if s not in le.classes_ else s)\n",
    "        le.classes_ = np.append(le.classes_, '<unknown>')\n",
    "        #At the end 0 will be used for null values so we start at 1 \n",
    "        test[usecol]  = le.transform(test[usecol])+1\n",
    "        test[usecol] = test[usecol].replace(np.nan, 0).astype('int').astype('category')\n",
    "    return test\n",
    "\n",
    "\n",
    "\n",
    "def get_batchs(df, batch_size, keep_features):\n",
    "    n_batchs = int(len(df)/batch_size)\n",
    "    cid = list(df.index)\n",
    "    for i in range(n_batchs):\n",
    "        idx = cid[i*batch_size:(i+1)*batch_size]\n",
    "        if i == n_batchs-1:\n",
    "            idx = idx + cid[(i+1)*batch_size:]\n",
    "        yield df.loc[idx, keep_features]\n",
    "        \n",
    "def predict(sample_df, model):\n",
    "    y_pred = model.predict(sample_df)\n",
    "    sub = pd.Series(y_pred, index=sample_df.index, name='prediction')\n",
    "#    sub.to_frame().to_csv(outfile)\n",
    "    return sub"
   ]
  },
  {
   "cell_type": "code",
   "execution_count": null,
   "id": "2c8f548c",
   "metadata": {
    "execution": {
     "iopub.execute_input": "2023-01-04T19:19:44.597409Z",
     "iopub.status.busy": "2023-01-04T19:19:44.596934Z",
     "iopub.status.idle": "2023-01-04T19:19:47.623075Z",
     "shell.execute_reply": "2023-01-04T19:19:47.620857Z",
     "shell.execute_reply.started": "2023-01-04T19:19:44.597366Z"
    },
    "papermill": {
     "duration": null,
     "end_time": null,
     "exception": null,
     "start_time": null,
     "status": "completed"
    },
    "tags": []
   },
   "outputs": [],
   "source": [
    "n_batchs=50\n",
    "sub_lg = pd.Series()\n",
    "for path in glob.glob(\"test_*.ftr\"):\n",
    "    print(path)\n",
    "    test = get_sample(path)\n",
    "    samples_df = get_batchs(test,batch_size=n_batchs, keep_features=features)\n",
    "    sample_sub_lg = pd.concat(map(partial(predict, model=lgb), tqdm_notebook(samples_df)))\n",
    "    sub_lg = pd.concat([sub_lg, sample_sub_lg], ignore_index=True)\n",
    "    del test\n",
    "    gc.collect()\n",
    "    \n",
    "print(len(sub_lg))\n",
    "\n",
    "sub_lg.to_frame().to_csv('submission_lgb_with_diff.csv')"
   ]
  },
  {
   "cell_type": "code",
   "execution_count": null,
   "id": "9ce3e5d8",
   "metadata": {
    "execution": {
     "iopub.execute_input": "2023-01-04T19:53:11.359596Z",
     "iopub.status.busy": "2023-01-04T19:53:11.359064Z",
     "iopub.status.idle": "2023-01-04T19:53:13.794669Z",
     "shell.execute_reply": "2023-01-04T19:53:13.792721Z",
     "shell.execute_reply.started": "2023-01-04T19:53:11.359549Z"
    },
    "papermill": {
     "duration": null,
     "end_time": null,
     "exception": null,
     "start_time": null,
     "status": "completed"
    },
    "tags": []
   },
   "outputs": [],
   "source": [
    "loaded_model = joblib.load('/kaggle/working/lgb_model_with_diff.sav')"
   ]
  },
  {
   "cell_type": "code",
   "execution_count": null,
   "id": "b3e89511",
   "metadata": {
    "execution": {
     "iopub.execute_input": "2023-01-04T19:54:22.501237Z",
     "iopub.status.busy": "2023-01-04T19:54:22.500788Z",
     "iopub.status.idle": "2023-01-04T19:54:22.525716Z",
     "shell.execute_reply": "2023-01-04T19:54:22.523724Z",
     "shell.execute_reply.started": "2023-01-04T19:54:22.501200Z"
    },
    "papermill": {
     "duration": null,
     "end_time": null,
     "exception": null,
     "start_time": null,
     "status": "completed"
    },
    "tags": []
   },
   "outputs": [],
   "source": [
    "lgb_pred = loaded_model.predict()"
   ]
  },
  {
   "cell_type": "code",
   "execution_count": null,
   "id": "84b768d6",
   "metadata": {
    "papermill": {
     "duration": null,
     "end_time": null,
     "exception": null,
     "start_time": null,
     "status": "completed"
    },
    "tags": []
   },
   "outputs": [],
   "source": [
    "sample_dataset = pd.read_csv('/kaggle/input/amex-default-prediction/sample_submission.csv')\n",
    "output = pd.DataFrame({'customer_ID': sample_dataset.customer_ID, 'prediction': predictions})\n",
    "output.to_csv('submission1.csv', index=False)"
   ]
  }
 ],
 "metadata": {
  "kernelspec": {
   "display_name": "Python 3",
   "language": "python",
   "name": "python3"
  },
  "language_info": {
   "codemirror_mode": {
    "name": "ipython",
    "version": 3
   },
   "file_extension": ".py",
   "mimetype": "text/x-python",
   "name": "python",
   "nbconvert_exporter": "python",
   "pygments_lexer": "ipython3",
   "version": "3.6.4"
  },
  "papermill": {
   "default_parameters": {},
   "duration": 6926.937293,
   "end_time": "2023-01-07T18:57:14.959530",
   "environment_variables": {},
   "exception": null,
   "input_path": "__notebook__.ipynb",
   "output_path": "__notebook__.ipynb",
   "parameters": {},
   "start_time": "2023-01-07T17:01:48.022237",
   "version": "2.3.4"
  }
 },
 "nbformat": 4,
 "nbformat_minor": 5
}
